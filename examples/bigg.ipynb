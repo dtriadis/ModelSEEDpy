{
 "cells": [
  {
   "cell_type": "code",
   "execution_count": 1,
   "metadata": {},
   "outputs": [],
   "source": [
    "import cobra\n",
    "import modelseedpy\n",
    "from modelseedpy.biochem import from_local"
   ]
  },
  {
   "cell_type": "code",
   "execution_count": 4,
   "metadata": {},
   "outputs": [],
   "source": []
  },
  {
   "cell_type": "code",
   "execution_count": null,
   "metadata": {},
   "outputs": [],
   "source": []
  },
  {
   "cell_type": "code",
   "execution_count": 2,
   "metadata": {},
   "outputs": [
    {
     "name": "stdout",
     "output_type": "stream",
     "text": [
      "CPU times: user 16.1 s, sys: 210 ms, total: 16.3 s\n",
      "Wall time: 16.3 s\n"
     ]
    }
   ],
   "source": [
    "%%time\n",
    "modelseed_local = from_local('/Users/fliu/workspace/jupyter/data/ModelSEEDDatabase/')"
   ]
  },
  {
   "cell_type": "code",
   "execution_count": 34,
   "metadata": {},
   "outputs": [],
   "source": [
    "#modelseed_local.compounds[] = "
   ]
  },
  {
   "cell_type": "code",
   "execution_count": 51,
   "metadata": {},
   "outputs": [
    {
     "data": {
      "text/plain": [
       "('omg_ggg', '_', 'pl')"
      ]
     },
     "execution_count": 51,
     "metadata": {},
     "output_type": "execute_result"
    }
   ],
   "source": [
    "\"omg_ggg_pl\".rpartition('_')"
   ]
  },
  {
   "cell_type": "code",
   "execution_count": 37,
   "metadata": {},
   "outputs": [],
   "source": []
  },
  {
   "cell_type": "code",
   "execution_count": 47,
   "metadata": {},
   "outputs": [],
   "source": [
    "# Upgrade ModelSEED with user reactions\n",
    "%run /Users/fliu/workspace/jupyter/python3/annotation-server/modelseed_annotation/load_custom_seed.py\n",
    "path = '/Users/fliu/workspace/jupyter/python3/annotation-server/data/model_custom_cpd_v2.json'\n",
    "cpds = None\n",
    "with open(path, 'r') as fh:\n",
    "    cpds = json.loads(fh.read())\n",
    "    for i in cpds:\n",
    "        modelseed_local.compounds[i] = copy.deepcopy(cpds[i])\n",
    "ret = load_custom_seed_json('/Users/fliu/workspace/jupyter/python3/annotation-server/data/model_custom_rxn_v2.json', modelseed_local)\n",
    "modelseed_local.compounds['cpd31000']['name'] = 'Photon II'\n",
    "modelseed_local.compounds['cpd11632']['name'] = 'Photon I'"
   ]
  },
  {
   "cell_type": "code",
   "execution_count": null,
   "metadata": {},
   "outputs": [],
   "source": []
  },
  {
   "cell_type": "code",
   "execution_count": null,
   "metadata": {},
   "outputs": [],
   "source": []
  },
  {
   "cell_type": "code",
   "execution_count": 5,
   "metadata": {},
   "outputs": [],
   "source": [
    "bigg_model = cobra.io.load_json_model('iML1515.json')"
   ]
  },
  {
   "cell_type": "code",
   "execution_count": 15,
   "metadata": {},
   "outputs": [],
   "source": [
    "for cpd_id in modelseed_local.compounds:\n",
    "    cpd = modelseed_local.get_seed_compound(cpd_id)\n",
    "    aliases = cpd.aliases\n",
    "    if 'BiGG' in aliases:\n",
    "        bigg_ids = cpd.aliases['BiGG']\n",
    "        break"
   ]
  },
  {
   "cell_type": "code",
   "execution_count": 21,
   "metadata": {},
   "outputs": [],
   "source": [
    "rxn = modelseed_local.get_seed_reaction('rxn05937')"
   ]
  },
  {
   "cell_type": "code",
   "execution_count": 24,
   "metadata": {},
   "outputs": [
    {
     "name": "stdout",
     "output_type": "stream",
     "text": [
      "NADP [0] + H+ [0] + Reducedferredoxin [0] <-- NADPH [0] + Oxidizedferredoxin [0]\n"
     ]
    }
   ],
   "source": [
    "print(rxn.build_reaction_string(True))"
   ]
  },
  {
   "cell_type": "code",
   "execution_count": 48,
   "metadata": {},
   "outputs": [
    {
     "name": "stdout",
     "output_type": "stream",
     "text": [
      "NADP [0] + H+ [0] + 2.0 Reducedferredoxin [0] <-- NADPH [0] + 2.0 Oxidizedferredoxin [0]\n",
      "NADP [0] + H+ [0] + 2.0 Reduced-ferredoxins [0] <-- NADPH [0] + 2.0 Oxidized-ferredoxins [0]\n",
      "2.0 H2O [1] + 4.0 H+ [0] + 2.0 Plastoquinone A [1] + 4.0 Photon II [0] <=> O2 [1] + 4.0 H+ [1] + 2.0 Plastoquinol-9 [1]\n",
      "Oxidizedferredoxin [0] + Photon I [0] + Reduced plastocyanin [1] <=> Reducedferredoxin [0] + Oxidized plastocyanin [1]\n",
      "2.0 Oxidized plastocyanin [0] + Plastoquinol-9 [0] <=> 2.0 H+ [0] + Plastoquinone A [0] + 2.0 Reduced plastocyanin [0]\n"
     ]
    }
   ],
   "source": [
    "#crxn00004 obsolete\n",
    "#rxn14159 Ferredoxin:NADP+ oxidoreductase NADP + H+ + 2 Reducedferredoxin  NADPH + 2 Oxidizedferredoxin Transport:No\n",
    "#CI:2 GCP|EQP Ferredoxin:NADP+ oxidoreductase KEGG: R01195\n",
    "#rxn17196 TPNH-ferredoxin reductase       NADP + H+ + 2 Reduced-ferredoxins  NADPH + 2 Oxidized-ferredoxins Transport:No\n",
    "#OK GCP|EQP MetaCyc: 1.18.1.2-RXN; RXN-17897\n",
    "print(modelseed_local.get_seed_reaction('rxn14159').build_reaction_string(True))\n",
    "print(modelseed_local.get_seed_reaction('rxn17196').build_reaction_string(True))\n",
    "\n",
    "#PS II\n",
    "print(modelseed_local.get_seed_reaction('crxn00001').build_reaction_string(True))\n",
    "\n",
    "#PS I\n",
    "print(modelseed_local.get_seed_reaction('crxn00003').build_reaction_string(True))\n",
    "\n",
    "#Cytochrome b6/f complex\n",
    "print(modelseed_local.get_seed_reaction('crxn00002').build_reaction_string(True))"
   ]
  },
  {
   "cell_type": "code",
   "execution_count": null,
   "metadata": {},
   "outputs": [],
   "source": []
  }
 ],
 "metadata": {
  "kernelspec": {
   "display_name": "Python 3",
   "language": "python",
   "name": "python3"
  },
  "language_info": {
   "codemirror_mode": {
    "name": "ipython",
    "version": 3
   },
   "file_extension": ".py",
   "mimetype": "text/x-python",
   "name": "python",
   "nbconvert_exporter": "python",
   "pygments_lexer": "ipython3",
   "version": "3.7.4"
  }
 },
 "nbformat": 4,
 "nbformat_minor": 4
}
