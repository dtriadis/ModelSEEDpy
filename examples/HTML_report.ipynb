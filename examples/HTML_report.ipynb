{
 "cells": [
  {
   "cell_type": "markdown",
   "id": "loaded-dakota",
   "metadata": {},
   "source": [
    "# Load a model"
   ]
  },
  {
   "cell_type": "code",
   "execution_count": 1,
   "id": "induced-button",
   "metadata": {},
   "outputs": [
    {
     "name": "stdout",
     "output_type": "stream",
     "text": [
      "cobrakbase 0.3.1\n"
     ]
    }
   ],
   "source": [
    "import os\n",
    "local_cobrakbase_path = os.path.join('C:', 'Users', 'Andrew Freiburger','Documents','Argonne','cobrakbase')\n",
    "os.environ[\"HOME\"] = local_cobrakbase_path\n",
    "\n",
    "# import the KBase\n",
    "import cobrakbase\n",
    "# with open(\"/Users/afreiburger/Documents/kbase_token.txt\") as token_file:\n",
    "with open(\"D:/Users/Andrew Freiburger/Documents/Argonne/kbase_token.txt\") as token_file:\n",
    "    kbase_api = cobrakbase.KBaseAPI(token_file.readline())\n",
    "    \n",
    "# load the models\n",
    "model1 = kbase_api.get_from_ws(\"E_iAH991V2\",40576)\n",
    "model2 = kbase_api.get_from_ws(\"E_iML1515.kb\",40576)\n",
    "com_model = kbase_api.get_from_ws(\"CMM_iAH991V2_iML1515.kb\",40576)"
   ]
  },
  {
   "cell_type": "code",
   "execution_count": 2,
   "id": "verified-drove",
   "metadata": {
    "tags": []
   },
   "outputs": [],
   "source": [
    "# print(model1.optimize())\n",
    "# com_model.optimize()"
   ]
  },
  {
   "cell_type": "code",
   "execution_count": 24,
   "id": "continuous-animal",
   "metadata": {},
   "outputs": [
    {
     "name": "stderr",
     "output_type": "stream",
     "text": [
      "modelseedpy.community.mscompatibility - ERROR - The Bacteroides_thetaiotaomicron_VPI-5482.fbamdl.23 model has residual non-standard metabolites in its exchange reactions: {'core7_e0', 'phearg_e0', 'indlac_e0', 'cps_bt_e0', 'cspg_b_degr_e0', 'glyasn_e0', 'glypro_e0', 'amannan140_e0', 'cspg_b_e0', 'pullulan1200_e0', 'levan1000_e0', 'levanb_e0', 'phppa_e0', '7ocholate_e0', 'cspg_c_rest_e0', 'mn_e0', 'hspg_degr_12_e0', 'stys_e0', 'n2m2mn_e0', 'core3_e0', '2omxyl_e0', 'homogal_e0', 'Ser_Thr_e0', 'hspg_degr_9_e0', 'fucneulacnhx_e0', 'sT_antigen_e0', 's2l2n2m2masn_e0', 'mqn9_e0', 'leugly_e0', 'acerA_e0', 'hspg_degr_3_e0', 'arabinan101_e0', '3ddlhept_e0', 'Tn_antigen_e0', 'kesto_e0', 'hspg_e0', '3fuclac_e0', 'gncore2_e0', 'acgalidour2s_e0', 'cspg_a_e0', 'l2n2m2mn_e0', 'alagly_e0', 'dt5hsu_e0', 'kestottr_e0', 'mqn10_e0', 'rhamnogalurI_e0', 'manpt_e0', 'glyasp_e0', 'lacnttr_e0', 's2l2fn2m2masn_e0', 'acgalglcur_e0', 'hspg_degr_11_e0', 'lmn2_e0', 'mbenz_e0', 'amylose300_e0', 'starch1200_e0', 'levanttr_e0', 'cspg_c_degr_e0', 'ha_e0', 'galam_e0', 'gam26s_e0', 'glycogen1500_e0', 'isocapr_e0', 'core5_e0', 'core2_e0', 'rhamnogalurII_e0', 's2l2n2m2m_e0', 'cspg_a_degr_e0', 'sphmyln_bt_e0', 'hspg_degr_7_e0', 'chtbs_e0', 'apio_D_e0', 'core8_e0', 'idour_e0', 'oligofru4_e0', 'cspg_c_e0', 'lacnnttr_e0', 'hspg_degr_1_e0', 'lacndfuchx_e0', '2fuclac_e0', 'lmn30_e0', 'isoval_e0', 'alathr_e0', 'hspg_degr_5_e0', 'lacdfucttr_e0', 'levantttr_e0', 'arabinogal_e0', 'lacnfucpt_e0', 'mqn11_e0', 'core4_e0', '12ethd_e0', 'strch2_e0', 'metala_e0', 'kestopt_e0', 'neulacnttr_e0', '2omfuc_e0', 'cspg_ab_rest_e0', 'hspg_degr_6_e0', 'core6_e0', 'f1a_e0', 'pect_e0', 'hspg_degr_2_e0', 'lps_bt_e0', 'pe_cer1_bt_e0', 'alaglu_e0', 'T_antigen_e0', 'm2mn_e0', 'unsdigalur_e0', 'dsT_antigen_e0', 'sTn_antigen_e0', 'arabttr_e0', 'argarg_e0', 'plac_e0', 'hspg_rest_e0', 'hspg_degr_15_e0', 'strch1_e0', 'hspg_degr_4_e0', 'isobut_e0', 'mantr_e0', 'hspg_degr_10_e0', 'pecticgal_e0', 'gncore1_e0', 'hspg_degr_14_e0', 'hspg_degr_8_e0', 'alaasp_e0', 'acgalidour_e0', 'glyglu_e0', 's2l2n2m2mn_e0', 'leuleu_e0', 'ha_deg1_e0', 'hspg_degr_13_e0', 'gchola_e0', 'manttr_e0', 'manb_e0', 'ha_pre1_e0'}. Specify a True `printing` parameter to view why these metabolites were not corrected.\n",
      "modelseedpy.core.msmodel - ERROR - The [0, 0] bounds are not amenable with a direction string.\n"
     ]
    },
    {
     "name": "stdout",
     "output_type": "stream",
     "text": [
      "\n",
      "\n",
      "\n",
      "Align exchange reactions in Bacteroides_thetaiotaomicron_VPI-5482.fbamdl.23 \n",
      " ==============================================================================\n"
     ]
    },
    {
     "name": "stderr",
     "output_type": "stream",
     "text": [
      "modelseedpy.community.mscompatibility - ERROR - The iML1515 model has residual non-standard metabolites in its exchange reactions: {'dhps-e_e0', 'metsox-R-L-e_e0', 'tartr-D-e_e0', 'metsox-S-L-e_e0', 'metglcur-e_e0', 'colipap-e_e0', 'sq-e_e0', '4abzglu-e_e0'}. Specify a True `printing` parameter to view why these metabolites were not corrected.\n"
     ]
    },
    {
     "name": "stdout",
     "output_type": "stream",
     "text": [
      "\n",
      "\n",
      "\n",
      "Align exchange reactions in iML1515 \n",
      " ======================================\n",
      "\n",
      "\n",
      "0 exchange reactions were substituted and 0 exchange metabolite IDs were redefined by align_exchanges().\n"
     ]
    },
    {
     "name": "stderr",
     "output_type": "stream",
     "text": [
      "modelseedpy.core.msmodel - ERROR - The [0, 0] bounds are not amenable with a direction string.\n"
     ]
    },
    {
     "name": "stdout",
     "output_type": "stream",
     "text": [
      "[<ModelCompound cpd11416_c1 at 0x2509651aca0>, <Metabolite cpd11416_c0 at 0x2508b0e6280>]\n",
      "cpd11416_c1\n",
      "cpd11416_c0\n",
      "bio1: cpd11416_c1 --> cpd11416_c0\n",
      "primary biomass defined bio1: cpd11416_c1 --> cpd11416_c0\n",
      "SK_cpd11416_c0: cpd11416_c0 <=> \n",
      "cpd11416_c1\n",
      "c1\n",
      "\n",
      "cpd11416_c0\n",
      "bio1: 0.5 cpd11416_c1 + 0.5 cpd11416_c2 --> cpd11416_c0\n",
      "primary biomass defined bio1: 0.5 cpd11416_c1 + 0.5 cpd11416_c2 --> cpd11416_c0\n",
      "SK_cpd11416_c0: cpd11416_c0 --> \n",
      "cpd11416_c1\n",
      "cpd11416_c2\n",
      "cpd11416_c1\n",
      "c1\n",
      "cpd11416_c2\n",
      "c2\n"
     ]
    }
   ],
   "source": [
    "from modelseedpy import MSSteadyCom, MSCommunity\n",
    "\n",
    "built_comm_model = MSCommunity(models=[model1, model2])\n",
    "print()\n",
    "comm_model = MSCommunity(com_model)\n",
    "\n",
    "# print(dir(built_comm_model))"
   ]
  },
  {
   "cell_type": "code",
   "execution_count": 25,
   "id": "entitled-belle",
   "metadata": {},
   "outputs": [
    {
     "name": "stdout",
     "output_type": "stream",
     "text": [
      "[<modelseedpy.community.mscommunity.CommunityModelSpecies object at 0x000002508F88BA30>]\n",
      "[<modelseedpy.community.mscommunity.CommunityModelSpecies object at 0x000002529EE95FA0>, <modelseedpy.community.mscommunity.CommunityModelSpecies object at 0x000002527B0DDB20>]\n"
     ]
    }
   ],
   "source": [
    "print(built_comm_model.species)\n",
    "print(comm_model.species)"
   ]
  },
  {
   "cell_type": "markdown",
   "id": "lyric-donna",
   "metadata": {},
   "source": [
    "# Run SteadyCom"
   ]
  },
  {
   "cell_type": "code",
   "execution_count": 26,
   "id": "monthly-majority",
   "metadata": {
    "scrolled": true,
    "tags": []
   },
   "outputs": [
    {
     "name": "stderr",
     "output_type": "stream",
     "text": [
      "ic| mssteadycom.py:126 in compute()- normalized_flux: 100.0\n",
      "ic| mssteadycom.py:126 in compute()- normalized_flux: 100.0\n",
      "ic| mssteadycom.py:126 in compute()- normalized_flux: 100.0\n",
      "ic| mssteadycom.py:126 in compute()- normalized_flux: 100.0\n",
      "ic| mssteadycom.py:126 in compute()- normalized_flux: 100.0\n",
      "ic| mssteadycom.py:126 in compute()- normalized_flux: 100.0\n",
      "ic| mssteadycom.py:126 in compute()- normalized_flux: 100.0\n",
      "ic| mssteadycom.py:126 in compute()- normalized_flux: 100.0\n",
      "ic| mssteadycom.py:126 in compute()\n",
      "    normalized_flux: 91.44538631526363\n",
      "ic| mssteadycom.py:126 in compute()\n",
      "    normalized_flux: 92.54287512872148\n",
      "ic| mssteadycom.py:126 in compute()- normalized_flux: 100.0\n",
      "ic| mssteadycom.py:126 in compute()- normalized_flux: 100.0\n",
      "ic| mssteadycom.py:126 in compute()\n",
      "    normalized_flux: 41.86387405291884\n",
      "ic| mssteadycom.py:126 in compute()\n",
      "    normalized_flux: 99.99999999999999\n",
      "ic| mssteadycom.py:126 in compute()- normalized_flux: 100.0\n",
      "ic| mssteadycom.py:126 in compute()- normalized_flux: 100.0\n",
      "ic| mssteadycom.py:126 in compute()- normalized_flux: 100.0\n",
      "ic| mssteadycom.py:126 in compute()- normalized_flux: 100.0\n",
      "ic| mssteadycom.py:126 in compute()- normalized_flux: 100.0\n",
      "ic| mssteadycom.py:126 in compute()\n",
      "    normalized_flux: 1.9785153371762003\n",
      "ic| mssteadycom.py:126 in compute()- normalized_flux: 100.0\n",
      "ic| mssteadycom.py:126 in compute()- normalized_flux: 89.9705142140928\n",
      "ic| mssteadycom.py:126 in compute()- normalized_flux: 100.0\n",
      "ic| mssteadycom.py:126 in compute()- normalized_flux: 100.0\n",
      "ic| mssteadycom.py:126 in compute()- normalized_flux: 100.0\n",
      "ic| mssteadycom.py:126 in compute()- normalized_flux: 100.0\n",
      "ic| mssteadycom.py:126 in compute()- normalized_flux: 100.0\n",
      "ic| mssteadycom.py:126 in compute()- normalized_flux: 100.0\n",
      "ic| mssteadycom.py:126 in compute()- normalized_flux: 100.0\n",
      "ic| mssteadycom.py:126 in compute()\n",
      "    normalized_flux: 50.683464674783664\n",
      "ic| mssteadycom.py:126 in compute()- normalized_flux: 100.0\n"
     ]
    },
    {
     "data": {
      "image/png": "[encoded data removed]",
      "text/plain": [
       "<Figure size 640x480 with 1 Axes>"
      ]
     },
     "metadata": {},
     "output_type": "display_data"
    },
    {
     "name": "stderr",
     "output_type": "stream",
     "text": [
      "ic| mssteadycom.py:126 in compute()- normalized_flux: 100.0\n",
      "ic| mssteadycom.py:126 in compute()- normalized_flux: 100.0\n",
      "ic| mssteadycom.py:126 in compute()\n",
      "    normalized_flux: 89.88101407654335\n",
      "ic| mssteadycom.py:126 in compute()\n",
      "    normalized_flux: 100.00000000000001\n",
      "ic| mssteadycom.py:126 in compute()- normalized_flux: 100.0\n",
      "ic| mssteadycom.py:126 in compute()- normalized_flux: 100.0\n",
      "ic| mssteadycom.py:126 in compute()- normalized_flux: 100.0\n",
      "ic| mssteadycom.py:126 in compute()\n",
      "    normalized_flux: 96.90887845270215\n",
      "ic| mssteadycom.py:126 in compute()- normalized_flux: 100.0\n",
      "ic| mssteadycom.py:126 in compute()\n",
      "    normalized_flux: 16.62745863817709\n",
      "ic| mssteadycom.py:126 in compute()\n",
      "    normalized_flux: 83.37254136182291\n",
      "ic| mssteadycom.py:126 in compute()\n",
      "    normalized_flux: 2.942492187186809e-14\n",
      "ic| mssteadycom.py:126 in compute()- normalized_flux: 100.0\n",
      "ic| mssteadycom.py:126 in compute()- normalized_flux: 100.0\n",
      "ic| mssteadycom.py:126 in compute()- normalized_flux: 100.0\n",
      "ic| mssteadycom.py:126 in compute()- normalized_flux: 100.0\n",
      "ic| mssteadycom.py:126 in compute()\n",
      "    normalized_flux: 100.00000000000003\n",
      "ic| mssteadycom.py:126 in compute()- normalized_flux: 100.0\n",
      "ic| mssteadycom.py:126 in compute()- normalized_flux: 100.0\n",
      "ic| mssteadycom.py:126 in compute()- normalized_flux: 100.0\n",
      "ic| mssteadycom.py:126 in compute()- normalized_flux: 100.0\n",
      "ic| mssteadycom.py:126 in compute()- normalized_flux: 100.0\n",
      "ic| mssteadycom.py:126 in compute()\n",
      "    normalized_flux: 4.162236709560002e-13\n",
      "ic| mssteadycom.py:126 in compute()- normalized_flux: 100.0\n",
      "ic| mssteadycom.py:126 in compute()- normalized_flux: 100.0\n",
      "ic| mssteadycom.py:126 in compute()- normalized_flux: 100.0\n",
      "ic| mssteadycom.py:126 in compute()- normalized_flux: 100.0\n",
      "ic| mssteadycom.py:126 in compute()- normalized_flux: 100.0\n",
      "ic| mssteadycom.py:126 in compute()- normalized_flux: 100.0\n",
      "ic| mssteadycom.py:126 in compute()- normalized_flux: 100.0\n",
      "ic| mssteadycom.py:126 in compute()- normalized_flux: 100.0\n",
      "ic| mssteadycom.py:126 in compute()- normalized_flux: 100.0\n",
      "ic| mssteadycom.py:126 in compute()- normalized_flux: 100.0\n",
      "ic| mssteadycom.py:126 in compute()- normalized_flux: 100.0\n",
      "ic| mssteadycom.py:126 in compute()\n",
      "    normalized_flux: 94.80920008203185\n",
      "ic| mssteadycom.py:126 in compute()\n",
      "    normalized_flux: 2.973563110949046e-14\n",
      "ic| mssteadycom.py:126 in compute()- normalized_flux: 100.0\n",
      "ic| mssteadycom.py:126 in compute()- normalized_flux: 100.0\n",
      "ic| mssteadycom.py:126 in compute()- normalized_flux: 100.0\n",
      "ic| mssteadycom.py:126 in compute()- normalized_flux: 100.0\n",
      "ic| mssteadycom.py:126 in compute()\n",
      "    normalized_flux: 99.99999999999997\n",
      "ic| mssteadycom.py:126 in compute()- normalized_flux: 100.0\n",
      "ic| mssteadycom.py:126 in compute()\n",
      "    normalized_flux: 41.79126969344045\n",
      "ic| mssteadycom.py:126 in compute()- normalized_flux: 100.0\n",
      "ic| mssteadycom.py:126 in compute()- normalized_flux: 100.0\n",
      "ic| mssteadycom.py:126 in compute()\n",
      "    normalized_flux: 6.019306557743572\n",
      "ic| mssteadycom.py:126 in compute()- normalized_flux: 100.0\n",
      "ic| mssteadycom.py:126 in compute()\n",
      "    normalized_flux: 50.000000000000014\n",
      "ic| mssteadycom.py:126 in compute()- normalized_flux: 100.0\n",
      "ic| mssteadycom.py:126 in compute()- normalized_flux: 100.0\n",
      "ic| mssteadycom.py:126 in compute()- normalized_flux: 100.0\n",
      "ic| mssteadycom.py:126 in compute()- normalized_flux: 100.0\n",
      "ic| mssteadycom.py:126 in compute()- normalized_flux: 100.0\n",
      "ic| mssteadycom.py:126 in compute()- normalized_flux: 100.0\n",
      "ic| mssteadycom.py:126 in compute()- normalized_flux: 100.0\n",
      "ic| mssteadycom.py:126 in compute()\n",
      "    normalized_flux: 99.99999999999999\n",
      "ic| mssteadycom.py:126 in compute()- normalized_flux: 100.0\n",
      "ic| mssteadycom.py:126 in compute()\n",
      "    normalized_flux: 91.36904749612476\n",
      "ic| mssteadycom.py:126 in compute()- normalized_flux: 100.0\n",
      "ic| mssteadycom.py:126 in compute()- normalized_flux: 100.0\n"
     ]
    },
    {
     "data": {
      "image/png": "[encoded data removed]",
      "text/plain": [
       "<Figure size 640x480 with 1 Axes>"
      ]
     },
     "metadata": {},
     "output_type": "display_data"
    }
   ],
   "source": [
    "cross_feeding_df, exMets_df = MSSteadyCom.compute(built_comm_model)\n",
    "cross_feeding_df, exMets_df = MSSteadyCom.compute(comm_model)"
   ]
  },
  {
   "cell_type": "markdown",
   "id": "rotary-listing",
   "metadata": {},
   "source": [
    "# Construct the HTML report"
   ]
  },
  {
   "cell_type": "code",
   "execution_count": 29,
   "id": "annoying-physiology",
   "metadata": {},
   "outputs": [
    {
     "name": "stdout",
     "output_type": "stream",
     "text": [
      "163\n",
      "160\n"
     ]
    }
   ],
   "source": [
    "%run ../modelseedpy/core/report.py\n",
    "\n",
    "steadycom_output = steadycom_report(cross_feeding_df, exMets_df)\n",
    "with open(\"test_steadycom_report.html\", \"w\") as out:\n",
    "    out.writelines(steadycom_output)"
   ]
  },
  {
   "cell_type": "markdown",
   "id": "instructional-thriller",
   "metadata": {},
   "source": [
    "### Combine pandas Series into a single DataFrame"
   ]
  },
  {
   "cell_type": "code",
   "execution_count": 17,
   "id": "adjacent-boost",
   "metadata": {},
   "outputs": [
    {
     "data": {
      "text/html": [
       "<style type=\"text/css\">\n",
       "#T_9bdce_row0_col0 {\n",
       "  background-color: #023858;\n",
       "  color: #f1f1f1;\n",
       "}\n",
       "#T_9bdce_row0_col1, #T_9bdce_row0_col2, #T_9bdce_row1_col0, #T_9bdce_row1_col1, #T_9bdce_row1_col2 {\n",
       "  background-color: #fff7fb;\n",
       "  color: #000000;\n",
       "}\n",
       "</style>\n",
       "<table id=\"T_9bdce\">\n",
       "  <thead>\n",
       "    <tr>\n",
       "      <th class=\"blank level0\" >&nbsp;</th>\n",
       "      <th id=\"T_9bdce_level0_col0\" class=\"col_heading level0 col0\" >a</th>\n",
       "      <th id=\"T_9bdce_level0_col1\" class=\"col_heading level0 col1\" >b</th>\n",
       "      <th id=\"T_9bdce_level0_col2\" class=\"col_heading level0 col2\" >c</th>\n",
       "    </tr>\n",
       "  </thead>\n",
       "  <tbody>\n",
       "    <tr>\n",
       "      <th id=\"T_9bdce_level0_row0\" class=\"row_heading level0 row0\" >0</th>\n",
       "      <td id=\"T_9bdce_row0_col0\" class=\"data row0 col0\" >12.000000</td>\n",
       "      <td id=\"T_9bdce_row0_col1\" class=\"data row0 col1\" >2.000000</td>\n",
       "      <td id=\"T_9bdce_row0_col2\" class=\"data row0 col2\" >4.000000</td>\n",
       "    </tr>\n",
       "    <tr>\n",
       "      <th id=\"T_9bdce_level0_row1\" class=\"row_heading level0 row1\" >1</th>\n",
       "      <td id=\"T_9bdce_row1_col0\" class=\"data row1 col0\" >3.000000</td>\n",
       "      <td id=\"T_9bdce_row1_col1\" class=\"data row1 col1\" >2.000000</td>\n",
       "      <td id=\"T_9bdce_row1_col2\" class=\"data row1 col2\" >nan</td>\n",
       "    </tr>\n",
       "  </tbody>\n",
       "</table>\n"
      ],
      "text/plain": [
       "<pandas.io.formats.style.Styler at 0x283ebdf75e0>"
      ]
     },
     "execution_count": 17,
     "metadata": {},
     "output_type": "execute_result"
    }
   ],
   "source": [
    "from pandas import Series, concat\n",
    "\n",
    "a = Series({\"a\": 12, \"b\":2, \"c\":4})\n",
    "b = Series({\"a\": 3, \"b\":2})\n",
    "test_df = concat([a,b], axis=1).T\n",
    "test_df.style.background_gradient()"
   ]
  },
  {
   "cell_type": "markdown",
   "id": "genuine-forest",
   "metadata": {},
   "source": [
    "# Construct a SMETANA report"
   ]
  },
  {
   "cell_type": "code",
   "execution_count": 2,
   "id": "assigned-teach",
   "metadata": {
    "scrolled": true,
    "tags": []
   },
   "outputs": [
    {
     "name": "stderr",
     "output_type": "stream",
     "text": [
      "modelseedpy.community.mscompatibility - ERROR - The Bacteroides_thetaiotaomicron_VPI-5482.fbamdl.23 model has residual non-standard metabolites in its exchange reactions: {'core7_e0', 'phearg_e0', 'indlac_e0', 'cps_bt_e0', 'cspg_b_degr_e0', 'glyasn_e0', 'glypro_e0', 'amannan140_e0', 'cspg_b_e0', 'pullulan1200_e0', 'levan1000_e0', 'levanb_e0', 'phppa_e0', '7ocholate_e0', 'cspg_c_rest_e0', 'mn_e0', 'hspg_degr_12_e0', 'stys_e0', 'n2m2mn_e0', 'core3_e0', '2omxyl_e0', 'homogal_e0', 'Ser_Thr_e0', 'hspg_degr_9_e0', 'fucneulacnhx_e0', 'sT_antigen_e0', 's2l2n2m2masn_e0', 'mqn9_e0', 'leugly_e0', 'acerA_e0', 'hspg_degr_3_e0', 'arabinan101_e0', '3ddlhept_e0', 'Tn_antigen_e0', 'kesto_e0', 'hspg_e0', '3fuclac_e0', 'gncore2_e0', 'acgalidour2s_e0', 'cspg_a_e0', 'l2n2m2mn_e0', 'alagly_e0', 'dt5hsu_e0', 'kestottr_e0', 'mqn10_e0', 'rhamnogalurI_e0', 'manpt_e0', 'glyasp_e0', 'lacnttr_e0', 's2l2fn2m2masn_e0', 'acgalglcur_e0', 'hspg_degr_11_e0', 'lmn2_e0', 'mbenz_e0', 'amylose300_e0', 'starch1200_e0', 'levanttr_e0', 'cspg_c_degr_e0', 'ha_e0', 'galam_e0', 'gam26s_e0', 'glycogen1500_e0', 'isocapr_e0', 'core5_e0', 'core2_e0', 'rhamnogalurII_e0', 's2l2n2m2m_e0', 'cspg_a_degr_e0', 'sphmyln_bt_e0', 'hspg_degr_7_e0', 'chtbs_e0', 'apio_D_e0', 'core8_e0', 'idour_e0', 'oligofru4_e0', 'cspg_c_e0', 'lacnnttr_e0', 'hspg_degr_1_e0', 'lacndfuchx_e0', '2fuclac_e0', 'lmn30_e0', 'isoval_e0', 'alathr_e0', 'hspg_degr_5_e0', 'lacdfucttr_e0', 'levantttr_e0', 'arabinogal_e0', 'lacnfucpt_e0', 'mqn11_e0', 'core4_e0', '12ethd_e0', 'strch2_e0', 'metala_e0', 'kestopt_e0', 'neulacnttr_e0', '2omfuc_e0', 'cspg_ab_rest_e0', 'hspg_degr_6_e0', 'core6_e0', 'f1a_e0', 'pect_e0', 'hspg_degr_2_e0', 'lps_bt_e0', 'pe_cer1_bt_e0', 'alaglu_e0', 'T_antigen_e0', 'm2mn_e0', 'unsdigalur_e0', 'dsT_antigen_e0', 'sTn_antigen_e0', 'arabttr_e0', 'argarg_e0', 'plac_e0', 'hspg_rest_e0', 'hspg_degr_15_e0', 'strch1_e0', 'hspg_degr_4_e0', 'isobut_e0', 'mantr_e0', 'hspg_degr_10_e0', 'pecticgal_e0', 'gncore1_e0', 'hspg_degr_14_e0', 'hspg_degr_8_e0', 'alaasp_e0', 'acgalidour_e0', 'glyglu_e0', 's2l2n2m2mn_e0', 'leuleu_e0', 'ha_deg1_e0', 'hspg_degr_13_e0', 'gchola_e0', 'manttr_e0', 'manb_e0', 'ha_pre1_e0'}. Specify a True `printing` parameter to view why these metabolites were not corrected.\n",
      "modelseedpy.core.msmodel - ERROR - The [0, 0] bounds are not amenable with a direction string.\n"
     ]
    },
    {
     "name": "stdout",
     "output_type": "stream",
     "text": [
      "\n",
      "\n",
      "\n",
      "Align exchange reactions in Bacteroides_thetaiotaomicron_VPI-5482.fbamdl.23 \n",
      " ==============================================================================\n"
     ]
    },
    {
     "name": "stderr",
     "output_type": "stream",
     "text": [
      "modelseedpy.community.mscompatibility - ERROR - The iML1515 model has residual non-standard metabolites in its exchange reactions: {'dhps-e_e0', 'metsox-R-L-e_e0', 'tartr-D-e_e0', 'metsox-S-L-e_e0', 'metglcur-e_e0', 'colipap-e_e0', 'sq-e_e0', '4abzglu-e_e0'}. Specify a True `printing` parameter to view why these metabolites were not corrected.\n"
     ]
    },
    {
     "name": "stdout",
     "output_type": "stream",
     "text": [
      "\n",
      "\n",
      "\n",
      "Align exchange reactions in iML1515 \n",
      " ======================================\n",
      "\n",
      "\n",
      "0 exchange reactions were substituted and 0 exchange metabolite IDs were redefined by align_exchanges().\n"
     ]
    },
    {
     "name": "stderr",
     "output_type": "stream",
     "text": [
      "modelseedpy.core.msmodel - ERROR - The [0, 0] bounds are not amenable with a direction string.\n"
     ]
    },
    {
     "name": "stdout",
     "output_type": "stream",
     "text": [
      "[<ModelCompound cpd11416_c1 at 0x25001fb7670>, <Metabolite cpd11416_c0 at 0x25002af83d0>]\n"
     ]
    },
    {
     "name": "stderr",
     "output_type": "stream",
     "text": [
      "modelseedpy.community.mscompatibility - WARNING - ModelSEEDError: The metabolite (core7_e0 | core7_e0 | core7) is not recognized by the ModelSEED Database\n",
      "modelseedpy.community.mscompatibility - WARNING - ModelSEEDError: The metabolite (phearg_e0 | phearg_e0 | phearg) is not recognized by the ModelSEED Database\n",
      "modelseedpy.community.mscompatibility - WARNING - ModelSEEDError: The metabolite (indlac_e0 | indlac_e0 | indlac) is not recognized by the ModelSEED Database\n",
      "modelseedpy.community.mscompatibility - WARNING - ModelSEEDError: The metabolite (cps_bt_e0 | cps_bt_e0 | cps_bt) is not recognized by the ModelSEED Database\n",
      "modelseedpy.community.mscompatibility - WARNING - ModelSEEDError: The metabolite (cspg_b_degr_e0 | cspg_b_degr_e0 | cspg_b_degr) is not recognized by the ModelSEED Database\n",
      "modelseedpy.community.mscompatibility - WARNING - ModelSEEDError: The metabolite (glyasn_e0 | glyasn_e0 | glyasn) is not recognized by the ModelSEED Database\n",
      "modelseedpy.community.mscompatibility - WARNING - ModelSEEDError: The metabolite (glypro_e0 | glypro_e0 | glypro) is not recognized by the ModelSEED Database\n",
      "modelseedpy.community.mscompatibility - WARNING - IDWarning: The original ID cpd15494_e0 is a ModelSEED ID, and may not be desirably changed to cpd15494_e0.\n",
      "modelseedpy.community.mscompatibility - WARNING - ModelSEEDError: The metabolite (amannan140_e0 | amannan140_e0 | amannan140) is not recognized by the ModelSEED Database\n",
      "modelseedpy.community.mscompatibility - WARNING - ModelSEEDError: The metabolite (cspg_b_e0 | cspg_b_e0 | cspg_b) is not recognized by the ModelSEED Database\n",
      "modelseedpy.community.mscompatibility - WARNING - ModelSEEDError: The metabolite (pullulan1200_e0 | pullulan1200_e0 | pullulan1200) is not recognized by the ModelSEED Database\n",
      "modelseedpy.community.mscompatibility - WARNING - ModelSEEDError: The metabolite (levan1000_e0 | levan1000_e0 | levan1000) is not recognized by the ModelSEED Database\n",
      "modelseedpy.community.mscompatibility - WARNING - ModelSEEDError: The metabolite (levanb_e0 | levanb_e0 | levanb) is not recognized by the ModelSEED Database\n",
      "modelseedpy.community.mscompatibility - WARNING - ModelSEEDError: The metabolite (phppa_e0 | phppa_e0 | phppa) is not recognized by the ModelSEED Database\n",
      "modelseedpy.community.mscompatibility - WARNING - ModelSEEDError: The metabolite (7ocholate_e0 | 7ocholate_e0 | 7ocholate) is not recognized by the ModelSEED Database\n",
      "modelseedpy.community.mscompatibility - WARNING - ModelSEEDError: The metabolite (cspg_c_rest_e0 | cspg_c_rest_e0 | cspg_c_rest) is not recognized by the ModelSEED Database\n",
      "modelseedpy.community.mscompatibility - WARNING - ModelSEEDError: The metabolite (mn_e0 | mn_e0 | mn) is not recognized by the ModelSEED Database\n",
      "modelseedpy.community.mscompatibility - WARNING - ModelSEEDError: The metabolite (hspg_degr_12_e0 | hspg_degr_12_e0 | hspg_degr_12) is not recognized by the ModelSEED Database\n",
      "modelseedpy.community.mscompatibility - WARNING - ModelSEEDError: The metabolite (n2m2mn_e0 | n2m2mn_e0 | n2m2mn) is not recognized by the ModelSEED Database\n",
      "modelseedpy.community.mscompatibility - WARNING - ModelSEEDError: The metabolite (stys_e0 | stys_e0 | stys) is not recognized by the ModelSEED Database\n",
      "modelseedpy.community.mscompatibility - WARNING - ModelSEEDError: The metabolite (core3_e0 | core3_e0 | core3) is not recognized by the ModelSEED Database\n",
      "modelseedpy.community.mscompatibility - WARNING - ModelSEEDError: The metabolite (2omxyl_e0 | 2omxyl_e0 | 2omxyl) is not recognized by the ModelSEED Database\n",
      "modelseedpy.community.mscompatibility - WARNING - ModelSEEDError: The metabolite (homogal_e0 | homogal_e0 | homogal) is not recognized by the ModelSEED Database\n",
      "modelseedpy.community.mscompatibility - WARNING - ModelSEEDError: The metabolite (Ser_Thr_e0 | Ser_Thr_e0 | Ser_Thr) is not recognized by the ModelSEED Database\n",
      "modelseedpy.community.mscompatibility - WARNING - ModelSEEDError: The metabolite (hspg_degr_9_e0 | hspg_degr_9_e0 | hspg_degr_9) is not recognized by the ModelSEED Database\n",
      "modelseedpy.community.mscompatibility - WARNING - ModelSEEDError: The metabolite (fucneulacnhx_e0 | fucneulacnhx_e0 | fucneulacnhx) is not recognized by the ModelSEED Database\n",
      "modelseedpy.community.mscompatibility - WARNING - ModelSEEDError: The metabolite (sT_antigen_e0 | sT_antigen_e0 | sT_antigen) is not recognized by the ModelSEED Database\n",
      "modelseedpy.community.mscompatibility - WARNING - ModelSEEDError: The metabolite (s2l2n2m2masn_e0 | s2l2n2m2masn_e0 | s2l2n2m2masn) is not recognized by the ModelSEED Database\n",
      "modelseedpy.community.mscompatibility - WARNING - ModelSEEDError: The metabolite (mqn9_e0 | mqn9_e0 | mqn9) is not recognized by the ModelSEED Database\n",
      "modelseedpy.community.mscompatibility - WARNING - ModelSEEDError: The metabolite (leugly_e0 | leugly_e0 | leugly) is not recognized by the ModelSEED Database\n",
      "modelseedpy.community.mscompatibility - WARNING - ModelSEEDError: The metabolite (acerA_e0 | acerA_e0 | acerA) is not recognized by the ModelSEED Database\n",
      "modelseedpy.community.mscompatibility - WARNING - ModelSEEDError: The metabolite (hspg_degr_3_e0 | hspg_degr_3_e0 | hspg_degr_3) is not recognized by the ModelSEED Database\n",
      "modelseedpy.community.mscompatibility - WARNING - ModelSEEDError: The metabolite (arabinan101_e0 | arabinan101_e0 | arabinan101) is not recognized by the ModelSEED Database\n",
      "modelseedpy.community.mscompatibility - WARNING - ModelSEEDError: The metabolite (3ddlhept_e0 | 3ddlhept_e0 | 3ddlhept) is not recognized by the ModelSEED Database\n",
      "modelseedpy.community.mscompatibility - WARNING - ModelSEEDError: The metabolite (Tn_antigen_e0 | Tn_antigen_e0 | Tn_antigen) is not recognized by the ModelSEED Database\n",
      "modelseedpy.community.mscompatibility - WARNING - ModelSEEDError: The metabolite (kesto_e0 | kesto_e0 | kesto) is not recognized by the ModelSEED Database\n",
      "modelseedpy.community.mscompatibility - WARNING - ModelSEEDError: The metabolite (hspg_e0 | hspg_e0 | hspg) is not recognized by the ModelSEED Database\n",
      "modelseedpy.community.mscompatibility - WARNING - ModelSEEDError: The metabolite (3fuclac_e0 | 3fuclac_e0 | 3fuclac) is not recognized by the ModelSEED Database\n",
      "modelseedpy.community.mscompatibility - WARNING - ModelSEEDError: The metabolite (gncore2_e0 | gncore2_e0 | gncore2) is not recognized by the ModelSEED Database\n",
      "modelseedpy.community.mscompatibility - WARNING - ModelSEEDError: The metabolite (acgalidour2s_e0 | acgalidour2s_e0 | acgalidour2s) is not recognized by the ModelSEED Database\n",
      "modelseedpy.community.mscompatibility - WARNING - ModelSEEDError: The metabolite (cspg_a_e0 | cspg_a_e0 | cspg_a) is not recognized by the ModelSEED Database\n",
      "modelseedpy.community.mscompatibility - WARNING - ModelSEEDError: The metabolite (l2n2m2mn_e0 | l2n2m2mn_e0 | l2n2m2mn) is not recognized by the ModelSEED Database\n",
      "modelseedpy.community.mscompatibility - WARNING - ModelSEEDError: The metabolite (alagly_e0 | alagly_e0 | alagly) is not recognized by the ModelSEED Database\n",
      "modelseedpy.community.mscompatibility - WARNING - ModelSEEDError: The metabolite (dt5hsu_e0 | dt5hsu_e0 | dt5hsu) is not recognized by the ModelSEED Database\n",
      "modelseedpy.community.mscompatibility - WARNING - ModelSEEDError: The metabolite (kestottr_e0 | kestottr_e0 | kestottr) is not recognized by the ModelSEED Database\n",
      "modelseedpy.community.mscompatibility - WARNING - ModelSEEDError: The metabolite (mqn10_e0 | mqn10_e0 | mqn10) is not recognized by the ModelSEED Database\n",
      "modelseedpy.community.mscompatibility - WARNING - ModelSEEDError: The metabolite (rhamnogalurI_e0 | rhamnogalurI_e0 | rhamnogalurI) is not recognized by the ModelSEED Database\n",
      "modelseedpy.community.mscompatibility - WARNING - ModelSEEDError: The metabolite (manpt_e0 | manpt_e0 | manpt) is not recognized by the ModelSEED Database\n",
      "modelseedpy.community.mscompatibility - WARNING - ModelSEEDError: The metabolite (glyasp_e0 | glyasp_e0 | glyasp) is not recognized by the ModelSEED Database\n",
      "modelseedpy.community.mscompatibility - WARNING - ModelSEEDError: The metabolite (lacnttr_e0 | lacnttr_e0 | lacnttr) is not recognized by the ModelSEED Database\n",
      "modelseedpy.community.mscompatibility - WARNING - ModelSEEDError: The metabolite (s2l2fn2m2masn_e0 | s2l2fn2m2masn_e0 | s2l2fn2m2masn) is not recognized by the ModelSEED Database\n",
      "modelseedpy.community.mscompatibility - WARNING - ModelSEEDError: The metabolite (acgalglcur_e0 | acgalglcur_e0 | acgalglcur) is not recognized by the ModelSEED Database\n",
      "modelseedpy.community.mscompatibility - WARNING - ModelSEEDError: The metabolite (hspg_degr_11_e0 | hspg_degr_11_e0 | hspg_degr_11) is not recognized by the ModelSEED Database\n",
      "modelseedpy.community.mscompatibility - WARNING - ModelSEEDError: The metabolite (lmn2_e0 | lmn2_e0 | lmn2) is not recognized by the ModelSEED Database\n",
      "modelseedpy.community.mscompatibility - WARNING - ModelSEEDError: The metabolite (mbenz_e0 | mbenz_e0 | mbenz) is not recognized by the ModelSEED Database\n",
      "modelseedpy.community.mscompatibility - WARNING - ModelSEEDError: The metabolite (amylose300_e0 | amylose300_e0 | amylose300) is not recognized by the ModelSEED Database\n",
      "modelseedpy.community.mscompatibility - WARNING - ModelSEEDError: The metabolite (starch1200_e0 | starch1200_e0 | starch1200) is not recognized by the ModelSEED Database\n",
      "modelseedpy.community.mscompatibility - WARNING - ModelSEEDError: The metabolite (levanttr_e0 | levanttr_e0 | levanttr) is not recognized by the ModelSEED Database\n",
      "modelseedpy.community.mscompatibility - WARNING - ModelSEEDError: The metabolite (cspg_c_degr_e0 | cspg_c_degr_e0 | cspg_c_degr) is not recognized by the ModelSEED Database\n",
      "modelseedpy.community.mscompatibility - WARNING - ModelSEEDError: The metabolite (ha_e0 | ha_e0 | ha) is not recognized by the ModelSEED Database\n",
      "modelseedpy.community.mscompatibility - WARNING - ModelSEEDError: The metabolite (galam_e0 | galam_e0 | galam) is not recognized by the ModelSEED Database\n",
      "modelseedpy.community.mscompatibility - WARNING - ModelSEEDError: The metabolite (cpd00098_e0 | Choline_ZS | Choline_ZS) is not recognized by the ModelSEED Database\n",
      "modelseedpy.community.mscompatibility - WARNING - ModelSEEDError: The metabolite (gam26s_e0 | gam26s_e0 | gam26s) is not recognized by the ModelSEED Database\n",
      "modelseedpy.community.mscompatibility - WARNING - ModelSEEDError: The metabolite (glycogen1500_e0 | glycogen1500_e0 | glycogen1500) is not recognized by the ModelSEED Database\n",
      "modelseedpy.community.mscompatibility - WARNING - ModelSEEDError: The metabolite (isocapr_e0 | isocapr_e0 | isocapr) is not recognized by the ModelSEED Database\n",
      "modelseedpy.community.mscompatibility - WARNING - ModelSEEDError: The metabolite (core5_e0 | core5_e0 | core5) is not recognized by the ModelSEED Database\n",
      "modelseedpy.community.mscompatibility - WARNING - ModelSEEDError: The metabolite (rhamnogalurII_e0 | rhamnogalurII_e0 | rhamnogalurII) is not recognized by the ModelSEED Database\n",
      "modelseedpy.community.mscompatibility - WARNING - ModelSEEDError: The metabolite (s2l2n2m2m_e0 | s2l2n2m2m_e0 | s2l2n2m2m) is not recognized by the ModelSEED Database\n",
      "modelseedpy.community.mscompatibility - WARNING - ModelSEEDError: The metabolite (cspg_a_degr_e0 | cspg_a_degr_e0 | cspg_a_degr) is not recognized by the ModelSEED Database\n",
      "modelseedpy.community.mscompatibility - WARNING - ModelSEEDError: The metabolite (sphmyln_bt_e0 | sphmyln_bt_e0 | sphmyln_bt) is not recognized by the ModelSEED Database\n",
      "modelseedpy.community.mscompatibility - WARNING - ModelSEEDError: The metabolite (chtbs_e0 | chtbs_e0 | chtbs) is not recognized by the ModelSEED Database\n",
      "modelseedpy.community.mscompatibility - WARNING - ModelSEEDError: The metabolite (apio_D_e0 | apio_D_e0 | apio_D) is not recognized by the ModelSEED Database\n",
      "modelseedpy.community.mscompatibility - WARNING - ModelSEEDError: The metabolite (core8_e0 | core8_e0 | core8) is not recognized by the ModelSEED Database\n",
      "modelseedpy.community.mscompatibility - WARNING - ModelSEEDError: The metabolite (cspg_c_e0 | cspg_c_e0 | cspg_c) is not recognized by the ModelSEED Database\n",
      "modelseedpy.community.mscompatibility - WARNING - ModelSEEDError: The metabolite (hspg_degr_7_e0 | hspg_degr_7_e0 | hspg_degr_7) is not recognized by the ModelSEED Database\n",
      "modelseedpy.community.mscompatibility - WARNING - ModelSEEDError: The metabolite (hspg_degr_1_e0 | hspg_degr_1_e0 | hspg_degr_1) is not recognized by the ModelSEED Database\n",
      "modelseedpy.community.mscompatibility - WARNING - ModelSEEDError: The metabolite (idour_e0 | idour_e0 | idour) is not recognized by the ModelSEED Database\n",
      "modelseedpy.community.mscompatibility - WARNING - ModelSEEDError: The metabolite (lacndfuchx_e0 | lacndfuchx_e0 | lacndfuchx) is not recognized by the ModelSEED Database\n",
      "modelseedpy.community.mscompatibility - WARNING - ModelSEEDError: The metabolite (lacnnttr_e0 | lacnnttr_e0 | lacnnttr) is not recognized by the ModelSEED Database\n",
      "modelseedpy.community.mscompatibility - WARNING - ModelSEEDError: The metabolite (oligofru4_e0 | oligofru4_e0 | oligofru4) is not recognized by the ModelSEED Database\n",
      "modelseedpy.community.mscompatibility - WARNING - ModelSEEDError: The metabolite (2fuclac_e0 | 2fuclac_e0 | 2fuclac) is not recognized by the ModelSEED Database\n",
      "modelseedpy.community.mscompatibility - WARNING - ModelSEEDError: The metabolite (lmn30_e0 | lmn30_e0 | lmn30) is not recognized by the ModelSEED Database\n",
      "modelseedpy.community.mscompatibility - WARNING - ModelSEEDError: The metabolite (isoval_e0 | isoval_e0 | isoval) is not recognized by the ModelSEED Database\n",
      "modelseedpy.community.mscompatibility - WARNING - ModelSEEDError: The metabolite (alathr_e0 | alathr_e0 | alathr) is not recognized by the ModelSEED Database\n",
      "modelseedpy.community.mscompatibility - WARNING - ModelSEEDError: The metabolite (hspg_degr_5_e0 | hspg_degr_5_e0 | hspg_degr_5) is not recognized by the ModelSEED Database\n",
      "modelseedpy.community.mscompatibility - WARNING - ModelSEEDError: The metabolite (lacdfucttr_e0 | lacdfucttr_e0 | lacdfucttr) is not recognized by the ModelSEED Database\n",
      "modelseedpy.community.mscompatibility - WARNING - ModelSEEDError: The metabolite (levantttr_e0 | levantttr_e0 | levantttr) is not recognized by the ModelSEED Database\n",
      "modelseedpy.community.mscompatibility - WARNING - ModelSEEDError: The metabolite (arabinogal_e0 | arabinogal_e0 | arabinogal) is not recognized by the ModelSEED Database\n",
      "modelseedpy.community.mscompatibility - WARNING - ModelSEEDError: The metabolite (lacnfucpt_e0 | lacnfucpt_e0 | lacnfucpt) is not recognized by the ModelSEED Database\n",
      "modelseedpy.community.mscompatibility - WARNING - ModelSEEDError: The metabolite (mqn11_e0 | mqn11_e0 | mqn11) is not recognized by the ModelSEED Database\n",
      "modelseedpy.community.mscompatibility - WARNING - ModelSEEDError: The metabolite (core4_e0 | core4_e0 | core4) is not recognized by the ModelSEED Database\n",
      "modelseedpy.community.mscompatibility - WARNING - ModelSEEDError: The metabolite (12ethd_e0 | 12ethd_e0 | 12ethd) is not recognized by the ModelSEED Database\n",
      "modelseedpy.community.mscompatibility - WARNING - ModelSEEDError: The metabolite (strch2_e0 | strch2_e0 | strch2) is not recognized by the ModelSEED Database\n",
      "modelseedpy.community.mscompatibility - WARNING - ModelSEEDError: The metabolite (metala_e0 | metala_e0 | metala) is not recognized by the ModelSEED Database\n",
      "modelseedpy.community.mscompatibility - WARNING - ModelSEEDError: The metabolite (kestopt_e0 | kestopt_e0 | kestopt) is not recognized by the ModelSEED Database\n",
      "modelseedpy.community.mscompatibility - WARNING - ModelSEEDError: The metabolite (neulacnttr_e0 | neulacnttr_e0 | neulacnttr) is not recognized by the ModelSEED Database\n",
      "modelseedpy.community.mscompatibility - WARNING - ModelSEEDError: The metabolite (2omfuc_e0 | 2omfuc_e0 | 2omfuc) is not recognized by the ModelSEED Database\n",
      "modelseedpy.community.mscompatibility - WARNING - ModelSEEDError: The metabolite (cspg_ab_rest_e0 | cspg_ab_rest_e0 | cspg_ab_rest) is not recognized by the ModelSEED Database\n",
      "modelseedpy.community.mscompatibility - WARNING - ModelSEEDError: The metabolite (hspg_degr_6_e0 | hspg_degr_6_e0 | hspg_degr_6) is not recognized by the ModelSEED Database\n",
      "modelseedpy.community.mscompatibility - WARNING - IDWarning: The original ID cpd01399_e0 is a ModelSEED ID, and may not be desirably changed to cpd01399_e0.\n",
      "modelseedpy.community.mscompatibility - WARNING - ModelSEEDError: The old metabolite cpd01399_e0 cross-references ({'AraCyc': ['MALTOTETRAOSE'], 'BiGG': ['maltttr'], 'BrachyCyc': ['MALTOTETRAOSE'], 'KEGG': ['C02052', 'G00457'], 'MetaCyc': ['MALTOTETRAOSE']}) do not overlap with those ({'KEGG': ['C00713', 'G00277', 'G00746'], 'MetaCyc': ['CPD-13556']}) of the new metabolite cpd01399_e0.\n",
      "modelseedpy.community.mscompatibility - WARNING - ModelSEEDError: The metabolite (f1a_e0 | f1a_e0 | f1a) is not recognized by the ModelSEED Database\n",
      "modelseedpy.community.mscompatibility - WARNING - ModelSEEDError: The metabolite (pect_e0 | pect_e0 | pect) is not recognized by the ModelSEED Database\n",
      "modelseedpy.community.mscompatibility - WARNING - ModelSEEDError: The metabolite (hspg_degr_2_e0 | hspg_degr_2_e0 | hspg_degr_2) is not recognized by the ModelSEED Database\n",
      "modelseedpy.community.mscompatibility - WARNING - ModelSEEDError: The metabolite (lps_bt_e0 | lps_bt_e0 | lps_bt) is not recognized by the ModelSEED Database\n",
      "modelseedpy.community.mscompatibility - WARNING - ModelSEEDError: The metabolite (pe_cer1_bt_e0 | pe_cer1_bt_e0 | pe_cer1_bt) is not recognized by the ModelSEED Database\n",
      "modelseedpy.community.mscompatibility - WARNING - ModelSEEDError: The metabolite (alaglu_e0 | alaglu_e0 | alaglu) is not recognized by the ModelSEED Database\n",
      "modelseedpy.community.mscompatibility - WARNING - ModelSEEDError: The metabolite (T_antigen_e0 | T_antigen_e0 | T_antigen) is not recognized by the ModelSEED Database\n",
      "modelseedpy.community.mscompatibility - WARNING - ModelSEEDError: The metabolite (m2mn_e0 | m2mn_e0 | m2mn) is not recognized by the ModelSEED Database\n",
      "modelseedpy.community.mscompatibility - WARNING - ModelSEEDError: The metabolite (unsdigalur_e0 | unsdigalur_e0 | unsdigalur) is not recognized by the ModelSEED Database\n",
      "modelseedpy.community.mscompatibility - WARNING - ModelSEEDError: The metabolite (dsT_antigen_e0 | dsT_antigen_e0 | dsT_antigen) is not recognized by the ModelSEED Database\n",
      "modelseedpy.community.mscompatibility - WARNING - ModelSEEDError: The metabolite (sTn_antigen_e0 | sTn_antigen_e0 | sTn_antigen) is not recognized by the ModelSEED Database\n",
      "modelseedpy.community.mscompatibility - WARNING - ModelSEEDError: The metabolite (arabttr_e0 | arabttr_e0 | arabttr) is not recognized by the ModelSEED Database\n",
      "modelseedpy.community.mscompatibility - WARNING - ModelSEEDError: The metabolite (argarg_e0 | argarg_e0 | argarg) is not recognized by the ModelSEED Database\n",
      "modelseedpy.community.mscompatibility - WARNING - ModelSEEDError: The metabolite (plac_e0 | plac_e0 | plac) is not recognized by the ModelSEED Database\n",
      "modelseedpy.community.mscompatibility - WARNING - ModelSEEDError: The metabolite (hspg_rest_e0 | hspg_rest_e0 | hspg_rest) is not recognized by the ModelSEED Database\n",
      "modelseedpy.community.mscompatibility - WARNING - ModelSEEDError: The metabolite (hspg_degr_15_e0 | hspg_degr_15_e0 | hspg_degr_15) is not recognized by the ModelSEED Database\n",
      "modelseedpy.community.mscompatibility - WARNING - ModelSEEDError: The metabolite (strch1_e0 | strch1_e0 | strch1) is not recognized by the ModelSEED Database\n",
      "modelseedpy.community.mscompatibility - WARNING - ModelSEEDError: The metabolite (hspg_degr_4_e0 | hspg_degr_4_e0 | hspg_degr_4) is not recognized by the ModelSEED Database\n",
      "modelseedpy.community.mscompatibility - WARNING - ModelSEEDError: The metabolite (isobut_e0 | isobut_e0 | isobut) is not recognized by the ModelSEED Database\n",
      "modelseedpy.community.mscompatibility - WARNING - ModelSEEDError: The metabolite (mantr_e0 | mantr_e0 | mantr) is not recognized by the ModelSEED Database\n",
      "modelseedpy.community.mscompatibility - WARNING - ModelSEEDError: The metabolite (hspg_degr_10_e0 | hspg_degr_10_e0 | hspg_degr_10) is not recognized by the ModelSEED Database\n",
      "modelseedpy.community.mscompatibility - WARNING - ModelSEEDError: The metabolite (pecticgal_e0 | pecticgal_e0 | pecticgal) is not recognized by the ModelSEED Database\n",
      "modelseedpy.community.mscompatibility - WARNING - ModelSEEDError: The metabolite (gncore1_e0 | gncore1_e0 | gncore1) is not recognized by the ModelSEED Database\n",
      "modelseedpy.community.mscompatibility - WARNING - ModelSEEDError: The metabolite (hspg_degr_14_e0 | hspg_degr_14_e0 | hspg_degr_14) is not recognized by the ModelSEED Database\n",
      "modelseedpy.community.mscompatibility - WARNING - ModelSEEDError: The metabolite (hspg_degr_8_e0 | hspg_degr_8_e0 | hspg_degr_8) is not recognized by the ModelSEED Database\n",
      "modelseedpy.community.mscompatibility - WARNING - ModelSEEDError: The metabolite (alaasp_e0 | alaasp_e0 | alaasp) is not recognized by the ModelSEED Database\n",
      "modelseedpy.community.mscompatibility - WARNING - ModelSEEDError: The metabolite (acgalidour_e0 | acgalidour_e0 | acgalidour) is not recognized by the ModelSEED Database\n",
      "modelseedpy.community.mscompatibility - WARNING - ModelSEEDError: The metabolite (glyglu_e0 | glyglu_e0 | glyglu) is not recognized by the ModelSEED Database\n",
      "modelseedpy.community.mscompatibility - WARNING - ModelSEEDError: The metabolite (s2l2n2m2mn_e0 | s2l2n2m2mn_e0 | s2l2n2m2mn) is not recognized by the ModelSEED Database\n",
      "modelseedpy.community.mscompatibility - WARNING - ModelSEEDError: The metabolite (ha_pre1_e0 | ha_pre1_e0 | ha_pre1) is not recognized by the ModelSEED Database\n",
      "modelseedpy.community.mscompatibility - WARNING - ModelSEEDError: The metabolite (ha_deg1_e0 | ha_deg1_e0 | ha_deg1) is not recognized by the ModelSEED Database\n",
      "modelseedpy.community.mscompatibility - WARNING - ModelSEEDError: The metabolite (hspg_degr_13_e0 | hspg_degr_13_e0 | hspg_degr_13) is not recognized by the ModelSEED Database\n",
      "modelseedpy.community.mscompatibility - WARNING - ModelSEEDError: The metabolite (leuleu_e0 | leuleu_e0 | leuleu) is not recognized by the ModelSEED Database\n",
      "modelseedpy.community.mscompatibility - WARNING - ModelSEEDError: The metabolite (gchola_e0 | gchola_e0 | gchola) is not recognized by the ModelSEED Database\n",
      "modelseedpy.community.mscompatibility - WARNING - ModelSEEDError: The metabolite (manttr_e0 | manttr_e0 | manttr) is not recognized by the ModelSEED Database\n",
      "modelseedpy.community.mscompatibility - WARNING - ModelSEEDError: The metabolite (manb_e0 | manb_e0 | manb) is not recognized by the ModelSEED Database\n",
      "modelseedpy.community.mscompatibility - ERROR - The Bacteroides_thetaiotaomicron_VPI-5482.fbamdl.23 model has residual non-standard metabolites in its exchange reactions: {'core7_e0', 'phearg_e0', 'indlac_e0', 'cps_bt_e0', 'cspg_b_degr_e0', 'glyasn_e0', 'glypro_e0', 'amannan140_e0', 'cspg_b_e0', 'pullulan1200_e0', 'levan1000_e0', 'levanb_e0', 'phppa_e0', '7ocholate_e0', 'cspg_c_rest_e0', 'mn_e0', 'hspg_degr_12_e0', 'stys_e0', 'n2m2mn_e0', 'core3_e0', '2omxyl_e0', 'homogal_e0', 'Ser_Thr_e0', 'hspg_degr_9_e0', 'fucneulacnhx_e0', 'sT_antigen_e0', 's2l2n2m2masn_e0', 'mqn9_e0', 'leugly_e0', 'acerA_e0', 'hspg_degr_3_e0', 'arabinan101_e0', '3ddlhept_e0', 'Tn_antigen_e0', 'kesto_e0', 'hspg_e0', '3fuclac_e0', 'gncore2_e0', 'acgalidour2s_e0', 'cspg_a_e0', 'l2n2m2mn_e0', 'alagly_e0', 'dt5hsu_e0', 'kestottr_e0', 'mqn10_e0', 'rhamnogalurI_e0', 'manpt_e0', 'glyasp_e0', 'lacnttr_e0', 's2l2fn2m2masn_e0', 'acgalglcur_e0', 'hspg_degr_11_e0', 'lmn2_e0', 'mbenz_e0', 'amylose300_e0', 'starch1200_e0', 'levanttr_e0', 'cspg_c_degr_e0', 'ha_e0', 'galam_e0', 'gam26s_e0', 'glycogen1500_e0', 'isocapr_e0', 'core5_e0', 'rhamnogalurII_e0', 's2l2n2m2m_e0', 'cspg_a_degr_e0', 'sphmyln_bt_e0', 'hspg_degr_7_e0', 'chtbs_e0', 'apio_D_e0', 'core8_e0', 'idour_e0', 'oligofru4_e0', 'cspg_c_e0', 'lacnnttr_e0', 'hspg_degr_1_e0', 'lacndfuchx_e0', '2fuclac_e0', 'lmn30_e0', 'isoval_e0', 'alathr_e0', 'hspg_degr_5_e0', 'lacdfucttr_e0', 'levantttr_e0', 'arabinogal_e0', 'lacnfucpt_e0', 'mqn11_e0', 'core4_e0', '12ethd_e0', 'strch2_e0', 'metala_e0', 'kestopt_e0', 'neulacnttr_e0', '2omfuc_e0', 'cspg_ab_rest_e0', 'hspg_degr_6_e0', 'f1a_e0', 'pect_e0', 'hspg_degr_2_e0', 'lps_bt_e0', 'pe_cer1_bt_e0', 'alaglu_e0', 'T_antigen_e0', 'm2mn_e0', 'unsdigalur_e0', 'dsT_antigen_e0', 'sTn_antigen_e0', 'arabttr_e0', 'argarg_e0', 'plac_e0', 'hspg_rest_e0', 'hspg_degr_15_e0', 'strch1_e0', 'hspg_degr_4_e0', 'isobut_e0', 'mantr_e0', 'hspg_degr_10_e0', 'pecticgal_e0', 'gncore1_e0', 'hspg_degr_14_e0', 'hspg_degr_8_e0', 'alaasp_e0', 'acgalidour_e0', 'glyglu_e0', 's2l2n2m2mn_e0', 'leuleu_e0', 'ha_deg1_e0', 'hspg_degr_13_e0', 'gchola_e0', 'manttr_e0', 'manb_e0', 'ha_pre1_e0'}. Specify a True `printing` parameter to view why these metabolites were not corrected.\n",
      "modelseedpy.core.msmodel - ERROR - The [0, 0] bounds are not amenable with a direction string.\n",
      "modelseedpy.community.mscompatibility - WARNING - IDWarning: The original ID cpd15411_e0 is a ModelSEED ID, and may not be desirably changed to cpd15411_e0.\n",
      "modelseedpy.community.mscompatibility - WARNING - ModelSEEDError: The metabolite (colipap-e_e0 | Core oligosaccharide lipid A diphosphate | Core oligosaccharide lipid A diphosphate) is not recognized by the ModelSEED Database\n",
      "modelseedpy.community.mscompatibility - WARNING - ModelSEEDError: The metabolite (metglcur-e_e0 | 1-O-methyl-Beta-D-glucuronate | Omethylbetadglucuronate | 1-O-methyl-Beta-D-glucuronate) is not recognized by the ModelSEED Database\n",
      "modelseedpy.community.mscompatibility - WARNING - IDWarning: The original ID cpd00609_e0 is a ModelSEED ID, and may not be desirably changed to cpd00609_e0.\n",
      "modelseedpy.community.mscompatibility - WARNING - IDWarning: The original ID cpd03191_e0 is a ModelSEED ID, and may not be desirably changed to cpd03191_e0.\n",
      "modelseedpy.community.mscompatibility - WARNING - ModelSEEDError: The metabolite (sq-e_e0 | Sulphoquinovose | Sulphoquinovose) is not recognized by the ModelSEED Database\n",
      "modelseedpy.community.mscompatibility - ERROR - The iML1515 model has residual non-standard metabolites in its exchange reactions: {'colipap-e_e0', 'metglcur-e_e0', 'sq-e_e0'}. Specify a True `printing` parameter to view why these metabolites were not corrected.\n"
     ]
    },
    {
     "name": "stdout",
     "output_type": "stream",
     "text": [
      "\n",
      "\n",
      "3 reactions were substituted and 11 metabolite IDs were redefined in Bacteroides_thetaiotaomicron_VPI-5482.fbamdl.23,iML1515 by standardize().\n"
     ]
    },
    {
     "name": "stderr",
     "output_type": "stream",
     "text": [
      "modelseedpy.core.msmodel - ERROR - The [0, 0] bounds are not amenable with a direction string.\n"
     ]
    },
    {
     "name": "stdout",
     "output_type": "stream",
     "text": [
      "The minimal flux media consists of 26 compounds and a 0.40745920520825313 total influx, with a growth value of 0.1000000000001363\n"
     ]
    },
    {
     "name": "stderr",
     "output_type": "stream",
     "text": [
      "modelseedpy.core.msmodel - ERROR - The [0, 0] bounds are not amenable with a direction string.\n"
     ]
    },
    {
     "name": "stdout",
     "output_type": "stream",
     "text": [
      "The minimal flux media consists of 31 compounds and a 0.4326798878724514 total influx, with a growth value of 0.09999999999938276\n"
     ]
    },
    {
     "name": "stderr",
     "output_type": "stream",
     "text": [
      "modelseedpy.core.msmodel - ERROR - The [0, 0] bounds are not amenable with a direction string.\n"
     ]
    },
    {
     "name": "stdout",
     "output_type": "stream",
     "text": [
      "{'dictionary_item_added': [root['EX_cpd03725_e0'], root['EX_pullulan1200_e0'], root['EX_glycogen1500_e0'], root['EX_hspg_e0'], root['EX_cpd00885_e0']], 'dictionary_item_removed': [root['EX_phearg_e0'], root['EX_cpd00263_e0'], root['EX_cpd00220_e0'], root['EX_glyasn_e0'], root['EX_cpd00065_e0'], root['EX_cpd00104_e0'], root['EX_cpd00218_e0'], root['EX_cpd10516_e0'], root['EX_cpd00393_e0'], root['EX_pe_cer1_bt_e0'], root['EX_cpd11591_e0'], root['EX_stys_e0'], root['EX_cpd10515_e0'], root['EX_cpd00182_e0'], root['EX_cpd11584_e0'], root['EX_cpd00009_e0'], root['EX_s2l2n2m2m_e0'], root['EX_cpd15836_e0'], root['EX_cpd15551_e0'], root['EX_cpd15500_e0'], root['EX_cpd11580_e0'], root['EX_cpd00305_e0'], root['EX_cpd00311_e0'], root['EX_cpd00654_e0'], root['EX_cpd00007_e0'], root['EX_cpd00367_e0'], root['EX_cpd15606_e0'], root['EX_cpd01017_e0'], root['EX_cpd01391_e0'], root['EX_s2l2n2m2mn_e0']], 'values_changed': {\"root['EX_cpd00971_e0']\": {'new_value': 0.0004668, 'old_value': 0.00046679999999998717}, \"root['EX_argarg_e0']\": {'new_value': 0.1396766124984062, 'old_value': 0.005619400000000002}}}\n"
     ]
    },
    {
     "name": "stderr",
     "output_type": "stream",
     "text": [
      "modelseedpy.community.mscompatibility - ERROR - The iML1515 model has residual non-standard metabolites in its exchange reactions: {'dhps-e_e0', 'metsox-R-L-e_e0', 'tartr-D-e_e0', 'metsox-S-L-e_e0', 'metglcur-e_e0', 'colipap-e_e0', 'sq-e_e0', '4abzglu-e_e0'}. Specify a True `printing` parameter to view why these metabolites were not corrected.\n"
     ]
    },
    {
     "name": "stdout",
     "output_type": "stream",
     "text": [
      "\n",
      "\n",
      "\n",
      "Align exchange reactions in iML1515 \n",
      " ======================================\n"
     ]
    },
    {
     "name": "stderr",
     "output_type": "stream",
     "text": [
      "modelseedpy.community.mscompatibility - WARNING - ModelSEEDError: The metabolite (cpd00098_e0 | Choline_ZS | Choline_ZS) is not recognized by the ModelSEED Database\n",
      "modelseedpy.community.mscompatibility - ERROR - The Bacteroides_thetaiotaomicron_VPI-5482.fbamdl.23 model has residual non-standard metabolites in its exchange reactions: {'core7_e0', 'phearg_e0', 'indlac_e0', 'cps_bt_e0', 'cspg_b_degr_e0', 'glyasn_e0', 'glypro_e0', 'amannan140_e0', 'cspg_b_e0', 'pullulan1200_e0', 'levan1000_e0', 'levanb_e0', 'phppa_e0', '7ocholate_e0', 'cspg_c_rest_e0', 'mn_e0', 'hspg_degr_12_e0', 'stys_e0', 'n2m2mn_e0', 'core3_e0', '2omxyl_e0', 'homogal_e0', 'Ser_Thr_e0', 'hspg_degr_9_e0', 'fucneulacnhx_e0', 'sT_antigen_e0', 's2l2n2m2masn_e0', 'mqn9_e0', 'leugly_e0', 'acerA_e0', 'hspg_degr_3_e0', 'arabinan101_e0', '3ddlhept_e0', 'Tn_antigen_e0', 'kesto_e0', 'hspg_e0', '3fuclac_e0', 'gncore2_e0', 'acgalidour2s_e0', 'cspg_a_e0', 'l2n2m2mn_e0', 'alagly_e0', 'dt5hsu_e0', 'kestottr_e0', 'mqn10_e0', 'rhamnogalurI_e0', 'manpt_e0', 'glyasp_e0', 'lacnttr_e0', 's2l2fn2m2masn_e0', 'acgalglcur_e0', 'hspg_degr_11_e0', 'lmn2_e0', 'mbenz_e0', 'amylose300_e0', 'starch1200_e0', 'levanttr_e0', 'cspg_c_degr_e0', 'ha_e0', 'galam_e0', 'gam26s_e0', 'glycogen1500_e0', 'isocapr_e0', 'core5_e0', 'core2_e0', 'rhamnogalurII_e0', 's2l2n2m2m_e0', 'cspg_a_degr_e0', 'sphmyln_bt_e0', 'hspg_degr_7_e0', 'chtbs_e0', 'apio_D_e0', 'core8_e0', 'idour_e0', 'oligofru4_e0', 'cspg_c_e0', 'lacnnttr_e0', 'hspg_degr_1_e0', 'lacndfuchx_e0', '2fuclac_e0', 'lmn30_e0', 'isoval_e0', 'alathr_e0', 'hspg_degr_5_e0', 'lacdfucttr_e0', 'levantttr_e0', 'arabinogal_e0', 'lacnfucpt_e0', 'mqn11_e0', 'core4_e0', '12ethd_e0', 'strch2_e0', 'metala_e0', 'kestopt_e0', 'neulacnttr_e0', '2omfuc_e0', 'cspg_ab_rest_e0', 'hspg_degr_6_e0', 'core6_e0', 'f1a_e0', 'pect_e0', 'hspg_degr_2_e0', 'lps_bt_e0', 'pe_cer1_bt_e0', 'alaglu_e0', 'T_antigen_e0', 'm2mn_e0', 'unsdigalur_e0', 'dsT_antigen_e0', 'sTn_antigen_e0', 'arabttr_e0', 'argarg_e0', 'plac_e0', 'hspg_rest_e0', 'hspg_degr_15_e0', 'strch1_e0', 'hspg_degr_4_e0', 'isobut_e0', 'mantr_e0', 'hspg_degr_10_e0', 'pecticgal_e0', 'gncore1_e0', 'hspg_degr_14_e0', 'hspg_degr_8_e0', 'alaasp_e0', 'acgalidour_e0', 'glyglu_e0', 's2l2n2m2mn_e0', 'leuleu_e0', 'ha_deg1_e0', 'hspg_degr_13_e0', 'gchola_e0', 'manttr_e0', 'manb_e0', 'ha_pre1_e0'}. Specify a True `printing` parameter to view why these metabolites were not corrected.\n"
     ]
    },
    {
     "name": "stdout",
     "output_type": "stream",
     "text": [
      "\n",
      "\n",
      "\n",
      "Align exchange reactions in Bacteroides_thetaiotaomicron_VPI-5482.fbamdl.23 \n",
      " ==============================================================================\n"
     ]
    },
    {
     "name": "stderr",
     "output_type": "stream",
     "text": [
      "modelseedpy.core.msmodel - ERROR - The [0, 0] bounds are not amenable with a direction string.\n"
     ]
    },
    {
     "name": "stdout",
     "output_type": "stream",
     "text": [
      "\n",
      "\n",
      "0 exchange reactions were substituted and 0 exchange metabolite IDs were redefined by align_exchanges().\n"
     ]
    },
    {
     "name": "stderr",
     "output_type": "stream",
     "text": [
      "modelseedpy.core.msmodel - ERROR - The [0, 0] bounds are not amenable with a direction string.\n"
     ]
    },
    {
     "name": "stdout",
     "output_type": "stream",
     "text": [
      "[<ModelCompound cpd11416_c2 at 0x25085fea9a0>, <Metabolite cpd11416_c0 at 0x25087af3c70>]\n"
     ]
    },
    {
     "name": "stderr",
     "output_type": "stream",
     "text": [
      "modelseedpy.community.mscompatibility - WARNING - IDWarning: The original ID cpd15411_e0 is a ModelSEED ID, and may not be desirably changed to cpd15411_e0.\n",
      "modelseedpy.community.mscompatibility - WARNING - ModelSEEDError: The metabolite (colipap-e_e0 | Core oligosaccharide lipid A diphosphate | Core oligosaccharide lipid A diphosphate) is not recognized by the ModelSEED Database\n",
      "modelseedpy.community.mscompatibility - WARNING - ModelSEEDError: The metabolite (metglcur-e_e0 | 1-O-methyl-Beta-D-glucuronate | Omethylbetadglucuronate | 1-O-methyl-Beta-D-glucuronate) is not recognized by the ModelSEED Database\n",
      "modelseedpy.community.mscompatibility - WARNING - IDWarning: The original ID cpd00609_e0 is a ModelSEED ID, and may not be desirably changed to cpd00609_e0.\n",
      "modelseedpy.community.mscompatibility - WARNING - IDWarning: The original ID cpd03191_e0 is a ModelSEED ID, and may not be desirably changed to cpd03191_e0.\n",
      "modelseedpy.community.mscompatibility - WARNING - ModelSEEDError: The metabolite (sq-e_e0 | Sulphoquinovose | Sulphoquinovose) is not recognized by the ModelSEED Database\n",
      "modelseedpy.community.mscompatibility - ERROR - The iML1515 model has residual non-standard metabolites in its exchange reactions: {'colipap-e_e0', 'metglcur-e_e0', 'sq-e_e0'}. Specify a True `printing` parameter to view why these metabolites were not corrected.\n",
      "modelseedpy.community.mscompatibility - WARNING - ModelSEEDError: The metabolite (core7_e0 | core7_e0 | core7) is not recognized by the ModelSEED Database\n",
      "modelseedpy.community.mscompatibility - WARNING - ModelSEEDError: The metabolite (phearg_e0 | phearg_e0 | phearg) is not recognized by the ModelSEED Database\n",
      "modelseedpy.community.mscompatibility - WARNING - ModelSEEDError: The metabolite (indlac_e0 | indlac_e0 | indlac) is not recognized by the ModelSEED Database\n",
      "modelseedpy.community.mscompatibility - WARNING - ModelSEEDError: The metabolite (cps_bt_e0 | cps_bt_e0 | cps_bt) is not recognized by the ModelSEED Database\n",
      "modelseedpy.community.mscompatibility - WARNING - ModelSEEDError: The metabolite (cspg_b_degr_e0 | cspg_b_degr_e0 | cspg_b_degr) is not recognized by the ModelSEED Database\n",
      "modelseedpy.community.mscompatibility - WARNING - ModelSEEDError: The metabolite (glyasn_e0 | glyasn_e0 | glyasn) is not recognized by the ModelSEED Database\n",
      "modelseedpy.community.mscompatibility - WARNING - ModelSEEDError: The metabolite (glypro_e0 | glypro_e0 | glypro) is not recognized by the ModelSEED Database\n",
      "modelseedpy.community.mscompatibility - WARNING - IDWarning: The original ID cpd15494_e0 is a ModelSEED ID, and may not be desirably changed to cpd15494_e0.\n",
      "modelseedpy.community.mscompatibility - WARNING - ModelSEEDError: The metabolite (amannan140_e0 | amannan140_e0 | amannan140) is not recognized by the ModelSEED Database\n",
      "modelseedpy.community.mscompatibility - WARNING - ModelSEEDError: The metabolite (cspg_b_e0 | cspg_b_e0 | cspg_b) is not recognized by the ModelSEED Database\n",
      "modelseedpy.community.mscompatibility - WARNING - ModelSEEDError: The metabolite (pullulan1200_e0 | pullulan1200_e0 | pullulan1200) is not recognized by the ModelSEED Database\n",
      "modelseedpy.community.mscompatibility - WARNING - ModelSEEDError: The metabolite (levan1000_e0 | levan1000_e0 | levan1000) is not recognized by the ModelSEED Database\n",
      "modelseedpy.community.mscompatibility - WARNING - ModelSEEDError: The metabolite (levanb_e0 | levanb_e0 | levanb) is not recognized by the ModelSEED Database\n",
      "modelseedpy.community.mscompatibility - WARNING - ModelSEEDError: The metabolite (phppa_e0 | phppa_e0 | phppa) is not recognized by the ModelSEED Database\n",
      "modelseedpy.community.mscompatibility - WARNING - ModelSEEDError: The metabolite (7ocholate_e0 | 7ocholate_e0 | 7ocholate) is not recognized by the ModelSEED Database\n",
      "modelseedpy.community.mscompatibility - WARNING - ModelSEEDError: The metabolite (cspg_c_rest_e0 | cspg_c_rest_e0 | cspg_c_rest) is not recognized by the ModelSEED Database\n",
      "modelseedpy.community.mscompatibility - WARNING - ModelSEEDError: The metabolite (mn_e0 | mn_e0 | mn) is not recognized by the ModelSEED Database\n",
      "modelseedpy.community.mscompatibility - WARNING - ModelSEEDError: The metabolite (hspg_degr_12_e0 | hspg_degr_12_e0 | hspg_degr_12) is not recognized by the ModelSEED Database\n",
      "modelseedpy.community.mscompatibility - WARNING - ModelSEEDError: The metabolite (n2m2mn_e0 | n2m2mn_e0 | n2m2mn) is not recognized by the ModelSEED Database\n",
      "modelseedpy.community.mscompatibility - WARNING - ModelSEEDError: The metabolite (stys_e0 | stys_e0 | stys) is not recognized by the ModelSEED Database\n",
      "modelseedpy.community.mscompatibility - WARNING - ModelSEEDError: The metabolite (core3_e0 | core3_e0 | core3) is not recognized by the ModelSEED Database\n",
      "modelseedpy.community.mscompatibility - WARNING - ModelSEEDError: The metabolite (2omxyl_e0 | 2omxyl_e0 | 2omxyl) is not recognized by the ModelSEED Database\n",
      "modelseedpy.community.mscompatibility - WARNING - ModelSEEDError: The metabolite (homogal_e0 | homogal_e0 | homogal) is not recognized by the ModelSEED Database\n",
      "modelseedpy.community.mscompatibility - WARNING - ModelSEEDError: The metabolite (Ser_Thr_e0 | Ser_Thr_e0 | Ser_Thr) is not recognized by the ModelSEED Database\n",
      "modelseedpy.community.mscompatibility - WARNING - ModelSEEDError: The metabolite (hspg_degr_9_e0 | hspg_degr_9_e0 | hspg_degr_9) is not recognized by the ModelSEED Database\n",
      "modelseedpy.community.mscompatibility - WARNING - ModelSEEDError: The metabolite (fucneulacnhx_e0 | fucneulacnhx_e0 | fucneulacnhx) is not recognized by the ModelSEED Database\n",
      "modelseedpy.community.mscompatibility - WARNING - ModelSEEDError: The metabolite (sT_antigen_e0 | sT_antigen_e0 | sT_antigen) is not recognized by the ModelSEED Database\n",
      "modelseedpy.community.mscompatibility - WARNING - ModelSEEDError: The metabolite (s2l2n2m2masn_e0 | s2l2n2m2masn_e0 | s2l2n2m2masn) is not recognized by the ModelSEED Database\n",
      "modelseedpy.community.mscompatibility - WARNING - ModelSEEDError: The metabolite (mqn9_e0 | mqn9_e0 | mqn9) is not recognized by the ModelSEED Database\n",
      "modelseedpy.community.mscompatibility - WARNING - ModelSEEDError: The metabolite (leugly_e0 | leugly_e0 | leugly) is not recognized by the ModelSEED Database\n",
      "modelseedpy.community.mscompatibility - WARNING - ModelSEEDError: The metabolite (acerA_e0 | acerA_e0 | acerA) is not recognized by the ModelSEED Database\n",
      "modelseedpy.community.mscompatibility - WARNING - ModelSEEDError: The metabolite (hspg_degr_3_e0 | hspg_degr_3_e0 | hspg_degr_3) is not recognized by the ModelSEED Database\n",
      "modelseedpy.community.mscompatibility - WARNING - ModelSEEDError: The metabolite (arabinan101_e0 | arabinan101_e0 | arabinan101) is not recognized by the ModelSEED Database\n",
      "modelseedpy.community.mscompatibility - WARNING - ModelSEEDError: The metabolite (3ddlhept_e0 | 3ddlhept_e0 | 3ddlhept) is not recognized by the ModelSEED Database\n",
      "modelseedpy.community.mscompatibility - WARNING - ModelSEEDError: The metabolite (Tn_antigen_e0 | Tn_antigen_e0 | Tn_antigen) is not recognized by the ModelSEED Database\n",
      "modelseedpy.community.mscompatibility - WARNING - ModelSEEDError: The metabolite (kesto_e0 | kesto_e0 | kesto) is not recognized by the ModelSEED Database\n",
      "modelseedpy.community.mscompatibility - WARNING - ModelSEEDError: The metabolite (hspg_e0 | hspg_e0 | hspg) is not recognized by the ModelSEED Database\n",
      "modelseedpy.community.mscompatibility - WARNING - ModelSEEDError: The metabolite (3fuclac_e0 | 3fuclac_e0 | 3fuclac) is not recognized by the ModelSEED Database\n",
      "modelseedpy.community.mscompatibility - WARNING - ModelSEEDError: The metabolite (gncore2_e0 | gncore2_e0 | gncore2) is not recognized by the ModelSEED Database\n",
      "modelseedpy.community.mscompatibility - WARNING - ModelSEEDError: The metabolite (acgalidour2s_e0 | acgalidour2s_e0 | acgalidour2s) is not recognized by the ModelSEED Database\n",
      "modelseedpy.community.mscompatibility - WARNING - ModelSEEDError: The metabolite (cspg_a_e0 | cspg_a_e0 | cspg_a) is not recognized by the ModelSEED Database\n",
      "modelseedpy.community.mscompatibility - WARNING - ModelSEEDError: The metabolite (l2n2m2mn_e0 | l2n2m2mn_e0 | l2n2m2mn) is not recognized by the ModelSEED Database\n",
      "modelseedpy.community.mscompatibility - WARNING - ModelSEEDError: The metabolite (alagly_e0 | alagly_e0 | alagly) is not recognized by the ModelSEED Database\n",
      "modelseedpy.community.mscompatibility - WARNING - ModelSEEDError: The metabolite (dt5hsu_e0 | dt5hsu_e0 | dt5hsu) is not recognized by the ModelSEED Database\n",
      "modelseedpy.community.mscompatibility - WARNING - ModelSEEDError: The metabolite (kestottr_e0 | kestottr_e0 | kestottr) is not recognized by the ModelSEED Database\n",
      "modelseedpy.community.mscompatibility - WARNING - ModelSEEDError: The metabolite (mqn10_e0 | mqn10_e0 | mqn10) is not recognized by the ModelSEED Database\n",
      "modelseedpy.community.mscompatibility - WARNING - ModelSEEDError: The metabolite (rhamnogalurI_e0 | rhamnogalurI_e0 | rhamnogalurI) is not recognized by the ModelSEED Database\n",
      "modelseedpy.community.mscompatibility - WARNING - ModelSEEDError: The metabolite (manpt_e0 | manpt_e0 | manpt) is not recognized by the ModelSEED Database\n",
      "modelseedpy.community.mscompatibility - WARNING - ModelSEEDError: The metabolite (glyasp_e0 | glyasp_e0 | glyasp) is not recognized by the ModelSEED Database\n",
      "modelseedpy.community.mscompatibility - WARNING - ModelSEEDError: The metabolite (lacnttr_e0 | lacnttr_e0 | lacnttr) is not recognized by the ModelSEED Database\n",
      "modelseedpy.community.mscompatibility - WARNING - ModelSEEDError: The metabolite (s2l2fn2m2masn_e0 | s2l2fn2m2masn_e0 | s2l2fn2m2masn) is not recognized by the ModelSEED Database\n",
      "modelseedpy.community.mscompatibility - WARNING - ModelSEEDError: The metabolite (acgalglcur_e0 | acgalglcur_e0 | acgalglcur) is not recognized by the ModelSEED Database\n",
      "modelseedpy.community.mscompatibility - WARNING - ModelSEEDError: The metabolite (hspg_degr_11_e0 | hspg_degr_11_e0 | hspg_degr_11) is not recognized by the ModelSEED Database\n",
      "modelseedpy.community.mscompatibility - WARNING - ModelSEEDError: The metabolite (lmn2_e0 | lmn2_e0 | lmn2) is not recognized by the ModelSEED Database\n",
      "modelseedpy.community.mscompatibility - WARNING - ModelSEEDError: The metabolite (mbenz_e0 | mbenz_e0 | mbenz) is not recognized by the ModelSEED Database\n",
      "modelseedpy.community.mscompatibility - WARNING - ModelSEEDError: The metabolite (amylose300_e0 | amylose300_e0 | amylose300) is not recognized by the ModelSEED Database\n",
      "modelseedpy.community.mscompatibility - WARNING - ModelSEEDError: The metabolite (starch1200_e0 | starch1200_e0 | starch1200) is not recognized by the ModelSEED Database\n",
      "modelseedpy.community.mscompatibility - WARNING - ModelSEEDError: The metabolite (levanttr_e0 | levanttr_e0 | levanttr) is not recognized by the ModelSEED Database\n",
      "modelseedpy.community.mscompatibility - WARNING - ModelSEEDError: The metabolite (cspg_c_degr_e0 | cspg_c_degr_e0 | cspg_c_degr) is not recognized by the ModelSEED Database\n",
      "modelseedpy.community.mscompatibility - WARNING - ModelSEEDError: The metabolite (ha_e0 | ha_e0 | ha) is not recognized by the ModelSEED Database\n",
      "modelseedpy.community.mscompatibility - WARNING - ModelSEEDError: The metabolite (galam_e0 | galam_e0 | galam) is not recognized by the ModelSEED Database\n",
      "modelseedpy.community.mscompatibility - WARNING - ModelSEEDError: The metabolite (cpd00098_e0 | Choline_ZS | Choline_ZS) is not recognized by the ModelSEED Database\n",
      "modelseedpy.community.mscompatibility - WARNING - ModelSEEDError: The metabolite (gam26s_e0 | gam26s_e0 | gam26s) is not recognized by the ModelSEED Database\n",
      "modelseedpy.community.mscompatibility - WARNING - ModelSEEDError: The metabolite (glycogen1500_e0 | glycogen1500_e0 | glycogen1500) is not recognized by the ModelSEED Database\n",
      "modelseedpy.community.mscompatibility - WARNING - ModelSEEDError: The metabolite (isocapr_e0 | isocapr_e0 | isocapr) is not recognized by the ModelSEED Database\n",
      "modelseedpy.community.mscompatibility - WARNING - ModelSEEDError: The metabolite (core5_e0 | core5_e0 | core5) is not recognized by the ModelSEED Database\n",
      "modelseedpy.community.mscompatibility - WARNING - ModelSEEDError: The metabolite (rhamnogalurII_e0 | rhamnogalurII_e0 | rhamnogalurII) is not recognized by the ModelSEED Database\n",
      "modelseedpy.community.mscompatibility - WARNING - ModelSEEDError: The metabolite (s2l2n2m2m_e0 | s2l2n2m2m_e0 | s2l2n2m2m) is not recognized by the ModelSEED Database\n",
      "modelseedpy.community.mscompatibility - WARNING - ModelSEEDError: The metabolite (cspg_a_degr_e0 | cspg_a_degr_e0 | cspg_a_degr) is not recognized by the ModelSEED Database\n",
      "modelseedpy.community.mscompatibility - WARNING - ModelSEEDError: The metabolite (sphmyln_bt_e0 | sphmyln_bt_e0 | sphmyln_bt) is not recognized by the ModelSEED Database\n",
      "modelseedpy.community.mscompatibility - WARNING - ModelSEEDError: The metabolite (chtbs_e0 | chtbs_e0 | chtbs) is not recognized by the ModelSEED Database\n",
      "modelseedpy.community.mscompatibility - WARNING - ModelSEEDError: The metabolite (apio_D_e0 | apio_D_e0 | apio_D) is not recognized by the ModelSEED Database\n",
      "modelseedpy.community.mscompatibility - WARNING - ModelSEEDError: The metabolite (core8_e0 | core8_e0 | core8) is not recognized by the ModelSEED Database\n",
      "modelseedpy.community.mscompatibility - WARNING - ModelSEEDError: The metabolite (cspg_c_e0 | cspg_c_e0 | cspg_c) is not recognized by the ModelSEED Database\n",
      "modelseedpy.community.mscompatibility - WARNING - ModelSEEDError: The metabolite (hspg_degr_7_e0 | hspg_degr_7_e0 | hspg_degr_7) is not recognized by the ModelSEED Database\n",
      "modelseedpy.community.mscompatibility - WARNING - ModelSEEDError: The metabolite (hspg_degr_1_e0 | hspg_degr_1_e0 | hspg_degr_1) is not recognized by the ModelSEED Database\n",
      "modelseedpy.community.mscompatibility - WARNING - ModelSEEDError: The metabolite (idour_e0 | idour_e0 | idour) is not recognized by the ModelSEED Database\n",
      "modelseedpy.community.mscompatibility - WARNING - ModelSEEDError: The metabolite (lacndfuchx_e0 | lacndfuchx_e0 | lacndfuchx) is not recognized by the ModelSEED Database\n",
      "modelseedpy.community.mscompatibility - WARNING - ModelSEEDError: The metabolite (lacnnttr_e0 | lacnnttr_e0 | lacnnttr) is not recognized by the ModelSEED Database\n",
      "modelseedpy.community.mscompatibility - WARNING - ModelSEEDError: The metabolite (oligofru4_e0 | oligofru4_e0 | oligofru4) is not recognized by the ModelSEED Database\n",
      "modelseedpy.community.mscompatibility - WARNING - ModelSEEDError: The metabolite (2fuclac_e0 | 2fuclac_e0 | 2fuclac) is not recognized by the ModelSEED Database\n",
      "modelseedpy.community.mscompatibility - WARNING - ModelSEEDError: The metabolite (lmn30_e0 | lmn30_e0 | lmn30) is not recognized by the ModelSEED Database\n",
      "modelseedpy.community.mscompatibility - WARNING - ModelSEEDError: The metabolite (isoval_e0 | isoval_e0 | isoval) is not recognized by the ModelSEED Database\n",
      "modelseedpy.community.mscompatibility - WARNING - ModelSEEDError: The metabolite (alathr_e0 | alathr_e0 | alathr) is not recognized by the ModelSEED Database\n",
      "modelseedpy.community.mscompatibility - WARNING - ModelSEEDError: The metabolite (hspg_degr_5_e0 | hspg_degr_5_e0 | hspg_degr_5) is not recognized by the ModelSEED Database\n",
      "modelseedpy.community.mscompatibility - WARNING - ModelSEEDError: The metabolite (lacdfucttr_e0 | lacdfucttr_e0 | lacdfucttr) is not recognized by the ModelSEED Database\n",
      "modelseedpy.community.mscompatibility - WARNING - ModelSEEDError: The metabolite (levantttr_e0 | levantttr_e0 | levantttr) is not recognized by the ModelSEED Database\n",
      "modelseedpy.community.mscompatibility - WARNING - ModelSEEDError: The metabolite (arabinogal_e0 | arabinogal_e0 | arabinogal) is not recognized by the ModelSEED Database\n",
      "modelseedpy.community.mscompatibility - WARNING - ModelSEEDError: The metabolite (lacnfucpt_e0 | lacnfucpt_e0 | lacnfucpt) is not recognized by the ModelSEED Database\n",
      "modelseedpy.community.mscompatibility - WARNING - ModelSEEDError: The metabolite (mqn11_e0 | mqn11_e0 | mqn11) is not recognized by the ModelSEED Database\n",
      "modelseedpy.community.mscompatibility - WARNING - ModelSEEDError: The metabolite (core4_e0 | core4_e0 | core4) is not recognized by the ModelSEED Database\n",
      "modelseedpy.community.mscompatibility - WARNING - ModelSEEDError: The metabolite (12ethd_e0 | 12ethd_e0 | 12ethd) is not recognized by the ModelSEED Database\n",
      "modelseedpy.community.mscompatibility - WARNING - ModelSEEDError: The metabolite (strch2_e0 | strch2_e0 | strch2) is not recognized by the ModelSEED Database\n",
      "modelseedpy.community.mscompatibility - WARNING - ModelSEEDError: The metabolite (metala_e0 | metala_e0 | metala) is not recognized by the ModelSEED Database\n",
      "modelseedpy.community.mscompatibility - WARNING - ModelSEEDError: The metabolite (kestopt_e0 | kestopt_e0 | kestopt) is not recognized by the ModelSEED Database\n",
      "modelseedpy.community.mscompatibility - WARNING - ModelSEEDError: The metabolite (neulacnttr_e0 | neulacnttr_e0 | neulacnttr) is not recognized by the ModelSEED Database\n",
      "modelseedpy.community.mscompatibility - WARNING - ModelSEEDError: The metabolite (2omfuc_e0 | 2omfuc_e0 | 2omfuc) is not recognized by the ModelSEED Database\n",
      "modelseedpy.community.mscompatibility - WARNING - ModelSEEDError: The metabolite (cspg_ab_rest_e0 | cspg_ab_rest_e0 | cspg_ab_rest) is not recognized by the ModelSEED Database\n",
      "modelseedpy.community.mscompatibility - WARNING - ModelSEEDError: The metabolite (hspg_degr_6_e0 | hspg_degr_6_e0 | hspg_degr_6) is not recognized by the ModelSEED Database\n",
      "modelseedpy.community.mscompatibility - WARNING - IDWarning: The original ID cpd01399_e0 is a ModelSEED ID, and may not be desirably changed to cpd01399_e0.\n",
      "modelseedpy.community.mscompatibility - WARNING - ModelSEEDError: The old metabolite cpd01399_e0 cross-references ({'AraCyc': ['MALTOTETRAOSE'], 'BiGG': ['maltttr'], 'BrachyCyc': ['MALTOTETRAOSE'], 'KEGG': ['C02052', 'G00457'], 'MetaCyc': ['MALTOTETRAOSE']}) do not overlap with those ({'KEGG': ['C00713', 'G00277', 'G00746'], 'MetaCyc': ['CPD-13556']}) of the new metabolite cpd01399_e0.\n",
      "modelseedpy.community.mscompatibility - WARNING - ModelSEEDError: The metabolite (f1a_e0 | f1a_e0 | f1a) is not recognized by the ModelSEED Database\n",
      "modelseedpy.community.mscompatibility - WARNING - ModelSEEDError: The metabolite (pect_e0 | pect_e0 | pect) is not recognized by the ModelSEED Database\n",
      "modelseedpy.community.mscompatibility - WARNING - ModelSEEDError: The metabolite (hspg_degr_2_e0 | hspg_degr_2_e0 | hspg_degr_2) is not recognized by the ModelSEED Database\n",
      "modelseedpy.community.mscompatibility - WARNING - ModelSEEDError: The metabolite (lps_bt_e0 | lps_bt_e0 | lps_bt) is not recognized by the ModelSEED Database\n",
      "modelseedpy.community.mscompatibility - WARNING - ModelSEEDError: The metabolite (pe_cer1_bt_e0 | pe_cer1_bt_e0 | pe_cer1_bt) is not recognized by the ModelSEED Database\n",
      "modelseedpy.community.mscompatibility - WARNING - ModelSEEDError: The metabolite (alaglu_e0 | alaglu_e0 | alaglu) is not recognized by the ModelSEED Database\n",
      "modelseedpy.community.mscompatibility - WARNING - ModelSEEDError: The metabolite (T_antigen_e0 | T_antigen_e0 | T_antigen) is not recognized by the ModelSEED Database\n",
      "modelseedpy.community.mscompatibility - WARNING - ModelSEEDError: The metabolite (m2mn_e0 | m2mn_e0 | m2mn) is not recognized by the ModelSEED Database\n",
      "modelseedpy.community.mscompatibility - WARNING - ModelSEEDError: The metabolite (unsdigalur_e0 | unsdigalur_e0 | unsdigalur) is not recognized by the ModelSEED Database\n",
      "modelseedpy.community.mscompatibility - WARNING - ModelSEEDError: The metabolite (dsT_antigen_e0 | dsT_antigen_e0 | dsT_antigen) is not recognized by the ModelSEED Database\n",
      "modelseedpy.community.mscompatibility - WARNING - ModelSEEDError: The metabolite (sTn_antigen_e0 | sTn_antigen_e0 | sTn_antigen) is not recognized by the ModelSEED Database\n",
      "modelseedpy.community.mscompatibility - WARNING - ModelSEEDError: The metabolite (arabttr_e0 | arabttr_e0 | arabttr) is not recognized by the ModelSEED Database\n",
      "modelseedpy.community.mscompatibility - WARNING - ModelSEEDError: The metabolite (argarg_e0 | argarg_e0 | argarg) is not recognized by the ModelSEED Database\n",
      "modelseedpy.community.mscompatibility - WARNING - ModelSEEDError: The metabolite (plac_e0 | plac_e0 | plac) is not recognized by the ModelSEED Database\n",
      "modelseedpy.community.mscompatibility - WARNING - ModelSEEDError: The metabolite (hspg_rest_e0 | hspg_rest_e0 | hspg_rest) is not recognized by the ModelSEED Database\n",
      "modelseedpy.community.mscompatibility - WARNING - ModelSEEDError: The metabolite (hspg_degr_15_e0 | hspg_degr_15_e0 | hspg_degr_15) is not recognized by the ModelSEED Database\n",
      "modelseedpy.community.mscompatibility - WARNING - ModelSEEDError: The metabolite (strch1_e0 | strch1_e0 | strch1) is not recognized by the ModelSEED Database\n",
      "modelseedpy.community.mscompatibility - WARNING - ModelSEEDError: The metabolite (hspg_degr_4_e0 | hspg_degr_4_e0 | hspg_degr_4) is not recognized by the ModelSEED Database\n",
      "modelseedpy.community.mscompatibility - WARNING - ModelSEEDError: The metabolite (isobut_e0 | isobut_e0 | isobut) is not recognized by the ModelSEED Database\n",
      "modelseedpy.community.mscompatibility - WARNING - ModelSEEDError: The metabolite (mantr_e0 | mantr_e0 | mantr) is not recognized by the ModelSEED Database\n",
      "modelseedpy.community.mscompatibility - WARNING - ModelSEEDError: The metabolite (hspg_degr_10_e0 | hspg_degr_10_e0 | hspg_degr_10) is not recognized by the ModelSEED Database\n",
      "modelseedpy.community.mscompatibility - WARNING - ModelSEEDError: The metabolite (pecticgal_e0 | pecticgal_e0 | pecticgal) is not recognized by the ModelSEED Database\n",
      "modelseedpy.community.mscompatibility - WARNING - ModelSEEDError: The metabolite (gncore1_e0 | gncore1_e0 | gncore1) is not recognized by the ModelSEED Database\n",
      "modelseedpy.community.mscompatibility - WARNING - ModelSEEDError: The metabolite (hspg_degr_14_e0 | hspg_degr_14_e0 | hspg_degr_14) is not recognized by the ModelSEED Database\n",
      "modelseedpy.community.mscompatibility - WARNING - ModelSEEDError: The metabolite (hspg_degr_8_e0 | hspg_degr_8_e0 | hspg_degr_8) is not recognized by the ModelSEED Database\n",
      "modelseedpy.community.mscompatibility - WARNING - ModelSEEDError: The metabolite (alaasp_e0 | alaasp_e0 | alaasp) is not recognized by the ModelSEED Database\n",
      "modelseedpy.community.mscompatibility - WARNING - ModelSEEDError: The metabolite (acgalidour_e0 | acgalidour_e0 | acgalidour) is not recognized by the ModelSEED Database\n",
      "modelseedpy.community.mscompatibility - WARNING - ModelSEEDError: The metabolite (glyglu_e0 | glyglu_e0 | glyglu) is not recognized by the ModelSEED Database\n",
      "modelseedpy.community.mscompatibility - WARNING - ModelSEEDError: The metabolite (s2l2n2m2mn_e0 | s2l2n2m2mn_e0 | s2l2n2m2mn) is not recognized by the ModelSEED Database\n",
      "modelseedpy.community.mscompatibility - WARNING - ModelSEEDError: The metabolite (ha_pre1_e0 | ha_pre1_e0 | ha_pre1) is not recognized by the ModelSEED Database\n",
      "modelseedpy.community.mscompatibility - WARNING - ModelSEEDError: The metabolite (ha_deg1_e0 | ha_deg1_e0 | ha_deg1) is not recognized by the ModelSEED Database\n",
      "modelseedpy.community.mscompatibility - WARNING - ModelSEEDError: The metabolite (hspg_degr_13_e0 | hspg_degr_13_e0 | hspg_degr_13) is not recognized by the ModelSEED Database\n",
      "modelseedpy.community.mscompatibility - WARNING - ModelSEEDError: The metabolite (leuleu_e0 | leuleu_e0 | leuleu) is not recognized by the ModelSEED Database\n",
      "modelseedpy.community.mscompatibility - WARNING - ModelSEEDError: The metabolite (gchola_e0 | gchola_e0 | gchola) is not recognized by the ModelSEED Database\n",
      "modelseedpy.community.mscompatibility - WARNING - ModelSEEDError: The metabolite (manttr_e0 | manttr_e0 | manttr) is not recognized by the ModelSEED Database\n",
      "modelseedpy.community.mscompatibility - WARNING - ModelSEEDError: The metabolite (manb_e0 | manb_e0 | manb) is not recognized by the ModelSEED Database\n",
      "modelseedpy.community.mscompatibility - ERROR - The Bacteroides_thetaiotaomicron_VPI-5482.fbamdl.23 model has residual non-standard metabolites in its exchange reactions: {'core7_e0', 'phearg_e0', 'indlac_e0', 'cps_bt_e0', 'cspg_b_degr_e0', 'glyasn_e0', 'glypro_e0', 'amannan140_e0', 'cspg_b_e0', 'pullulan1200_e0', 'levan1000_e0', 'levanb_e0', 'phppa_e0', '7ocholate_e0', 'cspg_c_rest_e0', 'mn_e0', 'hspg_degr_12_e0', 'stys_e0', 'n2m2mn_e0', 'core3_e0', '2omxyl_e0', 'homogal_e0', 'Ser_Thr_e0', 'hspg_degr_9_e0', 'fucneulacnhx_e0', 'sT_antigen_e0', 's2l2n2m2masn_e0', 'mqn9_e0', 'leugly_e0', 'acerA_e0', 'hspg_degr_3_e0', 'arabinan101_e0', '3ddlhept_e0', 'Tn_antigen_e0', 'kesto_e0', 'hspg_e0', '3fuclac_e0', 'gncore2_e0', 'acgalidour2s_e0', 'cspg_a_e0', 'l2n2m2mn_e0', 'alagly_e0', 'dt5hsu_e0', 'kestottr_e0', 'mqn10_e0', 'rhamnogalurI_e0', 'manpt_e0', 'glyasp_e0', 'lacnttr_e0', 's2l2fn2m2masn_e0', 'acgalglcur_e0', 'hspg_degr_11_e0', 'lmn2_e0', 'mbenz_e0', 'amylose300_e0', 'starch1200_e0', 'levanttr_e0', 'cspg_c_degr_e0', 'ha_e0', 'galam_e0', 'gam26s_e0', 'glycogen1500_e0', 'isocapr_e0', 'core5_e0', 'rhamnogalurII_e0', 's2l2n2m2m_e0', 'cspg_a_degr_e0', 'sphmyln_bt_e0', 'hspg_degr_7_e0', 'chtbs_e0', 'apio_D_e0', 'core8_e0', 'idour_e0', 'oligofru4_e0', 'cspg_c_e0', 'lacnnttr_e0', 'hspg_degr_1_e0', 'lacndfuchx_e0', '2fuclac_e0', 'lmn30_e0', 'isoval_e0', 'alathr_e0', 'hspg_degr_5_e0', 'lacdfucttr_e0', 'levantttr_e0', 'arabinogal_e0', 'lacnfucpt_e0', 'mqn11_e0', 'core4_e0', '12ethd_e0', 'strch2_e0', 'metala_e0', 'kestopt_e0', 'neulacnttr_e0', '2omfuc_e0', 'cspg_ab_rest_e0', 'hspg_degr_6_e0', 'f1a_e0', 'pect_e0', 'hspg_degr_2_e0', 'lps_bt_e0', 'pe_cer1_bt_e0', 'alaglu_e0', 'T_antigen_e0', 'm2mn_e0', 'unsdigalur_e0', 'dsT_antigen_e0', 'sTn_antigen_e0', 'arabttr_e0', 'argarg_e0', 'plac_e0', 'hspg_rest_e0', 'hspg_degr_15_e0', 'strch1_e0', 'hspg_degr_4_e0', 'isobut_e0', 'mantr_e0', 'hspg_degr_10_e0', 'pecticgal_e0', 'gncore1_e0', 'hspg_degr_14_e0', 'hspg_degr_8_e0', 'alaasp_e0', 'acgalidour_e0', 'glyglu_e0', 's2l2n2m2mn_e0', 'leuleu_e0', 'ha_deg1_e0', 'hspg_degr_13_e0', 'gchola_e0', 'manttr_e0', 'manb_e0', 'ha_pre1_e0'}. Specify a True `printing` parameter to view why these metabolites were not corrected.\n",
      "modelseedpy.core.msmodel - ERROR - The [0, 0] bounds are not amenable with a direction string.\n"
     ]
    },
    {
     "name": "stdout",
     "output_type": "stream",
     "text": [
      "\n",
      "\n",
      "3 reactions were substituted and 11 metabolite IDs were redefined in iML1515,Bacteroides_thetaiotaomicron_VPI-5482.fbamdl.23 by standardize().\n"
     ]
    },
    {
     "name": "stderr",
     "output_type": "stream",
     "text": [
      "modelseedpy.core.msmodel - ERROR - The [0, 0] bounds are not amenable with a direction string.\n"
     ]
    },
    {
     "name": "stdout",
     "output_type": "stream",
     "text": [
      "The minimal flux media consists of 31 compounds and a 0.4326798878724514 total influx, with a growth value of 0.09999999999938276\n",
      "The minimal flux media consists of 26 compounds and a 0.40745920520825313 total influx, with a growth value of 0.1000000000001363\n",
      "{'dictionary_item_added': [root['EX_cpd03725_e0'], root['EX_hspg_e0'], root['EX_glycogen1500_e0'], root['EX_cpd00885_e0']], 'dictionary_item_removed': [root['EX_cpd00263_e0'], root['EX_cpd00220_e0'], root['EX_cpd00393_e0'], root['EX_glyasn_e0'], root['EX_pe_cer1_bt_e0'], root['EX_cpd15500_e0'], root['EX_cpd00311_e0'], root['EX_cpd00007_e0'], root['EX_s2l2n2m2mn_e0'], root['EX_cpd00305_e0'], root['EX_cpd01017_e0'], root['EX_cpd00218_e0'], root['EX_cpd00367_e0'], root['EX_cpd00065_e0'], root['EX_cpd15551_e0'], root['EX_cpd00104_e0'], root['EX_cpd15606_e0'], root['EX_stys_e0'], root['EX_cpd10515_e0'], root['EX_cpd00182_e0'], root['EX_cpd11584_e0'], root['EX_cpd11591_e0'], root['EX_cpd00654_e0'], root['EX_cpd00009_e0'], root['EX_cpd10516_e0'], root['EX_phearg_e0'], root['EX_s2l2n2m2m_e0'], root['EX_cpd15836_e0'], root['EX_cpd11580_e0'], root['EX_cpd01391_e0']], 'values_changed': {\"root['EX_cpd00971_e0']\": {'new_value': 0.0004668000000000654, 'old_value': 0.00046679999999998717}, \"root['EX_argarg_e0']\": {'new_value': 0.1396766124984108, 'old_value': 0.005619400000000002}}}\n"
     ]
    },
    {
     "data": {
      "text/html": [
       "<div>\n",
       "<style scoped>\n",
       "    .dataframe tbody tr th:only-of-type {\n",
       "        vertical-align: middle;\n",
       "    }\n",
       "\n",
       "    .dataframe tbody tr th {\n",
       "        vertical-align: top;\n",
       "    }\n",
       "\n",
       "    .dataframe thead th {\n",
       "        text-align: right;\n",
       "    }\n",
       "</style>\n",
       "<table border=\"1\" class=\"dataframe\">\n",
       "  <thead>\n",
       "    <tr style=\"text-align: right;\">\n",
       "      <th></th>\n",
       "      <th>model1</th>\n",
       "      <th>model2</th>\n",
       "      <th>mro_model1</th>\n",
       "      <th>mro_model2</th>\n",
       "      <th>mip</th>\n",
       "      <th>model1_biomass yield</th>\n",
       "      <th>model2_biomass yield</th>\n",
       "      <th>comm_biomass_yield</th>\n",
       "    </tr>\n",
       "  </thead>\n",
       "  <tbody>\n",
       "    <tr>\n",
       "      <th>0</th>\n",
       "      <td>Bacteroides_thetaiotaomicron_VPI-5482.fbamdl.23</td>\n",
       "      <td>iML1515</td>\n",
       "      <td>0.34615 (9/26)</td>\n",
       "      <td>0.29032 (9/31)</td>\n",
       "      <td>30</td>\n",
       "      <td>86.915871</td>\n",
       "      <td>75.544743</td>\n",
       "      <td>86.915871</td>\n",
       "    </tr>\n",
       "    <tr>\n",
       "      <th>1</th>\n",
       "      <td>iML1515</td>\n",
       "      <td>Bacteroides_thetaiotaomicron_VPI-5482.fbamdl.23</td>\n",
       "      <td>0.29032 (9/31)</td>\n",
       "      <td>0.34615 (9/26)</td>\n",
       "      <td>30</td>\n",
       "      <td>75.544743</td>\n",
       "      <td>86.915871</td>\n",
       "      <td>86.915871</td>\n",
       "    </tr>\n",
       "  </tbody>\n",
       "</table>\n",
       "</div>"
      ],
      "text/plain": [
       "                                            model1  \\\n",
       "0  Bacteroides_thetaiotaomicron_VPI-5482.fbamdl.23   \n",
       "1                                          iML1515   \n",
       "\n",
       "                                            model2      mro_model1  \\\n",
       "0                                          iML1515  0.34615 (9/26)   \n",
       "1  Bacteroides_thetaiotaomicron_VPI-5482.fbamdl.23  0.29032 (9/31)   \n",
       "\n",
       "       mro_model2 mip model1_biomass yield model2_biomass yield  \\\n",
       "0  0.29032 (9/31)  30            86.915871            75.544743   \n",
       "1  0.34615 (9/26)  30            75.544743            86.915871   \n",
       "\n",
       "  comm_biomass_yield  \n",
       "0          86.915871  \n",
       "1          86.915871  "
      ]
     },
     "metadata": {},
     "output_type": "display_data"
    }
   ],
   "source": [
    "# from modelseedpy import MSSmetana\n",
    "%run ../modelseedpy/community/mssmetana.py\n",
    "\n",
    "df, mets = MSSmetana.kbase_output([model1, model2])\n",
    "display(df)"
   ]
  },
  {
   "cell_type": "code",
   "execution_count": 11,
   "id": "nonprofit-macro",
   "metadata": {},
   "outputs": [
    {
     "data": {
      "text/html": [
       "<iframe\n",
       "    scrolling=\"no\"\n",
       "    width=\"100%\"\n",
       "    height=\"545px\"\n",
       "    src=\"iframe_figures/figure_11.html\"\n",
       "    frameborder=\"0\"\n",
       "    allowfullscreen\n",
       "></iframe>\n"
      ]
     },
     "metadata": {},
     "output_type": "display_data"
    }
   ],
   "source": [
    "import plotly.express as px\n",
    "import plotly.io as pio\n",
    "pio.renderers.default = \"iframe\"\n",
    "fig = px.imshow(df.to_numpy())\n",
    "fig.show()"
   ]
  },
  {
   "cell_type": "code",
   "execution_count": 16,
   "id": "accurate-filename",
   "metadata": {},
   "outputs": [
    {
     "data": {
      "text/html": [
       "<style type=\"text/css\">\n",
       "</style>\n",
       "<table id=\"T_010de\">\n",
       "  <thead>\n",
       "    <tr>\n",
       "      <th class=\"blank level0\" >&nbsp;</th>\n",
       "      <th id=\"T_010de_level0_col0\" class=\"col_heading level0 col0\" >model1</th>\n",
       "      <th id=\"T_010de_level0_col1\" class=\"col_heading level0 col1\" >model2</th>\n",
       "      <th id=\"T_010de_level0_col2\" class=\"col_heading level0 col2\" >mro_model1</th>\n",
       "      <th id=\"T_010de_level0_col3\" class=\"col_heading level0 col3\" >mro_model2</th>\n",
       "      <th id=\"T_010de_level0_col4\" class=\"col_heading level0 col4\" >mip</th>\n",
       "      <th id=\"T_010de_level0_col5\" class=\"col_heading level0 col5\" >model1_biomass yield</th>\n",
       "      <th id=\"T_010de_level0_col6\" class=\"col_heading level0 col6\" >model2_biomass yield</th>\n",
       "      <th id=\"T_010de_level0_col7\" class=\"col_heading level0 col7\" >comm_biomass_yield</th>\n",
       "    </tr>\n",
       "  </thead>\n",
       "  <tbody>\n",
       "    <tr>\n",
       "      <th id=\"T_010de_level0_row0\" class=\"row_heading level0 row0\" >0</th>\n",
       "      <td id=\"T_010de_row0_col0\" class=\"data row0 col0\" >Bacteroides_thetaiotaomicron_VPI-5482.fbamdl.23</td>\n",
       "      <td id=\"T_010de_row0_col1\" class=\"data row0 col1\" >iML1515</td>\n",
       "      <td id=\"T_010de_row0_col2\" class=\"data row0 col2\" >0.34615 (9/26)</td>\n",
       "      <td id=\"T_010de_row0_col3\" class=\"data row0 col3\" >0.26471 (9/34)</td>\n",
       "      <td id=\"T_010de_row0_col4\" class=\"data row0 col4\" >30</td>\n",
       "      <td id=\"T_010de_row0_col5\" class=\"data row0 col5\" >86.915871</td>\n",
       "      <td id=\"T_010de_row0_col6\" class=\"data row0 col6\" >75.502427</td>\n",
       "      <td id=\"T_010de_row0_col7\" class=\"data row0 col7\" >86.915871</td>\n",
       "    </tr>\n",
       "    <tr>\n",
       "      <th id=\"T_010de_level0_row1\" class=\"row_heading level0 row1\" >1</th>\n",
       "      <td id=\"T_010de_row1_col0\" class=\"data row1 col0\" >iML1515</td>\n",
       "      <td id=\"T_010de_row1_col1\" class=\"data row1 col1\" >Bacteroides_thetaiotaomicron_VPI-5482.fbamdl.23</td>\n",
       "      <td id=\"T_010de_row1_col2\" class=\"data row1 col2\" >0.26471 (9/34)</td>\n",
       "      <td id=\"T_010de_row1_col3\" class=\"data row1 col3\" >0.34615 (9/26)</td>\n",
       "      <td id=\"T_010de_row1_col4\" class=\"data row1 col4\" >32</td>\n",
       "      <td id=\"T_010de_row1_col5\" class=\"data row1 col5\" >75.502427</td>\n",
       "      <td id=\"T_010de_row1_col6\" class=\"data row1 col6\" >86.915871</td>\n",
       "      <td id=\"T_010de_row1_col7\" class=\"data row1 col7\" >86.915871</td>\n",
       "    </tr>\n",
       "  </tbody>\n",
       "</table>\n"
      ],
      "text/plain": [
       "<pandas.io.formats.style.Styler at 0x283eb9dc640>"
      ]
     },
     "execution_count": 16,
     "metadata": {},
     "output_type": "execute_result"
    }
   ],
   "source": [
    "df.style.background_gradient()"
   ]
  },
  {
   "cell_type": "code",
   "execution_count": 21,
   "id": "mysterious-speed",
   "metadata": {},
   "outputs": [],
   "source": [
    "%run ../modelseedpy/core/report.py\n",
    "\n",
    "smetana_output = smetana_report(df, mets)\n",
    "\n",
    "with open(\"test_smetana_report.html\", \"w\") as out:\n",
    "    out.writelines(smetana_output)"
   ]
  },
  {
   "cell_type": "code",
   "execution_count": 50,
   "id": "royal-ranch",
   "metadata": {},
   "outputs": [
    {
     "name": "stdout",
     "output_type": "stream",
     "text": [
      "(1, 2)\n",
      "(1, 3)\n",
      "(2, 1)\n",
      "(2, 3)\n",
      "(3, 1)\n",
      "(3, 2)\n"
     ]
    }
   ],
   "source": [
    "from itertools import permutations\n",
    "\n",
    "for x in permutations([1,2,3], 2):\n",
    "    print(x)"
   ]
  },
  {
   "cell_type": "markdown",
   "id": "287237a5-1576-4c60-a92b-044f9d561e4e",
   "metadata": {},
   "source": [
    "# Developthe SMETANA report of ~730 desired pair-wise members"
   ]
  },
  {
   "cell_type": "code",
   "execution_count": 47,
   "id": "eda79c0a-42f7-4aa1-8821-4a924f271b65",
   "metadata": {},
   "outputs": [],
   "source": [
    "from pandas import read_csv\n",
    "from numpy import load\n",
    "\n",
    "df = read_csv(\"./Community Modeling/smetana/SMETANA_report.csv\").drop([\"Unnamed: 0\", \"comm_biomass yield\"], axis=1)\n",
    "mets = load(\"./Community Modeling/smetana/SMETANA_report_mets.npy\", allow_pickle=True)"
   ]
  },
  {
   "cell_type": "code",
   "execution_count": 48,
   "id": "614280dd-627c-422c-95b5-dea552b92526",
   "metadata": {},
   "outputs": [],
   "source": [
    "%run ../modelseedpy/core/report.py\n",
    "\n",
    "html_report = smetana_report(df, mets)"
   ]
  },
  {
   "cell_type": "code",
   "execution_count": 40,
   "id": "3d46ca0f-11a8-430a-ab7b-d392110a6573",
   "metadata": {},
   "outputs": [
    {
     "name": "stderr",
     "output_type": "stream",
     "text": [
      "C:\\Users\\Andrew Freiburger\\AppData\\Local\\Temp\\ipykernel_48476\\1165428166.py:1: UserWarning:\n",
      "\n",
      "Boolean Series key will be reindexed to match DataFrame index.\n",
      "\n"
     ]
    },
    {
     "data": {
      "text/html": [
       "<div>\n",
       "<style scoped>\n",
       "    .dataframe tbody tr th:only-of-type {\n",
       "        vertical-align: middle;\n",
       "    }\n",
       "\n",
       "    .dataframe tbody tr th {\n",
       "        vertical-align: top;\n",
       "    }\n",
       "\n",
       "    .dataframe thead th {\n",
       "        text-align: right;\n",
       "    }\n",
       "</style>\n",
       "<table border=\"1\" class=\"dataframe\">\n",
       "  <thead>\n",
       "    <tr style=\"text-align: right;\">\n",
       "      <th></th>\n",
       "      <th>Unnamed: 0</th>\n",
       "      <th>model1</th>\n",
       "      <th>model2</th>\n",
       "      <th>mro_model1</th>\n",
       "      <th>mro_model2</th>\n",
       "      <th>mip</th>\n",
       "      <th>model1_biomass yield</th>\n",
       "      <th>model2_biomass yield</th>\n",
       "      <th>comm_biomass yield</th>\n",
       "    </tr>\n",
       "  </thead>\n",
       "  <tbody>\n",
       "    <tr>\n",
       "      <th>375</th>\n",
       "      <td>375</td>\n",
       "      <td>GCF_001422645.1.RAST.fbamodel</td>\n",
       "      <td>GCF_001422455.1.RAST.fbamodel</td>\n",
       "      <td>0.75676 (28/37)</td>\n",
       "      <td>0.66667 (28/42)</td>\n",
       "      <td>12</td>\n",
       "      <td>89.650433</td>\n",
       "      <td>56.509011</td>\n",
       "      <td>100.0</td>\n",
       "    </tr>\n",
       "    <tr>\n",
       "      <th>491</th>\n",
       "      <td>491</td>\n",
       "      <td>GCF_001422645.1.RAST.fbamodel</td>\n",
       "      <td>GCF_001422455.1.RAST.fbamodel</td>\n",
       "      <td>0.75676 (28/37)</td>\n",
       "      <td>0.66667 (28/42)</td>\n",
       "      <td>11</td>\n",
       "      <td>89.650433</td>\n",
       "      <td>56.509011</td>\n",
       "      <td>100.0</td>\n",
       "    </tr>\n",
       "  </tbody>\n",
       "</table>\n",
       "</div>"
      ],
      "text/plain": [
       "     Unnamed: 0                         model1                         model2  \\\n",
       "375         375  GCF_001422645.1.RAST.fbamodel  GCF_001422455.1.RAST.fbamodel   \n",
       "491         491  GCF_001422645.1.RAST.fbamodel  GCF_001422455.1.RAST.fbamodel   \n",
       "\n",
       "          mro_model1       mro_model2  mip  model1_biomass yield  \\\n",
       "375  0.75676 (28/37)  0.66667 (28/42)   12             89.650433   \n",
       "491  0.75676 (28/37)  0.66667 (28/42)   11             89.650433   \n",
       "\n",
       "     model2_biomass yield  comm_biomass yield  \n",
       "375             56.509011               100.0  \n",
       "491             56.509011               100.0  "
      ]
     },
     "execution_count": 40,
     "metadata": {},
     "output_type": "execute_result"
    }
   ],
   "source": [
    "df[df[\"model1\"] == 'GCF_001422645.1.RAST.fbamodel'][df[\"model2\"] == 'GCF_001422455.1.RAST.fbamodel']"
   ]
  },
  {
   "cell_type": "code",
   "execution_count": null,
   "id": "c9bf6ca9-e55a-4a2d-93a1-23f633b8fffe",
   "metadata": {},
   "outputs": [],
   "source": []
  }
 ],
 "metadata": {
  "kernelspec": {
   "display_name": "Python 3",
   "language": "python",
   "name": "python3"
  },
  "language_info": {
   "codemirror_mode": {
    "name": "ipython",
    "version": 3
   },
   "file_extension": ".py",
   "mimetype": "text/x-python",
   "name": "python",
   "nbconvert_exporter": "python",
   "pygments_lexer": "ipython3",
   "version": "3.9.6"
  }
 },
 "nbformat": 4,
 "nbformat_minor": 5
}
