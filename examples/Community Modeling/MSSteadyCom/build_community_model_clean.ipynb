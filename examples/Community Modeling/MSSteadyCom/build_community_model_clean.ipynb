{
 "cells": [
  {
   "cell_type": "markdown",
   "id": "57472e20-a3cf-466a-9caa-1d640dd98f8f",
   "metadata": {},
   "source": [
    "# Load and prepare models for assemblage into a community"
   ]
  },
  {
   "cell_type": "code",
   "execution_count": 10,
   "id": "00e2fa70-51f3-4d18-93cc-c445d37f25c9",
   "metadata": {},
   "outputs": [],
   "source": [
    "# define the environment path \n",
    "from pprint import pprint\n",
    "import os\n",
    "local_cobrakbase_path = os.path.join('C:', 'Users', 'Andrew Freiburger','Documents','Argonne','cobrakbase')\n",
    "os.environ[\"HOME\"] = local_cobrakbase_path\n",
    "\n",
    "# import the models\n",
    "import cobrakbase\n",
    "with open(\"D:/Users/Andrew Freiburger/Documents/Argonne/kbase_token.txt\") as token_file:\n",
    "# with open(\"/Users/afreiburger/Documents/Argonne/kbase_token.txt\") as token_file:\n",
    "    kbase = cobrakbase.KBaseAPI(token_file.readline())\n",
    "model1 = kbase.get_from_ws(\"E_iAH991V2\",40576)\n",
    "model2 = kbase.get_from_ws(\"E_iML1515.kb\",40576)\n",
    "models = [model1, model2]\n",
    "com_model = kbase.get_from_ws(\"CMM_iAH991V2_iML1515.kb\",40576)"
   ]
  },
  {
   "cell_type": "code",
   "execution_count": 13,
   "id": "48046613-70b0-4deb-aa4a-851474b543d5",
   "metadata": {},
   "outputs": [
    {
     "name": "stdout",
     "output_type": "stream",
     "text": [
      "['__class__', '__delattr__', '__dict__', '__dir__', '__doc__', '__eq__', '__format__', '__ge__', '__getattribute__', '__gt__', '__hash__', '__init__', '__init_subclass__', '__le__', '__lt__', '__module__', '__ne__', '__new__', '__reduce__', '__reduce_ex__', '__repr__', '__setattr__', '__sizeof__', '__str__', '__subclasshook__', '__weakref__', '_token', 'check_response', 'copy', 'download_file_from_kbase', 'download_file_from_kbase2', 'get_from_ws', 'get_object', 'get_object_info', 'get_object_info_from_ref', 'get_objects2', 'hs', 'list_objects', 'max_retry', 'process_workspace_identifiers', 'save', 'save_model', 'save_object', 'ws_client']\n",
      "['__class__', '__delattr__', '__dict__', '__dir__', '__doc__', '__eq__', '__format__', '__ge__', '__getattribute__', '__gt__', '__hash__', '__init__', '__init_subclass__', '__le__', '__lt__', '__module__', '__ne__', '__new__', '__reduce__', '__reduce_ex__', '__repr__', '__setattr__', '__sizeof__', '__str__', '__subclasshook__', '__weakref__', '_client', '_service_ver', 'administer', 'alter_workspace_metadata', 'clone_workspace', 'copy_object', 'create_workspace', 'delete_objects', 'delete_workspace', 'get_all_func_info', 'get_all_type_info', 'get_func_info', 'get_jsonschema', 'get_module_info', 'get_names_by_prefix', 'get_object', 'get_object_history', 'get_object_info', 'get_object_info3', 'get_object_info_new', 'get_object_provenance', 'get_object_subset', 'get_objectmeta', 'get_objects', 'get_objects2', 'get_permissions', 'get_permissions_mass', 'get_referenced_objects', 'get_type_info', 'get_workspace_description', 'get_workspace_info', 'get_workspacemeta', 'grant_module_ownership', 'hide_objects', 'list_all_types', 'list_module_versions', 'list_modules', 'list_objects', 'list_referencing_object_counts', 'list_referencing_objects', 'list_workspace_info', 'list_workspace_objects', 'list_workspaces', 'lock_workspace', 'register_typespec', 'register_typespec_copy', 'release_module', 'remove_module_ownership', 'rename_object', 'rename_workspace', 'request_module_ownership', 'revert_object', 'save_object', 'save_objects', 'set_global_permission', 'set_permissions', 'set_workspace_description', 'status', 'translate_from_MD5_types', 'translate_to_MD5_types', 'undelete_objects', 'undelete_workspace', 'unhide_objects', 'ver']\n"
     ]
    }
   ],
   "source": [
    "print(dir(kbase))\n",
    "ws = kbase.ws_client\n",
    "print(dir(ws))"
   ]
  },
  {
   "cell_type": "code",
   "execution_count": null,
   "id": "c6f6bab9-2c63-4938-9de1-6f0bc50f6b87",
   "metadata": {},
   "outputs": [],
   "source": []
  },
  {
   "cell_type": "markdown",
   "id": "53e1507c-6536-410f-943a-d2406078b955",
   "metadata": {},
   "source": [
    "### build community"
   ]
  },
  {
   "cell_type": "code",
   "execution_count": 5,
   "id": "fb39d408-633b-4942-816d-ff3460524f27",
   "metadata": {
    "scrolled": true,
    "tags": []
   },
   "outputs": [
    {
     "name": "stderr",
     "output_type": "stream",
     "text": [
      "modelseedpy.community.mscompatibility - WARNING - ModelSEEDError: The metabolite (ha_deg1_e0 | ha_deg1_e0 | ha_deg1) is not recognized by the ModelSEED Database\n",
      "modelseedpy.community.mscompatibility - WARNING - ModelSEEDError: The metabolite (hspg_degr_3_e0 | hspg_degr_3_e0 | hspg_degr_3) is not recognized by the ModelSEED Database\n",
      "modelseedpy.community.mscompatibility - WARNING - ModelSEEDError: The metabolite (T_antigen_e0 | T_antigen_e0 | T_antigen) is not recognized by the ModelSEED Database\n",
      "modelseedpy.community.mscompatibility - WARNING - ModelSEEDError: The metabolite (12ethd_e0 | 12ethd_e0 | 12ethd) is not recognized by the ModelSEED Database\n",
      "modelseedpy.community.mscompatibility - WARNING - ModelSEEDError: The metabolite (stys_e0 | stys_e0 | stys) is not recognized by the ModelSEED Database\n",
      "modelseedpy.community.mscompatibility - WARNING - ModelSEEDError: The metabolite (arabinan101_e0 | arabinan101_e0 | arabinan101) is not recognized by the ModelSEED Database\n",
      "modelseedpy.community.mscompatibility - WARNING - ModelSEEDError: The metabolite (2omxyl_e0 | 2omxyl_e0 | 2omxyl) is not recognized by the ModelSEED Database\n",
      "modelseedpy.community.mscompatibility - WARNING - ModelSEEDError: The metabolite (f1a_e0 | f1a_e0 | f1a) is not recognized by the ModelSEED Database\n",
      "modelseedpy.community.mscompatibility - WARNING - ModelSEEDError: The metabolite (lmn30_e0 | lmn30_e0 | lmn30) is not recognized by the ModelSEED Database\n",
      "modelseedpy.community.mscompatibility - WARNING - ModelSEEDError: The metabolite (kesto_e0 | kesto_e0 | kesto) is not recognized by the ModelSEED Database\n",
      "modelseedpy.community.mscompatibility - WARNING - ModelSEEDError: The metabolite (manpt_e0 | manpt_e0 | manpt) is not recognized by the ModelSEED Database\n",
      "modelseedpy.community.mscompatibility - WARNING - ModelSEEDError: The metabolite (alathr_e0 | alathr_e0 | alathr) is not recognized by the ModelSEED Database\n",
      "modelseedpy.community.mscompatibility - WARNING - ModelSEEDError: The metabolite (2omfuc_e0 | 2omfuc_e0 | 2omfuc) is not recognized by the ModelSEED Database\n",
      "modelseedpy.community.mscompatibility - WARNING - ModelSEEDError: The metabolite (levanb_e0 | levanb_e0 | levanb) is not recognized by the ModelSEED Database\n",
      "modelseedpy.community.mscompatibility - WARNING - ModelSEEDError: The metabolite (acerA_e0 | acerA_e0 | acerA) is not recognized by the ModelSEED Database\n",
      "modelseedpy.community.mscompatibility - WARNING - ModelSEEDError: The metabolite (hspg_degr_6_e0 | hspg_degr_6_e0 | hspg_degr_6) is not recognized by the ModelSEED Database\n",
      "modelseedpy.community.mscompatibility - WARNING - ModelSEEDError: The metabolite (alagly_e0 | alagly_e0 | alagly) is not recognized by the ModelSEED Database\n",
      "modelseedpy.community.mscompatibility - WARNING - ModelSEEDError: The metabolite (lacndfuchx_e0 | lacndfuchx_e0 | lacndfuchx) is not recognized by the ModelSEED Database\n",
      "modelseedpy.community.mscompatibility - WARNING - ModelSEEDError: The metabolite (dsT_antigen_e0 | dsT_antigen_e0 | dsT_antigen) is not recognized by the ModelSEED Database\n",
      "modelseedpy.community.mscompatibility - WARNING - ModelSEEDError: The metabolite (cspg_c_degr_e0 | cspg_c_degr_e0 | cspg_c_degr) is not recognized by the ModelSEED Database\n",
      "modelseedpy.community.mscompatibility - WARNING - ModelSEEDError: The metabolite (lmn2_e0 | lmn2_e0 | lmn2) is not recognized by the ModelSEED Database\n",
      "modelseedpy.community.mscompatibility - WARNING - ModelSEEDError: The metabolite (hspg_degr_14_e0 | hspg_degr_14_e0 | hspg_degr_14) is not recognized by the ModelSEED Database\n",
      "modelseedpy.community.mscompatibility - WARNING - ModelSEEDError: The metabolite (leugly_e0 | leugly_e0 | leugly) is not recognized by the ModelSEED Database\n",
      "modelseedpy.community.mscompatibility - WARNING - IDWarning: The original ID cpd01399_e0 is a ModelSEED ID, and may not be desirably changed to cpd01399_e0.\n",
      "modelseedpy.community.mscompatibility - WARNING - ModelSEEDError: The old metabolite cpd01399_e0 cross-references ({'AraCyc': ['MALTOTETRAOSE'], 'BiGG': ['maltttr'], 'BrachyCyc': ['MALTOTETRAOSE'], 'KEGG': ['C02052', 'G00457'], 'MetaCyc': ['MALTOTETRAOSE']}) do not overlap with those ({'KEGG': ['C00713', 'G00277', 'G00746'], 'MetaCyc': ['CPD-13556']}) of the new metabolite cpd01399_e0.\n",
      "modelseedpy.community.mscompatibility - WARNING - ModelSEEDError: The metabolite (mqn11_e0 | mqn11_e0 | mqn11) is not recognized by the ModelSEED Database\n",
      "modelseedpy.community.mscompatibility - WARNING - ModelSEEDError: The metabolite (manb_e0 | manb_e0 | manb) is not recognized by the ModelSEED Database\n",
      "modelseedpy.community.mscompatibility - WARNING - ModelSEEDError: The metabolite (homogal_e0 | homogal_e0 | homogal) is not recognized by the ModelSEED Database\n",
      "modelseedpy.community.mscompatibility - WARNING - ModelSEEDError: The metabolite (cspg_b_degr_e0 | cspg_b_degr_e0 | cspg_b_degr) is not recognized by the ModelSEED Database\n",
      "modelseedpy.community.mscompatibility - WARNING - ModelSEEDError: The metabolite (cspg_c_e0 | cspg_c_e0 | cspg_c) is not recognized by the ModelSEED Database\n",
      "modelseedpy.community.mscompatibility - WARNING - ModelSEEDError: The metabolite (cspg_a_degr_e0 | cspg_a_degr_e0 | cspg_a_degr) is not recognized by the ModelSEED Database\n",
      "modelseedpy.community.mscompatibility - WARNING - ModelSEEDError: The metabolite (ha_e0 | ha_e0 | ha) is not recognized by the ModelSEED Database\n",
      "modelseedpy.community.mscompatibility - WARNING - ModelSEEDError: The metabolite (pecticgal_e0 | pecticgal_e0 | pecticgal) is not recognized by the ModelSEED Database\n",
      "modelseedpy.community.mscompatibility - WARNING - ModelSEEDError: The metabolite (apio_D_e0 | apio_D_e0 | apio_D) is not recognized by the ModelSEED Database\n",
      "modelseedpy.community.mscompatibility - WARNING - ModelSEEDError: The metabolite (s2l2fn2m2masn_e0 | s2l2fn2m2masn_e0 | s2l2fn2m2masn) is not recognized by the ModelSEED Database\n",
      "modelseedpy.community.mscompatibility - WARNING - ModelSEEDError: The metabolite (glypro_e0 | glypro_e0 | glypro) is not recognized by the ModelSEED Database\n",
      "modelseedpy.community.mscompatibility - WARNING - ModelSEEDError: The metabolite (cspg_b_e0 | cspg_b_e0 | cspg_b) is not recognized by the ModelSEED Database\n",
      "modelseedpy.community.mscompatibility - WARNING - ModelSEEDError: The metabolite (hspg_degr_11_e0 | hspg_degr_11_e0 | hspg_degr_11) is not recognized by the ModelSEED Database\n",
      "modelseedpy.community.mscompatibility - WARNING - ModelSEEDError: The metabolite (levan1000_e0 | levan1000_e0 | levan1000) is not recognized by the ModelSEED Database\n",
      "modelseedpy.community.mscompatibility - WARNING - ModelSEEDError: The metabolite (phppa_e0 | phppa_e0 | phppa) is not recognized by the ModelSEED Database\n",
      "modelseedpy.community.mscompatibility - WARNING - ModelSEEDError: The metabolite (glycogen1500_e0 | glycogen1500_e0 | glycogen1500) is not recognized by the ModelSEED Database\n",
      "modelseedpy.community.mscompatibility - WARNING - ModelSEEDError: The metabolite (core4_e0 | core4_e0 | core4) is not recognized by the ModelSEED Database\n",
      "modelseedpy.community.mscompatibility - WARNING - ModelSEEDError: The metabolite (hspg_degr_5_e0 | hspg_degr_5_e0 | hspg_degr_5) is not recognized by the ModelSEED Database\n",
      "modelseedpy.community.mscompatibility - WARNING - ModelSEEDError: The metabolite (rhamnogalurI_e0 | rhamnogalurI_e0 | rhamnogalurI) is not recognized by the ModelSEED Database\n",
      "modelseedpy.community.mscompatibility - WARNING - ModelSEEDError: The metabolite (gam26s_e0 | gam26s_e0 | gam26s) is not recognized by the ModelSEED Database\n",
      "modelseedpy.community.mscompatibility - WARNING - ModelSEEDError: The metabolite (levanttr_e0 | levanttr_e0 | levanttr) is not recognized by the ModelSEED Database\n",
      "modelseedpy.community.mscompatibility - WARNING - ModelSEEDError: The metabolite (core5_e0 | core5_e0 | core5) is not recognized by the ModelSEED Database\n",
      "modelseedpy.community.mscompatibility - WARNING - ModelSEEDError: The metabolite (sT_antigen_e0 | sT_antigen_e0 | sT_antigen) is not recognized by the ModelSEED Database\n",
      "modelseedpy.community.mscompatibility - WARNING - ModelSEEDError: The metabolite (fucneulacnhx_e0 | fucneulacnhx_e0 | fucneulacnhx) is not recognized by the ModelSEED Database\n",
      "modelseedpy.community.mscompatibility - WARNING - ModelSEEDError: The metabolite (Tn_antigen_e0 | Tn_antigen_e0 | Tn_antigen) is not recognized by the ModelSEED Database\n",
      "modelseedpy.community.mscompatibility - WARNING - ModelSEEDError: The metabolite (acgalidour_e0 | acgalidour_e0 | acgalidour) is not recognized by the ModelSEED Database\n",
      "modelseedpy.community.mscompatibility - WARNING - ModelSEEDError: The metabolite (chtbs_e0 | chtbs_e0 | chtbs) is not recognized by the ModelSEED Database\n",
      "modelseedpy.community.mscompatibility - WARNING - ModelSEEDError: The metabolite (m2mn_e0 | m2mn_e0 | m2mn) is not recognized by the ModelSEED Database\n",
      "modelseedpy.community.mscompatibility - WARNING - ModelSEEDError: The metabolite (3fuclac_e0 | 3fuclac_e0 | 3fuclac) is not recognized by the ModelSEED Database\n",
      "modelseedpy.community.mscompatibility - WARNING - ModelSEEDError: The metabolite (phearg_e0 | phearg_e0 | phearg) is not recognized by the ModelSEED Database\n",
      "modelseedpy.community.mscompatibility - WARNING - ModelSEEDError: The metabolite (mqn9_e0 | mqn9_e0 | mqn9) is not recognized by the ModelSEED Database\n",
      "modelseedpy.community.mscompatibility - WARNING - ModelSEEDError: The metabolite (acgalglcur_e0 | acgalglcur_e0 | acgalglcur) is not recognized by the ModelSEED Database\n",
      "modelseedpy.community.mscompatibility - WARNING - ModelSEEDError: The metabolite (mqn10_e0 | mqn10_e0 | mqn10) is not recognized by the ModelSEED Database\n",
      "modelseedpy.community.mscompatibility - WARNING - ModelSEEDError: The metabolite (pe_cer1_bt_e0 | pe_cer1_bt_e0 | pe_cer1_bt) is not recognized by the ModelSEED Database\n",
      "modelseedpy.community.mscompatibility - WARNING - ModelSEEDError: The metabolite (cspg_c_rest_e0 | cspg_c_rest_e0 | cspg_c_rest) is not recognized by the ModelSEED Database\n",
      "modelseedpy.community.mscompatibility - WARNING - ModelSEEDError: The metabolite (n2m2mn_e0 | n2m2mn_e0 | n2m2mn) is not recognized by the ModelSEED Database\n",
      "modelseedpy.community.mscompatibility - WARNING - ModelSEEDError: The metabolite (isobut_e0 | isobut_e0 | isobut) is not recognized by the ModelSEED Database\n",
      "modelseedpy.community.mscompatibility - WARNING - ModelSEEDError: The metabolite (glyasn_e0 | glyasn_e0 | glyasn) is not recognized by the ModelSEED Database\n",
      "modelseedpy.community.mscompatibility - WARNING - ModelSEEDError: The metabolite (metala_e0 | metala_e0 | metala) is not recognized by the ModelSEED Database\n",
      "modelseedpy.community.mscompatibility - WARNING - ModelSEEDError: The metabolite (hspg_degr_13_e0 | hspg_degr_13_e0 | hspg_degr_13) is not recognized by the ModelSEED Database\n",
      "modelseedpy.community.mscompatibility - WARNING - ModelSEEDError: The metabolite (core3_e0 | core3_e0 | core3) is not recognized by the ModelSEED Database\n",
      "modelseedpy.community.mscompatibility - WARNING - ModelSEEDError: The metabolite (core7_e0 | core7_e0 | core7) is not recognized by the ModelSEED Database\n",
      "modelseedpy.community.mscompatibility - WARNING - ModelSEEDError: The metabolite (Ser_Thr_e0 | Ser_Thr_e0 | Ser_Thr) is not recognized by the ModelSEED Database\n",
      "modelseedpy.community.mscompatibility - WARNING - ModelSEEDError: The metabolite (mbenz_e0 | mbenz_e0 | mbenz) is not recognized by the ModelSEED Database\n",
      "modelseedpy.community.mscompatibility - WARNING - ModelSEEDError: The metabolite (hspg_degr_7_e0 | hspg_degr_7_e0 | hspg_degr_7) is not recognized by the ModelSEED Database\n",
      "modelseedpy.community.mscompatibility - WARNING - ModelSEEDError: The metabolite (gchola_e0 | gchola_e0 | gchola) is not recognized by the ModelSEED Database\n",
      "modelseedpy.community.mscompatibility - WARNING - ModelSEEDError: The metabolite (dt5hsu_e0 | dt5hsu_e0 | dt5hsu) is not recognized by the ModelSEED Database\n",
      "modelseedpy.community.mscompatibility - WARNING - ModelSEEDError: The metabolite (2fuclac_e0 | 2fuclac_e0 | 2fuclac) is not recognized by the ModelSEED Database\n",
      "modelseedpy.community.mscompatibility - WARNING - ModelSEEDError: The metabolite (hspg_degr_2_e0 | hspg_degr_2_e0 | hspg_degr_2) is not recognized by the ModelSEED Database\n",
      "modelseedpy.community.mscompatibility - WARNING - ModelSEEDError: The metabolite (cpd00098_e0 | Choline_ZS | Choline_ZS) is not recognized by the ModelSEED Database\n",
      "modelseedpy.community.mscompatibility - WARNING - ModelSEEDError: The metabolite (core8_e0 | core8_e0 | core8) is not recognized by the ModelSEED Database\n",
      "modelseedpy.community.mscompatibility - WARNING - ModelSEEDError: The metabolite (hspg_degr_8_e0 | hspg_degr_8_e0 | hspg_degr_8) is not recognized by the ModelSEED Database\n",
      "modelseedpy.community.mscompatibility - WARNING - ModelSEEDError: The metabolite (hspg_e0 | hspg_e0 | hspg) is not recognized by the ModelSEED Database\n",
      "modelseedpy.community.mscompatibility - WARNING - ModelSEEDError: The metabolite (hspg_degr_9_e0 | hspg_degr_9_e0 | hspg_degr_9) is not recognized by the ModelSEED Database\n",
      "modelseedpy.community.mscompatibility - WARNING - ModelSEEDError: The metabolite (unsdigalur_e0 | unsdigalur_e0 | unsdigalur) is not recognized by the ModelSEED Database\n",
      "modelseedpy.community.mscompatibility - WARNING - ModelSEEDError: The metabolite (hspg_degr_1_e0 | hspg_degr_1_e0 | hspg_degr_1) is not recognized by the ModelSEED Database\n",
      "modelseedpy.community.mscompatibility - WARNING - ModelSEEDError: The metabolite (argarg_e0 | argarg_e0 | argarg) is not recognized by the ModelSEED Database\n",
      "modelseedpy.community.mscompatibility - WARNING - ModelSEEDError: The metabolite (gncore1_e0 | gncore1_e0 | gncore1) is not recognized by the ModelSEED Database\n",
      "modelseedpy.community.mscompatibility - WARNING - ModelSEEDError: The metabolite (indlac_e0 | indlac_e0 | indlac) is not recognized by the ModelSEED Database\n",
      "modelseedpy.community.mscompatibility - WARNING - ModelSEEDError: The metabolite (lps_bt_e0 | lps_bt_e0 | lps_bt) is not recognized by the ModelSEED Database\n",
      "modelseedpy.community.mscompatibility - WARNING - ModelSEEDError: The metabolite (starch1200_e0 | starch1200_e0 | starch1200) is not recognized by the ModelSEED Database\n",
      "modelseedpy.community.mscompatibility - WARNING - ModelSEEDError: The metabolite (alaglu_e0 | alaglu_e0 | alaglu) is not recognized by the ModelSEED Database\n",
      "modelseedpy.community.mscompatibility - WARNING - ModelSEEDError: The metabolite (cspg_a_e0 | cspg_a_e0 | cspg_a) is not recognized by the ModelSEED Database\n",
      "modelseedpy.community.mscompatibility - WARNING - ModelSEEDError: The metabolite (l2n2m2mn_e0 | l2n2m2mn_e0 | l2n2m2mn) is not recognized by the ModelSEED Database\n",
      "modelseedpy.community.mscompatibility - WARNING - ModelSEEDError: The metabolite (hspg_degr_4_e0 | hspg_degr_4_e0 | hspg_degr_4) is not recognized by the ModelSEED Database\n",
      "modelseedpy.community.mscompatibility - WARNING - ModelSEEDError: The metabolite (kestopt_e0 | kestopt_e0 | kestopt) is not recognized by the ModelSEED Database\n",
      "modelseedpy.community.mscompatibility - WARNING - ModelSEEDError: The metabolite (rhamnogalurII_e0 | rhamnogalurII_e0 | rhamnogalurII) is not recognized by the ModelSEED Database\n",
      "modelseedpy.community.mscompatibility - WARNING - ModelSEEDError: The metabolite (manttr_e0 | manttr_e0 | manttr) is not recognized by the ModelSEED Database\n",
      "modelseedpy.community.mscompatibility - WARNING - ModelSEEDError: The metabolite (leuleu_e0 | leuleu_e0 | leuleu) is not recognized by the ModelSEED Database\n",
      "modelseedpy.community.mscompatibility - WARNING - ModelSEEDError: The metabolite (acgalidour2s_e0 | acgalidour2s_e0 | acgalidour2s) is not recognized by the ModelSEED Database\n",
      "modelseedpy.community.mscompatibility - WARNING - ModelSEEDError: The metabolite (hspg_degr_12_e0 | hspg_degr_12_e0 | hspg_degr_12) is not recognized by the ModelSEED Database\n",
      "modelseedpy.community.mscompatibility - WARNING - ModelSEEDError: The metabolite (oligofru4_e0 | oligofru4_e0 | oligofru4) is not recognized by the ModelSEED Database\n",
      "modelseedpy.community.mscompatibility - WARNING - ModelSEEDError: The metabolite (3ddlhept_e0 | 3ddlhept_e0 | 3ddlhept) is not recognized by the ModelSEED Database\n",
      "modelseedpy.community.mscompatibility - WARNING - ModelSEEDError: The metabolite (alaasp_e0 | alaasp_e0 | alaasp) is not recognized by the ModelSEED Database\n",
      "modelseedpy.community.mscompatibility - WARNING - ModelSEEDError: The metabolite (cps_bt_e0 | cps_bt_e0 | cps_bt) is not recognized by the ModelSEED Database\n",
      "modelseedpy.community.mscompatibility - WARNING - ModelSEEDError: The metabolite (idour_e0 | idour_e0 | idour) is not recognized by the ModelSEED Database\n",
      "modelseedpy.community.mscompatibility - WARNING - ModelSEEDError: The metabolite (ha_pre1_e0 | ha_pre1_e0 | ha_pre1) is not recognized by the ModelSEED Database\n",
      "modelseedpy.community.mscompatibility - WARNING - ModelSEEDError: The metabolite (lacnfucpt_e0 | lacnfucpt_e0 | lacnfucpt) is not recognized by the ModelSEED Database\n",
      "modelseedpy.community.mscompatibility - WARNING - ModelSEEDError: The metabolite (s2l2n2m2mn_e0 | s2l2n2m2mn_e0 | s2l2n2m2mn) is not recognized by the ModelSEED Database\n",
      "modelseedpy.community.mscompatibility - WARNING - ModelSEEDError: The metabolite (gncore2_e0 | gncore2_e0 | gncore2) is not recognized by the ModelSEED Database\n",
      "modelseedpy.community.mscompatibility - WARNING - ModelSEEDError: The metabolite (sTn_antigen_e0 | sTn_antigen_e0 | sTn_antigen) is not recognized by the ModelSEED Database\n",
      "modelseedpy.community.mscompatibility - WARNING - ModelSEEDError: The metabolite (hspg_degr_15_e0 | hspg_degr_15_e0 | hspg_degr_15) is not recognized by the ModelSEED Database\n",
      "modelseedpy.community.mscompatibility - WARNING - ModelSEEDError: The metabolite (glyasp_e0 | glyasp_e0 | glyasp) is not recognized by the ModelSEED Database\n",
      "modelseedpy.community.mscompatibility - WARNING - ModelSEEDError: The metabolite (s2l2n2m2masn_e0 | s2l2n2m2masn_e0 | s2l2n2m2masn) is not recognized by the ModelSEED Database\n",
      "modelseedpy.community.mscompatibility - WARNING - ModelSEEDError: The metabolite (hspg_rest_e0 | hspg_rest_e0 | hspg_rest) is not recognized by the ModelSEED Database\n",
      "modelseedpy.community.mscompatibility - WARNING - ModelSEEDError: The metabolite (mantr_e0 | mantr_e0 | mantr) is not recognized by the ModelSEED Database\n",
      "modelseedpy.community.mscompatibility - WARNING - ModelSEEDError: The metabolite (glyglu_e0 | glyglu_e0 | glyglu) is not recognized by the ModelSEED Database\n",
      "modelseedpy.community.mscompatibility - WARNING - ModelSEEDError: The metabolite (amannan140_e0 | amannan140_e0 | amannan140) is not recognized by the ModelSEED Database\n",
      "modelseedpy.community.mscompatibility - WARNING - ModelSEEDError: The metabolite (levantttr_e0 | levantttr_e0 | levantttr) is not recognized by the ModelSEED Database\n",
      "modelseedpy.community.mscompatibility - WARNING - ModelSEEDError: The metabolite (arabinogal_e0 | arabinogal_e0 | arabinogal) is not recognized by the ModelSEED Database\n",
      "modelseedpy.community.mscompatibility - WARNING - ModelSEEDError: The metabolite (amylose300_e0 | amylose300_e0 | amylose300) is not recognized by the ModelSEED Database\n",
      "modelseedpy.community.mscompatibility - WARNING - ModelSEEDError: The metabolite (plac_e0 | plac_e0 | plac) is not recognized by the ModelSEED Database\n",
      "modelseedpy.community.mscompatibility - WARNING - ModelSEEDError: The metabolite (strch2_e0 | strch2_e0 | strch2) is not recognized by the ModelSEED Database\n",
      "modelseedpy.community.mscompatibility - WARNING - ModelSEEDError: The metabolite (cspg_ab_rest_e0 | cspg_ab_rest_e0 | cspg_ab_rest) is not recognized by the ModelSEED Database\n",
      "modelseedpy.community.mscompatibility - WARNING - ModelSEEDError: The metabolite (s2l2n2m2m_e0 | s2l2n2m2m_e0 | s2l2n2m2m) is not recognized by the ModelSEED Database\n",
      "modelseedpy.community.mscompatibility - WARNING - ModelSEEDError: The metabolite (pect_e0 | pect_e0 | pect) is not recognized by the ModelSEED Database\n",
      "modelseedpy.community.mscompatibility - WARNING - ModelSEEDError: The metabolite (isoval_e0 | isoval_e0 | isoval) is not recognized by the ModelSEED Database\n",
      "modelseedpy.community.mscompatibility - WARNING - ModelSEEDError: The metabolite (galam_e0 | galam_e0 | galam) is not recognized by the ModelSEED Database\n",
      "modelseedpy.community.mscompatibility - WARNING - ModelSEEDError: The metabolite (lacdfucttr_e0 | lacdfucttr_e0 | lacdfucttr) is not recognized by the ModelSEED Database\n",
      "modelseedpy.community.mscompatibility - WARNING - ModelSEEDError: The metabolite (strch1_e0 | strch1_e0 | strch1) is not recognized by the ModelSEED Database\n",
      "modelseedpy.community.mscompatibility - WARNING - ModelSEEDError: The metabolite (arabttr_e0 | arabttr_e0 | arabttr) is not recognized by the ModelSEED Database\n",
      "modelseedpy.community.mscompatibility - WARNING - ModelSEEDError: The metabolite (isocapr_e0 | isocapr_e0 | isocapr) is not recognized by the ModelSEED Database\n",
      "modelseedpy.community.mscompatibility - WARNING - ModelSEEDError: The metabolite (pullulan1200_e0 | pullulan1200_e0 | pullulan1200) is not recognized by the ModelSEED Database\n",
      "modelseedpy.community.mscompatibility - WARNING - IDWarning: The original ID cpd15494_e0 is a ModelSEED ID, and may not be desirably changed to cpd15494_e0.\n",
      "modelseedpy.community.mscompatibility - WARNING - ModelSEEDError: The metabolite (sphmyln_bt_e0 | sphmyln_bt_e0 | sphmyln_bt) is not recognized by the ModelSEED Database\n",
      "modelseedpy.community.mscompatibility - WARNING - ModelSEEDError: The metabolite (lacnttr_e0 | lacnttr_e0 | lacnttr) is not recognized by the ModelSEED Database\n",
      "modelseedpy.community.mscompatibility - WARNING - ModelSEEDError: The metabolite (7ocholate_e0 | 7ocholate_e0 | 7ocholate) is not recognized by the ModelSEED Database\n",
      "modelseedpy.community.mscompatibility - WARNING - ModelSEEDError: The metabolite (mn_e0 | mn_e0 | mn) is not recognized by the ModelSEED Database\n",
      "modelseedpy.community.mscompatibility - WARNING - ModelSEEDError: The metabolite (lacnnttr_e0 | lacnnttr_e0 | lacnnttr) is not recognized by the ModelSEED Database\n",
      "modelseedpy.community.mscompatibility - WARNING - ModelSEEDError: The metabolite (hspg_degr_10_e0 | hspg_degr_10_e0 | hspg_degr_10) is not recognized by the ModelSEED Database\n",
      "modelseedpy.community.mscompatibility - WARNING - ModelSEEDError: The metabolite (neulacnttr_e0 | neulacnttr_e0 | neulacnttr) is not recognized by the ModelSEED Database\n",
      "modelseedpy.community.mscompatibility - WARNING - ModelSEEDError: The metabolite (kestottr_e0 | kestottr_e0 | kestottr) is not recognized by the ModelSEED Database\n",
      "modelseedpy.community.mscompatibility - ERROR - The Bacteroides_thetaiotaomicron_VPI-5482.fbamdl.23 model has residual non-standard metabolites in its exchange reactions: {'ha_deg1_e0', 'hspg_degr_3_e0', 'T_antigen_e0', '12ethd_e0', 'stys_e0', 'arabinan101_e0', '2omxyl_e0', 'f1a_e0', 'lmn30_e0', 'kesto_e0', 'manpt_e0', 'alathr_e0', '2omfuc_e0', 'levanb_e0', 'acerA_e0', 'hspg_degr_6_e0', 'alagly_e0', 'lacndfuchx_e0', 'dsT_antigen_e0', 'cspg_c_degr_e0', 'lmn2_e0', 'hspg_degr_14_e0', 'leugly_e0', 'mqn11_e0', 'manb_e0', 'pecticgal_e0', 'homogal_e0', 'cspg_b_degr_e0', 'cspg_c_e0', 'cspg_a_degr_e0', 'ha_e0', 'apio_D_e0', 's2l2fn2m2masn_e0', 'glypro_e0', 'cspg_b_e0', 'hspg_degr_11_e0', 'phppa_e0', 'levan1000_e0', 'glycogen1500_e0', 'core4_e0', 'hspg_degr_5_e0', 'rhamnogalurI_e0', 'gam26s_e0', 'levanttr_e0', 'core5_e0', 'sT_antigen_e0', 'fucneulacnhx_e0', 'Tn_antigen_e0', 'acgalidour_e0', 'chtbs_e0', 'm2mn_e0', '3fuclac_e0', 'phearg_e0', 'mqn9_e0', 'acgalglcur_e0', 'mqn10_e0', 'pe_cer1_bt_e0', 'cspg_c_rest_e0', 'n2m2mn_e0', 'isobut_e0', 'glyasn_e0', 'metala_e0', 'hspg_degr_13_e0', 'core3_e0', 'core7_e0', 'Ser_Thr_e0', 'mbenz_e0', 'hspg_degr_7_e0', 'gchola_e0', 'dt5hsu_e0', '2fuclac_e0', 'hspg_degr_2_e0', 'core8_e0', 'hspg_e0', 'hspg_degr_8_e0', 'hspg_degr_9_e0', 'unsdigalur_e0', 'hspg_degr_1_e0', 'argarg_e0', 'gncore1_e0', 'indlac_e0', 'lps_bt_e0', 'starch1200_e0', 'alaglu_e0', 'cspg_a_e0', 'l2n2m2mn_e0', 'rhamnogalurII_e0', 'hspg_degr_4_e0', 'kestopt_e0', 'manttr_e0', 'leuleu_e0', 'oligofru4_e0', 'acgalidour2s_e0', 'hspg_degr_12_e0', '3ddlhept_e0', 'alaasp_e0', 'cps_bt_e0', 'idour_e0', 'ha_pre1_e0', 'lacnfucpt_e0', 's2l2n2m2mn_e0', 'gncore2_e0', 'sTn_antigen_e0', 'hspg_degr_15_e0', 'glyasp_e0', 's2l2n2m2masn_e0', 'mantr_e0', 'hspg_rest_e0', 'glyglu_e0', 'amannan140_e0', 'levantttr_e0', 'arabinogal_e0', 'amylose300_e0', 'plac_e0', 'strch2_e0', 'cspg_ab_rest_e0', 's2l2n2m2m_e0', 'pect_e0', 'isoval_e0', 'galam_e0', 'lacdfucttr_e0', 'strch1_e0', 'arabttr_e0', 'isocapr_e0', 'pullulan1200_e0', 'sphmyln_bt_e0', 'lacnttr_e0', '7ocholate_e0', 'mn_e0', 'lacnnttr_e0', 'hspg_degr_10_e0', 'neulacnttr_e0', 'kestottr_e0'}. Specify a True `printing` parameter to view why these metabolites were not corrected.\n",
      "modelseedpy.core.msmodel - ERROR - The [0, 0] bounds are not amenable with a direction string.\n"
     ]
    },
    {
     "name": "stdout",
     "output_type": "stream",
     "text": [
      "\n",
      "\n",
      "\n",
      "Standardize exchange reactions in Bacteroides_thetaiotaomicron_VPI-5482.fbamdl.23 \n",
      " ====================================================================================\n",
      "\n",
      "\n",
      "{'original': {'id': 'core6_e0', 'name': 'core6_e0'},\n",
      " 'new': {'id': 'cpd37201_e0', 'name': 'Core6_e0'},\n",
      " 'justification': 'The core6_e0 and cpd37201_e0 distinction in '\n",
      "                  'Bacteroides_thetaiotaomicron_VPI-5482.fbamdl.23 is '\n",
      "                  'incompatible; hence, the cpd37201_e0 ID and Core6_e0 are '\n",
      "                  'used. The core6_e0 ID is not a ModelSEED Database ID. The '\n",
      "                  'core6_e0 and cpd37201_e0 metabolites were matched via their '\n",
      "                  'name.'}\n",
      "\n",
      "\n",
      "{'original': {'id': 'cpd01399_e0', 'name': 'Maltotetraose_e0'},\n",
      " 'new': {'id': 'cpd00537_e0', 'name': 'Maltotetraose_e0'},\n",
      " 'justification': 'The cpd01399_e0 and cpd00537_e0 distinction in '\n",
      "                  'Bacteroides_thetaiotaomicron_VPI-5482.fbamdl.23 is '\n",
      "                  'incompatible; hence, the cpd00537_e0 ID and '\n",
      "                  'Maltotetraose_e0 are used. The cpd01399_e0 and cpd00537_e0 '\n",
      "                  'metabolites were matched via their name.'}\n",
      "\n",
      "\n",
      "{'original': {'id': 'core2_e0', 'name': 'core2_e0'},\n",
      " 'new': {'id': 'cpd36802_e0', 'name': 'Core2_e0'},\n",
      " 'justification': 'The core2_e0 and cpd36802_e0 distinction in '\n",
      "                  'Bacteroides_thetaiotaomicron_VPI-5482.fbamdl.23 is '\n",
      "                  'incompatible; hence, the cpd36802_e0 ID and Core2_e0 are '\n",
      "                  'used. The core2_e0 ID is not a ModelSEED Database ID. The '\n",
      "                  'core2_e0 and cpd36802_e0 metabolites were matched via their '\n",
      "                  'name.'}\n",
      "\n",
      "\n",
      "{'original': {'id': 'cpd15494_e0', 'name': 'Maltoheptaose_e0'},\n",
      " 'new': {'id': 'cpd03718_e0', 'name': 'Maltoheptaose_e0'},\n",
      " 'justification': 'The cpd15494_e0 and cpd03718_e0 distinction in '\n",
      "                  'Bacteroides_thetaiotaomicron_VPI-5482.fbamdl.23 is '\n",
      "                  'incompatible; hence, the cpd03718_e0 ID and '\n",
      "                  'Maltoheptaose_e0 are used. The cpd15494_e0 and cpd03718_e0 '\n",
      "                  'metabolites were matched via their name. The ID match was '\n",
      "                  \"verified with the ['BiGG'] cross-reference(s).\"}\n"
     ]
    },
    {
     "name": "stderr",
     "output_type": "stream",
     "text": [
      "modelseedpy.community.mscompatibility - WARNING - ModelSEEDError: The metabolite (sq-e_e0 | Sulphoquinovose | Sulphoquinovose) is not recognized by the ModelSEED Database\n",
      "modelseedpy.community.mscompatibility - WARNING - IDWarning: The original ID cpd03191_e0 is a ModelSEED ID, and may not be desirably changed to cpd03191_e0.\n",
      "modelseedpy.community.mscompatibility - WARNING - ModelSEEDError: The metabolite (colipap-e_e0 | Core oligosaccharide lipid A diphosphate | Core oligosaccharide lipid A diphosphate) is not recognized by the ModelSEED Database\n",
      "modelseedpy.community.mscompatibility - WARNING - IDWarning: The original ID cpd00609_e0 is a ModelSEED ID, and may not be desirably changed to cpd00609_e0.\n",
      "modelseedpy.community.mscompatibility - WARNING - ModelSEEDError: The metabolite (metglcur-e_e0 | 1-O-methyl-Beta-D-glucuronate | Omethylbetadglucuronate | 1-O-methyl-Beta-D-glucuronate) is not recognized by the ModelSEED Database\n",
      "modelseedpy.community.mscompatibility - WARNING - IDWarning: The original ID cpd15411_e0 is a ModelSEED ID, and may not be desirably changed to cpd15411_e0.\n",
      "modelseedpy.community.mscompatibility - ERROR - The iML1515 model has residual non-standard metabolites in its exchange reactions: {'metglcur-e_e0', 'colipap-e_e0', 'sq-e_e0'}. Specify a True `printing` parameter to view why these metabolites were not corrected.\n"
     ]
    },
    {
     "name": "stdout",
     "output_type": "stream",
     "text": [
      "\n",
      "\n",
      "\n",
      "Standardize exchange reactions in iML1515 \n",
      " ============================================\n",
      "\n",
      "\n",
      "{'original': {'id': 'dhps-e_e0', 'name': '2,3-Dihydroxypropane-1-sulfonate'},\n",
      " 'new': {'id': 'cpd31356_e0', 'name': '2,3-Dihydroxypropane-1-sulfonate_e0'},\n",
      " 'justification': 'The dhps-e_e0 and cpd31356_e0 distinction in iML1515 is '\n",
      "                  'incompatible; hence, the cpd31356_e0 ID and '\n",
      "                  '2,3-Dihydroxypropane-1-sulfonate_e0 are used. The dhps-e_e0 '\n",
      "                  'ID is not a ModelSEED Database ID. The dhps-e_e0 and '\n",
      "                  'cpd31356_e0 metabolites were matched via their name.'}\n",
      "\n",
      "\n",
      "{'original': {'id': 'cpd03191_e0', 'name': 'D-Glucuronate 1-phosphate_e0'},\n",
      " 'new': {'id': 'cpd00880_e0', 'name': 'D-Glucuronate 1-phosphate_e0'},\n",
      " 'justification': 'The cpd03191_e0 and cpd00880_e0 distinction in iML1515 is '\n",
      "                  'incompatible; hence, the cpd00880_e0 ID and D-Glucuronate '\n",
      "                  '1-phosphate_e0 are used. The cpd03191_e0 and cpd00880_e0 '\n",
      "                  'metabolites were matched via their name. The ID match was '\n",
      "                  \"verified with the ['BiGG'] cross-reference(s).\"}\n",
      "\n",
      "\n",
      "{'original': {'id': 'metsox-R-L-e_e0', 'name': 'L-methionine-R-sulfoxide'},\n",
      " 'new': {'id': 'cpd14720_e0', 'name': 'L-methionine-R-sulfoxide_e0'},\n",
      " 'justification': 'The metsox-R-L-e_e0 and cpd14720_e0 distinction in iML1515 '\n",
      "                  'is incompatible; hence, the cpd14720_e0 ID and '\n",
      "                  'L-methionine-R-sulfoxide_e0 are used. The metsox-R-L-e_e0 '\n",
      "                  'ID is not a ModelSEED Database ID. The metsox-R-L-e_e0 and '\n",
      "                  'cpd14720_e0 metabolites were matched via their name.'}\n",
      "\n",
      "\n",
      "{'original': {'id': '4abzglu-e_e0', 'name': '4-aminobenzoyl-glutamate'},\n",
      " 'new': {'id': 'cpd26527_e0', 'name': '4-aminobenzoyl-glutamate_e0'},\n",
      " 'justification': 'The 4abzglu-e_e0 and cpd26527_e0 distinction in iML1515 is '\n",
      "                  'incompatible; hence, the cpd26527_e0 ID and '\n",
      "                  '4-aminobenzoyl-glutamate_e0 are used. The 4abzglu-e_e0 ID '\n",
      "                  'is not a ModelSEED Database ID. The 4abzglu-e_e0 and '\n",
      "                  'cpd26527_e0 metabolites were matched via their name.'}\n",
      "\n",
      "\n",
      "{'original': {'id': 'cpd00609_e0', 'name': 'D-Glucarate_e0'},\n",
      " 'new': {'id': 'cpd00571_e0', 'name': 'D-Glucarate_e0'},\n",
      " 'justification': 'The cpd00609_e0 and cpd00571_e0 distinction in iML1515 is '\n",
      "                  'incompatible; hence, the cpd00571_e0 ID and D-Glucarate_e0 '\n",
      "                  'are used. The cpd00609_e0 and cpd00571_e0 metabolites were '\n",
      "                  'matched via their name. The ID match was verified with the '\n",
      "                  \"['BiGG'] cross-reference(s).\"}\n",
      "\n",
      "\n",
      "{'original': {'id': 'tartr-D-e_e0', 'name': 'D-tartrate'},\n",
      " 'new': {'id': 'cpd19018_e0', 'name': 'D-tartrate_e0'},\n",
      " 'justification': 'The tartr-D-e_e0 and cpd19018_e0 distinction in iML1515 is '\n",
      "                  'incompatible; hence, the cpd19018_e0 ID and D-tartrate_e0 '\n",
      "                  'are used. The tartr-D-e_e0 ID is not a ModelSEED Database '\n",
      "                  'ID. The tartr-D-e_e0 and cpd19018_e0 metabolites were '\n",
      "                  'matched via their name.'}\n",
      "\n",
      "\n",
      "{'original': {'id': 'metsox-S-L-e_e0', 'name': 'L-Methionine Sulfoxide'},\n",
      " 'new': {'id': 'cpd15498_e0', 'name': 'L-Methionine Sulfoxide_e0'},\n",
      " 'justification': 'The metsox-S-L-e_e0 and cpd15498_e0 distinction in iML1515 '\n",
      "                  'is incompatible; hence, the cpd15498_e0 ID and L-Methionine '\n",
      "                  'Sulfoxide_e0 are used. The metsox-S-L-e_e0 ID is not a '\n",
      "                  'ModelSEED Database ID. The metsox-S-L-e_e0 and cpd15498_e0 '\n",
      "                  'metabolites were matched via their name.'}\n",
      "\n",
      "\n",
      "{'original': {'reaction': 'cpd00067_p0 + cpd15411_p0 --> cpd00067_c0 + '\n",
      "                          'cpd15411_e0'},\n",
      " 'new': {'reaction': 'cpd00067_p0 + cpd15411_p0 --> cpd00067_c0 + cpd03294_e0'},\n",
      " 'justification': 'The new cpd03294_e0 ID for cpd15411_e0 already exists in '\n",
      "                  'model iML1515, so each reaction (here ARBTNtex_p0) must be '\n",
      "                  \"replaced. The ID match was verified with the ['BiGG', \"\n",
      "                  \"'BiGG'] cross-reference(s).\"}\n",
      "\n",
      "\n",
      "{'original': {'reaction': 'cpd15411_e0 <=> '},\n",
      " 'new': {'reaction': 'cpd03294_e0 <=> '},\n",
      " 'justification': 'The new cpd03294_e0 ID for cpd15411_e0 already exists in '\n",
      "                  'model iML1515, so each reaction (here EX_cpd15411_e0) must '\n",
      "                  \"be replaced. The ID match was verified with the ['BiGG', \"\n",
      "                  \"'BiGG'] cross-reference(s).\"}\n",
      "\n",
      "\n",
      "{'original': {'reaction': 'cpd10516_e0 + cpd15411_e0 --> cpd03294_e0'},\n",
      " 'new': {'reaction': 'cpd10516_e0 --> '},\n",
      " 'justification': 'The new cpd03294_e0 ID for cpd15411_e0 already exists in '\n",
      "                  'model iML1515, so each reaction (here rxn08144_e0) must be '\n",
      "                  \"replaced. The ID match was verified with the ['BiGG', \"\n",
      "                  \"'BiGG'] cross-reference(s).\"}\n",
      "\n",
      "\n",
      "3 reactions were substituted and 11 metabolite IDs were redefined in Bacteroides_thetaiotaomicron_VPI-5482.fbamdl.23,iML1515 by standardize().\n"
     ]
    },
    {
     "name": "stderr",
     "output_type": "stream",
     "text": [
      "modelseedpy.core.msmodel - ERROR - The [0, 0] bounds are not amenable with a direction string.\n"
     ]
    }
   ],
   "source": [
    "%run ../../../modelseedpy/community/commhelper.py\n",
    "comm_model = build_from_species_models(models, \"test_comm\", standardize = True, cobra_model=True)"
   ]
  },
  {
   "cell_type": "markdown",
   "id": "17aecc94-bacc-431e-89ea-d0bf2b5043c4",
   "metadata": {},
   "source": [
    "### Compare the KBase vs ModelSEED built community models "
   ]
  },
  {
   "cell_type": "code",
   "execution_count": null,
   "id": "58d564d5-3b62-4e58-a2a6-5ad8f6e0dd56",
   "metadata": {},
   "outputs": [],
   "source": []
  },
  {
   "cell_type": "code",
   "execution_count": 25,
   "id": "fc1d171d-233b-4494-a145-62e24c4b77f1",
   "metadata": {},
   "outputs": [
    {
     "name": "stdout",
     "output_type": "stream",
     "text": [
      "4139 4144\n",
      "7173\n",
      "Counter({'_c1': 1345, '_c2': 1246, '_p1': 1022, '_e0': 513, '_s2': 4, '_f1': 1, '_m2': 1, '_n2': 1, '_c0': 1, '_l2': 1})\n",
      "Counter({'_c2': 1833, '_c1': 1249, '_e0': 822, '_p2': 227, '_s2': 4, '_f1': 1, '_m2': 1, '_n2': 1, '_c0': 1, '_l2': 1})\n"
     ]
    }
   ],
   "source": [
    "from collections import Counter\n",
    "import re\n",
    "\n",
    "# compare reactions\n",
    "kbase_rxns = set([rxn.id for rxn in com_model.reactions])\n",
    "ms_rxns = set([rxn.id for rxn in comm_model.reactions])\n",
    "print(len(kbase_rxns), len(ms_rxns))\n",
    "print(len(kbase_rxns.symmetric_difference(ms_rxns)))\n",
    "kbase_rxns_comps = Counter([re.search(r\"(_[a-z][0-9])\", rxnID).group() for rxnID in kbase_rxns if re.search(r\"(_[a-z][0-9])\", rxnID)])\n",
    "ms_rxns_comps = Counter([re.search(r\"(_[a-z][0-9])\", rxnID).group() for rxnID in ms_rxns if re.search(r\"(_[a-z][0-9])\", rxnID)])\n",
    "print(kbase_rxns_comps)\n",
    "print(ms_rxns_comps)\n",
    "\n",
    "# print(kbase_rxns - ms_rxns)\n",
    "# print(ms_rxns - kbase_rxns)\n",
    "\n",
    "# compare compounds\n",
    "# kbase_mets = set([met.id for met in com_model.metabolites])\n",
    "# ms_mets = set([met.id for met in comm_model.metabolites])\n",
    "# print(len(kbase_mets), len(ms_mets))\n",
    "# print(kbase_mets.symmetric_difference(ms_mets))"
   ]
  },
  {
   "cell_type": "code",
   "execution_count": 12,
   "id": "82232e5f-c151-4b5f-b9c6-74a53bdab6b8",
   "metadata": {},
   "outputs": [],
   "source": [
    "def unique_bio_cpds(rxn):\n",
    "    return set([met.id for met in rxn.metabolites])"
   ]
  },
  {
   "cell_type": "code",
   "execution_count": 29,
   "id": "0cfcb429-046f-4738-9483-e4ce5bcd85c3",
   "metadata": {
    "tags": []
   },
   "outputs": [
    {
     "name": "stdout",
     "output_type": "stream",
     "text": [
      "Maximize\n",
      "1.0*bio2 - 1.0*bio2_reverse_a4204\n",
      "<Solution 71.851 at 0x18806ba8d30>\n",
      "bio1\n",
      "bio2\n",
      "bio3\n",
      "bio4\n",
      "\n",
      "Extra mets in the objective vs. bio1 {'cpd15531_p1', 'cpd11574_c1', 'cpd00201_c1', 'cpd00041_c1', 'cpd00012_c1', 'cpd00115_c1', 'cpd00034_c1', 'cpd00063_c1', 'cpd00013_c1', 'cpd24604_c1', 'cpd00030_c1', 'cpd00357_c1', 'cpd00062_c1', 'cpd00119_c1', 'cpd00039_c1', 'cpd00002_c1', 'cpd24682_c1', 'cpd10516_c1', 'cpd00069_c1', 'cpd00052_c1', 'cpd25775_c1', 'cpd00003_c1', 'cpd00035_c1', 'cpd00033_c1', 'cpd00104_c1', 'cpd00087_c1', 'cpd00356_c1', 'cpd00056_c1', 'cpd00099_c1', 'cpd00051_c1', 'cpd00132_c1', 'cpd00129_c1', 'cpd00016_c1', 'cpd00156_c1', 'cpd00205_c1', 'cpd15514_p1', 'cpd00254_c1', 'cpd00009_c1', 'cpd00084_c1', 'cpd00322_c1', 'cpd00125_c1', 'cpd00557_c1', 'cpd10515_c1', 'cpd00006_c1', 'cpd00060_c1', 'cpd00161_c1', 'cpd00008_c1', 'cpd00107_c1', 'cpd03445_c1', 'cpd00053_c1', 'cpd00244_c1', 'cpd00028_c1', 'cpd00023_c1', 'cpd00066_c1', 'cpd15532_p1', 'cpd00065_c1', 'cpd00048_c1', 'cpd00067_c1', 'cpd00015_c1', 'cpd00017_c1', 'cpd00149_c1', 'cpd00220_c1', 'cpd00241_c1', 'cpd00058_c1', 'cpd00010_c1', 'cpd00038_c1', 'cpd00001_c1', 'cpd03586_e0', 'cpd00078_c1', 'cpd00054_c1'}\n",
      "\n",
      "Extra mets in the objective vs. bio3 {'cpd03445_c1', 'cpd03586_e0', 'cpd15514_p1'}\n",
      "\n",
      "Extra mets in the objective vs. bio4 {'cpd00156_c1', 'cpd15531_p1', 'cpd00205_c1', 'cpd11574_c1', 'cpd15514_p1', 'cpd00201_c1', 'cpd00254_c1', 'cpd00041_c1', 'cpd00009_c1', 'cpd00012_c1', 'cpd00084_c1', 'cpd00322_c1', 'cpd00115_c1', 'cpd00125_c1', 'cpd00063_c1', 'cpd00034_c1', 'cpd00557_c1', 'cpd00013_c1', 'cpd24604_c1', 'cpd00030_c1', 'cpd10515_c1', 'cpd00357_c1', 'cpd00006_c1', 'cpd00119_c1', 'cpd00060_c1', 'cpd00161_c1', 'cpd00062_c1', 'cpd00008_c1', 'cpd00039_c1', 'cpd00002_c1', 'cpd24682_c1', 'cpd10516_c1', 'cpd00107_c1', 'cpd03445_c1', 'cpd00069_c1', 'cpd00051_c1', 'cpd00052_c1', 'cpd00053_c1', 'cpd00003_c1', 'cpd25775_c1', 'cpd00035_c1', 'cpd00244_c1', 'cpd00028_c1', 'cpd00023_c1', 'cpd00033_c1', 'cpd00066_c1', 'cpd15532_p1', 'cpd11416_c1', 'cpd00104_c1', 'cpd00048_c1', 'cpd00087_c1', 'cpd00065_c1', 'cpd00356_c1', 'cpd00067_c1', 'cpd00056_c1', 'cpd00015_c1', 'cpd00017_c1', 'cpd00149_c1', 'cpd00220_c1', 'cpd00241_c1', 'cpd00058_c1', 'cpd00010_c1', 'cpd00038_c1', 'cpd00001_c1', 'cpd03586_e0', 'cpd00099_c1', 'cpd00078_c1', 'cpd00054_c1', 'cpd00132_c1', 'cpd00129_c1', 'cpd00016_c1'}\n",
      "\n",
      "Extra mets in the objective {'cpd03445_c1', 'cpd03586_e0', 'cpd15514_p1'}\n",
      "\n",
      "Model mets not in the objective {'cpd00201_c2', 'cpd00356_c2', 'cpd21288_c1', 'lipopb-c_c1', 'cpd15561_c1', 'cpd00087_c2', 'cpd00005_c1', 'cpd00254_c2', 'cpd00166_c1', 'cpd11493_c2', 'cpd00166_c2', 'cpd15534_c2', 'cpd00069_c2', 'cpd15541_c2', 'cpd02229_c2', 'lps_bt_e0', 'cpd00009_c2', 'cpd00063_c2', 'cpd15654_c2', 'cpd00264_c1', 'cpd00052_c2', 'cpd15428_c2', 'cpd00161_c2', 'cpd00038_c2', 'cpd00156_c2', 'cpd00065_c2', 'cpd00357_c2', 'cpd15503_p1', 'cpd00034_c2', 'cpd10516_c2', 'cpd00216_c1', 'sphmyln_bt_e0', 'cpd00039_c2', 'cpd00107_c2', 'cpd00012_c2', 'cpd00004_c1', 'cpd00220_c2', 'cpd10515_c2', 'cpd11313_c1', 'cpd15528_c2', 'cpd00016_c2', 'cpd00115_c2', 'cpd00205_c2', 'cpd00062_c2', 'cpd15506_p1', 'cpd00129_c2', 'cpd00060_c2', 'clpni17_c2', 'peai17_c2', 'cpd00006_c2', 'cpd00051_c2', 'clpni14_c2', 'cpd00104_c2', 'cpd15540_c2', 'clpnai15_c2', 'cpd15508_p1', 'cpd15535_c2', 'cpd00010_c2', 'cps_bt_e0', 'mql9_c2', 'cpd15536_c2', 'cpd00022_c1', 'cpd00132_c2', 'cpd15426_c2', 'clpni15_c2', 'cpd00028_c2', 'cpd15533_c2', 'cpd00070_c1', 'cpd00033_c2', 'pei14_c2', 'cpd00056_c2', 'cpd00054_c2', 'clpnai17_c2', 'cpd00155_c1', 'cpd15429_p1', 'cpd15430_c2', 'cpd11416_c0', 'cpd00345_c2', 'mql11_c2', 'cpd00322_c2', 'cpd15538_p1', 'cpd00264_c2', 'cpd00008_c2', 'cpd00149_c2', 'cpd15499_c1', 'cpd00118_c1', 'cpd00119_c2', 'pei15_c2', 'cpd00017_c2', 'cpd00001_c2', 'cpd00084_c2', 'peai15_c2', 'cpd00035_c2', 'cpd11416_c2', 'cpd15538_c2', 'pei17_c2', 'cpd15541_p1', 'clpni16_c2', 'cpd15499_c2', 'pgai17_c2', 'cpd00067_c2', 'cpd12370_c2', 'cpd15432_e0', 'cpd00042_c1', 'cpd00023_c2', 'cpd00066_c2', 'cpd15539_p1', 'cpd15428_p1', 'cpd15534_p1', 'cpd11451_c2', 'pe_cer1_bt_e0', 'cpd15529_c2', 'mql10_c2', 'cpd15501_p1', 'mocogdp-c_c1', 'cpd03453_c1', 'cpd00241_c2', 'cpd00053_c2', 'cpd00345_c1', 'cpd00002_c2', 'cpd00030_c2', 'cpd00041_c2', 'pei16_c2', 'pgi17_c2', 'cpd15431_p1', 'cpd00015_c2', 'cpd15505_p1', 'cpd15531_c2', 'cpd00003_c2', 'cpd15353_c1', 'cpd00971_c2'}\n"
     ]
    }
   ],
   "source": [
    "print(com_model.objective)\n",
    "print(com_model.optimize())\n",
    "\n",
    "# investigate why the merged model does not operate\n",
    "## examine the biomass reactions\n",
    "kbase_bios = []\n",
    "for rxn in com_model.reactions:\n",
    "    if \"bio\" in rxn.id:\n",
    "        print(rxn.id)\n",
    "        kbase_bios.append(unique_bio_cpds(rxn))\n",
    "        \n",
    "# investigate the relation of bio2 to the other biomasses\n",
    "objective_mets = kbase_bios[1]\n",
    "combined = set()\n",
    "for index, bio in enumerate(kbase_bios):\n",
    "    if index != 1:\n",
    "        print(f\"\\nExtra mets in the objective vs. bio{index+1}\", objective_mets-bio)\n",
    "        combined.update(bio)\n",
    "print(\"\\nExtra mets in the objective\", objective_mets-combined)\n",
    "print(\"\\nModel mets not in the objective\", combined-objective_mets)"
   ]
  },
  {
   "cell_type": "code",
   "execution_count": 32,
   "id": "2ab02a1c-de10-44b7-9e61-89fdd9bad799",
   "metadata": {},
   "outputs": [
    {
     "name": "stdout",
     "output_type": "stream",
     "text": [
      "\n",
      "Extra mets in the objective vs. bio1 in Bacteroides_thetaiotaomicron_VPI-5482.fbamdl.23 {'cpd00156_c1', 'cpd15531_p1', 'cpd00205_c1', 'cpd11574_c1', 'cpd15514_p1', 'cpd00201_c1', 'cpd00254_c1', 'cpd00041_c1', 'cpd00009_c1', 'cpd00012_c1', 'cpd00084_c1', 'cpd00322_c1', 'cpd00115_c1', 'cpd00125_c1', 'cpd00063_c1', 'cpd00034_c1', 'cpd00557_c1', 'cpd00013_c1', 'cpd24604_c1', 'cpd00030_c1', 'cpd10515_c1', 'cpd00357_c1', 'cpd00006_c1', 'cpd00119_c1', 'cpd00060_c1', 'cpd00161_c1', 'cpd00062_c1', 'cpd00008_c1', 'cpd00039_c1', 'cpd00002_c1', 'cpd24682_c1', 'cpd10516_c1', 'cpd00107_c1', 'cpd03445_c1', 'cpd00069_c1', 'cpd00051_c1', 'cpd00052_c1', 'cpd00053_c1', 'cpd00003_c1', 'cpd25775_c1', 'cpd00035_c1', 'cpd00244_c1', 'cpd00028_c1', 'cpd00023_c1', 'cpd00033_c1', 'cpd00066_c1', 'cpd15532_p1', 'cpd11416_c1', 'cpd00104_c1', 'cpd00048_c1', 'cpd00087_c1', 'cpd00065_c1', 'cpd00356_c1', 'cpd00067_c1', 'cpd00056_c1', 'cpd00015_c1', 'cpd00017_c1', 'cpd00149_c1', 'cpd00220_c1', 'cpd00241_c1', 'cpd00058_c1', 'cpd00010_c1', 'cpd00038_c1', 'cpd00001_c1', 'cpd03586_e0', 'cpd00099_c1', 'cpd00078_c1', 'cpd00054_c1', 'cpd00132_c1', 'cpd00129_c1', 'cpd00016_c1'}\n",
      "\n",
      "Extra mets in the objective vs. bio1 in iML1515 {'cpd00156_c1', 'cpd15531_p1', 'cpd00205_c1', 'cpd11574_c1', 'cpd15514_p1', 'cpd00201_c1', 'cpd00254_c1', 'cpd00041_c1', 'cpd00009_c1', 'cpd00012_c1', 'cpd00084_c1', 'cpd00322_c1', 'cpd00115_c1', 'cpd00125_c1', 'cpd00063_c1', 'cpd00034_c1', 'cpd00557_c1', 'cpd00013_c1', 'cpd24604_c1', 'cpd00030_c1', 'cpd10515_c1', 'cpd00357_c1', 'cpd00006_c1', 'cpd00119_c1', 'cpd00060_c1', 'cpd00161_c1', 'cpd00062_c1', 'cpd00008_c1', 'cpd00039_c1', 'cpd00002_c1', 'cpd24682_c1', 'cpd10516_c1', 'cpd00107_c1', 'cpd03445_c1', 'cpd00069_c1', 'cpd00051_c1', 'cpd00052_c1', 'cpd00053_c1', 'cpd00003_c1', 'cpd25775_c1', 'cpd00035_c1', 'cpd00244_c1', 'cpd00028_c1', 'cpd00023_c1', 'cpd00033_c1', 'cpd00066_c1', 'cpd15532_p1', 'cpd11416_c1', 'cpd00104_c1', 'cpd00048_c1', 'cpd00087_c1', 'cpd00065_c1', 'cpd00356_c1', 'cpd00067_c1', 'cpd00056_c1', 'cpd00015_c1', 'cpd00017_c1', 'cpd00149_c1', 'cpd00220_c1', 'cpd00241_c1', 'cpd00058_c1', 'cpd00010_c1', 'cpd00038_c1', 'cpd00001_c1', 'cpd00099_c1', 'cpd00078_c1', 'cpd00054_c1', 'cpd00132_c1', 'cpd00129_c1', 'cpd00016_c1'}\n",
      "\n",
      "Extra mets in the objective vs. bio2 in iML1515 {'cpd00156_c1', 'cpd15531_p1', 'cpd00205_c1', 'cpd11574_c1', 'cpd15514_p1', 'cpd00201_c1', 'cpd00254_c1', 'cpd00041_c1', 'cpd00009_c1', 'cpd00012_c1', 'cpd00084_c1', 'cpd00322_c1', 'cpd00115_c1', 'cpd00125_c1', 'cpd00063_c1', 'cpd00034_c1', 'cpd00557_c1', 'cpd00013_c1', 'cpd24604_c1', 'cpd00030_c1', 'cpd10515_c1', 'cpd00357_c1', 'cpd00006_c1', 'cpd00119_c1', 'cpd00060_c1', 'cpd00161_c1', 'cpd00062_c1', 'cpd00008_c1', 'cpd00039_c1', 'cpd00002_c1', 'cpd24682_c1', 'cpd10516_c1', 'cpd00107_c1', 'cpd03445_c1', 'cpd00069_c1', 'cpd00051_c1', 'cpd00052_c1', 'cpd00053_c1', 'cpd00003_c1', 'cpd25775_c1', 'cpd00035_c1', 'cpd00244_c1', 'cpd00028_c1', 'cpd00023_c1', 'cpd00033_c1', 'cpd00066_c1', 'cpd15532_p1', 'cpd11416_c1', 'cpd00104_c1', 'cpd00048_c1', 'cpd00087_c1', 'cpd00065_c1', 'cpd00356_c1', 'cpd00067_c1', 'cpd00056_c1', 'cpd00015_c1', 'cpd00017_c1', 'cpd00149_c1', 'cpd00220_c1', 'cpd00241_c1', 'cpd00058_c1', 'cpd00010_c1', 'cpd00038_c1', 'cpd00001_c1', 'cpd03586_e0', 'cpd00099_c1', 'cpd00078_c1', 'cpd00054_c1', 'cpd00132_c1', 'cpd00129_c1', 'cpd00016_c1'}\n",
      "\n",
      "Model mets not in the objective {'cpd00054_c0', 'cpd00008_c0', 'pgi17_c0', 'cpd15353_c0', 'cpd00161_c0', 'pgai17_c0', 'cpd11313_c0', 'cpd00002_c0', 'cpd00009_c0', 'cpd15528_c0', 'mql9_c0', 'cpd00220_c0', 'cpd11574_c0', 'lps_bt_e0', 'mql10_c0', 'cpd00030_c0', 'cpd15428_p0', 'cpd00155_c0', 'cpd15514_p0', 'cpd00034_c0', 'cpd00012_c0', 'clpni16_c0', 'cpd00063_c0', 'cpd00028_c0', 'sphmyln_bt_e0', 'cpd00070_c0', 'cpd15654_c0', 'lipopb-c_c0', 'cpd00345_c0', 'cpd00357_c0', 'cpd00322_c0', 'cpd00038_c0', 'pei17_c0', 'cpd00016_c0', 'clpnai15_c0', 'cpd03445_c0', 'cpd24682_c0', 'cpd00115_c0', 'cpd15503_p0', 'cpd00013_c0', 'cpd00557_c0', 'cpd00065_c0', 'cpd00058_c0', 'cpd00067_c0', 'clpni14_c0', 'cpd00053_c0', 'cpd15535_c0', 'cpd00254_c0', 'cpd00078_c0', 'cpd15534_p0', 'pei14_c0', 'cpd15431_p0', 'cpd00004_c0', 'cpd00015_c0', 'cpd15534_c0', 'peai17_c0', 'cpd00042_c0', 'cps_bt_e0', 'cpd00051_c0', 'cpd00129_c0', 'cpd00052_c0', 'peai15_c0', 'cpd00264_c0', 'cpd15529_c0', 'cpd00201_c0', 'cpd15428_c0', 'cpd00125_c0', 'cpd00006_c0', 'cpd00017_c0', 'cpd11416_c0', 'cpd02229_c0', 'cpd15531_p0', 'cpd00087_c0', 'cpd00060_c0', 'cpd00166_c0', 'mql11_c0', 'cpd00119_c0', 'cpd15561_c0', 'mocogdp-c_c0', 'cpd15539_p0', 'cpd00118_c0', 'cpd00001_c0', 'cpd11451_c0', 'cpd00041_c0', 'cpd00132_c0', 'cpd15536_c0', 'cpd15541_p0', 'cpd15429_p0', 'cpd00003_c0', 'cpd00066_c0', 'cpd15501_p0', 'cpd15426_c0', 'cpd00048_c0', 'pei16_c0', 'cpd15432_e0', 'cpd00056_c0', 'clpni17_c0', 'clpni15_c0', 'cpd21288_c0', 'cpd15532_p0', 'cpd00241_c0', 'pe_cer1_bt_e0', 'cpd15499_c0', 'cpd00022_c0', 'cpd15533_c0', 'cpd00010_c0', 'cpd15541_c0', 'cpd00149_c0', 'cpd15531_c0', 'cpd15430_c0', 'cpd15538_c0', 'cpd00035_c0', 'cpd24604_c0', 'cpd15508_p0', 'cpd00005_c0', 'cpd00033_c0', 'cpd15540_c0', 'cpd03453_c0', 'cpd15506_p0', 'cpd00356_c0', 'clpnai17_c0', 'pei15_c0', 'cpd11493_c0', 'cpd25775_c0', 'cpd00107_c0', 'cpd15538_p0', 'cpd00216_c0', 'cpd00084_c0', 'cpd00023_c0', 'cpd00104_c0', 'cpd12370_c0', 'cpd00069_c0', 'cpd00099_c0', 'cpd00039_c0', 'cpd00062_c0', 'cpd10516_c0', 'cpd00244_c0', 'cpd00156_c0', 'cpd10515_c0', 'cpd00971_c0', 'cpd00205_c0', 'cpd15505_p0'}\n"
     ]
    }
   ],
   "source": [
    "combined_bios = set()\n",
    "for model in models:\n",
    "    for rxn in model.reactions:\n",
    "        if \"bio\" in rxn.id:\n",
    "            print(f\"\\nExtra mets in the objective vs. {rxn.id} in {model.id}\", objective_mets-unique_bio_cpds(rxn))\n",
    "            combined_bios.update(unique_bio_cpds(rxn))\n",
    "print(\"\\nModel mets not in the objective\", combined_bios-objective_mets)"
   ]
  },
  {
   "cell_type": "code",
   "execution_count": null,
   "id": "0189a414-64b3-4369-9d92-741f167de64b",
   "metadata": {
    "tags": []
   },
   "outputs": [],
   "source": [
    "%run ../../../modelseedpy/community/mscommunity.py\n",
    "\n",
    "# construct the community models\n",
    "com_model, indices = MSCommunity.build_from_species_models(models)"
   ]
  },
  {
   "cell_type": "code",
   "execution_count": 1,
   "id": "297a204f-677a-4211-8e7f-a66f795fc3d1",
   "metadata": {
    "tags": []
   },
   "outputs": [
    {
     "name": "stderr",
     "output_type": "stream",
     "text": [
      "C:\\Users\\Andrew Freiburger\\AppData\\Local\\Programs\\Python\\Python39\\lib\\site-packages\\cobra\\io\\dict.py:71: DeprecationWarning: `np.float` is a deprecated alias for the builtin `float`. To silence this warning, use `float` by itself. Doing this will not modify any behavior and is safe. If you specifically wanted the numpy scalar type, use `np.float64` here.\n",
      "Deprecated in NumPy 1.20; for more details and guidance: https://numpy.org/devdocs/release/1.20.0-notes.html#deprecations\n",
      "  value: Union[str, np.float, np.bool, Set, Dict]\n",
      "C:\\Users\\Andrew Freiburger\\AppData\\Local\\Programs\\Python\\Python39\\lib\\site-packages\\cobra\\io\\dict.py:71: DeprecationWarning: `np.bool` is a deprecated alias for the builtin `bool`. To silence this warning, use `bool` by itself. Doing this will not modify any behavior and is safe. If you specifically wanted the numpy scalar type, use `np.bool_` here.\n",
      "Deprecated in NumPy 1.20; for more details and guidance: https://numpy.org/devdocs/release/1.20.0-notes.html#deprecations\n",
      "  value: Union[str, np.float, np.bool, Set, Dict]\n",
      "C:\\Users\\Andrew Freiburger\\AppData\\Local\\Programs\\Python\\Python39\\lib\\site-packages\\requests\\__init__.py:102: RequestsDependencyWarning: urllib3 (1.26.9) or chardet (5.0.0)/charset_normalizer (2.0.12) doesn't match a supported version!\n",
      "  warnings.warn(\"urllib3 ({}) or chardet ({})/charset_normalizer ({}) doesn't match a supported \"\n"
     ]
    },
    {
     "name": "stdout",
     "output_type": "stream",
     "text": [
      "cobrakbase 0.2.8\n"
     ]
    }
   ],
   "source": [
    "import warnings\n",
    "warnings.filterwarnings(action='once')\n",
    "\n",
    "# define the environment path \n",
    "from pprint import pprint\n",
    "from json import dump\n",
    "import os\n",
    "local_cobrakbase_path = os.path.join('C:', 'Users', 'Andrew Freiburger','Documents','Argonne','cobrakbase')\n",
    "os.environ[\"HOME\"] = local_cobrakbase_path\n",
    "\n",
    "# import the models\n",
    "import cobrakbase\n",
    "token = 'RBP7R34IILI6IQN5533VVSVUZM6H7YU7'\n",
    "kbase_api = cobrakbase.KBaseAPI(token)\n",
    "\n",
    "model1 = kbase_api.get_from_ws(\"E_iAH991V2\",40576)\n",
    "model2 = kbase_api.get_from_ws(\"E_iML1515.kb\",40576)\n",
    "com_model = kbase_api.get_from_ws(\"CMM_iAH991V2_iML1515.kb\",40576)\n",
    "models = [model1, model2]"
   ]
  },
  {
   "cell_type": "code",
   "execution_count": 2,
   "id": "e7196db1-2cfd-4ed9-9592-556fb57210eb",
   "metadata": {
    "tags": []
   },
   "outputs": [
    {
     "name": "stderr",
     "output_type": "stream",
     "text": [
      "C:\\Users\\Andrew Freiburger\\AppData\\Local\\Programs\\Python\\Python39\\lib\\site-packages\\cobra\\medium\\minimal_medium.py:112: FutureWarning: The default dtype for empty Series will be 'object' instead of 'float64' in a future version. Specify a dtype explicitly to silence this warning.\n",
      "  medium = pd.Series()\n",
      "C:\\Users\\Andrew Freiburger\\AppData\\Local\\Programs\\Python\\Python39\\lib\\site-packages\\cobra\\medium\\minimal_medium.py:112: FutureWarning: The default dtype for empty Series will be 'object' instead of 'float64' in a future version. Specify a dtype explicitly to silence this warning.\n",
      "  medium = pd.Series()\n"
     ]
    },
    {
     "name": "stdout",
     "output_type": "stream",
     "text": [
      "Initial media defined with 24 exchanges\n",
      "Syntrophic fluxes examined after 0.0 minutes\n",
      "Syntrophic fluxes examined after -12.952864583333334 minutes\n",
      "['CACHE_AUTO_ADJUST_THRESHOLD', '_DistanceMixin__calculate_item_deephash', '_DistanceMixin__get_item_rough_length', '__class__', '__class_getitem__', '__contains__', '__delattr__', '__delitem__', '__dict__', '__dir__', '__doc__', '__eq__', '__format__', '__ge__', '__getattribute__', '__getitem__', '__gt__', '__hash__', '__init__', '__init_subclass__', '__ior__', '__iter__', '__le__', '__len__', '__lt__', '__module__', '__ne__', '__new__', '__or__', '__reduce__', '__reduce_ex__', '__repr__', '__reversed__', '__ror__', '__setattr__', '__setitem__', '__sizeof__', '__str__', '__subclasshook__', '__weakref__', '_add_hash', '_auto_off_cache', '_auto_tune_cache', '_compare_in_order', '_count_diff', '_create_hashtable', '_dict_from_slots', '_diff', '_diff_booleans', '_diff_datetimes', '_diff_dict', '_diff_iterable', '_diff_iterable_in_order', '_diff_iterable_with_deephash', '_diff_numbers', '_diff_numpy_array', '_diff_obj', '_diff_set', '_diff_str', '_diff_tuple', '_diff_types', '_diff_uuids', '_get_clean_to_keys_mapping', '_get_deephash_params', '_get_distance_cache_key', '_get_matching_pairs', '_get_most_in_common_pairs_in_iterables', '_get_rough_distance', '_get_rough_distance_of_hashed_objs', '_get_view_results', '_group_iterable_to_dict', '_iterables_subscriptable', '_numpy_paths', '_precalculate_distance_by_custom_compare_func', '_precalculate_numpy_arrays_distance', '_report_result', '_skip_this', '_stats', '_to_delta_dict', '_use_custom_operator', 'cache_size', 'cache_tuning_sample_size', 'clear', 'copy', 'custom_operators', 'custom_report_result', 'cutoff_distance_for_pairs', 'cutoff_intersection_for_pairs', 'deephash_parameters', 'encodings', 'exclude_obj_callback', 'exclude_paths', 'exclude_regex_paths', 'exclude_types', 'exclude_types_tuple', 'from_json_pickle', 'fromkeys', 'get', 'get_ignore_types_in_groups', 'get_significant_digits', 'get_stats', 'group_by', 'hasher', 'ignore_encoding_errors', 'ignore_nan_inequality', 'ignore_numeric_type_changes', 'ignore_order', 'ignore_order_func', 'ignore_private_variables', 'ignore_string_case', 'ignore_string_type_changes', 'ignore_type_in_groups', 'ignore_type_subclasses', 'is_root', 'items', 'iterable_compare_func', 'keys', 'math_epsilon', 'max_diffs', 'max_passes', 'number_format_notation', 'number_to_string', 'numbers', 'pop', 'popitem', 'pretty', 'progress_logger', 'remove_empty_keys', 'report_repetition', 'setdefault', 'significant_digits', 'strings', 't1', 't2', 'to_dict', 'to_json', 'to_json_pickle', 'tree', 'truncate_datetime', 'type_check_func', 'update', 'values', 'verbose_level', 'view']\n"
     ]
    }
   ],
   "source": [
    "from deepdiff import DeepDiff\n",
    "unsynergized_media = MSCommunity.estimate_minimal_community_media(models, syntrophy=False)\n",
    "diff = DeepDiff(unsynergized_media[\"community_media\"], media[\"community_media\"])\n",
    "# refined_com_media = com_media.drop(com_media.loc[com_media.gt(0)])\n",
    "# print(refined_com_media)\n",
    "print(dir(diff))"
   ]
  },
  {
   "cell_type": "code",
   "execution_count": 1,
   "id": "d5d42f67-c160-4eb9-bcd3-2a55dde60ff2",
   "metadata": {},
   "outputs": [
    {
     "ename": "NameError",
     "evalue": "name 'models' is not defined",
     "output_type": "error",
     "traceback": [
      "\u001b[1;31m---------------------------------------------------------------------------\u001b[0m",
      "\u001b[1;31mNameError\u001b[0m                                 Traceback (most recent call last)",
      "Input \u001b[1;32mIn [1]\u001b[0m, in \u001b[0;36m<cell line: 1>\u001b[1;34m()\u001b[0m\n\u001b[1;32m----> 1\u001b[0m \u001b[43mmodels\u001b[49m\n",
      "\u001b[1;31mNameError\u001b[0m: name 'models' is not defined"
     ]
    }
   ],
   "source": [
    "models"
   ]
  },
  {
   "cell_type": "code",
   "execution_count": 11,
   "id": "6a43511f-f8ca-401a-80ea-95f98a195481",
   "metadata": {},
   "outputs": [
    {
     "name": "stdout",
     "output_type": "stream",
     "text": [
      "root['EX_cpd00009_e0'] {'new_value': 3.7260653229411527, 'old_value': 0.17640200000755446}\n",
      "root['EX_cpd10515_e0'] {'new_value': 4.810363862531745, 'old_value': 0.0009336000000000001}\n",
      "root['EX_cpd00971_e0'] {'new_value': 0.00046680000002653657, 'old_value': 0.0004668000000265238}\n"
     ]
    }
   ],
   "source": [
    "from pprint import pprint\n",
    "# pprint(diff.to_dict().values())\n",
    "for key, value in diff.items():\n",
    "    for met, change in value.items():\n",
    "        print(met, change)"
   ]
  },
  {
   "cell_type": "code",
   "execution_count": null,
   "id": "02535f39-2b8a-418f-ad06-e64f0010e65a",
   "metadata": {},
   "outputs": [],
   "source": [
    "from math import isclose\n",
    "redundnant_cpds, partially_redundant = set(), set()\n",
    "for cpd in media[\"community_media\"]:\n",
    "    new_media = media[\"community_media\"].copy()\n",
    "    new_media.pop(cpd)\n",
    "    community_model = com_model\n",
    "    community_model.medium = new_media\n",
    "    sol = community_model.optimize()\n",
    "    if isclose(sol.objective_value, original_obj_value, abs_tol=1e-7):\n",
    "        print(\"redundant cpd:\", cpd, \"objective value difference:\", sol.objective_value, original_obj_value)\n",
    "        redundnant_cpds.add(cpd)\n",
    "    elif sol.objective_value > original_obj_value:\n",
    "        print(\"restraining cpd:\", cpd, \"\\nobjective value:\", sol.objective_value)\n",
    "    elif not isclose(sol.objective_value, 0, abs_tol=1e-7):\n",
    "        partially_redundant.add(cpd)\n",
    "        print(\"partially redundant\", cpd, \"\\nobjective value:\", sol.objective_value)\n",
    "if not redundnant_cpds:\n",
    "    print(\"The media is minimal.\")"
   ]
  },
  {
   "cell_type": "markdown",
   "id": "d837363d-aaaa-4bb1-ad4e-83b5d1180a97",
   "metadata": {},
   "source": [
    "# Chris' original code"
   ]
  },
  {
   "cell_type": "code",
   "execution_count": 4,
   "id": "1cc6bd3e-67fc-4857-ada6-2e3e3945bd95",
   "metadata": {},
   "outputs": [],
   "source": [
    "from cobra import Model, Reaction, Metabolite\n",
    "from modelseedpy import MSCommunity, MSModelUtil\n",
    "import re\n",
    "\n",
    "def build_from_species_models(models, mdlid=None, name=None, names=[], abundances=None):\n",
    "    \"\"\"Merges the input list of single species metabolic models into a community metabolic model\n",
    "\n",
    "    Parameters\n",
    "    ----------\n",
    "    models : list<Cobra.Model>\n",
    "        List of models to be merged into a community model\n",
    "    mdlid : string\n",
    "        String specifying community model ID\n",
    "    name : string\n",
    "        String specifying community model name\n",
    "    names : list<string>\n",
    "        List of human readable names for models being merged\n",
    "    abundances : dict<string,float>\n",
    "        Hash of relative abundances for input models in community model\n",
    "\n",
    "    Returns\n",
    "    -------\n",
    "    Cobra.Model\n",
    "        Community model object\n",
    "\n",
    "    Raises\n",
    "    ------\n",
    "    \"\"\"\n",
    "    newmodel = Model(mdlid, name)\n",
    "    newutl = MSModelUtil(newmodel)\n",
    "    biomass_compounds = []\n",
    "    index = 1\n",
    "    biomass_index = 2\n",
    "    for model in models:\n",
    "        new_metabolites = []\n",
    "        new_reactions = []\n",
    "        # Rename metabolites\n",
    "        for met in model.metabolites:\n",
    "            # Renaming compartments\n",
    "            if re.search('[a-z+](\\d*)$', met.compartment):\n",
    "                m = re.search('([a-z]+)(\\d*)$', met.compartment)\n",
    "                if len(m[2]) == 0:\n",
    "                    if m[1] == \"e\":\n",
    "                        met.compartment += \"0\"\n",
    "                    else:\n",
    "                        met.compartment += str(index)\n",
    "                elif m[1] == \"e\":\n",
    "                    met.compartment = m[1] + \"0\"\n",
    "                else:\n",
    "                    met.compartment = m[1] + str(index)\n",
    "            # Processing metabolite ID\n",
    "            output = MSModelUtil.parse_id(met)\n",
    "            if output == None:\n",
    "                if met.compartment[0] != \"e\":\n",
    "                    met.id += str(index)\n",
    "            elif output[1] != \"e\":\n",
    "                if output[2] == 0:\n",
    "                    met.id = met.id + str(index)\n",
    "                else:\n",
    "                    met.id = output[0] + \"_\" + output[1] + str(index)\n",
    "            if met.id not in newmodel.metabolites:\n",
    "                new_metabolites.append(met)\n",
    "                if met.id == \"cpd11416\":\n",
    "                    biomass_compounds.append(met)\n",
    "        # Rename reactions\n",
    "        for rxn in model.reactions:\n",
    "            if rxn.id[0:3] != \"EX_\":\n",
    "                if re.search('^(bio)(\\d+)$', rxn.id) != None:\n",
    "                    rxn.id = \"bio\" + str(biomass_index)\n",
    "                    biomass_index += 1\n",
    "                else:\n",
    "                    output = MSModelUtil.parse_id(rxn)\n",
    "                    if output == None:\n",
    "                        if rxn.compartment.id[0] != \"e\":\n",
    "                            rxn.id += str(index)\n",
    "                    elif output[1] != \"e\":\n",
    "                        if output[2] == 0:\n",
    "                            rxn.id = rxn.id + str(index)\n",
    "                        else:\n",
    "                            rxn.id = output[0] + \"_\" + output[1] + str(index)\n",
    "            if rxn.id not in newmodel.reactions:\n",
    "                new_reactions.append(rxn)\n",
    "        # Adding new reactions and compounds to base model\n",
    "        newmodel.add_reactions(new_reactions)\n",
    "        newmodel.add_metabolites(new_metabolites)\n",
    "        index += 1\n",
    "    # Create community biomass\n",
    "    comm_biomass = Metabolite(\"cpd11416_c0\", None, \"Community biomass\", 0, \"c0\")\n",
    "    metabolites = {comm_biomass: 1}\n",
    "    comm_biorxn = Reaction(id=\"bio1\", name=\"bio1\", lower_bound=0, upper_bound=100)\n",
    "    count = len(biomass_compounds)\n",
    "    for cpd in biomass_compounds:\n",
    "        metabolites[cpd] = -1 / count\n",
    "    comm_biorxn.add_metabolites(metabolites)\n",
    "    newmodel.add_reactions([comm_biorxn])\n",
    "    newutl.add_exchanges_for_metabolites([comm_biomass], 0, 100, 'SK_')\n",
    "    return newutl.model # MSCommunity(newmodel, None, names, abundances)"
   ]
  },
  {
   "cell_type": "code",
   "execution_count": 6,
   "id": "573a0c06-ad49-46ad-9b25-4d8ecf1508d4",
   "metadata": {},
   "outputs": [],
   "source": [
    "old_model = build_from_species_models(models)"
   ]
  },
  {
   "cell_type": "code",
   "execution_count": 8,
   "id": "f5a6fa04-d9fd-4646-8d10-bca719822178",
   "metadata": {},
   "outputs": [],
   "source": [
    "new_com_model = kbase.get_from_ws(\"93465/71/1\")"
   ]
  },
  {
   "cell_type": "code",
   "execution_count": 6,
   "id": "812208b4-e5fe-4560-836d-e8fee4920735",
   "metadata": {},
   "outputs": [
    {
     "name": "stdout",
     "output_type": "stream",
     "text": [
      "4139 4144\n",
      "7173\n",
      "Counter({'_c1': 1345, '_c2': 1246, '_p1': 1022, '_e0': 513, '_s2': 4, '_f1': 1, '_n2': 1, '_l2': 1, '_m2': 1, '_c0': 1})\n",
      "Counter({'_c2': 1833, '_c1': 1249, '_e0': 822, '_p2': 227, '_s2': 4, '_f1': 1, '_n2': 1, '_l2': 1, '_m2': 1, '_c0': 1})\n"
     ]
    }
   ],
   "source": [
    "from collections import Counter\n",
    "import re\n",
    "\n",
    "# compare reactions\n",
    "kbase_rxns = set([rxn.id for rxn in com_model.reactions])\n",
    "ms_rxns = set([rxn.id for rxn in comm_model.reactions])\n",
    "print(len(kbase_rxns), len(ms_rxns))\n",
    "print(len(kbase_rxns.symmetric_difference(ms_rxns)))\n",
    "kbase_rxns_comps = Counter([re.search(r\"(_[a-z][0-9])\", rxnID).group() for rxnID in kbase_rxns if re.search(r\"(_[a-z][0-9])\", rxnID)])\n",
    "ms_rxns_comps = Counter([re.search(r\"(_[a-z][0-9])\", rxnID).group() for rxnID in ms_rxns if re.search(r\"(_[a-z][0-9])\", rxnID)])\n",
    "print(kbase_rxns_comps)\n",
    "print(ms_rxns_comps)"
   ]
  },
  {
   "cell_type": "code",
   "execution_count": 9,
   "id": "b321e19b-076e-437c-8fb7-cc228ee4501d",
   "metadata": {},
   "outputs": [
    {
     "name": "stdout",
     "output_type": "stream",
     "text": [
      "Counter({'_c1': 1357, '_c2': 1246, '_p1': 1022, '_e0': 501, '_s2': 4, '_f1': 1, '_n2': 1, '_l2': 1, '_m2': 1, '_c0': 1})\n"
     ]
    }
   ],
   "source": [
    "new_com_model_rxns = set([rxn.id for rxn in new_com_model.reactions])\n",
    "new_com_model_rxns_comps = Counter([re.search(r\"(_[a-z][0-9])\", rxnID).group() for rxnID in new_com_model_rxns if re.search(r\"(_[a-z][0-9])\", rxnID)])\n",
    "print(new_com_model_rxns_comps)"
   ]
  },
  {
   "cell_type": "code",
   "execution_count": 7,
   "id": "a41818e6-710c-4ca4-81dc-9a33bb50d6dc",
   "metadata": {},
   "outputs": [
    {
     "name": "stdout",
     "output_type": "stream",
     "text": [
      "Counter({'_c0': 1249, '_e0': 273, '_s2': 4, '_f1': 1, '_n2': 1, '_l2': 1, '_m2': 1})\n",
      "Counter({'_c0': 1833, '_e0': 664, '_p0': 227})\n"
     ]
    }
   ],
   "source": [
    "model1_rxns = set([rxn.id for rxn in model1.reactions])\n",
    "model1_rxns_comps = Counter([re.search(r\"(_[a-z][0-9])\", rxnID).group() for rxnID in model1_rxns if re.search(r\"(_[a-z][0-9])\", rxnID)])\n",
    "\n",
    "model2_rxns = set([rxn.id for rxn in model2.reactions])\n",
    "model2_rxns_comps = Counter([re.search(r\"(_[a-z][0-9])\", rxnID).group() for rxnID in model2_rxns if re.search(r\"(_[a-z][0-9])\", rxnID)])\n",
    "\n",
    "print(model1_rxns_comps)\n",
    "print(model2_rxns_comps)"
   ]
  },
  {
   "cell_type": "code",
   "execution_count": null,
   "id": "fcf95b64-6666-4e4e-a4b0-923f31cf25c2",
   "metadata": {},
   "outputs": [],
   "source": [
    "Counter({'_c2': 1833, '_c1': 1249, '_e0': 823, '_p2': 227, '_s2': 4, '_l2': 1, '_c0': 1, '_m2': 1, '_f1': 1, '_n2': 1}) # chris'\n",
    "Counter({'_c2': 1833, '_c1': 1249, '_e0': 822, '_p2': 227, '_s2': 4, '_f1': 1, '_m2': 1, '_n2': 1, '_c0': 1, '_l2': 1}) # Andrew's"
   ]
  },
  {
   "cell_type": "markdown",
   "id": "6f93aeec-c2d4-4853-99d5-d416b684926c",
   "metadata": {},
   "source": [
    "# TODO - investigate the p1 => p2 discrepancy\n",
    "# TODO - trace a few deviating reactions through the merging operations\n",
    "# TODO - build a community from modelseed models\n",
    "# TODO - a dictionary between the compartments and the corresponding organisms in a community should be provided to facilitate user intuition"
   ]
  }
 ],
 "metadata": {
  "kernelspec": {
   "display_name": "Python 3 (ipykernel)",
   "language": "python",
   "name": "python3"
  },
  "language_info": {
   "codemirror_mode": {
    "name": "ipython",
    "version": 3
   },
   "file_extension": ".py",
   "mimetype": "text/x-python",
   "name": "python",
   "nbconvert_exporter": "python",
   "pygments_lexer": "ipython3",
   "version": "3.9.12"
  }
 },
 "nbformat": 4,
 "nbformat_minor": 5
}
