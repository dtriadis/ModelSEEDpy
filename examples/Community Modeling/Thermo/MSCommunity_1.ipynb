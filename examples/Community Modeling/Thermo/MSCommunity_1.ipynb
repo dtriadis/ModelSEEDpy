{
 "cells": [
  {
   "cell_type": "markdown",
   "metadata": {},
   "source": [
    "# Import KBase and cFBA"
   ]
  },
  {
   "cell_type": "code",
   "execution_count": 1,
   "metadata": {
    "scrolled": true
   },
   "outputs": [
    {
     "name": "stdout",
     "output_type": "stream",
     "text": [
      "cobrakbase 0.3.1\n"
     ]
    }
   ],
   "source": [
    "# import kbase\n",
    "import os\n",
    "local_cobrakbase_path = os.path.join('C:', 'Users', 'Andrew Freiburger','Documents','Argonne','cobrakbase')\n",
    "os.environ[\"HOME\"] = local_cobrakbase_path\n",
    "import cobrakbase\n",
    "with open(\"D:/Users/Andrew Freiburger/Documents/Argonne/kbase_token.txt\") as token_file:\n",
    "    kbase = cobrakbase.KBaseAPI(token_file.readline())\n",
    "\n",
    "# ecoli = kbase.get_from_ws(\"iML1515\",76994)\n",
    "# ah991 = kbase.get_from_ws(\"iAH991V2\", 93832)\n",
    "AP49 = kbase.get_from_ws(\"Sphingobium_AP49_pacbio_v2.RAST.fbamodel\", 114731)\n",
    "BC15 = kbase.get_from_ws(\"Bacillus_sp._bc15.RAST.fbamodel\", 114731)\n",
    "AP49_BC15_model = kbase.get_from_ws(\"AP49-BC15\",114731)\n",
    "# pf = kbase.get_from_ws(\"iSB1139.kb.gf\",30650)\n",
    "\n",
    "# import cFBA\n",
    "# %run ../../modelseedpy/community/mscommunity.py\n",
    "# %matplotlib inline"
   ]
  },
  {
   "cell_type": "code",
   "execution_count": 2,
   "metadata": {
    "scrolled": true
   },
   "outputs": [],
   "source": [
    "model1 = kbase.get_from_ws(\"E_iAH991V2\",40576)\n",
    "model2 = kbase.get_from_ws(\"E_iML1515.kb\",40576)\n",
    "com_model = kbase.get_from_ws(\"CMM_iAH991V2_iML1515.kb\",40576)"
   ]
  },
  {
   "cell_type": "markdown",
   "metadata": {},
   "source": [
    "# construct the community model"
   ]
  },
  {
   "cell_type": "code",
   "execution_count": 3,
   "metadata": {
    "scrolled": true,
    "tags": []
   },
   "outputs": [
    {
     "name": "stderr",
     "output_type": "stream",
     "text": [
      "modelseedpy.community.mscompatibility - ERROR - The Bacteroides_thetaiotaomicron_VPI-5482.fbamdl.23 model has residual non-standard metabolites in its exchange reactions: {'Ser_Thr_e0', 'cps_bt_e0', 'hspg_degr_10_e0', 'acerA_e0', 'acgalidour_e0', 'fucneulacnhx_e0', 'mantr_e0', 'mbenz_e0', 'unsdigalur_e0', 'kestopt_e0', 'glyasp_e0', 'strch2_e0', '2omxyl_e0', 'strch1_e0', 'manb_e0', 'levanttr_e0', 'hspg_degr_7_e0', 'ha_e0', 'stys_e0', 'isocapr_e0', 'cspg_a_e0', 'mqn11_e0', 'metala_e0', 'apio_D_e0', 'arabinogal_e0', 'T_antigen_e0', 'chtbs_e0', 'mqn10_e0', 'core6_e0', 'mn_e0', 'f1a_e0', 'glyglu_e0', '3ddlhept_e0', 'alaasp_e0', 'sT_antigen_e0', 'galam_e0', 'gncore2_e0', 'cspg_b_degr_e0', 'phppa_e0', 'hspg_degr_5_e0', 'm2mn_e0', 'glyasn_e0', 'hspg_degr_3_e0', 'hspg_degr_8_e0', 'glycogen1500_e0', 'neulacnttr_e0', 'leugly_e0', 'isobut_e0', '2fuclac_e0', 's2l2n2m2m_e0', 'pect_e0', 'lacnfucpt_e0', 'kesto_e0', 'argarg_e0', 'gncore1_e0', 'cspg_a_degr_e0', 'cspg_c_rest_e0', 'mqn9_e0', 'core4_e0', 'dt5hsu_e0', 'core2_e0', 'lmn2_e0', 'pullulan1200_e0', 'hspg_degr_4_e0', 'starch1200_e0', 's2l2n2m2mn_e0', 's2l2n2m2masn_e0', 'cspg_ab_rest_e0', 'levan1000_e0', '3fuclac_e0', 'plac_e0', 'glypro_e0', 'ha_pre1_e0', 'lacdfucttr_e0', 'hspg_degr_14_e0', 'ha_deg1_e0', 'hspg_e0', 'kestottr_e0', 'hspg_degr_13_e0', 'core5_e0', 'cspg_b_e0', '12ethd_e0', 'hspg_degr_12_e0', 'dsT_antigen_e0', 'alathr_e0', 'lacndfuchx_e0', 'acgalidour2s_e0', 'gchola_e0', 'l2n2m2mn_e0', 'hspg_degr_11_e0', 'lacnnttr_e0', 'amylose300_e0', 'acgalglcur_e0', '7ocholate_e0', 'core3_e0', 'hspg_degr_9_e0', '2omfuc_e0', 'idour_e0', 'lmn30_e0', 'hspg_degr_1_e0', 'leuleu_e0', 'arabinan101_e0', 'gam26s_e0', 'alaglu_e0', 'alagly_e0', 'hspg_rest_e0', 'Tn_antigen_e0', 'rhamnogalurI_e0', 'core8_e0', 'amannan140_e0', 's2l2fn2m2masn_e0', 'pecticgal_e0', 'core7_e0', 'phearg_e0', 'manpt_e0', 'arabttr_e0', 'hspg_degr_6_e0', 'lps_bt_e0', 'sphmyln_bt_e0', 'levantttr_e0', 'sTn_antigen_e0', 'homogal_e0', 'cspg_c_e0', 'pe_cer1_bt_e0', 'n2m2mn_e0', 'hspg_degr_15_e0', 'indlac_e0', 'rhamnogalurII_e0', 'cspg_c_degr_e0', 'hspg_degr_2_e0', 'levanb_e0', 'manttr_e0', 'isoval_e0', 'lacnttr_e0', 'oligofru4_e0'}. Specify a True `printing` parameter to view why these metabolites were not corrected.\n"
     ]
    },
    {
     "name": "stdout",
     "output_type": "stream",
     "text": [
      "\n",
      "\n",
      "\n",
      "Align exchange reactions in Bacteroides_thetaiotaomicron_VPI-5482.fbamdl.23 \n",
      " ==============================================================================\n"
     ]
    },
    {
     "name": "stderr",
     "output_type": "stream",
     "text": [
      "modelseedpy.core.msmodel - ERROR - The [0, 0] bounds are not amenable with a direction string.\n",
      "modelseedpy.community.mscompatibility - ERROR - The iML1515 model has residual non-standard metabolites in its exchange reactions: {'4abzglu-e_e0', 'sq-e_e0', 'colipap-e_e0', 'tartr-D-e_e0', 'metglcur-e_e0', 'metsox-R-L-e_e0', 'dhps-e_e0', 'metsox-S-L-e_e0'}. Specify a True `printing` parameter to view why these metabolites were not corrected.\n"
     ]
    },
    {
     "name": "stdout",
     "output_type": "stream",
     "text": [
      "\n",
      "\n",
      "\n",
      "Align exchange reactions in iML1515 \n",
      " ======================================\n",
      "\n",
      "\n",
      "0 exchange reactions were substituted and 0 exchange metabolite IDs were redefined by align_exchanges().\n",
      "[<ModelCompound cpd11416_c1 at 0x1a42a6dcb20>, <Metabolite cpd11416_c0 at 0x1a4341d0f70>]\n",
      "<Solution 86.916 at 0x1a42c7dbf70>\n",
      "<Solution 71.831 at 0x1a42c7db610>\n"
     ]
    }
   ],
   "source": [
    "%run ../../modelseedpy/community/commhelper.py\n",
    "\n",
    "comm_model2 = build_from_species_models([model1, model2], cobra_model=True)\n",
    "print(comm_model2.optimize())\n",
    "print(com_model.optimize())"
   ]
  },
  {
   "cell_type": "code",
   "execution_count": 4,
   "metadata": {
    "scrolled": true,
    "tags": []
   },
   "outputs": [
    {
     "name": "stdout",
     "output_type": "stream",
     "text": [
      "\n",
      "\n",
      "\n",
      "Align exchange reactions in Bacillus_sp._bc15.RAST.fbamodel \n",
      " ==============================================================\n",
      "\n",
      "\n",
      "\n",
      "Align exchange reactions in Sphingobium_AP49_pacbio_v2.RAST.fbamodel \n",
      " =======================================================================\n",
      "\n",
      "\n",
      "0 exchange reactions were substituted and 0 exchange metabolite IDs were redefined by align_exchanges().\n",
      "[<ModelCompound cpd11416_c2 at 0x1a426cb3f10>, <ModelCompound cpd11416_c1 at 0x1a4271929a0>, <Metabolite cpd11416_c0 at 0x1a42d08b700>]\n"
     ]
    }
   ],
   "source": [
    "%run ../../modelseedpy/community/commhelper.py\n",
    "\n",
    "comm_model = build_from_species_models([BC15, AP49], cobra_model=True)"
   ]
  },
  {
   "cell_type": "code",
   "execution_count": 8,
   "metadata": {
    "scrolled": true
   },
   "outputs": [
    {
     "data": {
      "text/plain": [
       "[<ModelCompound cpd11416_c0 at 0x1a4271eb2e0>,\n",
       " <ModelCompound cpd11416_c1 at 0x1a42813cd00>,\n",
       " <ModelCompound cpd11416_c2 at 0x1a429683a90>]"
      ]
     },
     "execution_count": 8,
     "metadata": {},
     "output_type": "execute_result"
    }
   ],
   "source": [
    "from modelseedpy import MSModelUtil\n",
    "\n",
    "msutil = MSModelUtil(AP49_BC15_model)\n",
    "msid_cobraid_hash = msutil.msid_hash()\n",
    "msid_cobraid_hash[\"cpd11416\"]"
   ]
  },
  {
   "cell_type": "code",
   "execution_count": 5,
   "metadata": {
    "scrolled": true
   },
   "outputs": [
    {
     "name": "stdout",
     "output_type": "stream",
     "text": [
      "<Solution 100.000 at 0x1a43527c640>\n",
      "<Solution 59.661 at 0x1a43527c880>\n"
     ]
    }
   ],
   "source": [
    "print(comm_model.optimize())\n",
    "print(AP49_BC15_model.optimize())"
   ]
  },
  {
   "cell_type": "code",
   "execution_count": 6,
   "metadata": {
    "scrolled": true
   },
   "outputs": [
    {
     "name": "stdout",
     "output_type": "stream",
     "text": [
      "Maximize\n",
      "1.0*bio1 - 1.0*bio1_reverse_b18f7\n",
      "Maximize\n",
      "1.0*bio3 - 1.0*bio3_reverse_69e6e\n"
     ]
    }
   ],
   "source": [
    "print(comm_model.objective)\n",
    "print(AP49_BC15_model.objective)"
   ]
  },
  {
   "cell_type": "code",
   "execution_count": 7,
   "metadata": {
    "scrolled": true
   },
   "outputs": [
    {
     "ename": "KeyboardInterrupt",
     "evalue": "",
     "output_type": "error",
     "traceback": [
      "\u001b[1;31m---------------------------------------------------------------------------\u001b[0m",
      "\u001b[1;31mKeyboardInterrupt\u001b[0m                         Traceback (most recent call last)",
      "Cell \u001b[1;32mIn[7], line 2\u001b[0m\n\u001b[0;32m      1\u001b[0m model1 \u001b[38;5;241m=\u001b[39m kbase\u001b[38;5;241m.\u001b[39mget_from_ws(\u001b[38;5;124m\"\u001b[39m\u001b[38;5;124mE_iAH991V2\u001b[39m\u001b[38;5;124m\"\u001b[39m,\u001b[38;5;241m40576\u001b[39m)\n\u001b[1;32m----> 2\u001b[0m model2 \u001b[38;5;241m=\u001b[39m \u001b[43mkbase\u001b[49m\u001b[38;5;241;43m.\u001b[39;49m\u001b[43mget_from_ws\u001b[49m\u001b[43m(\u001b[49m\u001b[38;5;124;43m\"\u001b[39;49m\u001b[38;5;124;43mE_iML1515.kb\u001b[39;49m\u001b[38;5;124;43m\"\u001b[39;49m\u001b[43m,\u001b[49m\u001b[38;5;241;43m40576\u001b[39;49m\u001b[43m)\u001b[49m\n\u001b[0;32m      3\u001b[0m com_model \u001b[38;5;241m=\u001b[39m kbase\u001b[38;5;241m.\u001b[39mget_from_ws(\u001b[38;5;124m\"\u001b[39m\u001b[38;5;124mCMM_iAH991V2_iML1515.kb\u001b[39m\u001b[38;5;124m\"\u001b[39m,\u001b[38;5;241m40576\u001b[39m)\n",
      "File \u001b[1;32m~\\AppData\\Local\\Programs\\Python\\Python39\\lib\\site-packages\\cobrakbase\\kbaseapi.py:222\u001b[0m, in \u001b[0;36mKBaseAPI.get_from_ws\u001b[1;34m(self, id_or_ref, workspace)\u001b[0m\n\u001b[0;32m    220\u001b[0m     \u001b[38;5;28;01mreturn\u001b[39;00m \u001b[38;5;28;01mNone\u001b[39;00m\n\u001b[0;32m    221\u001b[0m factory \u001b[38;5;241m=\u001b[39m KBaseObjectFactory()\n\u001b[1;32m--> 222\u001b[0m \u001b[38;5;28;01mreturn\u001b[39;00m \u001b[43mfactory\u001b[49m\u001b[38;5;241;43m.\u001b[39;49m\u001b[43mcreate\u001b[49m\u001b[43m(\u001b[49m\u001b[43mres\u001b[49m\u001b[43m,\u001b[49m\u001b[43m \u001b[49m\u001b[38;5;28;43;01mNone\u001b[39;49;00m\u001b[43m)\u001b[49m\n",
      "File \u001b[1;32m~\\AppData\\Local\\Programs\\Python\\Python39\\lib\\site-packages\\cobrakbase\\core\\kbase_object_factory.py:94\u001b[0m, in \u001b[0;36mKBaseObjectFactory.create\u001b[1;34m(self, ws_output, object_type)\u001b[0m\n\u001b[0;32m     93\u001b[0m \u001b[38;5;28;01mdef\u001b[39;00m \u001b[38;5;21mcreate\u001b[39m(\u001b[38;5;28mself\u001b[39m, ws_output, object_type):\n\u001b[1;32m---> 94\u001b[0m     \u001b[38;5;28;01mreturn\u001b[39;00m \u001b[38;5;28;43mself\u001b[39;49m\u001b[38;5;241;43m.\u001b[39;49m\u001b[43mbuild_object_from_ws\u001b[49m\u001b[43m(\u001b[49m\u001b[43mws_output\u001b[49m\u001b[43m,\u001b[49m\u001b[43m \u001b[49m\u001b[43mobject_type\u001b[49m\u001b[43m)\u001b[49m\n",
      "File \u001b[1;32m~\\AppData\\Local\\Programs\\Python\\Python39\\lib\\site-packages\\cobrakbase\\core\\kbase_object_factory.py:89\u001b[0m, in \u001b[0;36mKBaseObjectFactory.build_object_from_ws\u001b[1;34m(self, ws_output, object_type)\u001b[0m\n\u001b[0;32m     86\u001b[0m info \u001b[38;5;241m=\u001b[39m KBaseObjectInfo(ws_data[\u001b[38;5;124m\"\u001b[39m\u001b[38;5;124minfo\u001b[39m\u001b[38;5;124m\"\u001b[39m])\n\u001b[0;32m     88\u001b[0m \u001b[38;5;28;01mif\u001b[39;00m info \u001b[38;5;129;01mand\u001b[39;00m info\u001b[38;5;241m.\u001b[39mtype \u001b[38;5;129;01mand\u001b[39;00m info\u001b[38;5;241m.\u001b[39mtype \u001b[38;5;129;01min\u001b[39;00m \u001b[38;5;28mself\u001b[39m\u001b[38;5;241m.\u001b[39mobject_mapper:\n\u001b[1;32m---> 89\u001b[0m     \u001b[38;5;28;01mreturn\u001b[39;00m \u001b[38;5;28;43mself\u001b[39;49m\u001b[38;5;241;43m.\u001b[39;49m\u001b[43mobject_mapper\u001b[49m\u001b[43m[\u001b[49m\u001b[43minfo\u001b[49m\u001b[38;5;241;43m.\u001b[39;49m\u001b[43mtype\u001b[49m\u001b[43m]\u001b[49m\u001b[43m(\u001b[49m\u001b[43mdata\u001b[49m\u001b[43m,\u001b[49m\u001b[43m \u001b[49m\u001b[43minfo\u001b[49m\u001b[43m,\u001b[49m\u001b[43m \u001b[49m\u001b[43margs\u001b[49m\u001b[43m)\u001b[49m\n\u001b[0;32m     91\u001b[0m \u001b[38;5;28;01mreturn\u001b[39;00m KBaseObject(data, info, args)\n",
      "File \u001b[1;32m~\\AppData\\Local\\Programs\\Python\\Python39\\lib\\site-packages\\cobrakbase\\core\\kbase_object_factory.py:22\u001b[0m, in \u001b[0;36m_build_model\u001b[1;34m(x, y, z)\u001b[0m\n\u001b[0;32m     21\u001b[0m \u001b[38;5;28;01mdef\u001b[39;00m \u001b[38;5;21m_build_model\u001b[39m(x, y, z):\n\u001b[1;32m---> 22\u001b[0m     \u001b[38;5;28;01mreturn\u001b[39;00m \u001b[43mFBAModelBuilder\u001b[49m\u001b[38;5;241;43m.\u001b[39;49m\u001b[43mfrom_kbase_json\u001b[49m\u001b[43m(\u001b[49m\u001b[43mx\u001b[49m\u001b[43m,\u001b[49m\u001b[43m \u001b[49m\u001b[43my\u001b[49m\u001b[43m,\u001b[49m\u001b[43m \u001b[49m\u001b[43mz\u001b[49m\u001b[43m)\u001b[49m\u001b[38;5;241;43m.\u001b[39;49m\u001b[43mbuild\u001b[49m\u001b[43m(\u001b[49m\u001b[43m)\u001b[49m\n",
      "File \u001b[1;32m~\\AppData\\Local\\Programs\\Python\\Python39\\lib\\site-packages\\cobrakbase\\core\\kbasefba\\fbamodel_builder.py:345\u001b[0m, in \u001b[0;36mFBAModelBuilder.build\u001b[1;34m(self)\u001b[0m\n\u001b[0;32m    343\u001b[0m model\u001b[38;5;241m.\u001b[39mcompartments \u001b[38;5;241m=\u001b[39m \u001b[38;5;28mself\u001b[39m\u001b[38;5;241m.\u001b[39mcompartments\n\u001b[0;32m    344\u001b[0m model\u001b[38;5;241m.\u001b[39madd_metabolites(\u001b[38;5;28mlist\u001b[39m(\u001b[38;5;28mself\u001b[39m\u001b[38;5;241m.\u001b[39mmetabolites\u001b[38;5;241m.\u001b[39mvalues()))\n\u001b[1;32m--> 345\u001b[0m \u001b[43mmodel\u001b[49m\u001b[38;5;241;43m.\u001b[39;49m\u001b[43madd_reactions\u001b[49m\u001b[43m(\u001b[49m\u001b[38;5;28;43mlist\u001b[39;49m\u001b[43m(\u001b[49m\u001b[38;5;28;43mself\u001b[39;49m\u001b[38;5;241;43m.\u001b[39;49m\u001b[43mreactions\u001b[49m\u001b[38;5;241;43m.\u001b[39;49m\u001b[43mvalues\u001b[49m\u001b[43m(\u001b[49m\u001b[43m)\u001b[49m\u001b[43m)\u001b[49m\u001b[43m)\u001b[49m\n\u001b[0;32m    346\u001b[0m model\u001b[38;5;241m.\u001b[39madd_groups(\u001b[38;5;28mlist\u001b[39m(complex_groups\u001b[38;5;241m.\u001b[39mvalues()))\n\u001b[0;32m    347\u001b[0m model\u001b[38;5;241m.\u001b[39mnotes\u001b[38;5;241m.\u001b[39mupdate(cmp_notes)\n",
      "File \u001b[1;32m~\\AppData\\Local\\Programs\\Python\\Python39\\lib\\site-packages\\cobra\\core\\model.py:756\u001b[0m, in \u001b[0;36mModel.add_reactions\u001b[1;34m(self, reaction_list)\u001b[0m\n\u001b[0;32m    753\u001b[0m     context(partial(\u001b[38;5;28mself\u001b[39m\u001b[38;5;241m.\u001b[39mreactions\u001b[38;5;241m.\u001b[39m\u001b[38;5;21m__isub__\u001b[39m, pruned))\n\u001b[0;32m    755\u001b[0m \u001b[38;5;66;03m# from cameo ...\u001b[39;00m\n\u001b[1;32m--> 756\u001b[0m \u001b[38;5;28;43mself\u001b[39;49m\u001b[38;5;241;43m.\u001b[39;49m\u001b[43m_populate_solver\u001b[49m\u001b[43m(\u001b[49m\u001b[43mpruned\u001b[49m\u001b[43m)\u001b[49m\n",
      "File \u001b[1;32m~\\AppData\\Local\\Programs\\Python\\Python39\\lib\\site-packages\\cobra\\core\\model.py:1142\u001b[0m, in \u001b[0;36mModel._populate_solver\u001b[1;34m(self, reaction_list, metabolite_list)\u001b[0m\n\u001b[0;32m   1140\u001b[0m     reverse_variable \u001b[38;5;241m=\u001b[39m reaction\u001b[38;5;241m.\u001b[39mreverse_variable\n\u001b[0;32m   1141\u001b[0m \u001b[38;5;28;01mfor\u001b[39;00m metabolite, coeff \u001b[38;5;129;01min\u001b[39;00m reaction\u001b[38;5;241m.\u001b[39mmetabolites\u001b[38;5;241m.\u001b[39mitems():\n\u001b[1;32m-> 1142\u001b[0m     \u001b[38;5;28;01mif\u001b[39;00m \u001b[43mmetabolite\u001b[49m\u001b[38;5;241;43m.\u001b[39;49m\u001b[43mid\u001b[49m\u001b[43m \u001b[49m\u001b[38;5;129;43;01min\u001b[39;49;00m\u001b[43m \u001b[49m\u001b[38;5;28;43mself\u001b[39;49m\u001b[38;5;241;43m.\u001b[39;49m\u001b[43mconstraints\u001b[49m:\n\u001b[0;32m   1143\u001b[0m         constraint \u001b[38;5;241m=\u001b[39m \u001b[38;5;28mself\u001b[39m\u001b[38;5;241m.\u001b[39mconstraints[metabolite\u001b[38;5;241m.\u001b[39mid]\n\u001b[0;32m   1144\u001b[0m     \u001b[38;5;28;01melse\u001b[39;00m:\n",
      "File \u001b[1;32m~\\AppData\\Local\\Programs\\Python\\Python39\\lib\\site-packages\\optlang\\container.py:67\u001b[0m, in \u001b[0;36mContainer.__contains__\u001b[1;34m(self, item)\u001b[0m\n\u001b[0;32m     66\u001b[0m \u001b[38;5;28;01mdef\u001b[39;00m \u001b[38;5;21m__contains__\u001b[39m(\u001b[38;5;28mself\u001b[39m, item):\n\u001b[1;32m---> 67\u001b[0m     \u001b[38;5;28;01mif\u001b[39;00m item \u001b[38;5;129;01min\u001b[39;00m \u001b[38;5;28;43mself\u001b[39;49m\u001b[38;5;241;43m.\u001b[39;49m\u001b[43m_dict\u001b[49m:\n\u001b[0;32m     68\u001b[0m         \u001b[38;5;28;01mreturn\u001b[39;00m \u001b[38;5;28;01mTrue\u001b[39;00m\n\u001b[0;32m     69\u001b[0m     \u001b[38;5;28;01melif\u001b[39;00m \u001b[38;5;28mhasattr\u001b[39m(item, \u001b[38;5;124m\"\u001b[39m\u001b[38;5;124mname\u001b[39m\u001b[38;5;124m\"\u001b[39m) \u001b[38;5;129;01mand\u001b[39;00m item\u001b[38;5;241m.\u001b[39mname \u001b[38;5;129;01min\u001b[39;00m \u001b[38;5;28mself\u001b[39m\u001b[38;5;241m.\u001b[39m_dict:\n",
      "\u001b[1;31mKeyboardInterrupt\u001b[0m: "
     ]
    }
   ],
   "source": [
    "model1 = kbase.get_from_ws(\"E_iAH991V2\",40576)\n",
    "model2 = kbase.get_from_ws(\"E_iML1515.kb\",40576)\n",
    "com_model = kbase.get_from_ws(\"CMM_iAH991V2_iML1515.kb\",40576)"
   ]
  },
  {
   "cell_type": "code",
   "execution_count": null,
   "metadata": {
    "scrolled": true
   },
   "outputs": [],
   "source": [
    "%run ../../modelseedpy/community/commhelper.py\n",
    "\n",
    "comm_model2 = build_from_species_models([model1, model2], cobra_model=True)"
   ]
  },
  {
   "cell_type": "code",
   "execution_count": null,
   "metadata": {
    "scrolled": true
   },
   "outputs": [],
   "source": [
    "print(comm_model2.objective)\n",
    "print(comm_model2.optimize())\n",
    "\n",
    "print(com_model.objective)\n",
    "print(com_model.optimize())"
   ]
  },
  {
   "cell_type": "code",
   "execution_count": null,
   "metadata": {
    "scrolled": true
   },
   "outputs": [],
   "source": [
    "print(comm_model2.medium == com_model.medium)\n",
    "# print(comm_model2.medium)\n",
    "# print(com_model.medium)"
   ]
  },
  {
   "cell_type": "code",
   "execution_count": null,
   "metadata": {
    "scrolled": true
   },
   "outputs": [],
   "source": [
    "print(comm_model2.sinks, com_model.sinks)"
   ]
  },
  {
   "cell_type": "code",
   "execution_count": null,
   "metadata": {
    "scrolled": true
   },
   "outputs": [],
   "source": [
    "# print(com_model.reactions.cpd02701_c1)"
   ]
  },
  {
   "cell_type": "code",
   "execution_count": null,
   "metadata": {
    "scrolled": true
   },
   "outputs": [],
   "source": [
    "from cobra.core import Reaction\n",
    "sk1 = Reaction('SK_cpd11416_c1', '', '', 0, 1000)\n",
    "sk1.add_metabolites({com_model.metabolites.cpd11416_c1: -1})\n",
    "sk2 = Reaction('SK_cpd11416_c2', '', '', 0, 1000)\n",
    "sk2.add_metabolites({com_model.metabolites.cpd11416_c2: -1})\n",
    "sk2 = Reaction('SK_cpd02701_c1', '', '', 0, 1000)\n",
    "sk2.add_metabolites({com_model.metabolites.cpd02701_c1: -1})\n",
    "sk2 = Reaction('SK_cpd11416_c2', '', '', 0, 1000)\n",
    "sk2.add_metabolites({com_model.metabolites.cpd11416_c2: -1})\n",
    "model.add_reactions([sk1, sk2])"
   ]
  },
  {
   "cell_type": "code",
   "execution_count": null,
   "metadata": {
    "scrolled": true
   },
   "outputs": [],
   "source": [
    "from deepdiff import DeepDiff\n",
    "print(DeepDiff(comm_model2.sinks, com_model.sinks))"
   ]
  },
  {
   "cell_type": "code",
   "execution_count": null,
   "metadata": {
    "scrolled": true
   },
   "outputs": [],
   "source": [
    "from deepdiff import DeepDiff\n",
    "print(DeepDiff(comm_model2.reactions, com_model.reactions))"
   ]
  },
  {
   "cell_type": "code",
   "execution_count": null,
   "metadata": {
    "scrolled": true
   },
   "outputs": [],
   "source": [
    "from cobra.io import load_json_model\n",
    "ecoli_json = load_json_model(\"../../../../ProjectNotebooks/CommunityModeling/CommFitting/ecoli.json\")\n",
    "pf_json = load_json_model(\"../../../../ProjectNotebooks/CommunityModeling/CommFitting/pf.json\")"
   ]
  },
  {
   "cell_type": "code",
   "execution_count": null,
   "metadata": {
    "scrolled": true
   },
   "outputs": [],
   "source": [
    "ecoli.reactions.bio1"
   ]
  },
  {
   "cell_type": "markdown",
   "metadata": {},
   "source": [
    "### Examine the community model"
   ]
  },
  {
   "cell_type": "code",
   "execution_count": null,
   "metadata": {
    "scrolled": true
   },
   "outputs": [],
   "source": [
    "# print(dir(model.objective))\n",
    "display(model.objective.expression)\n",
    "display(model.reactions.bio1)"
   ]
  },
  {
   "cell_type": "code",
   "execution_count": null,
   "metadata": {
    "scrolled": true
   },
   "outputs": [],
   "source": [
    "print([rxn.id for rxn in comm_model.reactions if \"bio\" in rxn.id])\n",
    "print(\"ah991\\t\", ah991.optimize())\n",
    "print(\"pf\\t\", pf.optimize())\n",
    "print(\"community\\t\", comm_model.optimize())"
   ]
  },
  {
   "cell_type": "code",
   "execution_count": null,
   "metadata": {
    "scrolled": true,
    "tags": []
   },
   "outputs": [],
   "source": [
    "print([rxn.id for rxn in ah991.reactions if re.search(r\"_c\\d\", rxn.id)]) # \"compartment\" in dir(rxn) and \"c\" in rxn.compartment])\n",
    "print(\"\\n\\n\")\n",
    "print([rxn.id for rxn in comm_model.reactions if re.search(r\"_c\\d\", rxn.id)]) # \"compartment\" in dir(rxn) and \"c\" in comm_model.reactions])"
   ]
  },
  {
   "cell_type": "markdown",
   "metadata": {},
   "source": [
    "# Exchanges equality"
   ]
  },
  {
   "cell_type": "code",
   "execution_count": null,
   "metadata": {
    "scrolled": true
   },
   "outputs": [],
   "source": [
    "total_exchanges = set([rxn.id for rxn in ah991.reactions if re.search(r\"_e\\d\", rxn.id)]+[rxn.id for rxn in pf.reactions if re.search(r\"_e\\d\", rxn.id)])\n",
    "print(\"\\n\\n\")\n",
    "print([rxn.id for rxn in comm_model.reactions if re.search(r\"_e\\d\", rxn.id) and rxn.id not in total_exchanges]) # \"compartment\" in dir(rxn) and \"c\" in comm_model.reactions])"
   ]
  },
  {
   "cell_type": "code",
   "execution_count": null,
   "metadata": {
    "scrolled": true
   },
   "outputs": [],
   "source": [
    "print(len(total_exchanges))\n",
    "print(len([rxn.id for rxn in comm_model.reactions if re.search(r\"_e\\d\", rxn.id)]))"
   ]
  },
  {
   "cell_type": "code",
   "execution_count": null,
   "metadata": {
    "scrolled": true
   },
   "outputs": [],
   "source": [
    "ah991_mets = [met.id[:-1] for met in ah991.metabolites if re.search(r\"_c\\d\", met.id)]\n",
    "pf_mets = [met.id[:-1] for met in pf.metabolites if re.search(r\"_c\\d\", met.id)]\n",
    "comm_mets = [met.id[:-1] for met in comm_model.metabolites if re.search(r\"_c\\d\", met.id)]\n",
    "\n",
    "print(\"\\n\\n\")\n",
    "excess_ah991 = [metID for metID in ah991_mets if metID not in comm_mets]\n",
    "print(excess_ah991)\n",
    "print(\"\\n\\n\")\n",
    "excess_pf = [metID for metID in pf_mets if metID not in comm_mets]\n",
    "print(excess_pf)\n",
    "\n",
    "print(\"\\n\\n\")\n",
    "comm_excess_ah991 = [metID for metID in comm_mets if metID not in ah991_mets]\n",
    "comm_excess_pf = [metID for metID in comm_excess_ah991 if metID not in pf_mets]\n",
    "print(comm_excess_pf)\n",
    "\n",
    "print(\"\\n\\n\")\n",
    "print(len(pf_mets+ah991_mets), len(comm_mets))\n",
    "print(len(set(pf_mets+ah991_mets)) == len(set(comm_mets)))"
   ]
  },
  {
   "cell_type": "code",
   "execution_count": null,
   "metadata": {
    "scrolled": true
   },
   "outputs": [],
   "source": [
    "for rxn in comm_model.reactions:\n",
    "    if \"bio\" in rxn.id:\n",
    "        print(rxn.reaction)"
   ]
  },
  {
   "cell_type": "markdown",
   "metadata": {
    "tags": []
   },
   "source": [
    "# 2-member Zahmeeth model"
   ]
  },
  {
   "cell_type": "markdown",
   "metadata": {},
   "source": [
    "## Unconstained model"
   ]
  },
  {
   "cell_type": "markdown",
   "metadata": {},
   "source": [
    "### Define and execute the model"
   ]
  },
  {
   "cell_type": "code",
   "execution_count": null,
   "metadata": {
    "scrolled": true
   },
   "outputs": [],
   "source": [
    "# import the model\n",
    "# from modelseedpy.fbapkg import kbasemediapkg\n",
    "\n",
    "modelInfo_2 = [\"CMM_iAH991V2_iML1515.kb\",40576]\n",
    "mediaInfo_2 = [\"Btheta_Ecoli_minimal_media\",40576]\n",
    "\n",
    "model = kbase.get_from_ws(modelInfo_2[0],modelInfo_2[1])\n",
    "media = kbase.get_from_ws(mediaInfo_2[0],mediaInfo_2[1])\n",
    "# kmp = kbasemediapkg.KBaseMediaPkg(self.model)\n",
    "# kmp.build_package(media)\n",
    "\n",
    "# simulate and visualize the model\n",
    "%run ../../modelseedpy/community/mscommunity.py\n",
    "cfba = MSCommunity(model)\n",
    "cfba.gapfill(media)\n",
    "sol = cfba.run(media)\n",
    "cross_feeding, exMets = cfba.steadycom(solution=sol, flux_threshold=.1)\n",
    "display(cross_feeding)\n",
    "display(exMets)"
   ]
  },
  {
   "cell_type": "markdown",
   "metadata": {},
   "source": [
    "## FullThermo-constrained model"
   ]
  },
  {
   "cell_type": "markdown",
   "metadata": {},
   "source": [
    "### Define and execute the model"
   ]
  },
  {
   "cell_type": "code",
   "execution_count": null,
   "metadata": {
    "scrolled": true
   },
   "outputs": [],
   "source": [
    "# import the model\n",
    "# from modelseedpy.fbapkg import kbasemediapkg\n",
    "\n",
    "modelInfo_2 = [\"CMM_iAH991V2_iML1515.kb\",40576]\n",
    "mediaInfo_2 = [\"Btheta_Ecoli_minimal_media\",40576]\n",
    "\n",
    "model = kbase.get_from_ws(modelInfo_2[0],modelInfo_2[1])\n",
    "media = kbase.get_from_ws(mediaInfo_2[0],mediaInfo_2[1])\n",
    "# kmp = kbasemediapkg.KBaseMediaPkg(self.model)\n",
    "# kmp.build_package(media)\n",
    "\n",
    "# simulate and visualize the model\n",
    "%run ../../modelseedpy/community/mscommunity.py\n",
    "cfba = MSCommunity(model)\n",
    "cfba.gapfill(media)\n",
    "cfba.constrain(msdb_path = \"../../../ModelSEEDDatabase\")\n",
    "sol = cfba.run(media)\n",
    "cross_feeding, exMets = cfba.steadycom(solution=sol, flux_threshold=.1)\n",
    "display(cross_feeding)\n",
    "display(exMets)"
   ]
  },
  {
   "cell_type": "markdown",
   "metadata": {},
   "source": [
    "# 3-member Electrosynth model"
   ]
  },
  {
   "cell_type": "markdown",
   "metadata": {},
   "source": [
    "## Unconstrained model"
   ]
  },
  {
   "cell_type": "markdown",
   "metadata": {},
   "source": [
    "### Define and execute the model"
   ]
  },
  {
   "cell_type": "code",
   "execution_count": null,
   "metadata": {
    "scrolled": true
   },
   "outputs": [],
   "source": [
    "# import the model\n",
    "# from modelseedpy.fbapkg import kbasemediapkg\n",
    "\n",
    "modelInfo_2 = ['electrosynth_comnty.mdl.gf.2021',93204]\n",
    "mediaInfo_2 = [\"CO2_minimal\",93204]\n",
    "\n",
    "model = kbase.get_from_ws(modelInfo_2[0],modelInfo_2[1])\n",
    "media = kbase.get_from_ws(mediaInfo_2[0],mediaInfo_2[1])\n",
    "# kmp = kbasemediapkg.KBaseMediaPkg(self.model)\n",
    "# kmp.build_package(media)\n",
    "\n",
    "# simulate and visualize the model\n",
    "cfba = MSCommunity(model)\n",
    "cfba.drain_fluxes(media)\n",
    "cfba.gapfill(media)\n",
    "cfba.constrain(media)\n",
    "solution = cfba.run()\n",
    "cfba.compute_interactions(solution)\n",
    "cfba.visualize()"
   ]
  },
  {
   "cell_type": "markdown",
   "metadata": {},
   "source": [
    "## FullThermo-constrained model"
   ]
  },
  {
   "cell_type": "markdown",
   "metadata": {},
   "source": [
    "### Define and execute the model"
   ]
  },
  {
   "cell_type": "code",
   "execution_count": null,
   "metadata": {
    "scrolled": true,
    "tags": []
   },
   "outputs": [],
   "source": [
    "# import the model\n",
    "# from modelseedpy.fbapkg import kbasemediapkg\n",
    "\n",
    "modelInfo_2 = ['electrosynth_comnty.mdl.gf.2021',93204]\n",
    "mediaInfo_2 = [\"CO2_minimal\",93204]\n",
    "\n",
    "model = kbase.get_from_ws(modelInfo_2[0],modelInfo_2[1])\n",
    "media = kbase.get_from_ws(mediaInfo_2[0],mediaInfo_2[1])\n",
    "# kmp = kbasemediapkg.KBaseMediaPkg(self.model)\n",
    "# kmp.build_package(media)\n",
    "\n",
    "# simulate and visualize the model\n",
    "cfba = MSCommunity(model)\n",
    "cfba.drain_fluxes(media)\n",
    "cfba.gapfill(media)\n",
    "cfba.constrain(media, msdb_path_for_fullthermo = ftp_path, verbose = False)\n",
    "solution = cfba.run()\n",
    "cfba.compute_interactions(solution)\n",
    "cfba.visualize()"
   ]
  },
  {
   "cell_type": "markdown",
   "metadata": {},
   "source": [
    "# 2-member Aimee model"
   ]
  },
  {
   "cell_type": "markdown",
   "metadata": {},
   "source": [
    "## Unconstrained model"
   ]
  },
  {
   "cell_type": "markdown",
   "metadata": {},
   "source": [
    "### Chitin media"
   ]
  },
  {
   "cell_type": "code",
   "execution_count": null,
   "metadata": {
    "scrolled": true
   },
   "outputs": [],
   "source": [
    "# import the model\n",
    "%run ../../modelseedpy/core/mscommunity.py\n",
    "# from modelseedpy.fbapkg import kbasemediapkg\n",
    "\n",
    "modelInfo_2 = ['Cjaponicus_Ecoli_Community',97055]\n",
    "mediaInfo_2 = [\"ChitinM9Media\",97055]\n",
    "\n",
    "model = kbase.get_from_ws(modelInfo_2[0],modelInfo_2[1])\n",
    "media = kbase.get_from_ws(mediaInfo_2[0],mediaInfo_2[1])\n",
    "# kmp = kbasemediapkg.KBaseMediaPkg(self.model)\n",
    "# kmp.build_package(media)\n",
    "\n",
    "# simulate and visualize the model\n",
    "cfba = MSCommunity(model)\n",
    "cfba.drain_fluxes(media)\n",
    "cfba.gapfill(media)\n",
    "cfba.constrain(media) \n",
    "solution = cfba.run()\n",
    "cfba.compute_interactions(solution)\n",
    "cfba.visualize()"
   ]
  },
  {
   "cell_type": "markdown",
   "metadata": {},
   "source": [
    "## FullThermo-constrained model"
   ]
  },
  {
   "cell_type": "markdown",
   "metadata": {},
   "source": [
    "### Define and execute the model"
   ]
  },
  {
   "cell_type": "code",
   "execution_count": null,
   "metadata": {
    "scrolled": true
   },
   "outputs": [],
   "source": [
    "# import the model\n",
    "# from modelseedpy.fbapkg import kbasemediapkg\n",
    "\n",
    "modelInfo_2 = ['Cjaponicus_Ecoli_Community',97055]\n",
    "mediaInfo_2 = [\"ChitinM9Media\",97055]\n",
    "\n",
    "model = kbase.get_from_ws(modelInfo_2[0],modelInfo_2[1])\n",
    "media = kbase.get_from_ws(mediaInfo_2[0],mediaInfo_2[1])\n",
    "# kmp = kbasemediapkg.KBaseMediaPkg(self.model)\n",
    "# kmp.build_package(media)\n",
    "\n",
    "# simulate and visualize the model\n",
    "cfba = MSCommunity(model)\n",
    "cfba.drain_fluxes(media)\n",
    "cfba.gapfill(media)\n",
    "cfba.constrain(media, msdb_path_for_fullthermo = ftp_path, verbose = False)\n",
    "solution = cfba.run()\n",
    "cfba.compute_interactions(solution)\n",
    "cfba.visualize()"
   ]
  },
  {
   "cell_type": "markdown",
   "metadata": {},
   "source": [
    "# 7-member Hotlake model"
   ]
  },
  {
   "cell_type": "markdown",
   "metadata": {},
   "source": [
    "## Unconstrained model"
   ]
  },
  {
   "cell_type": "markdown",
   "metadata": {},
   "source": [
    "### Define and execute the model"
   ]
  },
  {
   "cell_type": "code",
   "execution_count": null,
   "metadata": {
    "scrolled": true
   },
   "outputs": [],
   "source": [
    "# import the model\n",
    "%run ../../modelseedpy/core/mscommunity.py\n",
    "# from modelseedpy.fbapkg import kbasemediapkg\n",
    "\n",
    "modelInfo_2 = [\"Hot_Lake_seven.mdl\",93544]\n",
    "mediaInfo_2 = [\"HotLakeMedia\",93544]\n",
    "\n",
    "model = kbase.get_from_ws(modelInfo_2[0],modelInfo_2[1])\n",
    "media = kbase.get_from_ws(mediaInfo_2[0],mediaInfo_2[1])\n",
    "# kmp = kbasemediapkg.KBaseMediaPkg(self.model)\n",
    "# kmp.build_package(media)\n",
    "\n",
    "# simulate and visualize the model\n",
    "cfba = MSCommunity(model)\n",
    "cfba.drain_fluxes(media)\n",
    "cfba.gapfill(media)\n",
    "cfba.constrain(media)\n",
    "solution = cfba.run()\n",
    "cfba.compute_interactions(solution)\n",
    "cfba.visualize()"
   ]
  },
  {
   "cell_type": "markdown",
   "metadata": {},
   "source": [
    "## FullThermo-constrained model"
   ]
  },
  {
   "cell_type": "markdown",
   "metadata": {},
   "source": [
    "### Define and execute the model"
   ]
  },
  {
   "cell_type": "code",
   "execution_count": null,
   "metadata": {
    "scrolled": true
   },
   "outputs": [],
   "source": [
    "# import the model\n",
    "%run ../../modelseedpy/core/mscommunity.py\n",
    "# from modelseedpy.fbapkg import kbasemediapkg\n",
    "\n",
    "modelInfo_2 = [\"Hot_Lake_seven.mdl\",93544]\n",
    "mediaInfo_2 = [\"HotLakeMedia\",93544]\n",
    "\n",
    "model = kbase.get_from_ws(modelInfo_2[0],modelInfo_2[1])\n",
    "media = kbase.get_from_ws(mediaInfo_2[0],mediaInfo_2[1])\n",
    "# kmp = kbasemediapkg.KBaseMediaPkg(self.model)\n",
    "# kmp.build_package(media)\n",
    "\n",
    "# simulate and visualize the model\n",
    "cfba = MSCommunity(model)\n",
    "cfba.drain_fluxes(media)\n",
    "cfba.gapfill(media)\n",
    "cfba.constrain(media, msdb_path_for_fullthermo = ftp_path, verbose = False)\n",
    "solution = cfba.run()\n",
    "cfba.compute_interactions(solution)\n",
    "cfba.visualize()"
   ]
  }
 ],
 "metadata": {
  "kernelspec": {
   "display_name": "Python 3 (ipykernel)",
   "language": "python",
   "name": "python3"
  },
  "language_info": {
   "codemirror_mode": {
    "name": "ipython",
    "version": 3
   },
   "file_extension": ".py",
   "mimetype": "text/x-python",
   "name": "python",
   "nbconvert_exporter": "python",
   "pygments_lexer": "ipython3",
   "version": "3.9.12"
  }
 },
 "nbformat": 4,
 "nbformat_minor": 4
}
