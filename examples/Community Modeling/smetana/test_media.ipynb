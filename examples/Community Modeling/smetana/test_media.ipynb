{
 "cells": [
  {
   "cell_type": "code",
   "execution_count": 1,
   "id": "171fc38d-8425-4078-9dcb-a4ec68c548f7",
   "metadata": {},
   "outputs": [
    {
     "name": "stdout",
     "output_type": "stream",
     "text": [
      "modelseedpy 0.2.2\n",
      "cobrakbase 0.3.1\n"
     ]
    }
   ],
   "source": [
    "import os\n",
    "local_cobrakbase_path = os.path.join('C:', 'Users', 'Andrew Freiburger','Documents','Argonne','cobrakbase')\n",
    "os.environ[\"HOME\"] = local_cobrakbase_path\n",
    "\n",
    "# import the KBase\n",
    "import cobrakbase\n",
    "# with open(\"/Users/afreiburger/Documents/kbase_token.txt\") as token_file:\n",
    "with open(\"D:/Users/Andrew Freiburger/Documents/Argonne/kbase_token.txt\") as token_file:\n",
    "    kbase_api = cobrakbase.KBaseAPI(token_file.readline())\n",
    "    \n",
    "    \n",
    "GCF_001424595 = kbase_api.get_from_ws(\"136582/820/1\")  ;  GCF_001421165 = kbase_api.get_from_ws(\"136582/723/1\")  ;  GCF_001421425 = kbase_api.get_from_ws(\"136582/517/1\")  ;  GCF_001421805 = kbase_api.get_from_ws(\"136582/435/1\")\n",
    "GCF_001423105 = kbase_api.get_from_ws(\"136582/589/1\")  ;  GCF_001423785 = kbase_api.get_from_ws(\"136582/587/1\")  ;  GCF_001423665 = kbase_api.get_from_ws(\"136582/677/1\")  ;  GCF_001426165 = kbase_api.get_from_ws(\"136582/491/1\")\n",
    "GCF_001422185 = kbase_api.get_from_ws(\"136582/423/1\")\n",
    "MSmodels = [GCF_001424595, GCF_001421165, GCF_001421425, GCF_001421805, GCF_001423105, GCF_001423785, GCF_001423665, GCF_001426165, GCF_001422185]\n",
    "\n",
    "\n",
    "%run ../../../modelseedpy/core/fbahelper.py\n",
    "r2a_methanol_media = FBAHelper.convert_kbase_media(kbase_api.get_from_ws(\"152904/21/1\"))\n",
    "r2a_media = FBAHelper.convert_kbase_media(kbase_api.get_from_ws(\"152904/16/1\"))\n",
    "maltose_media = FBAHelper.convert_kbase_media(kbase_api.get_from_ws(\"152904/19/1\"))"
   ]
  },
  {
   "cell_type": "code",
   "execution_count": 5,
   "id": "304b9510-da71-4111-9fc5-9d2a24c763f3",
   "metadata": {},
   "outputs": [
    {
     "name": "stdout",
     "output_type": "stream",
     "text": [
      "GCF_001424595.1.RAST.fbamodel \n",
      "==========\n",
      "55.655361836658024\n",
      "55.655361836657825\n",
      "GCF_001421165.1.RAST.fbamodel \n",
      "==========\n",
      "39.88328207422094\n",
      "39.88328207422042\n",
      "GCF_001421425.1.RAST.fbamodel \n",
      "==========\n",
      "68.78009318533289\n",
      "68.78009318533377\n",
      "GCF_001421805.1.RAST.fbamodel \n",
      "==========\n",
      "69.50328019992826\n",
      "69.50328019992773\n",
      "GCF_001423105.1.RAST.fbamodel \n",
      "==========\n",
      "56.30383154214115\n",
      "56.30383154214165\n",
      "GCF_001423785.1.RAST.fbamodel \n",
      "==========\n",
      "52.96286966722575\n",
      "52.96286966722611\n",
      "GCF_001423665.1.RAST.fbamodel \n",
      "==========\n",
      "59.854145041051325\n",
      "59.854145041048646\n",
      "GCF_001426165.1.RAST.fbamodel \n",
      "==========\n",
      "57.87331259164922\n",
      "57.873312591664146\n",
      "GCF_001422185.1.RAST.fbamodel \n",
      "==========\n",
      "47.636865537845665\n",
      "47.636865537828385\n"
     ]
    }
   ],
   "source": [
    "%run ../../../modelseedpy/core/msmodelutl.py\n",
    "\n",
    "for model in MSmodels:\n",
    "    print(model.id, \"\\n==========\")\n",
    "    msutil = MSModelUtil(model)\n",
    "    for medium in [r2a_methanol_media, r2a_media]:\n",
    "        msutil.add_medium(medium, 1000)\n",
    "        print(msutil.model.slim_optimize())"
   ]
  },
  {
   "cell_type": "code",
   "execution_count": null,
   "id": "ce38c87e-6ce1-401a-bbc5-a07a5365115f",
   "metadata": {},
   "outputs": [],
   "source": []
  }
 ],
 "metadata": {
  "kernelspec": {
   "display_name": "Python 3 (ipykernel)",
   "language": "python",
   "name": "python3"
  },
  "language_info": {
   "codemirror_mode": {
    "name": "ipython",
    "version": 3
   },
   "file_extension": ".py",
   "mimetype": "text/x-python",
   "name": "python",
   "nbconvert_exporter": "python",
   "pygments_lexer": "ipython3",
   "version": "3.9.12"
  }
 },
 "nbformat": 4,
 "nbformat_minor": 5
}
