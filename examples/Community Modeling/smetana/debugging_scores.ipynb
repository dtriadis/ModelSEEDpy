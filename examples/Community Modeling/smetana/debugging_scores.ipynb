{
 "cells": [
  {
   "cell_type": "markdown",
   "id": "9be5b19d-0a86-4fe2-9f33-ce8f1d06b87b",
   "metadata": {},
   "source": [
    "# Load test community"
   ]
  },
  {
   "cell_type": "code",
   "execution_count": 1,
   "id": "a558211f-acd9-495a-8398-9a1e22fe0932",
   "metadata": {},
   "outputs": [
    {
     "name": "stdout",
     "output_type": "stream",
     "text": [
      "cobrakbase 0.2.8\n"
     ]
    },
    {
     "ename": "FileNotFoundError",
     "evalue": "[Errno 2] No such file or directory: 'C:/Users/Andrew Freiburger/Documents/Argonne/kbase_token.txt'",
     "output_type": "error",
     "traceback": [
      "\u001b[0;31m---------------------------------------------------------------------------\u001b[0m",
      "\u001b[0;31mFileNotFoundError\u001b[0m                         Traceback (most recent call last)",
      "Cell \u001b[0;32mIn [1], line 9\u001b[0m\n\u001b[1;32m      7\u001b[0m \u001b[38;5;28;01mimport\u001b[39;00m \u001b[38;5;21;01mcobrakbase\u001b[39;00m\n\u001b[1;32m      8\u001b[0m \u001b[38;5;66;03m# with open(\"/Users/afreiburger/Documents/kbase_token.txt\") as token_file:\u001b[39;00m\n\u001b[0;32m----> 9\u001b[0m \u001b[38;5;28;01mwith\u001b[39;00m \u001b[38;5;28mopen\u001b[39m(\u001b[38;5;124m\"\u001b[39m\u001b[38;5;124mC:/Users/Andrew Freiburger/Documents/Argonne/kbase_token.txt\u001b[39m\u001b[38;5;124m\"\u001b[39m) \u001b[38;5;28;01mas\u001b[39;00m token_file:\n\u001b[1;32m     10\u001b[0m     kbase_api \u001b[38;5;241m=\u001b[39m cobrakbase\u001b[38;5;241m.\u001b[39mKBaseAPI(token_file\u001b[38;5;241m.\u001b[39mreadline())\n\u001b[1;32m     12\u001b[0m \u001b[38;5;66;03m# prevent excessive warnings\u001b[39;00m\n",
      "\u001b[0;31mFileNotFoundError\u001b[0m: [Errno 2] No such file or directory: 'C:/Users/Andrew Freiburger/Documents/Argonne/kbase_token.txt'"
     ]
    }
   ],
   "source": [
    "# define the environment path \n",
    "import os\n",
    "local_cobrakbase_path = os.path.join('C:', 'Users', 'Andrew Freiburger','Documents','Argonne','cobrakbase')\n",
    "os.environ[\"HOME\"] = local_cobrakbase_path\n",
    "\n",
    "# import the KBase\n",
    "import cobrakbase\n",
    "# with open(\"/Users/afreiburger/Documents/kbase_token.txt\") as token_file:\n",
    "with open(\"C:/Users/Andrew Freiburger/Documents/Argonne/kbase_token.txt\") as token_file:\n",
    "    kbase_api = cobrakbase.KBaseAPI(token_file.readline())\n",
    "\n",
    "# prevent excessive warnings\n",
    "from time import process_time\n",
    "import warnings\n",
    "warnings.filterwarnings(action='once')\n",
    "\n",
    "YR343 = kbase_api.get_from_ws(\"Pantoea_YR343_pacbio_v2.RAST.fbamodel\", 114731)\n",
    "CF313 = kbase_api.get_from_ws(\"Variovorax_CF313_pacbio_v2.RAST.fbamodel\",114731)\n",
    "YR343_CF313_model = kbase_api.get_from_ws(\"YR343-CF313\",114731)\n",
    "comm = MSSmetana([YR343, CF313], YR343_CF313_model)"
   ]
  },
  {
   "cell_type": "markdown",
   "id": "bb7cf7ef-2198-45aa-b791-fdfcac0acb8c",
   "metadata": {},
   "source": [
    "### MRO score"
   ]
  },
  {
   "cell_type": "code",
   "execution_count": null,
   "id": "795f1e24-4f56-4076-b75a-ab4c467ddbd9",
   "metadata": {},
   "outputs": [],
   "source": [
    "%run ../../../modelseedpy/community/mssmetana.py\n",
    "comm.mro_score()"
   ]
  },
  {
   "cell_type": "markdown",
   "id": "3240e4ba-5d9e-40c1-8899-5f1aeb1dcc1c",
   "metadata": {},
   "source": [
    "### MIP score"
   ]
  },
  {
   "cell_type": "code",
   "execution_count": null,
   "id": "f6e3f96c-058f-42a7-aa22-2c47f9ae0e8d",
   "metadata": {},
   "outputs": [],
   "source": [
    "%run ../../../modelseedpy/community/mssmetana.py\n",
    "comm.mip_score()"
   ]
  },
  {
   "cell_type": "markdown",
   "id": "1a9b5c03-189c-4316-ba4a-9ac133bd3ced",
   "metadata": {},
   "source": [
    "### MP score"
   ]
  },
  {
   "cell_type": "code",
   "execution_count": null,
   "id": "9f81ace3-a68c-46cf-bcea-b8c3df9e1711",
   "metadata": {},
   "outputs": [],
   "source": [
    "%run ../../../modelseedpy/community/mssmetana.py\n",
    "comm.mp_score()"
   ]
  }
 ],
 "metadata": {
  "kernelspec": {
   "display_name": "Python 3 (ipykernel)",
   "language": "python",
   "name": "python3"
  },
  "language_info": {
   "codemirror_mode": {
    "name": "ipython",
    "version": 3
   },
   "file_extension": ".py",
   "mimetype": "text/x-python",
   "name": "python",
   "nbconvert_exporter": "python",
   "pygments_lexer": "ipython3",
   "version": "3.9.6"
  }
 },
 "nbformat": 4,
 "nbformat_minor": 5
}
