{
 "cells": [
  {
   "cell_type": "markdown",
   "id": "be17384b-a284-468c-a0b0-f0628d0802e6",
   "metadata": {},
   "source": [
    "# Load KBase"
   ]
  },
  {
   "cell_type": "code",
   "execution_count": 1,
   "id": "68a7047b-5da4-479d-85a1-87497aeeb978",
   "metadata": {
    "scrolled": true
   },
   "outputs": [
    {
     "name": "stdout",
     "output_type": "stream",
     "text": [
      "cobrakbase 0.3.1\n"
     ]
    }
   ],
   "source": [
    "# define the environment path \n",
    "import os\n",
    "local_cobrakbase_path = os.path.join('C:', 'Users', 'Andrew Freiburger','Documents','Argonne','cobrakbase')\n",
    "os.environ[\"HOME\"] = local_cobrakbase_path\n",
    "\n",
    "# import the KBase\n",
    "import cobrakbase\n",
    "# with open(\"/Users/afreiburger/Documents/kbase_token.txt\") as token_file:\n",
    "with open(\"C:/Users/Andrew Freiburger/Documents/Argonne/kbase_token.txt\") as token_file:\n",
    "    kbase_api = cobrakbase.KBaseAPI(token_file.readline())\n",
    "\n",
    "# prevent excessive warnings\n",
    "from time import process_time\n",
    "import warnings\n",
    "warnings.filterwarnings(action='once')\n",
    "# from modelseedpy.community import mssmetana\n",
    "%run ../../../modelseedpy/community/mssmetana.py"
   ]
  },
  {
   "cell_type": "markdown",
   "id": "e6fe1266-fc52-4456-8ba7-4a11946f7d93",
   "metadata": {},
   "source": [
    "# test community pairs"
   ]
  },
  {
   "cell_type": "code",
   "execution_count": 2,
   "id": "50c765dd-fd77-41ed-ab78-7e8d76661577",
   "metadata": {
    "scrolled": true
   },
   "outputs": [],
   "source": [
    "from modelseedpy.core.exceptions import ModelError\n",
    "def test_pair(member1, member2, community):\n",
    "    try:\n",
    "        start_time = process_time()\n",
    "        comm = MSSmetana([member1, member2], community)\n",
    "        comm.all_scores()\n",
    "        end_time = process_time()\n",
    "\n",
    "        print(f\"The {member1.id}_{member2.id} pair has been examined after {(end_time-start_time)/60} minutes.\")\n",
    "    except (ObjectiveError, ModelError, NameError) as e:\n",
    "        print(f\"\\n\\nERROR:{e}\")"
   ]
  },
  {
   "cell_type": "markdown",
   "id": "8360ebf9-06bc-4e89-92ee-e959abf06e5e",
   "metadata": {},
   "source": [
    "# \"+\" interactions"
   ]
  },
  {
   "cell_type": "markdown",
   "id": "8ab7c386-e429-4e48-9b0a-c245398d0298",
   "metadata": {},
   "source": [
    "## YR343 on CF142"
   ]
  },
  {
   "cell_type": "code",
   "execution_count": 3,
   "id": "0799cf60-f276-49d9-bd4e-c966bc1d4464",
   "metadata": {
    "scrolled": true
   },
   "outputs": [
    {
     "name": "stderr",
     "output_type": "stream",
     "text": [
      "modelseedpy.community.mscompatibility - WARNING - IDWarning: The original ID cpd00609_e0 is a ModelSEED ID, and may not be desirably changed to cpd00609_e0.\n"
     ]
    },
    {
     "name": "stdout",
     "output_type": "stream",
     "text": [
      "\n",
      "\n",
      "0 reactions were substituted and 1 metabolite IDs were redefined in Pantoea_YR343_pacbio_v2.RAST.fbamodel,Rhizobium_CF142_pacbio_v2.RAST.fbamodel by standardize().\n",
      "\n",
      "\n",
      "ERROR:The model Rhizobium_CF142_pacbio_v2.RAST.fbamodel possesses an objective value of 0 in complete media, which is incompatible with minimal media computations and hence SMETANA.\n",
      "CPU times: total: 6.59 s\n",
      "Wall time: 8.55 s\n"
     ]
    }
   ],
   "source": [
    "%%time\n",
    "\n",
    "# load the pair\n",
    "YR343 = kbase_api.get_from_ws(\"Pantoea_YR343_pacbio_v2.RAST.fbamodel\", 114731)\n",
    "CF142 = kbase_api.get_from_ws(\"Rhizobium_CF142_pacbio_v2.RAST.fbamodel\", 114731)\n",
    "YR343_CF142_model = kbase_api.get_from_ws(\"YR343-CF142\", 114731)\n",
    "test_pair(YR343, CF142, YR343_CF142_model)"
   ]
  },
  {
   "cell_type": "markdown",
   "id": "faf8cc78-5a42-4de5-94d3-19f9197099f9",
   "metadata": {},
   "source": [
    "## YR343 on CF313"
   ]
  },
  {
   "cell_type": "code",
   "execution_count": 4,
   "id": "6134aeb7-da5b-4f63-9db6-905594ed016d",
   "metadata": {
    "scrolled": true,
    "tags": []
   },
   "outputs": [],
   "source": [
    "# load the pair\n",
    "CF313 = kbase_api.get_from_ws(\"Variovorax_CF313_pacbio_v2.RAST.fbamodel\",114731)\n",
    "YR343_CF313_model = kbase_api.get_from_ws(\"YR343-CF313\",114731)"
   ]
  },
  {
   "cell_type": "code",
   "execution_count": 5,
   "id": "000a750d-e228-4a54-b5b1-8183ccc85cfd",
   "metadata": {
    "scrolled": true,
    "tags": []
   },
   "outputs": [
    {
     "name": "stderr",
     "output_type": "stream",
     "text": [
      "modelseedpy.community.mscompatibility - WARNING - IDWarning: The original ID cpd00609_e0 is a ModelSEED ID, and may not be desirably changed to cpd00609_e0.\n"
     ]
    },
    {
     "name": "stdout",
     "output_type": "stream",
     "text": [
      "\n",
      "\n",
      "0 reactions were substituted and 1 metabolite IDs were redefined in Pantoea_YR343_pacbio_v2.RAST.fbamodel,Variovorax_CF313_pacbio_v2.RAST.fbamodel by standardize().\n",
      "The minimal flux media consists of 34 compounds and a 1.448787987627567 total influx, with a growth value of 0.10000000000004201\n",
      "The minimal flux media consists of 33 compounds and a 1.6635843914746098 total influx, with a growth value of 0.10000000000005345\n",
      "The minimal flux media consists of 32 compounds and a 0.9227995419545718 total influx, with a growth value of 0.10000000028565155\n",
      "\n",
      "The Pantoea_YR343_pacbio_v2.RAST.fbamodel on Variovorax_CF313_pacbio_v2.RAST.fbamodel) MRO score: 0.8235294117647058 (82.35%). This is the percent of nutritional requirements in Pantoea_YR343_pacbio_v2.RAST.fbamodel that overlap with Variovorax_CF313_pacbio_v2.RAST.fbamodel) (28/34).\n",
      "\n",
      "The Variovorax_CF313_pacbio_v2.RAST.fbamodel on Pantoea_YR343_pacbio_v2.RAST.fbamodel) MRO score: 0.8484848484848485 (84.85%). This is the percent of nutritional requirements in Variovorax_CF313_pacbio_v2.RAST.fbamodel that overlap with Pantoea_YR343_pacbio_v2.RAST.fbamodel) (28/33).\n",
      "{'dictionary_item_added': [root['EX_cpd00042_e0'], root['EX_cpd00179_e0'], root['EX_cpd15605_e0'], root['EX_cpd11583_e0'], root['EX_cpd11584_e0'], root['EX_cpd15606_e0']], 'dictionary_item_removed': [root['EX_cpd00235_e0'], root['EX_cpd00132_e0'], root['EX_cpd00118_e0'], root['EX_cpd00024_e0'], root['EX_cpd00051_e0'], root['EX_cpd00307_e0'], root['EX_cpd00137_e0'], root['EX_cpd00084_e0'], root['EX_cpd00209_e0'], root['EX_cpd00794_e0'], root['EX_cpd00082_e0'], root['EX_cpd00119_e0'], root['EX_cpd00069_e0'], root['EX_cpd00654_e0'], root['EX_cpd00214_e0'], root['EX_cpd09878_e0'], root['EX_cpd00309_e0'], root['EX_cpd00107_e0'], root['EX_cpd00136_e0'], root['EX_cpd00066_e0']], 'values_changed': {\"root['EX_cpd00007_e0']\": {'new_value': 0.0015433875377752209, 'old_value': 0.010070038485228866}, \"root['EX_cpd00220_e0']\": {'new_value': 0.0016836954957547335, 'old_value': 0.0016836954957547869}, \"root['EX_cpd01080_e0']\": {'new_value': 0.024916275954454087, 'old_value': 0.024916275954405084}, \"root['EX_cpd00393_e0']\": {'new_value': 0.001683695495754786, 'old_value': 0.001683695495754787}, \"root['EX_cpd03847_e0']\": {'new_value': 0.0025010597710894427, 'old_value': 0.002501059771062876}, \"root['EX_cpd00644_e0']\": {'new_value': 0.0011224636638366612, 'old_value': 0.001122463663858123}, \"root['EX_cpd00156_e0']\": {'new_value': 0.07044663781849216, 'old_value': 0.070446637818325}, \"root['EX_cpd00264_e0']\": {'new_value': 0.0005612318319182622, 'old_value': 0.0002806159159591311}, \"root['EX_cpd00355_e0']\": {'new_value': 0.1619499131150645, 'old_value': 1.727347583184663}, \"root['EX_cpd00017_e0']\": {'new_value': 0.05889146417964783, 'old_value': 0.04360461183135075}}}\n",
      "\n",
      "MIP score: 20\t\t\t20 required compound(s) can be sourced via syntrophy:\n",
      "executing MP\n"
     ]
    },
    {
     "name": "stderr",
     "output_type": "stream",
     "text": [
      "modelseedpy.community.mscompatibility - WARNING - IDWarning: The original ID cpd00609_e0 is a ModelSEED ID, and may not be desirably changed to cpd00609_e0.\n"
     ]
    },
    {
     "name": "stdout",
     "output_type": "stream",
     "text": [
      "\n",
      "\n",
      "0 reactions were substituted and 1 metabolite IDs were redefined in YR343-CF313 by standardize().\n",
      "The minimal flux media consists of 55 compounds and a 14729.39276188182 total influx, with a growth value of 126.92719851100364\n",
      "\n",
      "\n",
      "\n",
      "Standardize exchange reactions in Pantoea_YR343_pacbio_v2.RAST.fbamodel \n",
      " ==========================================================================\n",
      "The exchange  metabolite ID's of the model Pantoea_YR343_pacbio_v2.RAST.fbamodel are completely standardized to ModelSEED.\n"
     ]
    },
    {
     "name": "stderr",
     "output_type": "stream",
     "text": [
      "C:\\Users\\Andrew Freiburger\\AppData\\Local\\Programs\\Python\\Python39\\lib\\site-packages\\cobra\\core\\metabolite.py:191: UserWarning: The element 'R' does not appear in the periodic table\n",
      "  warn(f\"The element {e} does not appear in the periodic table\")\n"
     ]
    },
    {
     "name": "stdout",
     "output_type": "stream",
     "text": [
      "remaining possible_contributions 86\r"
     ]
    },
    {
     "name": "stderr",
     "output_type": "stream",
     "text": [
      "C:\\Users\\Andrew Freiburger\\AppData\\Local\\Programs\\Python\\Python39\\lib\\site-packages\\cobra\\core\\metabolite.py:191: UserWarning: The element 'R' does not appear in the periodic table\n",
      "  warn(f\"The element {e} does not appear in the periodic table\")\n"
     ]
    },
    {
     "name": "stdout",
     "output_type": "stream",
     "text": [
      "remaining possible_contributions 82\r"
     ]
    },
    {
     "name": "stderr",
     "output_type": "stream",
     "text": [
      "C:\\Users\\Andrew Freiburger\\AppData\\Local\\Programs\\Python\\Python39\\lib\\site-packages\\cobra\\core\\metabolite.py:191: UserWarning: The element 'R' does not appear in the periodic table\n",
      "  warn(f\"The element {e} does not appear in the periodic table\")\n"
     ]
    },
    {
     "name": "stdout",
     "output_type": "stream",
     "text": [
      "remaining possible_contributions 81\n",
      "\n",
      "\n",
      "Standardize exchange reactions in Variovorax_CF313_pacbio_v2.RAST.fbamodel \n",
      " =============================================================================\n",
      "The exchange  metabolite ID's of the model Variovorax_CF313_pacbio_v2.RAST.fbamodel are completely standardized to ModelSEED.\n"
     ]
    },
    {
     "name": "stderr",
     "output_type": "stream",
     "text": [
      "C:\\Users\\Andrew Freiburger\\AppData\\Local\\Programs\\Python\\Python39\\lib\\site-packages\\cobra\\core\\metabolite.py:191: UserWarning: The element 'R' does not appear in the periodic table\n",
      "  warn(f\"The element {e} does not appear in the periodic table\")\n"
     ]
    },
    {
     "name": "stdout",
     "output_type": "stream",
     "text": [
      "remaining possible_contributions 56\r"
     ]
    },
    {
     "name": "stderr",
     "output_type": "stream",
     "text": [
      "C:\\Users\\Andrew Freiburger\\AppData\\Local\\Programs\\Python\\Python39\\lib\\site-packages\\cobra\\core\\metabolite.py:191: UserWarning: The element 'R' does not appear in the periodic table\n",
      "  warn(f\"The element {e} does not appear in the periodic table\")\n"
     ]
    },
    {
     "name": "stdout",
     "output_type": "stream",
     "text": [
      "remaining possible_contributions 55\n",
      "MP score:\t\t\tEach member can possibly contribute the following to the community:\n",
      "\n",
      "Pantoea_YR343_pacbio_v2.RAST.fbamodel \t 35\n",
      "Variovorax_CF313_pacbio_v2.RAST.fbamodel \t 20\n",
      "The Pantoea_YR343_pacbio_v2.RAST.fbamodel_Variovorax_CF313_pacbio_v2.RAST.fbamodel pair has been examined after 0.859375 minutes.\n",
      "CPU times: total: 51.6 s\n",
      "Wall time: 54 s\n"
     ]
    }
   ],
   "source": [
    "%%time\n",
    "test_pair(YR343, CF313, YR343_CF313_model)"
   ]
  },
  {
   "cell_type": "markdown",
   "id": "bec52dc1-3813-4dd2-b44e-b9ad1aab157b",
   "metadata": {},
   "source": [
    "## AP49 on BC15"
   ]
  },
  {
   "cell_type": "code",
   "execution_count": 6,
   "id": "1d88e69f-0cc8-4499-bae9-fbe79a0a639d",
   "metadata": {
    "scrolled": true,
    "tags": []
   },
   "outputs": [
    {
     "name": "stdout",
     "output_type": "stream",
     "text": [
      "The exchange  metabolite ID's of the model Sphingobium_AP49_pacbio_v2.RAST.fbamodel,Bacillus_sp._bc15.RAST.fbamodel are completely standardized to ModelSEED.\n",
      "The minimal flux media consists of 42 compounds and a 1.9975620239036245 total influx, with a growth value of 0.09999999999978389\n",
      "The minimal flux media consists of 35 compounds and a 1.4912990953766743 total influx, with a growth value of 0.09999999999970013\n",
      "The minimal flux media consists of 37 compounds and a 2.8333031369145 total influx, with a growth value of 0.09999999999958169\n",
      "\n",
      "The Sphingobium_AP49_pacbio_v2.RAST.fbamodel on Bacillus_sp._bc15.RAST.fbamodel) MRO score: 0.6904761904761905 (69.05%). This is the percent of nutritional requirements in Sphingobium_AP49_pacbio_v2.RAST.fbamodel that overlap with Bacillus_sp._bc15.RAST.fbamodel) (29/42).\n",
      "\n",
      "The Bacillus_sp._bc15.RAST.fbamodel on Sphingobium_AP49_pacbio_v2.RAST.fbamodel) MRO score: 0.8285714285714286 (82.86%). This is the percent of nutritional requirements in Bacillus_sp._bc15.RAST.fbamodel that overlap with Sphingobium_AP49_pacbio_v2.RAST.fbamodel) (29/35).\n",
      "{'dictionary_item_removed': [root['EX_cpd00132_e0'], root['EX_cpd00118_e0'], root['EX_cpd00024_e0'], root['EX_cpd00106_e0'], root['EX_cpd00158_e0'], root['EX_cpd00033_e0'], root['EX_cpd00129_e0'], root['EX_cpd03847_e0'], root['EX_cpd00161_e0'], root['EX_cpd00184_e0'], root['EX_cpd00039_e0']], 'values_changed': {\"root['EX_cpd00007_e0']\": {'new_value': 1.127665932393343, 'old_value': 1.2934717670336637}, \"root['EX_cpd00220_e0']\": {'new_value': 0.0016836954957547875, 'old_value': 0.0016836954957547856}, \"root['EX_cpd00393_e0']\": {'new_value': 0.0016836954957547869, 'old_value': 0.0016836954957548198}, \"root['EX_cpd00793_e0']\": {'new_value': 0.0005612318319182621, 'old_value': 0.0005612318319182628}, \"root['EX_cpd00794_e0']\": {'new_value': 0.4088540244834069, 'old_value': 0.010004239084357764}, \"root['EX_cpd00367_e0']\": {'new_value': 0.021010501669595307, 'old_value': 0.019860385045738817}, \"root['EX_cpd01017_e0']\": {'new_value': 0.0084564969682626, 'old_value': 0.008456496968285763}, \"root['EX_cpd00277_e0']\": {'new_value': 0.016712650420904494, 'old_value': 0.01671265042049067}, \"root['EX_cpd00069_e0']\": {'new_value': 0.024135320921322395, 'old_value': 0.0241353209213224}, \"root['EX_cpd00644_e0']\": {'new_value': 0.0011224636633956038, 'old_value': 0.0011224636636799356}, \"root['EX_cpd00264_e0']\": {'new_value': 0.000561231831918262, 'old_value': 0.0005612318319182621}, \"root['EX_cpd00355_e0']\": {'new_value': 0.8770398917937566, 'old_value': 0.5605821861299313}, \"root['EX_cpd00066_e0']\": {'new_value': 0.030903898006268887, 'old_value': 0.030903898006268995}, \"root['EX_cpd15603_e0']\": {'new_value': 0.008456496968180727, 'old_value': 0.008456496968442119}}}\n",
      "\n",
      "MIP score: 11\t\t\t11 required compound(s) can be sourced via syntrophy:\n",
      "executing MP\n",
      "The exchange  metabolite ID's of the model AP49-BC15 are completely standardized to ModelSEED.\n",
      "The minimal flux media consists of 42 compounds and a 2387.771426877079 total influx, with a growth value of 59.66143917485774\n",
      "\n",
      "\n",
      "\n",
      "Standardize exchange reactions in Sphingobium_AP49_pacbio_v2.RAST.fbamodel \n",
      " =============================================================================\n",
      "The exchange  metabolite ID's of the model Sphingobium_AP49_pacbio_v2.RAST.fbamodel are completely standardized to ModelSEED.\n"
     ]
    },
    {
     "name": "stderr",
     "output_type": "stream",
     "text": [
      "C:\\Users\\Andrew Freiburger\\AppData\\Local\\Programs\\Python\\Python39\\lib\\site-packages\\cobra\\core\\metabolite.py:191: UserWarning: The element 'R' does not appear in the periodic table\n",
      "  warn(f\"The element {e} does not appear in the periodic table\")\n"
     ]
    },
    {
     "name": "stdout",
     "output_type": "stream",
     "text": [
      "remaining possible_contributions 52\r"
     ]
    },
    {
     "name": "stderr",
     "output_type": "stream",
     "text": [
      "C:\\Users\\Andrew Freiburger\\AppData\\Local\\Programs\\Python\\Python39\\lib\\site-packages\\cobra\\core\\metabolite.py:191: UserWarning: The element 'R' does not appear in the periodic table\n",
      "  warn(f\"The element {e} does not appear in the periodic table\")\n"
     ]
    },
    {
     "name": "stdout",
     "output_type": "stream",
     "text": [
      "remaining possible_contributions 45\r"
     ]
    },
    {
     "name": "stderr",
     "output_type": "stream",
     "text": [
      "C:\\Users\\Andrew Freiburger\\AppData\\Local\\Programs\\Python\\Python39\\lib\\site-packages\\cobra\\core\\metabolite.py:191: UserWarning: The element 'R' does not appear in the periodic table\n",
      "  warn(f\"The element {e} does not appear in the periodic table\")\n"
     ]
    },
    {
     "name": "stdout",
     "output_type": "stream",
     "text": [
      "remaining possible_contributions 41\r"
     ]
    },
    {
     "name": "stderr",
     "output_type": "stream",
     "text": [
      "C:\\Users\\Andrew Freiburger\\AppData\\Local\\Programs\\Python\\Python39\\lib\\site-packages\\cobra\\core\\metabolite.py:191: UserWarning: The element 'R' does not appear in the periodic table\n",
      "  warn(f\"The element {e} does not appear in the periodic table\")\n"
     ]
    },
    {
     "name": "stdout",
     "output_type": "stream",
     "text": [
      "remaining possible_contributions 40\n",
      "\n",
      "\n",
      "Standardize exchange reactions in Bacillus_sp._bc15.RAST.fbamodel \n",
      " ====================================================================\n",
      "The exchange  metabolite ID's of the model Bacillus_sp._bc15.RAST.fbamodel are completely standardized to ModelSEED.\n",
      "remaining possible_contributions 46\n",
      "MP score:\t\t\tEach member can possibly contribute the following to the community:\n",
      "\n",
      "Sphingobium_AP49_pacbio_v2.RAST.fbamodel \t 32\n",
      "Bacillus_sp._bc15.RAST.fbamodel \t 47\n",
      "The Sphingobium_AP49_pacbio_v2.RAST.fbamodel_Bacillus_sp._bc15.RAST.fbamodel pair has been examined after 0.7 minutes.\n",
      "CPU times: total: 46.4 s\n",
      "Wall time: 49.8 s\n"
     ]
    }
   ],
   "source": [
    "%%time\n",
    "\n",
    "AP49 = kbase_api.get_from_ws(\"Sphingobium_AP49_pacbio_v2.RAST.fbamodel\", 114731)\n",
    "BC15 = kbase_api.get_from_ws(\"Bacillus_sp._bc15.RAST.fbamodel\", 114731)\n",
    "AP49_BC15_model = kbase_api.get_from_ws(\"AP49-BC15\", 114731)\n",
    "test_pair(AP49, BC15, AP49_BC15_model)"
   ]
  },
  {
   "cell_type": "markdown",
   "id": "0f3bda29-76c0-41f3-889c-e2ed5bc5649b",
   "metadata": {},
   "source": [
    "## CF142 on BC15"
   ]
  },
  {
   "cell_type": "code",
   "execution_count": 7,
   "id": "6dfbe8da-b8b8-404d-9669-48684ce56d6a",
   "metadata": {
    "scrolled": true
   },
   "outputs": [
    {
     "name": "stdout",
     "output_type": "stream",
     "text": [
      "The exchange  metabolite ID's of the model Rhizobium_CF142_pacbio_v2.RAST.fbamodel,Bacillus_sp._bc15.RAST.fbamodel are completely standardized to ModelSEED.\n",
      "\n",
      "\n",
      "ERROR:The model Rhizobium_CF142_pacbio_v2.RAST.fbamodel possesses an objective value of 0 in complete media, which is incompatible with minimal media computations and hence SMETANA.\n",
      "CPU times: total: 5.56 s\n",
      "Wall time: 6.32 s\n"
     ]
    }
   ],
   "source": [
    "%%time\n",
    "\n",
    "CF142_BC15_model = kbase_api.get_from_ws(\"CF142-BC15\", 114731)\n",
    "test_pair(CF142, BC15, CF142_BC15_model)"
   ]
  },
  {
   "cell_type": "markdown",
   "id": "fa76d8df-8a9d-489f-95be-23a69c726e28",
   "metadata": {},
   "source": [
    "## CF402 on CF313"
   ]
  },
  {
   "cell_type": "code",
   "execution_count": 8,
   "id": "cd6716bb-17d2-43cf-883c-a98346c6a97d",
   "metadata": {
    "scrolled": true,
    "tags": []
   },
   "outputs": [
    {
     "name": "stdout",
     "output_type": "stream",
     "text": [
      "The exchange  metabolite ID's of the model Duagnella_sp_CF402.RAST.fbamodel,Variovorax_CF313_pacbio_v2.RAST.fbamodel are completely standardized to ModelSEED.\n",
      "The minimal flux media consists of 45 compounds and a 2.1525357822615474 total influx, with a growth value of 0.10000000000000193\n",
      "The minimal flux media consists of 33 compounds and a 1.6635843914746098 total influx, with a growth value of 0.10000000000005345\n",
      "The minimal flux media consists of 42 compounds and a 3.1351574676319287 total influx, with a growth value of 0.10000000000000057\n",
      "\n",
      "The Duagnella_sp_CF402.RAST.fbamodel on Variovorax_CF313_pacbio_v2.RAST.fbamodel) MRO score: 0.5333333333333333 (53.33%). This is the percent of nutritional requirements in Duagnella_sp_CF402.RAST.fbamodel that overlap with Variovorax_CF313_pacbio_v2.RAST.fbamodel) (24/45).\n",
      "\n",
      "The Variovorax_CF313_pacbio_v2.RAST.fbamodel on Duagnella_sp_CF402.RAST.fbamodel) MRO score: 0.7272727272727273 (72.73%). This is the percent of nutritional requirements in Variovorax_CF313_pacbio_v2.RAST.fbamodel that overlap with Duagnella_sp_CF402.RAST.fbamodel) (24/33).\n",
      "{'dictionary_item_removed': [root['EX_cpd00054_e0'], root['EX_cpd00118_e0'], root['EX_cpd00129_e0'], root['EX_cpd00039_e0'], root['EX_cpd00023_e0']], 'values_changed': {\"root['EX_cpd00007_e0']\": {'new_value': 0.6701791866799957, 'old_value': 0.66971907041031}, \"root['EX_cpd00018_e0']\": {'new_value': 0.04764482340521431, 'old_value': 0.047644823405216224}, \"root['EX_cpd00042_e0']\": {'new_value': 0.014668066609211484, 'old_value': 0.008456496968442317}, \"root['EX_cpd00307_e0']\": {'new_value': 0.02097774605879145, 'old_value': 0.020977746058791442}, \"root['EX_cpd00220_e0']\": {'new_value': 0.0016836954957547463, 'old_value': 0.0016836954957548226}, \"root['EX_cpd00046_e0']\": {'new_value': 0.00841036156544863, 'old_value': 0.008410361565448632}, \"root['EX_cpd00060_e0']\": {'new_value': 0.03267589320947202, 'old_value': 0.03267589320947363}, \"root['EX_cpd00393_e0']\": {'new_value': 0.0016836954957547955, 'old_value': 0.0016836954957547864}, \"root['EX_cpd00793_e0']\": {'new_value': 0.000561231831918262, 'old_value': 0.0005612318319182297}, \"root['EX_cpd00179_e0']\": {'new_value': 0.8026911952356793, 'old_value': 0.16942766021285122}, \"root['EX_cpd00209_e0']\": {'new_value': 0.5534575376502936, 'old_value': 0.3032573820677805}, \"root['EX_cpd00381_e0']\": {'new_value': 7.953428206917401e-19, 'old_value': 0.0031057848203845887}, \"root['EX_cpd00027_e0']\": {'new_value': 0.4304568798751411, 'old_value': 0.43100326794539423}, \"root['EX_cpd00644_e0']\": {'new_value': 0.0011224636638365888, 'old_value': 0.001122463663836601}, \"root['EX_cpd00355_e0']\": {'new_value': 0.17344385531898265, 'old_value': 1.0664665048738173}, \"root['EX_cpd00239_e0']\": {'new_value': 0.01484200195480469, 'old_value': 0.014842001954804687}, \"root['EX_cpd00136_e0']\": {'new_value': 0.000280615915959131, 'old_value': 0.00028061591595913087}}}\n",
      "\n",
      "MIP score: 5\t\t\t5 required compound(s) can be sourced via syntrophy:\n",
      "executing MP\n",
      "The exchange  metabolite ID's of the model CF402-CF313 are completely standardized to ModelSEED.\n",
      "The minimal flux media consists of 41 compounds and a 1717.4646713482512 total influx, with a growth value of 42.18491512578173\n",
      "\n",
      "\n",
      "\n",
      "Standardize exchange reactions in Duagnella_sp_CF402.RAST.fbamodel \n",
      " =====================================================================\n",
      "The exchange  metabolite ID's of the model Duagnella_sp_CF402.RAST.fbamodel are completely standardized to ModelSEED.\n",
      "remaining possible_contributions 14\n",
      "\n",
      "\n",
      "Standardize exchange reactions in Variovorax_CF313_pacbio_v2.RAST.fbamodel \n",
      " =============================================================================\n",
      "The exchange  metabolite ID's of the model Variovorax_CF313_pacbio_v2.RAST.fbamodel are completely standardized to ModelSEED.\n"
     ]
    },
    {
     "name": "stderr",
     "output_type": "stream",
     "text": [
      "C:\\Users\\Andrew Freiburger\\AppData\\Local\\Programs\\Python\\Python39\\lib\\site-packages\\cobra\\core\\metabolite.py:191: UserWarning: The element 'R' does not appear in the periodic table\n",
      "  warn(f\"The element {e} does not appear in the periodic table\")\n"
     ]
    },
    {
     "name": "stdout",
     "output_type": "stream",
     "text": [
      "remaining possible_contributions 68\r"
     ]
    },
    {
     "name": "stderr",
     "output_type": "stream",
     "text": [
      "C:\\Users\\Andrew Freiburger\\AppData\\Local\\Programs\\Python\\Python39\\lib\\site-packages\\cobra\\core\\metabolite.py:191: UserWarning: The element 'R' does not appear in the periodic table\n",
      "  warn(f\"The element {e} does not appear in the periodic table\")\n"
     ]
    },
    {
     "name": "stdout",
     "output_type": "stream",
     "text": [
      "remaining possible_contributions 60\r"
     ]
    },
    {
     "name": "stderr",
     "output_type": "stream",
     "text": [
      "C:\\Users\\Andrew Freiburger\\AppData\\Local\\Programs\\Python\\Python39\\lib\\site-packages\\cobra\\core\\metabolite.py:191: UserWarning: The element 'R' does not appear in the periodic table\n",
      "  warn(f\"The element {e} does not appear in the periodic table\")\n"
     ]
    },
    {
     "name": "stdout",
     "output_type": "stream",
     "text": [
      "remaining possible_contributions 57\r"
     ]
    },
    {
     "name": "stderr",
     "output_type": "stream",
     "text": [
      "C:\\Users\\Andrew Freiburger\\AppData\\Local\\Programs\\Python\\Python39\\lib\\site-packages\\cobra\\core\\metabolite.py:191: UserWarning: The element 'R' does not appear in the periodic table\n",
      "  warn(f\"The element {e} does not appear in the periodic table\")\n"
     ]
    },
    {
     "name": "stdout",
     "output_type": "stream",
     "text": [
      "remaining possible_contributions 55\n",
      "MP score:\t\t\tEach member can possibly contribute the following to the community:\n",
      "\n",
      "Duagnella_sp_CF402.RAST.fbamodel \t 11\n",
      "Variovorax_CF313_pacbio_v2.RAST.fbamodel \t 34\n",
      "The Duagnella_sp_CF402.RAST.fbamodel_Variovorax_CF313_pacbio_v2.RAST.fbamodel pair has been examined after 0.4921875 minutes.\n",
      "CPU times: total: 31.3 s\n",
      "Wall time: 34.2 s\n"
     ]
    }
   ],
   "source": [
    "%%time\n",
    "\n",
    "CF402 = kbase_api.get_from_ws(\"Duagnella_sp_CF402.RAST.fbamodel\", 114731)\n",
    "CF313 = kbase_api.get_from_ws(\"Variovorax_CF313_pacbio_v2.RAST.fbamodel\",114731)\n",
    "CF402_CF313_model = kbase_api.get_from_ws(\"CF402-CF313\", 114731)\n",
    "test_pair(CF402, CF313, CF402_CF313_model)"
   ]
  },
  {
   "cell_type": "markdown",
   "id": "0fa7156a-425e-4a79-9332-7836ee1fe0c4",
   "metadata": {},
   "source": [
    "## CF402 on BC15"
   ]
  },
  {
   "cell_type": "code",
   "execution_count": 9,
   "id": "c0295b09-5487-41b2-a0e5-8a8183121c58",
   "metadata": {
    "scrolled": true,
    "tags": []
   },
   "outputs": [
    {
     "name": "stdout",
     "output_type": "stream",
     "text": [
      "The exchange  metabolite ID's of the model Duagnella_sp_CF402.RAST.fbamodel,Bacillus_sp._bc15.RAST.fbamodel are completely standardized to ModelSEED.\n",
      "The minimal flux media consists of 45 compounds and a 2.1525357822615474 total influx, with a growth value of 0.10000000000000193\n",
      "The minimal flux media consists of 35 compounds and a 1.4912990953766743 total influx, with a growth value of 0.09999999999970013\n",
      "The minimal flux media consists of 39 compounds and a 2.990785201335556 total influx, with a growth value of 0.09999999999999912\n",
      "\n",
      "The Duagnella_sp_CF402.RAST.fbamodel on Bacillus_sp._bc15.RAST.fbamodel) MRO score: 0.5333333333333333 (53.33%). This is the percent of nutritional requirements in Duagnella_sp_CF402.RAST.fbamodel that overlap with Bacillus_sp._bc15.RAST.fbamodel) (24/45).\n",
      "\n",
      "The Bacillus_sp._bc15.RAST.fbamodel on Duagnella_sp_CF402.RAST.fbamodel) MRO score: 0.6857142857142857 (68.57%). This is the percent of nutritional requirements in Bacillus_sp._bc15.RAST.fbamodel that overlap with Duagnella_sp_CF402.RAST.fbamodel) (24/35).\n",
      "{'dictionary_item_added': [root['EX_cpd00209_e0']], 'dictionary_item_removed': [root['EX_cpd00054_e0'], root['EX_cpd00118_e0'], root['EX_cpd00024_e0'], root['EX_cpd00075_e0'], root['EX_cpd00381_e0'], root['EX_cpd00033_e0'], root['EX_cpd00161_e0'], root['EX_cpd00184_e0'], root['EX_cpd00039_e0'], root['EX_cpd00017_e0'], root['EX_cpd00023_e0']], 'values_changed': {\"root['EX_cpd00007_e0']\": {'new_value': 0.670179186679996, 'old_value': 0.6697190704103091}, \"root['EX_cpd00018_e0']\": {'new_value': 0.047644823405215024, 'old_value': 0.04764482340521547}, \"root['EX_cpd00051_e0']\": {'new_value': 0.05214552369985952, 'old_value': 0.04933936454026821}, \"root['EX_cpd00220_e0']\": {'new_value': 0.0016836954957547645, 'old_value': 0.001683695495754778}, \"root['EX_cpd00393_e0']\": {'new_value': 0.001683695495754786, 'old_value': 0.0016836954957547864}, \"root['EX_cpd00027_e0']\": {'new_value': 0.4304568798751411, 'old_value': 0.43100326794539384}, \"root['EX_cpd00794_e0']\": {'new_value': 0.6859320717990045, 'old_value': 0.24251005431698783}, \"root['EX_cpd00367_e0']\": {'new_value': 0.021048960419177525, 'old_value': 0.019860385045764768}, \"root['EX_cpd00277_e0']\": {'new_value': 0.01465909956847014, 'old_value': 0.014659099568470146}, \"root['EX_cpd00644_e0']\": {'new_value': 0.0011224636638365892, 'old_value': 0.0011224636638365731}, \"root['EX_cpd00107_e0']\": {'new_value': 0.07507776950802564, 'old_value': 0.07507776950802543}, \"root['EX_cpd00355_e0']\": {'new_value': 0.6223102708062042, 'old_value': 0.9317552109377475}, \"root['EX_cpd00239_e0']\": {'new_value': 0.014842001954804694, 'old_value': 0.014842001954804684}, \"root['EX_cpd15603_e0']\": {'new_value': 0.08190672503923703, 'old_value': 0.008456496968442247}}}\n",
      "\n",
      "MIP score: 11\t\t\t11 required compound(s) can be sourced via syntrophy:\n",
      "executing MP\n",
      "The exchange  metabolite ID's of the model CF402-BC15 are completely standardized to ModelSEED.\n",
      "The minimal flux media consists of 41 compounds and a 1666.3806349348251 total influx, with a growth value of 42.18491512578147\n",
      "\n",
      "\n",
      "\n",
      "Standardize exchange reactions in Duagnella_sp_CF402.RAST.fbamodel \n",
      " =====================================================================\n",
      "The exchange  metabolite ID's of the model Duagnella_sp_CF402.RAST.fbamodel are completely standardized to ModelSEED.\n",
      "remaining possible_contributions 15\n",
      "\n",
      "\n",
      "Standardize exchange reactions in Bacillus_sp._bc15.RAST.fbamodel \n",
      " ====================================================================\n",
      "The exchange  metabolite ID's of the model Bacillus_sp._bc15.RAST.fbamodel are completely standardized to ModelSEED.\n",
      "remaining possible_contributions 44\n",
      "MP score:\t\t\tEach member can possibly contribute the following to the community:\n",
      "\n",
      "Duagnella_sp_CF402.RAST.fbamodel \t 11\n",
      "Bacillus_sp._bc15.RAST.fbamodel \t 51\n",
      "The Duagnella_sp_CF402.RAST.fbamodel_Bacillus_sp._bc15.RAST.fbamodel pair has been examined after 0.4296875 minutes.\n",
      "CPU times: total: 30.5 s\n",
      "Wall time: 33.1 s\n"
     ]
    }
   ],
   "source": [
    "%%time\n",
    "\n",
    "CF402 = kbase_api.get_from_ws(\"Duagnella_sp_CF402.RAST.fbamodel\", 114731)\n",
    "BC15 = kbase_api.get_from_ws(\"Bacillus_sp._bc15.RAST.fbamodel\", 114731)\n",
    "CF402_BC15_model = kbase_api.get_from_ws(\"CF402-BC15\", 114731)\n",
    "test_pair(CF402, BC15, CF402_BC15_model)"
   ]
  },
  {
   "cell_type": "markdown",
   "id": "eaa471cb-ff01-4d27-acca-304dbbd51128",
   "metadata": {},
   "source": [
    "# \"-\" interactions"
   ]
  },
  {
   "cell_type": "markdown",
   "id": "1f84be73-f08d-4625-9c47-b6f0c96abc60",
   "metadata": {},
   "source": [
    "## GM17 on CF142"
   ]
  },
  {
   "cell_type": "code",
   "execution_count": 10,
   "id": "d100cb74-4f4c-40b7-aea9-2a3c970b330f",
   "metadata": {
    "scrolled": true,
    "tags": []
   },
   "outputs": [
    {
     "name": "stderr",
     "output_type": "stream",
     "text": [
      "modelseedpy.community.mscompatibility - WARNING - IDWarning: The original ID cpd00609_e0 is a ModelSEED ID, and may not be desirably changed to cpd00609_e0.\n"
     ]
    },
    {
     "name": "stdout",
     "output_type": "stream",
     "text": [
      "\n",
      "\n",
      "0 reactions were substituted and 1 metabolite IDs were redefined in Pseudomonas_GM17_pacbio_v2.RAST.fbamodel,Rhizobium_CF142_pacbio_v2.RAST.fbamodel by standardize().\n",
      "\n",
      "\n",
      "ERROR:The model Rhizobium_CF142_pacbio_v2.RAST.fbamodel possesses an objective value of 0 in complete media, which is incompatible with minimal media computations and hence SMETANA.\n",
      "CPU times: total: 8.25 s\n",
      "Wall time: 10.4 s\n"
     ]
    }
   ],
   "source": [
    "%%time\n",
    "\n",
    "GM17 = kbase_api.get_from_ws(\"Pseudomonas_GM17_pacbio_v2.RAST.fbamodel\", 114731)\n",
    "CF142 = kbase_api.get_from_ws(\"Rhizobium_CF142_pacbio_v2.RAST.fbamodel\", 114731)\n",
    "GM17_CF142_model = kbase_api.get_from_ws(\"GM17-CF142\", 114731)\n",
    "test_pair(GM17, CF142, GM17_CF142_model)"
   ]
  },
  {
   "cell_type": "markdown",
   "id": "565310a6-13c3-40ed-b5dd-d3183e987f3b",
   "metadata": {},
   "source": [
    "## GM17 on BC15"
   ]
  },
  {
   "cell_type": "code",
   "execution_count": 11,
   "id": "34b9018e-43f6-43f6-9912-e248e84a52cf",
   "metadata": {
    "scrolled": true,
    "tags": []
   },
   "outputs": [
    {
     "name": "stderr",
     "output_type": "stream",
     "text": [
      "modelseedpy.community.mscompatibility - WARNING - IDWarning: The original ID cpd00609_e0 is a ModelSEED ID, and may not be desirably changed to cpd00609_e0.\n"
     ]
    },
    {
     "name": "stdout",
     "output_type": "stream",
     "text": [
      "\n",
      "\n",
      "0 reactions were substituted and 1 metabolite IDs were redefined in Pseudomonas_GM17_pacbio_v2.RAST.fbamodel,Bacillus_sp._bc15.RAST.fbamodel by standardize().\n",
      "The minimal flux media consists of 40 compounds and a 1.9477792410979555 total influx, with a growth value of 0.09999999999999774\n",
      "The minimal flux media consists of 35 compounds and a 1.4912990953766743 total influx, with a growth value of 0.09999999999970013\n",
      "The minimal flux media consists of 38 compounds and a 2.951327293991301 total influx, with a growth value of 0.09999999999988139\n",
      "\n",
      "The Pseudomonas_GM17_pacbio_v2.RAST.fbamodel on Bacillus_sp._bc15.RAST.fbamodel) MRO score: 0.75 (75.00%). This is the percent of nutritional requirements in Pseudomonas_GM17_pacbio_v2.RAST.fbamodel that overlap with Bacillus_sp._bc15.RAST.fbamodel) (30/40).\n",
      "\n",
      "The Bacillus_sp._bc15.RAST.fbamodel on Pseudomonas_GM17_pacbio_v2.RAST.fbamodel) MRO score: 0.8571428571428571 (85.71%). This is the percent of nutritional requirements in Bacillus_sp._bc15.RAST.fbamodel that overlap with Pseudomonas_GM17_pacbio_v2.RAST.fbamodel) (30/35).\n",
      "{'dictionary_item_added': [root['EX_cpd00158_e0'], root['EX_cpd10516_e0'], root['EX_cpd01017_e0']], 'dictionary_item_removed': [root['EX_cpd00132_e0'], root['EX_cpd00118_e0'], root['EX_cpd00024_e0'], root['EX_cpd11579_e0'], root['EX_cpd00307_e0'], root['EX_cpd01080_e0'], root['EX_cpd00438_e0'], root['EX_cpd00084_e0'], root['EX_cpd00075_e0'], root['EX_cpd00381_e0'], root['EX_cpd00794_e0'], root['EX_cpd00082_e0'], root['EX_cpd00033_e0'], root['EX_cpd00180_e0'], root['EX_cpd03847_e0'], root['EX_cpd00128_e0'], root['EX_cpd00161_e0'], root['EX_cpd00064_e0'], root['EX_cpd00264_e0'], root['EX_cpd00053_e0'], root['EX_cpd00039_e0'], root['EX_cpd00023_e0'], root['EX_cpd15603_e0']], 'values_changed': {\"root['EX_cpd00007_e0']\": {'new_value': 0.0015433875377752209, 'old_value': 0.0015433875377752467}, \"root['EX_cpd00051_e0']\": {'new_value': 0.049339364540268285, 'old_value': 0.04933936454026819}, \"root['EX_cpd00220_e0']\": {'new_value': 0.0016836954957547873, 'old_value': 0.0016836954957547877}, \"root['EX_cpd00311_e0']\": {'new_value': 0.01811163165226417, 'old_value': 0.015552612324955046}, \"root['EX_cpd00393_e0']\": {'new_value': 0.0016836954957547938, 'old_value': 0.0016836954957548085}, \"root['EX_cpd00179_e0']\": {'new_value': 0.0125052988554472, 'old_value': 3.156249376733083e-12}, \"root['EX_cpd00209_e0']\": {'new_value': 0.6391910515663793, 'old_value': 0.24679992765866723}, \"root['EX_cpd00322_e0']\": {'new_value': 0.048359702067447, 'old_value': 0.04835970206731573}, \"root['EX_cpd00367_e0']\": {'new_value': 0.035622622813228144, 'old_value': 0.019860385045764765}, \"root['EX_cpd00119_e0']\": {'new_value': 0.01585272001474317, 'old_value': 0.015852720014743183}, \"root['EX_cpd00644_e0']\": {'new_value': 0.0011224636638377573, 'old_value': 0.0011224636637067761}, \"root['EX_cpd00048_e0']\": {'new_value': 0.0005612318319182621, 'old_value': 0.0005612318319182887}, \"root['EX_cpd00156_e0']\": {'new_value': 0.07044663781858282, 'old_value': 0.07044663781866473}, \"root['EX_cpd00215_e0']\": {'new_value': 0.00028061591595913103, 'old_value': 0.0005612318319182621}, \"root['EX_cpd00355_e0']\": {'new_value': 0.16195147190906845, 'old_value': 1.8652569356014814}, \"root['EX_cpd00066_e0']\": {'new_value': 0.030903898006270074, 'old_value': 0.030903898006269}, \"root['EX_cpd10515_e0']\": {'new_value': 0.0014030795797956553, 'old_value': 0.0016836954957547862}, \"root['EX_cpd00017_e0']\": {'new_value': 0.026121516350071667, 'old_value': 0.0261215163500708}}}\n",
      "\n",
      "MIP score: 23\t\t\t23 required compound(s) can be sourced via syntrophy:\n",
      "executing MP\n"
     ]
    },
    {
     "name": "stderr",
     "output_type": "stream",
     "text": [
      "modelseedpy.community.mscompatibility - WARNING - IDWarning: The original ID cpd00609_e0 is a ModelSEED ID, and may not be desirably changed to cpd00609_e0.\n"
     ]
    },
    {
     "name": "stdout",
     "output_type": "stream",
     "text": [
      "\n",
      "\n",
      "0 reactions were substituted and 1 metabolite IDs were redefined in GM17-BC15 by standardize().\n",
      "The minimal flux media consists of 59 compounds and a 9132.440925229392 total influx, with a growth value of 124.16411665178387\n",
      "\n",
      "\n",
      "\n",
      "Standardize exchange reactions in Pseudomonas_GM17_pacbio_v2.RAST.fbamodel \n",
      " =============================================================================\n",
      "The exchange  metabolite ID's of the model Pseudomonas_GM17_pacbio_v2.RAST.fbamodel are completely standardized to ModelSEED.\n"
     ]
    },
    {
     "name": "stderr",
     "output_type": "stream",
     "text": [
      "C:\\Users\\Andrew Freiburger\\AppData\\Local\\Programs\\Python\\Python39\\lib\\site-packages\\cobra\\core\\metabolite.py:191: UserWarning: The element 'R' does not appear in the periodic table\n",
      "  warn(f\"The element {e} does not appear in the periodic table\")\n"
     ]
    },
    {
     "name": "stdout",
     "output_type": "stream",
     "text": [
      "remaining possible_contributions 55\r"
     ]
    },
    {
     "name": "stderr",
     "output_type": "stream",
     "text": [
      "C:\\Users\\Andrew Freiburger\\AppData\\Local\\Programs\\Python\\Python39\\lib\\site-packages\\cobra\\core\\metabolite.py:191: UserWarning: The element 'R' does not appear in the periodic table\n",
      "  warn(f\"The element {e} does not appear in the periodic table\")\n"
     ]
    },
    {
     "name": "stdout",
     "output_type": "stream",
     "text": [
      "remaining possible_contributions 50\n",
      "\n",
      "\n",
      "Standardize exchange reactions in Bacillus_sp._bc15.RAST.fbamodel \n",
      " ====================================================================\n",
      "The exchange  metabolite ID's of the model Bacillus_sp._bc15.RAST.fbamodel are completely standardized to ModelSEED.\n",
      "remaining possible_contributions 45\n",
      "MP score:\t\t\tEach member can possibly contribute the following to the community:\n",
      "\n",
      "Pseudomonas_GM17_pacbio_v2.RAST.fbamodel \t 33\n",
      "Bacillus_sp._bc15.RAST.fbamodel \t 35\n",
      "The Pseudomonas_GM17_pacbio_v2.RAST.fbamodel_Bacillus_sp._bc15.RAST.fbamodel pair has been examined after 0.7458333333333333 minutes.\n",
      "CPU times: total: 47.7 s\n",
      "Wall time: 51 s\n"
     ]
    }
   ],
   "source": [
    "%%time\n",
    "\n",
    "GM17 = kbase_api.get_from_ws(\"Pseudomonas_GM17_pacbio_v2.RAST.fbamodel\", 114731)\n",
    "BC15 = kbase_api.get_from_ws(\"Bacillus_sp._bc15.RAST.fbamodel\", 114731)\n",
    "GM17_BC15_model = kbase_api.get_from_ws(\"GM17-BC15\", 114731)\n",
    "test_pair(GM17, BC15, GM17_BC15_model)"
   ]
  },
  {
   "cell_type": "markdown",
   "id": "e85748b6-7c01-4318-adb9-8ae1a70c5b35",
   "metadata": {},
   "source": [
    "## CF313 on CF142 "
   ]
  },
  {
   "cell_type": "code",
   "execution_count": 12,
   "id": "4c9693e5-fe5a-439b-b6a7-d1b32e289142",
   "metadata": {
    "scrolled": true
   },
   "outputs": [
    {
     "name": "stdout",
     "output_type": "stream",
     "text": [
      "The exchange  metabolite ID's of the model Variovorax_CF313_pacbio_v2.RAST.fbamodel,Rhizobium_CF142_pacbio_v2.RAST.fbamodel are completely standardized to ModelSEED.\n",
      "\n",
      "\n",
      "ERROR:The model Rhizobium_CF142_pacbio_v2.RAST.fbamodel possesses an objective value of 0 in complete media, which is incompatible with minimal media computations and hence SMETANA.\n",
      "CPU times: total: 3.31 s\n",
      "Wall time: 3.86 s\n"
     ]
    }
   ],
   "source": [
    "%%time\n",
    "\n",
    "CF313_CF142_model = kbase_api.get_from_ws(\"CF313-CF142\", 114731)\n",
    "test_pair(CF313, CF142, CF313_CF142_model)"
   ]
  },
  {
   "cell_type": "markdown",
   "id": "b5d4bbf5-a383-486b-aa65-a8b34685f599",
   "metadata": {},
   "source": [
    "## AP07 on AP49"
   ]
  },
  {
   "cell_type": "code",
   "execution_count": 13,
   "id": "65b961d3-97af-4b19-8d18-259fe28f3782",
   "metadata": {
    "scrolled": true,
    "tags": []
   },
   "outputs": [
    {
     "name": "stderr",
     "output_type": "stream",
     "text": [
      "modelseedpy.community.mscompatibility - WARNING - IDWarning: The original ID cpd00609_e0 is a ModelSEED ID, and may not be desirably changed to cpd00609_e0.\n"
     ]
    },
    {
     "name": "stdout",
     "output_type": "stream",
     "text": [
      "\n",
      "\n",
      "0 reactions were substituted and 1 metabolite IDs were redefined in Caulobacter_AP07_pacbio_v2.RAST.fbamodel,Sphingobium_AP49_pacbio_v2.RAST.fbamodel by standardize().\n",
      "The minimal flux media consists of 37 compounds and a 1.765752438447405 total influx, with a growth value of 0.09999999999966246\n",
      "The minimal flux media consists of 42 compounds and a 1.9975620239036245 total influx, with a growth value of 0.09999999999978389\n",
      "The minimal flux media consists of 36 compounds and a 1.1908126839402016 total influx, with a growth value of 0.1000000000000193\n",
      "\n",
      "The Caulobacter_AP07_pacbio_v2.RAST.fbamodel on Sphingobium_AP49_pacbio_v2.RAST.fbamodel) MRO score: 0.8918918918918919 (89.19%). This is the percent of nutritional requirements in Caulobacter_AP07_pacbio_v2.RAST.fbamodel that overlap with Sphingobium_AP49_pacbio_v2.RAST.fbamodel) (33/37).\n",
      "\n",
      "The Sphingobium_AP49_pacbio_v2.RAST.fbamodel on Caulobacter_AP07_pacbio_v2.RAST.fbamodel) MRO score: 0.7857142857142857 (78.57%). This is the percent of nutritional requirements in Sphingobium_AP49_pacbio_v2.RAST.fbamodel that overlap with Caulobacter_AP07_pacbio_v2.RAST.fbamodel) (33/42).\n",
      "{'dictionary_item_added': [root['EX_cpd00076_e0'], root['EX_cpd10516_e0'], root['EX_cpd01017_e0']], 'dictionary_item_removed': [root['EX_cpd00132_e0'], root['EX_cpd00122_e0'], root['EX_cpd00084_e0'], root['EX_cpd00092_e0'], root['EX_cpd00082_e0'], root['EX_cpd00277_e0'], root['EX_cpd00129_e0'], root['EX_cpd00180_e0'], root['EX_cpd00069_e0'], root['EX_cpd00184_e0'], root['EX_cpd00136_e0'], root['EX_cpd10515_e0']], 'values_changed': {\"root['EX_cpd00007_e0']\": {'new_value': 0.00308677507615263, 'old_value': 2.0916575075184456}, \"root['EX_cpd00220_e0']\": {'new_value': 0.0016836954957547864, 'old_value': 0.0016836954957547869}, \"root['EX_cpd01080_e0']\": {'new_value': 0.024916275954454076, 'old_value': 0.024916275954454083}, \"root['EX_cpd00393_e0']\": {'new_value': 0.001683695495754781, 'old_value': 0.001683695495754783}, \"root['EX_cpd00793_e0']\": {'new_value': 0.0005612318319182615, 'old_value': 0.000561231831918262}, \"root['EX_cpd00794_e0']\": {'new_value': 0.02000847816871552, 'old_value': 0.020008478168715517}, \"root['EX_cpd00119_e0']\": {'new_value': 0.30311797279594466, 'old_value': 0.753292344022156}, \"root['EX_cpd03847_e0']\": {'new_value': 0.00500211954217888, 'old_value': 0.005002119542178881}, \"root['EX_cpd00009_e0']\": {'new_value': 0.16194913391544044, 'old_value': 0.16194913389892082}, \"root['EX_cpd00654_e0']\": {'new_value': 0.0011501166238305298, 'old_value': 1.9490489630120147e-19}, \"root['EX_cpd00644_e0']\": {'new_value': 0.0011224636637254337, 'old_value': 0.0011224636638532295}, \"root['EX_cpd00156_e0']\": {'new_value': 0.070446637818325, 'old_value': 0.07044663781832476}, \"root['EX_cpd00107_e0']\": {'new_value': 0.07507776950802542, 'old_value': 0.07507776950802565}, \"root['EX_cpd00017_e0']\": {'new_value': 0.031779626600056024, 'old_value': 0.029726075748323116}}}\n",
      "\n",
      "MIP score: 12\t\t\t12 required compound(s) can be sourced via syntrophy:\n",
      "executing MP\n"
     ]
    },
    {
     "name": "stderr",
     "output_type": "stream",
     "text": [
      "modelseedpy.community.mscompatibility - WARNING - IDWarning: The original ID cpd00609_e0 is a ModelSEED ID, and may not be desirably changed to cpd00609_e0.\n"
     ]
    },
    {
     "name": "stdout",
     "output_type": "stream",
     "text": [
      "\n",
      "\n",
      "0 reactions were substituted and 1 metabolite IDs were redefined in AP07-AP49 by standardize().\n",
      "The minimal flux media consists of 50 compounds and a 4165.108189489708 total influx, with a growth value of 53.49835137396317\n",
      "\n",
      "\n",
      "\n",
      "Standardize exchange reactions in Caulobacter_AP07_pacbio_v2.RAST.fbamodel \n",
      " =============================================================================\n",
      "The exchange  metabolite ID's of the model Caulobacter_AP07_pacbio_v2.RAST.fbamodel are completely standardized to ModelSEED.\n"
     ]
    },
    {
     "name": "stderr",
     "output_type": "stream",
     "text": [
      "C:\\Users\\Andrew Freiburger\\AppData\\Local\\Programs\\Python\\Python39\\lib\\site-packages\\cobra\\core\\metabolite.py:191: UserWarning: The element 'R' does not appear in the periodic table\n",
      "  warn(f\"The element {e} does not appear in the periodic table\")\n"
     ]
    },
    {
     "name": "stdout",
     "output_type": "stream",
     "text": [
      "remaining possible_contributions 54\r"
     ]
    },
    {
     "name": "stderr",
     "output_type": "stream",
     "text": [
      "C:\\Users\\Andrew Freiburger\\AppData\\Local\\Programs\\Python\\Python39\\lib\\site-packages\\cobra\\core\\metabolite.py:191: UserWarning: The element 'R' does not appear in the periodic table\n",
      "  warn(f\"The element {e} does not appear in the periodic table\")\n"
     ]
    },
    {
     "name": "stdout",
     "output_type": "stream",
     "text": [
      "remaining possible_contributions 51\r"
     ]
    },
    {
     "name": "stderr",
     "output_type": "stream",
     "text": [
      "C:\\Users\\Andrew Freiburger\\AppData\\Local\\Programs\\Python\\Python39\\lib\\site-packages\\cobra\\core\\metabolite.py:191: UserWarning: The element 'R' does not appear in the periodic table\n",
      "  warn(f\"The element {e} does not appear in the periodic table\")\n"
     ]
    },
    {
     "name": "stdout",
     "output_type": "stream",
     "text": [
      "remaining possible_contributions 49\r"
     ]
    },
    {
     "name": "stderr",
     "output_type": "stream",
     "text": [
      "C:\\Users\\Andrew Freiburger\\AppData\\Local\\Programs\\Python\\Python39\\lib\\site-packages\\cobra\\core\\metabolite.py:191: UserWarning: The element 'R' does not appear in the periodic table\n",
      "  warn(f\"The element {e} does not appear in the periodic table\")\n"
     ]
    },
    {
     "name": "stdout",
     "output_type": "stream",
     "text": [
      "remaining possible_contributions 48\n",
      "\n",
      "\n",
      "Standardize exchange reactions in Sphingobium_AP49_pacbio_v2.RAST.fbamodel \n",
      " =============================================================================\n",
      "The exchange  metabolite ID's of the model Sphingobium_AP49_pacbio_v2.RAST.fbamodel are completely standardized to ModelSEED.\n"
     ]
    },
    {
     "name": "stderr",
     "output_type": "stream",
     "text": [
      "C:\\Users\\Andrew Freiburger\\AppData\\Local\\Programs\\Python\\Python39\\lib\\site-packages\\cobra\\core\\metabolite.py:191: UserWarning: The element 'R' does not appear in the periodic table\n",
      "  warn(f\"The element {e} does not appear in the periodic table\")\n"
     ]
    },
    {
     "name": "stdout",
     "output_type": "stream",
     "text": [
      "remaining possible_contributions 44\r"
     ]
    },
    {
     "name": "stderr",
     "output_type": "stream",
     "text": [
      "C:\\Users\\Andrew Freiburger\\AppData\\Local\\Programs\\Python\\Python39\\lib\\site-packages\\cobra\\core\\metabolite.py:191: UserWarning: The element 'R' does not appear in the periodic table\n",
      "  warn(f\"The element {e} does not appear in the periodic table\")\n"
     ]
    },
    {
     "name": "stdout",
     "output_type": "stream",
     "text": [
      "remaining possible_contributions 40\r"
     ]
    },
    {
     "name": "stderr",
     "output_type": "stream",
     "text": [
      "C:\\Users\\Andrew Freiburger\\AppData\\Local\\Programs\\Python\\Python39\\lib\\site-packages\\cobra\\core\\metabolite.py:191: UserWarning: The element 'R' does not appear in the periodic table\n",
      "  warn(f\"The element {e} does not appear in the periodic table\")\n"
     ]
    },
    {
     "name": "stdout",
     "output_type": "stream",
     "text": [
      "remaining possible_contributions 38\r"
     ]
    },
    {
     "name": "stderr",
     "output_type": "stream",
     "text": [
      "C:\\Users\\Andrew Freiburger\\AppData\\Local\\Programs\\Python\\Python39\\lib\\site-packages\\cobra\\core\\metabolite.py:191: UserWarning: The element 'R' does not appear in the periodic table\n",
      "  warn(f\"The element {e} does not appear in the periodic table\")\n"
     ]
    },
    {
     "name": "stdout",
     "output_type": "stream",
     "text": [
      "remaining possible_contributions 37\r"
     ]
    },
    {
     "name": "stderr",
     "output_type": "stream",
     "text": [
      "C:\\Users\\Andrew Freiburger\\AppData\\Local\\Programs\\Python\\Python39\\lib\\site-packages\\cobra\\core\\metabolite.py:191: UserWarning: The element 'R' does not appear in the periodic table\n",
      "  warn(f\"The element {e} does not appear in the periodic table\")\n"
     ]
    },
    {
     "name": "stdout",
     "output_type": "stream",
     "text": [
      "remaining possible_contributions 36\n",
      "MP score:\t\t\tEach member can possibly contribute the following to the community:\n",
      "\n",
      "Caulobacter_AP07_pacbio_v2.RAST.fbamodel \t 27\n",
      "Sphingobium_AP49_pacbio_v2.RAST.fbamodel \t 26\n",
      "The Caulobacter_AP07_pacbio_v2.RAST.fbamodel_Sphingobium_AP49_pacbio_v2.RAST.fbamodel pair has been examined after 0.7145833333333333 minutes.\n",
      "CPU times: total: 51.5 s\n",
      "Wall time: 55.5 s\n"
     ]
    }
   ],
   "source": [
    "%%time\n",
    "\n",
    "AP07 = kbase_api.get_from_ws(\"Caulobacter_AP07_pacbio_v2.RAST.fbamodel\", 114731)\n",
    "AP49 = kbase_api.get_from_ws(\"Sphingobium_AP49_pacbio_v2.RAST.fbamodel\", 114731)\n",
    "AP07_AP49_model = kbase_api.get_from_ws(\"AP07-AP49\", 114731)\n",
    "test_pair(AP07, AP49, AP07_AP49_model)"
   ]
  },
  {
   "cell_type": "markdown",
   "id": "8d3c5529-c99d-4dbf-bac9-340fdfa58471",
   "metadata": {},
   "source": [
    "## CF313 on BT03"
   ]
  },
  {
   "cell_type": "code",
   "execution_count": 14,
   "id": "ee85ee54-d40e-4caf-9618-55f3531e600a",
   "metadata": {
    "scrolled": true,
    "tags": []
   },
   "outputs": [
    {
     "name": "stderr",
     "output_type": "stream",
     "text": [
      "modelseedpy.community.mscompatibility - WARNING - IDWarning: The original ID cpd00609_e0 is a ModelSEED ID, and may not be desirably changed to cpd00609_e0.\n"
     ]
    },
    {
     "name": "stdout",
     "output_type": "stream",
     "text": [
      "\n",
      "\n",
      "0 reactions were substituted and 1 metabolite IDs were redefined in Variovorax_CF313_pacbio_v2.RAST.fbamodel,Burkholderia_sp._BT03.RAST.fbamodel by standardize().\n",
      "The minimal flux media consists of 33 compounds and a 1.6635843914746098 total influx, with a growth value of 0.10000000000005345\n",
      "The minimal flux media consists of 39 compounds and a 2.019288624231199 total influx, with a growth value of 0.09999999999991316\n",
      "The minimal flux media consists of 35 compounds and a 3.336052220559517 total influx, with a growth value of 0.1000000000000875\n",
      "\n",
      "The Variovorax_CF313_pacbio_v2.RAST.fbamodel on Burkholderia_sp._BT03.RAST.fbamodel) MRO score: 0.9393939393939394 (93.94%). This is the percent of nutritional requirements in Variovorax_CF313_pacbio_v2.RAST.fbamodel that overlap with Burkholderia_sp._BT03.RAST.fbamodel) (31/33).\n",
      "\n",
      "The Burkholderia_sp._BT03.RAST.fbamodel on Variovorax_CF313_pacbio_v2.RAST.fbamodel) MRO score: 0.7948717948717948 (79.49%). This is the percent of nutritional requirements in Burkholderia_sp._BT03.RAST.fbamodel that overlap with Variovorax_CF313_pacbio_v2.RAST.fbamodel) (31/39).\n",
      "{'dictionary_item_added': [root['EX_cpd00209_e0']], 'dictionary_item_removed': [root['EX_cpd00132_e0'], root['EX_cpd00118_e0'], root['EX_cpd00080_e0'], root['EX_cpd00075_e0'], root['EX_cpd00794_e0'], root['EX_cpd00082_e0'], root['EX_cpd00180_e0'], root['EX_cpd00264_e0'], root['EX_cpd00039_e0']], 'values_changed': {\"root['EX_cpd00042_e0']\": {'new_value': 0.016912993936958717, 'old_value': 0.01691299393688448}, \"root['EX_cpd00051_e0']\": {'new_value': 0.049339364540310224, 'old_value': 0.049339364540268216}, \"root['EX_cpd00307_e0']\": {'new_value': 0.02097774605879147, 'old_value': 0.04195565434602845}, \"root['EX_cpd00220_e0']\": {'new_value': 0.0016836954957551106, 'old_value': 0.0016836954957546804}, \"root['EX_cpd00393_e0']\": {'new_value': 0.0016836954957547962, 'old_value': 0.0016836954957550978}, \"root['EX_cpd00179_e0']\": {'new_value': 1.646243887856118, 'old_value': 0.26552804499694876}, \"root['EX_cpd00119_e0']\": {'new_value': 0.015852720014743183, 'old_value': 0.4217816157534411}, \"root['EX_cpd00069_e0']\": {'new_value': 0.024135320921322402, 'old_value': 0.024135320921322406}, \"root['EX_cpd00644_e0']\": {'new_value': 0.0011224636639107716, 'old_value': 0.0011224636638365352}, \"root['EX_cpd00048_e0']\": {'new_value': 0.0005612318319182622, 'old_value': 0.0005612318319182621}, \"root['EX_cpd00156_e0']\": {'new_value': 0.070446637818325, 'old_value': 0.07044663781832501}, \"root['EX_cpd00107_e0']\": {'new_value': 0.07507776950802542, 'old_value': 0.07507776950802532}, \"root['EX_cpd00355_e0']\": {'new_value': 0.16194941864396903, 'old_value': 1.257004734071514}, \"root['EX_cpd00017_e0']\": {'new_value': 0.05889122093607305, 'old_value': 0.05889122093620064}}}\n",
      "\n",
      "MIP score: 9\t\t\t9 required compound(s) can be sourced via syntrophy:\n",
      "executing MP\n"
     ]
    },
    {
     "name": "stderr",
     "output_type": "stream",
     "text": [
      "modelseedpy.community.mscompatibility - WARNING - IDWarning: The original ID cpd00609_e0 is a ModelSEED ID, and may not be desirably changed to cpd00609_e0.\n"
     ]
    },
    {
     "name": "stdout",
     "output_type": "stream",
     "text": [
      "\n",
      "\n",
      "0 reactions were substituted and 1 metabolite IDs were redefined in CF313-BT03 by standardize().\n",
      "The minimal flux media consists of 42 compounds and a 3794.313311055179 total influx, with a growth value of 89.21530138662172\n",
      "\n",
      "\n",
      "\n",
      "Standardize exchange reactions in Variovorax_CF313_pacbio_v2.RAST.fbamodel \n",
      " =============================================================================\n",
      "The exchange  metabolite ID's of the model Variovorax_CF313_pacbio_v2.RAST.fbamodel are completely standardized to ModelSEED.\n"
     ]
    },
    {
     "name": "stderr",
     "output_type": "stream",
     "text": [
      "C:\\Users\\Andrew Freiburger\\AppData\\Local\\Programs\\Python\\Python39\\lib\\site-packages\\cobra\\core\\metabolite.py:191: UserWarning: The element 'R' does not appear in the periodic table\n",
      "  warn(f\"The element {e} does not appear in the periodic table\")\n"
     ]
    },
    {
     "name": "stdout",
     "output_type": "stream",
     "text": [
      "remaining possible_contributions 60\r"
     ]
    },
    {
     "name": "stderr",
     "output_type": "stream",
     "text": [
      "C:\\Users\\Andrew Freiburger\\AppData\\Local\\Programs\\Python\\Python39\\lib\\site-packages\\cobra\\core\\metabolite.py:191: UserWarning: The element 'R' does not appear in the periodic table\n",
      "  warn(f\"The element {e} does not appear in the periodic table\")\n"
     ]
    },
    {
     "name": "stdout",
     "output_type": "stream",
     "text": [
      "remaining possible_contributions 55\r"
     ]
    },
    {
     "name": "stderr",
     "output_type": "stream",
     "text": [
      "C:\\Users\\Andrew Freiburger\\AppData\\Local\\Programs\\Python\\Python39\\lib\\site-packages\\cobra\\core\\metabolite.py:191: UserWarning: The element 'R' does not appear in the periodic table\n",
      "  warn(f\"The element {e} does not appear in the periodic table\")\n"
     ]
    },
    {
     "name": "stdout",
     "output_type": "stream",
     "text": [
      "remaining possible_contributions 53\n",
      "\n",
      "\n",
      "Standardize exchange reactions in Burkholderia_sp._BT03.RAST.fbamodel \n",
      " ========================================================================\n",
      "The exchange  metabolite ID's of the model Burkholderia_sp._BT03.RAST.fbamodel are completely standardized to ModelSEED.\n"
     ]
    },
    {
     "name": "stderr",
     "output_type": "stream",
     "text": [
      "C:\\Users\\Andrew Freiburger\\AppData\\Local\\Programs\\Python\\Python39\\lib\\site-packages\\cobra\\core\\metabolite.py:191: UserWarning: The element 'R' does not appear in the periodic table\n",
      "  warn(f\"The element {e} does not appear in the periodic table\")\n"
     ]
    },
    {
     "name": "stdout",
     "output_type": "stream",
     "text": [
      "remaining possible_contributions 93\r"
     ]
    },
    {
     "name": "stderr",
     "output_type": "stream",
     "text": [
      "C:\\Users\\Andrew Freiburger\\AppData\\Local\\Programs\\Python\\Python39\\lib\\site-packages\\cobra\\core\\metabolite.py:191: UserWarning: The element 'R' does not appear in the periodic table\n",
      "  warn(f\"The element {e} does not appear in the periodic table\")\n"
     ]
    },
    {
     "name": "stdout",
     "output_type": "stream",
     "text": [
      "remaining possible_contributions 86\r"
     ]
    },
    {
     "name": "stderr",
     "output_type": "stream",
     "text": [
      "C:\\Users\\Andrew Freiburger\\AppData\\Local\\Programs\\Python\\Python39\\lib\\site-packages\\cobra\\core\\metabolite.py:191: UserWarning: The element 'R' does not appear in the periodic table\n",
      "  warn(f\"The element {e} does not appear in the periodic table\")\n"
     ]
    },
    {
     "name": "stdout",
     "output_type": "stream",
     "text": [
      "remaining possible_contributions 84\n",
      "MP score:\t\t\tEach member can possibly contribute the following to the community:\n",
      "\n",
      "Variovorax_CF313_pacbio_v2.RAST.fbamodel \t 27\n",
      "Burkholderia_sp._BT03.RAST.fbamodel \t 37\n",
      "The Variovorax_CF313_pacbio_v2.RAST.fbamodel_Burkholderia_sp._BT03.RAST.fbamodel pair has been examined after 0.9067708333333333 minutes.\n",
      "CPU times: total: 1min 3s\n",
      "Wall time: 1min 7s\n"
     ]
    }
   ],
   "source": [
    "%%time\n",
    "\n",
    "BT03 = kbase_api.get_from_ws(\"Burkholderia_sp._BT03.RAST.fbamodel\", 114731)\n",
    "CF313 = kbase_api.get_from_ws(\"Variovorax_CF313_pacbio_v2.RAST.fbamodel\",114731)\n",
    "CF313_BT03_model = kbase_api.get_from_ws(\"CF313-BT03\", 114731)\n",
    "test_pair(CF313, BT03, CF313_BT03_model)"
   ]
  },
  {
   "cell_type": "markdown",
   "id": "8edc8690-81eb-4463-b9ec-babfffbd0ded",
   "metadata": {},
   "source": [
    "## YR139 on CF142"
   ]
  },
  {
   "cell_type": "code",
   "execution_count": 15,
   "id": "765f864b-469d-4d4c-a2a3-b7f8ad63276a",
   "metadata": {
    "scrolled": true
   },
   "outputs": [
    {
     "name": "stdout",
     "output_type": "stream",
     "text": [
      "The exchange  metabolite ID's of the model Streptomyces_YR139_pacbio_v2.RAST.fbamodel,Rhizobium_CF142_pacbio_v2.RAST.fbamodel are completely standardized to ModelSEED.\n",
      "\n",
      "\n",
      "ERROR:The model Rhizobium_CF142_pacbio_v2.RAST.fbamodel possesses an objective value of 0 in complete media, which is incompatible with minimal media computations and hence SMETANA.\n",
      "CPU times: total: 3.78 s\n",
      "Wall time: 5.15 s\n"
     ]
    }
   ],
   "source": [
    "%%time\n",
    "\n",
    "YR139 = kbase_api.get_from_ws(\"Streptomyces_YR139_pacbio_v2.RAST.fbamodel\", 114731)\n",
    "YR139_CF142_model = kbase_api.get_from_ws(\"YR139-CF142\", 114731)\n",
    "test_pair(YR139, CF142, YR139_CF142_model)"
   ]
  },
  {
   "cell_type": "markdown",
   "id": "f3527c8d-f068-47b9-a27f-72619a3e9baa",
   "metadata": {},
   "source": [
    "## GM17 on AP49"
   ]
  },
  {
   "cell_type": "code",
   "execution_count": 16,
   "id": "88e080a4-06ee-4c4a-85ff-7310f56182c2",
   "metadata": {
    "scrolled": true,
    "tags": []
   },
   "outputs": [
    {
     "name": "stderr",
     "output_type": "stream",
     "text": [
      "modelseedpy.community.mscompatibility - WARNING - IDWarning: The original ID cpd00609_e0 is a ModelSEED ID, and may not be desirably changed to cpd00609_e0.\n"
     ]
    },
    {
     "name": "stdout",
     "output_type": "stream",
     "text": [
      "\n",
      "\n",
      "0 reactions were substituted and 1 metabolite IDs were redefined in Pseudomonas_GM17_pacbio_v2.RAST.fbamodel,Sphingobium_AP49_pacbio_v2.RAST.fbamodel by standardize().\n",
      "The minimal flux media consists of 40 compounds and a 1.9477792410979555 total influx, with a growth value of 0.09999999999999774\n",
      "The minimal flux media consists of 42 compounds and a 1.9975620239036245 total influx, with a growth value of 0.09999999999978389\n",
      "The minimal flux media consists of 35 compounds and a 1.0134186244473198 total influx, with a growth value of 0.10000000000001628\n",
      "\n",
      "The Pseudomonas_GM17_pacbio_v2.RAST.fbamodel on Sphingobium_AP49_pacbio_v2.RAST.fbamodel) MRO score: 0.8 (80.00%). This is the percent of nutritional requirements in Pseudomonas_GM17_pacbio_v2.RAST.fbamodel that overlap with Sphingobium_AP49_pacbio_v2.RAST.fbamodel) (32/40).\n",
      "\n",
      "The Sphingobium_AP49_pacbio_v2.RAST.fbamodel on Pseudomonas_GM17_pacbio_v2.RAST.fbamodel) MRO score: 0.7619047619047619 (76.19%). This is the percent of nutritional requirements in Sphingobium_AP49_pacbio_v2.RAST.fbamodel that overlap with Pseudomonas_GM17_pacbio_v2.RAST.fbamodel) (32/42).\n",
      "{'dictionary_item_added': [root['EX_cpd00179_e0'], root['EX_cpd10516_e0'], root['EX_cpd08023_e0']], 'dictionary_item_removed': [root['EX_cpd00132_e0'], root['EX_cpd00118_e0'], root['EX_cpd00106_e0'], root['EX_cpd00307_e0'], root['EX_cpd00311_e0'], root['EX_cpd00060_e0'], root['EX_cpd00084_e0'], root['EX_cpd00209_e0'], root['EX_cpd00082_e0'], root['EX_cpd00588_e0'], root['EX_cpd00119_e0'], root['EX_cpd00129_e0'], root['EX_cpd00069_e0'], root['EX_cpd00128_e0'], root['EX_cpd00161_e0'], root['EX_cpd00184_e0'], root['EX_cpd00039_e0'], root['EX_cpd00136_e0'], root['EX_cpd00066_e0'], root['EX_cpd00023_e0']], 'values_changed': {\"root['EX_cpd00007_e0']\": {'new_value': 0.002385235285803732, 'old_value': 1.2936120749864397}, \"root['EX_cpd00051_e0']\": {'new_value': 0.26856993884915087, 'old_value': 0.049339364540268195}, \"root['EX_cpd00220_e0']\": {'new_value': 0.0016836954957581518, 'old_value': 0.0016836954957547864}, \"root['EX_cpd01080_e0']\": {'new_value': 0.02491627595445409, 'old_value': 0.02491627595445408}, \"root['EX_cpd00393_e0']\": {'new_value': 0.0016836954957547806, 'old_value': 0.001683695495754793}, \"root['EX_cpd01017_e0']\": {'new_value': 0.016912993936870426, 'old_value': 0.008456496969079227}, \"root['EX_cpd00654_e0']\": {'new_value': 0.006365757345264791, 'old_value': 0.005215640721434261}, \"root['EX_cpd00644_e0']\": {'new_value': 0.0011224636638224807, 'old_value': 0.0011224636644734977}, \"root['EX_cpd00156_e0']\": {'new_value': 0.0704466378183224, 'old_value': 0.07044663781832533}, \"root['EX_cpd00264_e0']\": {'new_value': 0.000561231831918262, 'old_value': 0.0005612318318899422}, \"root['EX_cpd00355_e0']\": {'new_value': 0.16194953782091265, 'old_value': 0.9640718211079503}, \"root['EX_cpd10515_e0']\": {'new_value': 0.0014030795797956548, 'old_value': 0.0016836954957547858}, \"root['EX_cpd00017_e0']\": {'new_value': 0.028534497387386094, 'old_value': 0.003928622823428116}}}\n",
      "\n",
      "MIP score: 20\t\t\t20 required compound(s) can be sourced via syntrophy:\n",
      "executing MP\n"
     ]
    },
    {
     "name": "stderr",
     "output_type": "stream",
     "text": [
      "modelseedpy.community.mscompatibility - WARNING - IDWarning: The original ID cpd00609_e0 is a ModelSEED ID, and may not be desirably changed to cpd00609_e0.\n"
     ]
    },
    {
     "name": "stdout",
     "output_type": "stream",
     "text": [
      "\n",
      "\n",
      "0 reactions were substituted and 1 metabolite IDs were redefined in GM17-AP49 by standardize().\n",
      "The minimal flux media consists of 48 compounds and a 3067.7791796146103 total influx, with a growth value of 59.66143917485718\n",
      "\n",
      "\n",
      "\n",
      "Standardize exchange reactions in Pseudomonas_GM17_pacbio_v2.RAST.fbamodel \n",
      " =============================================================================\n",
      "The exchange  metabolite ID's of the model Pseudomonas_GM17_pacbio_v2.RAST.fbamodel are completely standardized to ModelSEED.\n"
     ]
    },
    {
     "name": "stderr",
     "output_type": "stream",
     "text": [
      "C:\\Users\\Andrew Freiburger\\AppData\\Local\\Programs\\Python\\Python39\\lib\\site-packages\\cobra\\core\\metabolite.py:191: UserWarning: The element 'R' does not appear in the periodic table\n",
      "  warn(f\"The element {e} does not appear in the periodic table\")\n"
     ]
    },
    {
     "name": "stdout",
     "output_type": "stream",
     "text": [
      "remaining possible_contributions 63\r"
     ]
    },
    {
     "name": "stderr",
     "output_type": "stream",
     "text": [
      "C:\\Users\\Andrew Freiburger\\AppData\\Local\\Programs\\Python\\Python39\\lib\\site-packages\\cobra\\core\\metabolite.py:191: UserWarning: The element 'R' does not appear in the periodic table\n",
      "  warn(f\"The element {e} does not appear in the periodic table\")\n"
     ]
    },
    {
     "name": "stdout",
     "output_type": "stream",
     "text": [
      "remaining possible_contributions 53\n",
      "\n",
      "\n",
      "Standardize exchange reactions in Sphingobium_AP49_pacbio_v2.RAST.fbamodel \n",
      " =============================================================================\n",
      "The exchange  metabolite ID's of the model Sphingobium_AP49_pacbio_v2.RAST.fbamodel are completely standardized to ModelSEED.\n"
     ]
    },
    {
     "name": "stderr",
     "output_type": "stream",
     "text": [
      "C:\\Users\\Andrew Freiburger\\AppData\\Local\\Programs\\Python\\Python39\\lib\\site-packages\\cobra\\core\\metabolite.py:191: UserWarning: The element 'R' does not appear in the periodic table\n",
      "  warn(f\"The element {e} does not appear in the periodic table\")\n"
     ]
    },
    {
     "name": "stdout",
     "output_type": "stream",
     "text": [
      "remaining possible_contributions 49\r"
     ]
    },
    {
     "name": "stderr",
     "output_type": "stream",
     "text": [
      "C:\\Users\\Andrew Freiburger\\AppData\\Local\\Programs\\Python\\Python39\\lib\\site-packages\\cobra\\core\\metabolite.py:191: UserWarning: The element 'R' does not appear in the periodic table\n",
      "  warn(f\"The element {e} does not appear in the periodic table\")\n"
     ]
    },
    {
     "name": "stdout",
     "output_type": "stream",
     "text": [
      "remaining possible_contributions 43\r"
     ]
    },
    {
     "name": "stderr",
     "output_type": "stream",
     "text": [
      "C:\\Users\\Andrew Freiburger\\AppData\\Local\\Programs\\Python\\Python39\\lib\\site-packages\\cobra\\core\\metabolite.py:191: UserWarning: The element 'R' does not appear in the periodic table\n",
      "  warn(f\"The element {e} does not appear in the periodic table\")\n"
     ]
    },
    {
     "name": "stdout",
     "output_type": "stream",
     "text": [
      "remaining possible_contributions 41\r"
     ]
    },
    {
     "name": "stderr",
     "output_type": "stream",
     "text": [
      "C:\\Users\\Andrew Freiburger\\AppData\\Local\\Programs\\Python\\Python39\\lib\\site-packages\\cobra\\core\\metabolite.py:191: UserWarning: The element 'R' does not appear in the periodic table\n",
      "  warn(f\"The element {e} does not appear in the periodic table\")\n"
     ]
    },
    {
     "name": "stdout",
     "output_type": "stream",
     "text": [
      "remaining possible_contributions 40\n",
      "MP score:\t\t\tEach member can possibly contribute the following to the community:\n",
      "\n",
      "Pseudomonas_GM17_pacbio_v2.RAST.fbamodel \t 40\n",
      "Sphingobium_AP49_pacbio_v2.RAST.fbamodel \t 28\n",
      "The Pseudomonas_GM17_pacbio_v2.RAST.fbamodel_Sphingobium_AP49_pacbio_v2.RAST.fbamodel pair has been examined after 0.8166666666666667 minutes.\n",
      "CPU times: total: 50.4 s\n",
      "Wall time: 53.1 s\n"
     ]
    }
   ],
   "source": [
    "%%time\n",
    "\n",
    "GM17_AP49_model = kbase_api.get_from_ws(\"GM17-AP49\", 114731)\n",
    "test_pair(GM17, AP49, GM17_AP49_model)"
   ]
  },
  {
   "cell_type": "markdown",
   "id": "130448d1-0a89-4e32-84d4-9e64a03e46f6",
   "metadata": {},
   "source": [
    "## GM17 on CF313"
   ]
  },
  {
   "cell_type": "code",
   "execution_count": 17,
   "id": "2840df27-3843-4d3c-beb9-662bf5c17d3d",
   "metadata": {
    "scrolled": true,
    "tags": []
   },
   "outputs": [
    {
     "name": "stderr",
     "output_type": "stream",
     "text": [
      "modelseedpy.community.mscompatibility - WARNING - IDWarning: The original ID cpd00609_e0 is a ModelSEED ID, and may not be desirably changed to cpd00609_e0.\n"
     ]
    },
    {
     "name": "stdout",
     "output_type": "stream",
     "text": [
      "\n",
      "\n",
      "0 reactions were substituted and 1 metabolite IDs were redefined in Pseudomonas_GM17_pacbio_v2.RAST.fbamodel,Variovorax_CF313_pacbio_v2.RAST.fbamodel by standardize().\n",
      "The minimal flux media consists of 40 compounds and a 1.9477792410979555 total influx, with a growth value of 0.09999999999999774\n",
      "The minimal flux media consists of 33 compounds and a 1.6635843914746098 total influx, with a growth value of 0.10000000000005345\n",
      "The minimal flux media consists of 33 compounds and a 0.9974227148127647 total influx, with a growth value of 0.10000000000000007\n",
      "\n",
      "The Pseudomonas_GM17_pacbio_v2.RAST.fbamodel on Variovorax_CF313_pacbio_v2.RAST.fbamodel) MRO score: 0.775 (77.50%). This is the percent of nutritional requirements in Pseudomonas_GM17_pacbio_v2.RAST.fbamodel that overlap with Variovorax_CF313_pacbio_v2.RAST.fbamodel) (31/40).\n",
      "\n",
      "The Variovorax_CF313_pacbio_v2.RAST.fbamodel on Pseudomonas_GM17_pacbio_v2.RAST.fbamodel) MRO score: 0.9393939393939394 (93.94%). This is the percent of nutritional requirements in Variovorax_CF313_pacbio_v2.RAST.fbamodel that overlap with Pseudomonas_GM17_pacbio_v2.RAST.fbamodel) (31/33).\n",
      "{'dictionary_item_added': [root['EX_cpd00042_e0'], root['EX_cpd00142_e0']], 'dictionary_item_removed': [root['EX_cpd00132_e0'], root['EX_cpd00118_e0'], root['EX_cpd00307_e0'], root['EX_cpd00311_e0'], root['EX_cpd00084_e0'], root['EX_cpd00209_e0'], root['EX_cpd00082_e0'], root['EX_cpd00119_e0'], root['EX_cpd00069_e0'], root['EX_cpd00128_e0'], root['EX_cpd00039_e0'], root['EX_cpd00136_e0'], root['EX_cpd00066_e0'], root['EX_cpd00023_e0']], 'values_changed': {\"root['EX_cpd00007_e0']\": {'new_value': 0.0015433875377752209, 'old_value': 0.0015433875377752206}, \"root['EX_cpd00051_e0']\": {'new_value': 0.23112611075367392, 'old_value': 0.049339364540268195}, \"root['EX_cpd00220_e0']\": {'new_value': 0.0016836954957547337, 'old_value': 0.0016836954957547333}, \"root['EX_cpd01080_e0']\": {'new_value': 0.024916275954461938, 'old_value': 0.024916275954454094}, \"root['EX_cpd00393_e0']\": {'new_value': 0.0016836954957547888, 'old_value': 0.0016836954957547882}, \"root['EX_cpd00793_e0']\": {'new_value': 0.0005612318319182636, 'old_value': 0.0005612318319182619}, \"root['EX_cpd00179_e0']\": {'new_value': 0.2770114069363486, 'old_value': 0.05516745403542781}, \"root['EX_cpd03847_e0']\": {'new_value': 0.002501059771159463, 'old_value': 0.002501059771089441}, \"root['EX_cpd00644_e0']\": {'new_value': 0.0011224636639247455, 'old_value': 0.0011224636638366642}, \"root['EX_cpd00156_e0']\": {'new_value': 0.07044663781832498, 'old_value': 0.07044663781838384}, \"root['EX_cpd00107_e0']\": {'new_value': 0.07507776950802542, 'old_value': 0.0750777695080254}, \"root['EX_cpd00355_e0']\": {'new_value': 0.1619493590432599, 'old_value': 1.9572233124103091}, \"root['EX_cpd00017_e0']\": {'new_value': 0.057699410824509245, 'old_value': 0.03140984076546549}}}\n",
      "\n",
      "MIP score: 14\t\t\t14 required compound(s) can be sourced via syntrophy:\n",
      "executing MP\n"
     ]
    },
    {
     "name": "stderr",
     "output_type": "stream",
     "text": [
      "modelseedpy.community.mscompatibility - WARNING - IDWarning: The original ID cpd00609_e0 is a ModelSEED ID, and may not be desirably changed to cpd00609_e0.\n"
     ]
    },
    {
     "name": "stdout",
     "output_type": "stream",
     "text": [
      "\n",
      "\n",
      "0 reactions were substituted and 1 metabolite IDs were redefined in GM17-CF313 by standardize().\n",
      "The minimal flux media consists of 49 compounds and a 5936.934698279819 total influx, with a growth value of 106.07791680446499\n",
      "\n",
      "\n",
      "\n",
      "Standardize exchange reactions in Pseudomonas_GM17_pacbio_v2.RAST.fbamodel \n",
      " =============================================================================\n",
      "The exchange  metabolite ID's of the model Pseudomonas_GM17_pacbio_v2.RAST.fbamodel are completely standardized to ModelSEED.\n"
     ]
    },
    {
     "name": "stderr",
     "output_type": "stream",
     "text": [
      "C:\\Users\\Andrew Freiburger\\AppData\\Local\\Programs\\Python\\Python39\\lib\\site-packages\\cobra\\core\\metabolite.py:191: UserWarning: The element 'R' does not appear in the periodic table\n",
      "  warn(f\"The element {e} does not appear in the periodic table\")\n"
     ]
    },
    {
     "name": "stdout",
     "output_type": "stream",
     "text": [
      "remaining possible_contributions 60\r"
     ]
    },
    {
     "name": "stderr",
     "output_type": "stream",
     "text": [
      "C:\\Users\\Andrew Freiburger\\AppData\\Local\\Programs\\Python\\Python39\\lib\\site-packages\\cobra\\core\\metabolite.py:191: UserWarning: The element 'R' does not appear in the periodic table\n",
      "  warn(f\"The element {e} does not appear in the periodic table\")\n"
     ]
    },
    {
     "name": "stdout",
     "output_type": "stream",
     "text": [
      "remaining possible_contributions 51\r"
     ]
    },
    {
     "name": "stderr",
     "output_type": "stream",
     "text": [
      "C:\\Users\\Andrew Freiburger\\AppData\\Local\\Programs\\Python\\Python39\\lib\\site-packages\\cobra\\core\\metabolite.py:191: UserWarning: The element 'R' does not appear in the periodic table\n",
      "  warn(f\"The element {e} does not appear in the periodic table\")\n"
     ]
    },
    {
     "name": "stdout",
     "output_type": "stream",
     "text": [
      "remaining possible_contributions 50\n",
      "\n",
      "\n",
      "Standardize exchange reactions in Variovorax_CF313_pacbio_v2.RAST.fbamodel \n",
      " =============================================================================\n",
      "The exchange  metabolite ID's of the model Variovorax_CF313_pacbio_v2.RAST.fbamodel are completely standardized to ModelSEED.\n"
     ]
    },
    {
     "name": "stderr",
     "output_type": "stream",
     "text": [
      "C:\\Users\\Andrew Freiburger\\AppData\\Local\\Programs\\Python\\Python39\\lib\\site-packages\\cobra\\core\\metabolite.py:191: UserWarning: The element 'R' does not appear in the periodic table\n",
      "  warn(f\"The element {e} does not appear in the periodic table\")\n"
     ]
    },
    {
     "name": "stdout",
     "output_type": "stream",
     "text": [
      "remaining possible_contributions 58\r"
     ]
    },
    {
     "name": "stderr",
     "output_type": "stream",
     "text": [
      "C:\\Users\\Andrew Freiburger\\AppData\\Local\\Programs\\Python\\Python39\\lib\\site-packages\\cobra\\core\\metabolite.py:191: UserWarning: The element 'R' does not appear in the periodic table\n",
      "  warn(f\"The element {e} does not appear in the periodic table\")\n"
     ]
    },
    {
     "name": "stdout",
     "output_type": "stream",
     "text": [
      "remaining possible_contributions 55\r"
     ]
    },
    {
     "name": "stderr",
     "output_type": "stream",
     "text": [
      "C:\\Users\\Andrew Freiburger\\AppData\\Local\\Programs\\Python\\Python39\\lib\\site-packages\\cobra\\core\\metabolite.py:191: UserWarning: The element 'R' does not appear in the periodic table\n",
      "  warn(f\"The element {e} does not appear in the periodic table\")\n"
     ]
    },
    {
     "name": "stdout",
     "output_type": "stream",
     "text": [
      "remaining possible_contributions 54\n",
      "MP score:\t\t\tEach member can possibly contribute the following to the community:\n",
      "\n",
      "Pseudomonas_GM17_pacbio_v2.RAST.fbamodel \t 40\n",
      "Variovorax_CF313_pacbio_v2.RAST.fbamodel \t 25\n",
      "The Pseudomonas_GM17_pacbio_v2.RAST.fbamodel_Variovorax_CF313_pacbio_v2.RAST.fbamodel pair has been examined after 0.8611979166666667 minutes.\n",
      "CPU times: total: 53.2 s\n",
      "Wall time: 56.1 s\n"
     ]
    }
   ],
   "source": [
    "%%time\n",
    "\n",
    "\n",
    "GM17_CF313_model = kbase_api.get_from_ws(\"GM17-CF313\", 114731)\n",
    "test_pair(GM17, CF313, GM17_CF313_model)"
   ]
  },
  {
   "cell_type": "markdown",
   "id": "6a8831df-314e-40de-a1cf-d9ec4cf21278",
   "metadata": {},
   "source": [
    "## GM17 on AP07"
   ]
  },
  {
   "cell_type": "code",
   "execution_count": 18,
   "id": "f27b805f-2f70-4eea-b352-4d5446e2320b",
   "metadata": {
    "scrolled": true,
    "tags": []
   },
   "outputs": [
    {
     "name": "stderr",
     "output_type": "stream",
     "text": [
      "modelseedpy.community.mscompatibility - WARNING - IDWarning: The original ID cpd00609_e0 is a ModelSEED ID, and may not be desirably changed to cpd00609_e0.\n",
      "modelseedpy.community.mscompatibility - WARNING - IDWarning: The original ID cpd00609_e0 is a ModelSEED ID, and may not be desirably changed to cpd00609_e0.\n"
     ]
    },
    {
     "name": "stdout",
     "output_type": "stream",
     "text": [
      "\n",
      "\n",
      "0 reactions were substituted and 2 metabolite IDs were redefined in Pseudomonas_GM17_pacbio_v2.RAST.fbamodel,Caulobacter_AP07_pacbio_v2.RAST.fbamodel by standardize().\n",
      "The minimal flux media consists of 40 compounds and a 1.9477792410979555 total influx, with a growth value of 0.09999999999999774\n",
      "The minimal flux media consists of 37 compounds and a 1.765752438447405 total influx, with a growth value of 0.09999999999966246\n",
      "The minimal flux media consists of 33 compounds and a 0.9768370465486709 total influx, with a growth value of 0.09999999999970327\n",
      "\n",
      "The Pseudomonas_GM17_pacbio_v2.RAST.fbamodel on Caulobacter_AP07_pacbio_v2.RAST.fbamodel) MRO score: 0.75 (75.00%). This is the percent of nutritional requirements in Pseudomonas_GM17_pacbio_v2.RAST.fbamodel that overlap with Caulobacter_AP07_pacbio_v2.RAST.fbamodel) (30/40).\n",
      "\n",
      "The Caulobacter_AP07_pacbio_v2.RAST.fbamodel on Pseudomonas_GM17_pacbio_v2.RAST.fbamodel) MRO score: 0.8108108108108109 (81.08%). This is the percent of nutritional requirements in Caulobacter_AP07_pacbio_v2.RAST.fbamodel that overlap with Pseudomonas_GM17_pacbio_v2.RAST.fbamodel) (30/37).\n",
      "{'dictionary_item_added': [root['EX_cpd00179_e0'], root['EX_cpd10516_e0'], root['EX_cpd01017_e0']], 'dictionary_item_removed': [root['EX_cpd00132_e0'], root['EX_cpd00118_e0'], root['EX_cpd00073_e0'], root['EX_cpd00182_e0'], root['EX_cpd00307_e0'], root['EX_cpd00311_e0'], root['EX_cpd00084_e0'], root['EX_cpd00209_e0'], root['EX_cpd00092_e0'], root['EX_cpd00082_e0'], root['EX_cpd00119_e0'], root['EX_cpd00180_e0'], root['EX_cpd00069_e0'], root['EX_cpd00128_e0'], root['EX_cpd00053_e0'], root['EX_cpd00039_e0'], root['EX_cpd00136_e0'], root['EX_cpd00066_e0']], 'values_changed': {\"root['EX_cpd00007_e0']\": {'new_value': 0.002385235285653762, 'old_value': 0.8313082828633608}, \"root['EX_cpd00051_e0']\": {'new_value': 0.23558162798676027, 'old_value': 0.049339364540268195}, \"root['EX_cpd01080_e0']\": {'new_value': 0.04983255190890817, 'old_value': 0.04983255190890818}, \"root['EX_cpd00393_e0']\": {'new_value': 0.0016836954957547862, 'old_value': 0.0016836954957547795}, \"root['EX_cpd00793_e0']\": {'new_value': 0.0005612318319182622, 'old_value': 0.0005612318319182616}, \"root['EX_cpd00654_e0']\": {'new_value': 0.005215640721434262, 'old_value': 0.005215640721434263}, \"root['EX_cpd00644_e0']\": {'new_value': 0.00112246366383651, 'old_value': 0.0011224636638366245}, \"root['EX_cpd00156_e0']\": {'new_value': 0.07044663781865915, 'old_value': 0.0704466378185828}, \"root['EX_cpd00355_e0']\": {'new_value': 0.16194921999598735, 'old_value': 1.0747367439983964}, \"root['EX_cpd10515_e0']\": {'new_value': 0.001403079579795655, 'old_value': 0.0016836954957547862}, \"root['EX_cpd00017_e0']\": {'new_value': 0.05769934130150727, 'old_value': 0.02612151635007165}}}\n",
      "\n",
      "MIP score: 18\t\t\t18 required compound(s) can be sourced via syntrophy:\n",
      "executing MP\n"
     ]
    },
    {
     "name": "stderr",
     "output_type": "stream",
     "text": [
      "modelseedpy.community.mscompatibility - WARNING - IDWarning: The original ID cpd00609_e0 is a ModelSEED ID, and may not be desirably changed to cpd00609_e0.\n"
     ]
    },
    {
     "name": "stdout",
     "output_type": "stream",
     "text": [
      "\n",
      "\n",
      "0 reactions were substituted and 1 metabolite IDs were redefined in GM17-AP07 by standardize().\n",
      "The minimal flux media consists of 40 compounds and a 2267.032466663156 total influx, with a growth value of 65.11339589788011\n",
      "\n",
      "\n",
      "\n",
      "Standardize exchange reactions in Pseudomonas_GM17_pacbio_v2.RAST.fbamodel \n",
      " =============================================================================\n",
      "The exchange  metabolite ID's of the model Pseudomonas_GM17_pacbio_v2.RAST.fbamodel are completely standardized to ModelSEED.\n"
     ]
    },
    {
     "name": "stderr",
     "output_type": "stream",
     "text": [
      "C:\\Users\\Andrew Freiburger\\AppData\\Local\\Programs\\Python\\Python39\\lib\\site-packages\\cobra\\core\\metabolite.py:191: UserWarning: The element 'R' does not appear in the periodic table\n",
      "  warn(f\"The element {e} does not appear in the periodic table\")\n"
     ]
    },
    {
     "name": "stdout",
     "output_type": "stream",
     "text": [
      "remaining possible_contributions 69\r"
     ]
    },
    {
     "name": "stderr",
     "output_type": "stream",
     "text": [
      "C:\\Users\\Andrew Freiburger\\AppData\\Local\\Programs\\Python\\Python39\\lib\\site-packages\\cobra\\core\\metabolite.py:191: UserWarning: The element 'R' does not appear in the periodic table\n",
      "  warn(f\"The element {e} does not appear in the periodic table\")\n"
     ]
    },
    {
     "name": "stdout",
     "output_type": "stream",
     "text": [
      "remaining possible_contributions 58\r"
     ]
    },
    {
     "name": "stderr",
     "output_type": "stream",
     "text": [
      "C:\\Users\\Andrew Freiburger\\AppData\\Local\\Programs\\Python\\Python39\\lib\\site-packages\\cobra\\core\\metabolite.py:191: UserWarning: The element 'R' does not appear in the periodic table\n",
      "  warn(f\"The element {e} does not appear in the periodic table\")\n"
     ]
    },
    {
     "name": "stdout",
     "output_type": "stream",
     "text": [
      "remaining possible_contributions 53\r"
     ]
    },
    {
     "name": "stderr",
     "output_type": "stream",
     "text": [
      "C:\\Users\\Andrew Freiburger\\AppData\\Local\\Programs\\Python\\Python39\\lib\\site-packages\\cobra\\core\\metabolite.py:191: UserWarning: The element 'R' does not appear in the periodic table\n",
      "  warn(f\"The element {e} does not appear in the periodic table\")\n"
     ]
    },
    {
     "name": "stdout",
     "output_type": "stream",
     "text": [
      "remaining possible_contributions 52\n",
      "\n",
      "\n",
      "Standardize exchange reactions in Caulobacter_AP07_pacbio_v2.RAST.fbamodel \n",
      " =============================================================================\n",
      "The exchange  metabolite ID's of the model Caulobacter_AP07_pacbio_v2.RAST.fbamodel are completely standardized to ModelSEED.\n"
     ]
    },
    {
     "name": "stderr",
     "output_type": "stream",
     "text": [
      "C:\\Users\\Andrew Freiburger\\AppData\\Local\\Programs\\Python\\Python39\\lib\\site-packages\\cobra\\core\\metabolite.py:191: UserWarning: The element 'R' does not appear in the periodic table\n",
      "  warn(f\"The element {e} does not appear in the periodic table\")\n"
     ]
    },
    {
     "name": "stdout",
     "output_type": "stream",
     "text": [
      "remaining possible_contributions 67\r"
     ]
    },
    {
     "name": "stderr",
     "output_type": "stream",
     "text": [
      "C:\\Users\\Andrew Freiburger\\AppData\\Local\\Programs\\Python\\Python39\\lib\\site-packages\\cobra\\core\\metabolite.py:191: UserWarning: The element 'R' does not appear in the periodic table\n",
      "  warn(f\"The element {e} does not appear in the periodic table\")\n"
     ]
    },
    {
     "name": "stdout",
     "output_type": "stream",
     "text": [
      "remaining possible_contributions 60\r"
     ]
    },
    {
     "name": "stderr",
     "output_type": "stream",
     "text": [
      "C:\\Users\\Andrew Freiburger\\AppData\\Local\\Programs\\Python\\Python39\\lib\\site-packages\\cobra\\core\\metabolite.py:191: UserWarning: The element 'R' does not appear in the periodic table\n",
      "  warn(f\"The element {e} does not appear in the periodic table\")\n"
     ]
    },
    {
     "name": "stdout",
     "output_type": "stream",
     "text": [
      "remaining possible_contributions 58\r"
     ]
    },
    {
     "name": "stderr",
     "output_type": "stream",
     "text": [
      "C:\\Users\\Andrew Freiburger\\AppData\\Local\\Programs\\Python\\Python39\\lib\\site-packages\\cobra\\core\\metabolite.py:191: UserWarning: The element 'R' does not appear in the periodic table\n",
      "  warn(f\"The element {e} does not appear in the periodic table\")\n"
     ]
    },
    {
     "name": "stdout",
     "output_type": "stream",
     "text": [
      "remaining possible_contributions 56\r"
     ]
    },
    {
     "name": "stderr",
     "output_type": "stream",
     "text": [
      "C:\\Users\\Andrew Freiburger\\AppData\\Local\\Programs\\Python\\Python39\\lib\\site-packages\\cobra\\core\\metabolite.py:191: UserWarning: The element 'R' does not appear in the periodic table\n",
      "  warn(f\"The element {e} does not appear in the periodic table\")\n"
     ]
    },
    {
     "name": "stdout",
     "output_type": "stream",
     "text": [
      "remaining possible_contributions 54\r"
     ]
    },
    {
     "name": "stderr",
     "output_type": "stream",
     "text": [
      "C:\\Users\\Andrew Freiburger\\AppData\\Local\\Programs\\Python\\Python39\\lib\\site-packages\\cobra\\core\\metabolite.py:191: UserWarning: The element 'R' does not appear in the periodic table\n",
      "  warn(f\"The element {e} does not appear in the periodic table\")\n"
     ]
    },
    {
     "name": "stdout",
     "output_type": "stream",
     "text": [
      "remaining possible_contributions 53\n",
      "MP score:\t\t\tEach member can possibly contribute the following to the community:\n",
      "\n",
      "Pseudomonas_GM17_pacbio_v2.RAST.fbamodel \t 47\n",
      "Caulobacter_AP07_pacbio_v2.RAST.fbamodel \t 36\n",
      "The Pseudomonas_GM17_pacbio_v2.RAST.fbamodel_Caulobacter_AP07_pacbio_v2.RAST.fbamodel pair has been examined after 1.00234375 minutes.\n",
      "CPU times: total: 1min 1s\n",
      "Wall time: 1min 4s\n"
     ]
    }
   ],
   "source": [
    "%%time\n",
    "\n",
    "GM17_AP07_model = kbase_api.get_from_ws(\"GM17-AP07\", 114731)\n",
    "test_pair(GM17, AP07, GM17_AP07_model)"
   ]
  },
  {
   "cell_type": "markdown",
   "id": "09cfc12c-d84c-4a87-836c-5829809c45b4",
   "metadata": {},
   "source": [
    "## GM17 on CF402"
   ]
  },
  {
   "cell_type": "code",
   "execution_count": 19,
   "id": "d918a46f-0136-49cd-b72d-5e9f024f977c",
   "metadata": {
    "scrolled": true,
    "tags": []
   },
   "outputs": [
    {
     "name": "stderr",
     "output_type": "stream",
     "text": [
      "modelseedpy.community.mscompatibility - WARNING - IDWarning: The original ID cpd00609_e0 is a ModelSEED ID, and may not be desirably changed to cpd00609_e0.\n"
     ]
    },
    {
     "name": "stdout",
     "output_type": "stream",
     "text": [
      "\n",
      "\n",
      "0 reactions were substituted and 1 metabolite IDs were redefined in Pseudomonas_GM17_pacbio_v2.RAST.fbamodel,Duagnella_sp_CF402.RAST.fbamodel by standardize().\n",
      "The minimal flux media consists of 40 compounds and a 1.9477792410979555 total influx, with a growth value of 0.09999999999999774\n",
      "The minimal flux media consists of 45 compounds and a 2.1525357822615474 total influx, with a growth value of 0.10000000000000193\n",
      "The minimal flux media consists of 45 compounds and a 3.4002473821709414 total influx, with a growth value of 0.09999999999999999\n",
      "\n",
      "The Pseudomonas_GM17_pacbio_v2.RAST.fbamodel on Duagnella_sp_CF402.RAST.fbamodel) MRO score: 0.625 (62.50%). This is the percent of nutritional requirements in Pseudomonas_GM17_pacbio_v2.RAST.fbamodel that overlap with Duagnella_sp_CF402.RAST.fbamodel) (25/40).\n",
      "\n",
      "The Duagnella_sp_CF402.RAST.fbamodel on Pseudomonas_GM17_pacbio_v2.RAST.fbamodel) MRO score: 0.5555555555555556 (55.56%). This is the percent of nutritional requirements in Duagnella_sp_CF402.RAST.fbamodel that overlap with Pseudomonas_GM17_pacbio_v2.RAST.fbamodel) (25/45).\n",
      "{'dictionary_item_added': [root['EX_cpd00214_e0'], root['EX_cpd00017_e0']], 'dictionary_item_removed': [root['EX_cpd00054_e0'], root['EX_cpd00118_e0'], root['EX_cpd00060_e0'], root['EX_cpd01017_e0'], root['EX_cpd00082_e0'], root['EX_cpd00033_e0'], root['EX_cpd00129_e0'], root['EX_cpd00128_e0'], root['EX_cpd00161_e0'], root['EX_cpd00039_e0'], root['EX_cpd00023_e0']], 'values_changed': {\"root['EX_cpd00007_e0']\": {'new_value': 0.6692329711854422, 'old_value': 0.6698593783682876}, \"root['EX_cpd00018_e0']\": {'new_value': 0.04764482340521791, 'old_value': 0.04764482340520897}, \"root['EX_cpd00220_e0']\": {'new_value': 0.0016836954957547758, 'old_value': 0.0016836954957547747}, \"root['EX_cpd00311_e0']\": {'new_value': 2.5741044909239185e-18, 'old_value': 0.0027724700658783557}, \"root['EX_cpd01080_e0']\": {'new_value': 0.024916275954453757, 'old_value': 0.02491627595445406}, \"root['EX_cpd00393_e0']\": {'new_value': 0.0016836954957547836, 'old_value': 0.0016836954957547856}, \"root['EX_cpd00209_e0']\": {'new_value': 0.3408866109360077, 'old_value': 0.35731829780262836}, \"root['EX_cpd00381_e0']\": {'new_value': 0.007334033304605884, 'old_value': 0.0031057848203846117}, \"root['EX_cpd00027_e0']\": {'new_value': 0.43174712647502594, 'old_value': 0.4310032679453933}, \"root['EX_cpd03847_e0']\": {'new_value': 0.0025010597710897944, 'old_value': 0.002501059771089441}, \"root['EX_cpd00644_e0']\": {'new_value': 0.0011224636638368633, 'old_value': 0.0011224636638365796}, \"root['EX_cpd00184_e0']\": {'new_value': 0.0011885753734127411, 'old_value': 0.001188575373412741}, \"root['EX_cpd00355_e0']\": {'new_value': 1.4364860950709928, 'old_value': 1.1625174225238653}, \"root['EX_cpd00239_e0']\": {'new_value': 0.014842001954804687, 'old_value': 0.014842001954804684}, \"root['EX_cpd00136_e0']\": {'new_value': 0.00028061591595913103, 'old_value': 0.000280615915959131}}}\n",
      "\n",
      "MIP score: 11\t\t\t11 required compound(s) can be sourced via syntrophy:\n",
      "executing MP\n"
     ]
    },
    {
     "name": "stderr",
     "output_type": "stream",
     "text": [
      "modelseedpy.community.mscompatibility - WARNING - IDWarning: The original ID cpd00609_e0 is a ModelSEED ID, and may not be desirably changed to cpd00609_e0.\n"
     ]
    },
    {
     "name": "stdout",
     "output_type": "stream",
     "text": [
      "\n",
      "\n",
      "0 reactions were substituted and 1 metabolite IDs were redefined in GM17-CF402 by standardize().\n",
      "The minimal flux media consists of 42 compounds and a 1828.202274058695 total influx, with a growth value of 42.18491512578176\n",
      "\n",
      "\n",
      "\n",
      "Standardize exchange reactions in Pseudomonas_GM17_pacbio_v2.RAST.fbamodel \n",
      " =============================================================================\n",
      "The exchange  metabolite ID's of the model Pseudomonas_GM17_pacbio_v2.RAST.fbamodel are completely standardized to ModelSEED.\n"
     ]
    },
    {
     "name": "stderr",
     "output_type": "stream",
     "text": [
      "C:\\Users\\Andrew Freiburger\\AppData\\Local\\Programs\\Python\\Python39\\lib\\site-packages\\cobra\\core\\metabolite.py:191: UserWarning: The element 'R' does not appear in the periodic table\n",
      "  warn(f\"The element {e} does not appear in the periodic table\")\n"
     ]
    },
    {
     "name": "stdout",
     "output_type": "stream",
     "text": [
      "remaining possible_contributions 72\r"
     ]
    },
    {
     "name": "stderr",
     "output_type": "stream",
     "text": [
      "C:\\Users\\Andrew Freiburger\\AppData\\Local\\Programs\\Python\\Python39\\lib\\site-packages\\cobra\\core\\metabolite.py:191: UserWarning: The element 'R' does not appear in the periodic table\n",
      "  warn(f\"The element {e} does not appear in the periodic table\")\n"
     ]
    },
    {
     "name": "stdout",
     "output_type": "stream",
     "text": [
      "remaining possible_contributions 62\r"
     ]
    },
    {
     "name": "stderr",
     "output_type": "stream",
     "text": [
      "C:\\Users\\Andrew Freiburger\\AppData\\Local\\Programs\\Python\\Python39\\lib\\site-packages\\cobra\\core\\metabolite.py:191: UserWarning: The element 'R' does not appear in the periodic table\n",
      "  warn(f\"The element {e} does not appear in the periodic table\")\n"
     ]
    },
    {
     "name": "stdout",
     "output_type": "stream",
     "text": [
      "remaining possible_contributions 57\r"
     ]
    },
    {
     "name": "stderr",
     "output_type": "stream",
     "text": [
      "C:\\Users\\Andrew Freiburger\\AppData\\Local\\Programs\\Python\\Python39\\lib\\site-packages\\cobra\\core\\metabolite.py:191: UserWarning: The element 'R' does not appear in the periodic table\n",
      "  warn(f\"The element {e} does not appear in the periodic table\")\n"
     ]
    },
    {
     "name": "stdout",
     "output_type": "stream",
     "text": [
      "remaining possible_contributions 53\r"
     ]
    },
    {
     "name": "stderr",
     "output_type": "stream",
     "text": [
      "C:\\Users\\Andrew Freiburger\\AppData\\Local\\Programs\\Python\\Python39\\lib\\site-packages\\cobra\\core\\metabolite.py:191: UserWarning: The element 'R' does not appear in the periodic table\n",
      "  warn(f\"The element {e} does not appear in the periodic table\")\n"
     ]
    },
    {
     "name": "stdout",
     "output_type": "stream",
     "text": [
      "remaining possible_contributions 50\n",
      "\n",
      "\n",
      "Standardize exchange reactions in Duagnella_sp_CF402.RAST.fbamodel \n",
      " =====================================================================\n",
      "The exchange  metabolite ID's of the model Duagnella_sp_CF402.RAST.fbamodel are completely standardized to ModelSEED.\n",
      "remaining possible_contributions 16\n",
      "MP score:\t\t\tEach member can possibly contribute the following to the community:\n",
      "\n",
      "Pseudomonas_GM17_pacbio_v2.RAST.fbamodel \t 52\n",
      "Duagnella_sp_CF402.RAST.fbamodel \t 11\n",
      "The Pseudomonas_GM17_pacbio_v2.RAST.fbamodel_Duagnella_sp_CF402.RAST.fbamodel pair has been examined after 0.59375 minutes.\n",
      "CPU times: total: 36.5 s\n",
      "Wall time: 38.8 s\n"
     ]
    }
   ],
   "source": [
    "%%time\n",
    "\n",
    "GM17_CF402_model = kbase_api.get_from_ws(\"GM17-CF402\", 114731)\n",
    "test_pair(GM17, CF402, GM17_CF402_model)"
   ]
  },
  {
   "cell_type": "markdown",
   "id": "bcfa9f2a-5365-4385-9146-7e0ff4e21c81",
   "metadata": {},
   "source": [
    "## GM17 on BT03"
   ]
  },
  {
   "cell_type": "code",
   "execution_count": 20,
   "id": "0bd97df7-4d65-4db8-bd45-969b3c36baab",
   "metadata": {
    "scrolled": true,
    "tags": []
   },
   "outputs": [
    {
     "name": "stderr",
     "output_type": "stream",
     "text": [
      "modelseedpy.community.mscompatibility - WARNING - IDWarning: The original ID cpd00609_e0 is a ModelSEED ID, and may not be desirably changed to cpd00609_e0.\n",
      "modelseedpy.community.mscompatibility - WARNING - IDWarning: The original ID cpd00609_e0 is a ModelSEED ID, and may not be desirably changed to cpd00609_e0.\n"
     ]
    },
    {
     "name": "stdout",
     "output_type": "stream",
     "text": [
      "\n",
      "\n",
      "0 reactions were substituted and 2 metabolite IDs were redefined in Pseudomonas_GM17_pacbio_v2.RAST.fbamodel,Burkholderia_sp._BT03.RAST.fbamodel by standardize().\n",
      "The minimal flux media consists of 40 compounds and a 1.9477792410979555 total influx, with a growth value of 0.09999999999999774\n",
      "The minimal flux media consists of 39 compounds and a 2.019288624231199 total influx, with a growth value of 0.09999999999991316\n",
      "The minimal flux media consists of 35 compounds and a 0.9233519383838776 total influx, with a growth value of 0.10000000000008441\n",
      "\n",
      "The Pseudomonas_GM17_pacbio_v2.RAST.fbamodel on Burkholderia_sp._BT03.RAST.fbamodel) MRO score: 0.775 (77.50%). This is the percent of nutritional requirements in Pseudomonas_GM17_pacbio_v2.RAST.fbamodel that overlap with Burkholderia_sp._BT03.RAST.fbamodel) (31/40).\n",
      "\n",
      "The Burkholderia_sp._BT03.RAST.fbamodel on Pseudomonas_GM17_pacbio_v2.RAST.fbamodel) MRO score: 0.7948717948717948 (79.49%). This is the percent of nutritional requirements in Burkholderia_sp._BT03.RAST.fbamodel that overlap with Pseudomonas_GM17_pacbio_v2.RAST.fbamodel) (31/39).\n",
      "{'dictionary_item_added': [root['EX_cpd00179_e0'], root['EX_cpd15605_e0'], root['EX_cpd11583_e0'], root['EX_cpd11584_e0'], root['EX_cpd15606_e0']], 'dictionary_item_removed': [root['EX_cpd00132_e0'], root['EX_cpd00118_e0'], root['EX_cpd00080_e0'], root['EX_cpd00051_e0'], root['EX_cpd00307_e0'], root['EX_cpd00311_e0'], root['EX_cpd00084_e0'], root['EX_cpd00075_e0'], root['EX_cpd00209_e0'], root['EX_cpd00166_e0'], root['EX_cpd00130_e0'], root['EX_cpd00082_e0'], root['EX_cpd00119_e0'], root['EX_cpd00180_e0'], root['EX_cpd00069_e0'], root['EX_cpd00128_e0'], root['EX_cpd00107_e0'], root['EX_cpd00039_e0'], root['EX_cpd00136_e0'], root['EX_cpd00066_e0']], 'values_changed': {\"root['EX_cpd00007_e0']\": {'new_value': 0.0016836954957547862, 'old_value': 0.001683695495754786}, \"root['EX_cpd00042_e0']\": {'new_value': 0.016912993936925833, 'old_value': 0.008456496968442}, \"root['EX_cpd00220_e0']\": {'new_value': 0.0016836954957547864, 'old_value': 0.0016836954957541901}, \"root['EX_cpd00393_e0']\": {'new_value': 0.0016836954957547931, 'old_value': 0.0016836954957547814}, \"root['EX_cpd00793_e0']\": {'new_value': 0.0005612318319182619, 'old_value': 0.0005612318319182625}, \"root['EX_cpd00205_e0']\": {'new_value': 0.0005612318319182622, 'old_value': 0.0005612318319182621}, \"root['EX_cpd00654_e0']\": {'new_value': 0.005215640721434261, 'old_value': 0.00521564072143426}, \"root['EX_cpd00644_e0']\": {'new_value': 0.0011224636638778804, 'old_value': 0.001122463663836627}, \"root['EX_cpd00355_e0']\": {'new_value': 0.16194968349690084, 'old_value': 1.1182150012191923}, \"root['EX_cpd00017_e0']\": {'new_value': 0.05769957305231456, 'old_value': 0.031410002993932276}}}\n",
      "\n",
      "MIP score: 20\t\t\t20 required compound(s) can be sourced via syntrophy:\n",
      "executing MP\n"
     ]
    },
    {
     "name": "stderr",
     "output_type": "stream",
     "text": [
      "modelseedpy.community.mscompatibility - WARNING - IDWarning: The original ID cpd00609_e0 is a ModelSEED ID, and may not be desirably changed to cpd00609_e0.\n"
     ]
    },
    {
     "name": "stdout",
     "output_type": "stream",
     "text": [
      "\n",
      "\n",
      "0 reactions were substituted and 1 metabolite IDs were redefined in GM17-BT03 by standardize().\n",
      "The minimal flux media consists of 48 compounds and a 4434.90882608844 total influx, with a growth value of 89.21530138662294\n",
      "\n",
      "\n",
      "\n",
      "Standardize exchange reactions in Pseudomonas_GM17_pacbio_v2.RAST.fbamodel \n",
      " =============================================================================\n",
      "The exchange  metabolite ID's of the model Pseudomonas_GM17_pacbio_v2.RAST.fbamodel are completely standardized to ModelSEED.\n"
     ]
    },
    {
     "name": "stderr",
     "output_type": "stream",
     "text": [
      "C:\\Users\\Andrew Freiburger\\AppData\\Local\\Programs\\Python\\Python39\\lib\\site-packages\\cobra\\core\\metabolite.py:191: UserWarning: The element 'R' does not appear in the periodic table\n",
      "  warn(f\"The element {e} does not appear in the periodic table\")\n"
     ]
    },
    {
     "name": "stdout",
     "output_type": "stream",
     "text": [
      "remaining possible_contributions 61\r"
     ]
    },
    {
     "name": "stderr",
     "output_type": "stream",
     "text": [
      "C:\\Users\\Andrew Freiburger\\AppData\\Local\\Programs\\Python\\Python39\\lib\\site-packages\\cobra\\core\\metabolite.py:191: UserWarning: The element 'R' does not appear in the periodic table\n",
      "  warn(f\"The element {e} does not appear in the periodic table\")\n"
     ]
    },
    {
     "name": "stdout",
     "output_type": "stream",
     "text": [
      "remaining possible_contributions 51\r"
     ]
    },
    {
     "name": "stderr",
     "output_type": "stream",
     "text": [
      "C:\\Users\\Andrew Freiburger\\AppData\\Local\\Programs\\Python\\Python39\\lib\\site-packages\\cobra\\core\\metabolite.py:191: UserWarning: The element 'R' does not appear in the periodic table\n",
      "  warn(f\"The element {e} does not appear in the periodic table\")\n"
     ]
    },
    {
     "name": "stdout",
     "output_type": "stream",
     "text": [
      "remaining possible_contributions 50\n",
      "\n",
      "\n",
      "Standardize exchange reactions in Burkholderia_sp._BT03.RAST.fbamodel \n",
      " ========================================================================\n",
      "The exchange  metabolite ID's of the model Burkholderia_sp._BT03.RAST.fbamodel are completely standardized to ModelSEED.\n"
     ]
    },
    {
     "name": "stderr",
     "output_type": "stream",
     "text": [
      "C:\\Users\\Andrew Freiburger\\AppData\\Local\\Programs\\Python\\Python39\\lib\\site-packages\\cobra\\core\\metabolite.py:191: UserWarning: The element 'R' does not appear in the periodic table\n",
      "  warn(f\"The element {e} does not appear in the periodic table\")\n"
     ]
    },
    {
     "name": "stdout",
     "output_type": "stream",
     "text": [
      "remaining possible_contributions 95\r"
     ]
    },
    {
     "name": "stderr",
     "output_type": "stream",
     "text": [
      "C:\\Users\\Andrew Freiburger\\AppData\\Local\\Programs\\Python\\Python39\\lib\\site-packages\\cobra\\core\\metabolite.py:191: UserWarning: The element 'R' does not appear in the periodic table\n",
      "  warn(f\"The element {e} does not appear in the periodic table\")\n"
     ]
    },
    {
     "name": "stdout",
     "output_type": "stream",
     "text": [
      "remaining possible_contributions 87\r"
     ]
    },
    {
     "name": "stderr",
     "output_type": "stream",
     "text": [
      "C:\\Users\\Andrew Freiburger\\AppData\\Local\\Programs\\Python\\Python39\\lib\\site-packages\\cobra\\core\\metabolite.py:191: UserWarning: The element 'R' does not appear in the periodic table\n",
      "  warn(f\"The element {e} does not appear in the periodic table\")\n"
     ]
    },
    {
     "name": "stdout",
     "output_type": "stream",
     "text": [
      "remaining possible_contributions 85\n",
      "MP score:\t\t\tEach member can possibly contribute the following to the community:\n",
      "\n",
      "Pseudomonas_GM17_pacbio_v2.RAST.fbamodel \t 41\n",
      "Burkholderia_sp._BT03.RAST.fbamodel \t 36\n",
      "The Pseudomonas_GM17_pacbio_v2.RAST.fbamodel_Burkholderia_sp._BT03.RAST.fbamodel pair has been examined after 1.0682291666666666 minutes.\n",
      "CPU times: total: 1min 5s\n",
      "Wall time: 1min 9s\n"
     ]
    }
   ],
   "source": [
    "%%time\n",
    "\n",
    "GM17_BT03_model = kbase_api.get_from_ws(\"GM17-BT03\", 114731)\n",
    "test_pair(GM17, BT03, GM17_BT03_model)"
   ]
  },
  {
   "cell_type": "markdown",
   "id": "40fbe40e-4209-4052-9e38-27d7678c3cf2",
   "metadata": {},
   "source": [
    "# Statistically process the above results"
   ]
  },
  {
   "cell_type": "markdown",
   "id": "4aafb7df-6069-42e6-a679-8a7ef2f9bd74",
   "metadata": {},
   "source": [
    "## MRO scores"
   ]
  },
  {
   "cell_type": "markdown",
   "id": "ccf0667e-f707-464c-a06c-740e75f15c39",
   "metadata": {},
   "source": [
    "### Parsed MRO values"
   ]
  },
  {
   "cell_type": "code",
   "execution_count": 21,
   "id": "2ae27ca9-933c-49e6-a9cb-4199adcf712f",
   "metadata": {
    "scrolled": true
   },
   "outputs": [],
   "source": [
    "# from scipy import stats\n",
    "# posInteractions = [YR343_CF313.mro[0], AP49_BC15.mro[0], YR343_CF313.mro[0], YR343_CF313.mro[0]]\n",
    "# negInteractions = [0.8636363636363636, 0.9, 0.9473684210526315, 0.7727272727272727, 0.8636363636363636, 0.8181818181818182, 0.8181818181818182, 0.8181818181818182, 0.8]\n",
    "\n",
    "# ttest = stats.ttest_ind(posInteractions, negInteractions)\n",
    "# print(ttest.pvalue)"
   ]
  },
  {
   "cell_type": "code",
   "execution_count": 22,
   "id": "421fddba-1c26-4f2c-b806-ed798cb02782",
   "metadata": {
    "scrolled": true
   },
   "outputs": [
    {
     "name": "stdout",
     "output_type": "stream",
     "text": [
      "0.054250055299084145\n"
     ]
    }
   ],
   "source": [
    "from scipy import stats\n",
    "posInteractions = [1, 0.7619047619047619, 0.38636363636363635, 0.36363636363636365]\n",
    "negInteractions = [0.8636363636363636, 0.9, 0.9473684210526315, 0.7727272727272727, 0.8636363636363636, 0.8181818181818182, 0.8181818181818182, 0.8181818181818182, 0.8]\n",
    "\n",
    "ttest = stats.ttest_ind(posInteractions, negInteractions)\n",
    "print(ttest.pvalue)"
   ]
  },
  {
   "cell_type": "code",
   "execution_count": 35,
   "id": "e98f86c8-e99a-4ea0-9784-31566844d87f",
   "metadata": {
    "scrolled": true
   },
   "outputs": [
    {
     "name": "stdout",
     "output_type": "stream",
     "text": [
      "0.06090704439541664\n"
     ]
    },
    {
     "data": {
      "image/png": "[encoded data removed]",
      "text/plain": [
       "<Figure size 700x1000 with 1 Axes>"
      ]
     },
     "metadata": {},
     "output_type": "display_data"
    }
   ],
   "source": [
    "# current values\n",
    "\n",
    "from scipy import stats\n",
    "currentPos = [0.8235294117647058, 0.6904761904761905, 0.5333333333333333, 0.5333333333333333]\n",
    "currentNeg = [0.75, 0.8918918918918919, 0.9393939393939394, 0.8, 0.775, 0.75, 0.625, 0.775]\n",
    "\n",
    "ttest = stats.ttest_ind(currentPos, currentNeg)\n",
    "print(ttest.pvalue)\n",
    "\n",
    "from matplotlib import pyplot\n",
    "import sigfig\n",
    "\n",
    "pyplot.rc('axes', titlesize=20, labelsize=20)\n",
    "pyplot.rc('xtick', labelsize=20)\n",
    "pyplot.rc('ytick', labelsize=20)\n",
    "pyplot.rc('legend', fontsize=18)\n",
    "fig = pyplot.figure(figsize=(7,10))\n",
    "\n",
    "pyplot.boxplot([currentPos, currentNeg], labels=[\"'+'\", \"'--'\"])\n",
    "pyplot.scatter([1]*len(currentPos), currentPos)\n",
    "pyplot.scatter([2]*len(currentNeg), currentNeg)\n",
    "pyplot.xlabel(\"Interaction type\")\n",
    "pyplot.ylabel(\"MRO score (overlap)\")\n",
    "pyplot.text(1.6,.7, f\"p-value: {sigfig.round(ttest.pvalue, sigfigs=3)}\", fontsize=\"x-large\")\n",
    "fig.savefig(\"parsed MRO comparion.jpg\", bbox_inches='tight')\n",
    "# display(fig)\n",
    "# pyplot.show()"
   ]
  },
  {
   "cell_type": "code",
   "execution_count": 23,
   "id": "d1007e54-cefd-4d00-984a-ed572c7646fb",
   "metadata": {
    "scrolled": true
   },
   "outputs": [
    {
     "data": {
      "image/png": "[encoded data removed]",
      "text/plain": [
       "<Figure size 700x1000 with 1 Axes>"
      ]
     },
     "metadata": {},
     "output_type": "display_data"
    }
   ],
   "source": [
    "from matplotlib import pyplot\n",
    "import sigfig\n",
    "\n",
    "pyplot.rc('axes', titlesize=20, labelsize=20)\n",
    "pyplot.rc('xtick', labelsize=20)\n",
    "pyplot.rc('ytick', labelsize=20)\n",
    "pyplot.rc('legend', fontsize=18)\n",
    "fig = pyplot.figure(figsize=(7,10))\n",
    "\n",
    "pyplot.boxplot([posInteractions, negInteractions], labels=[\"'+'\", \"'--'\"])\n",
    "pyplot.scatter([1]*len(posInteractions), posInteractions)\n",
    "pyplot.scatter([2]*len(negInteractions), negInteractions)\n",
    "pyplot.xlabel(\"Interaction type\")\n",
    "pyplot.ylabel(\"MRO score (overlap)\")\n",
    "pyplot.text(1.6,.7, f\"p-value: {sigfig.round(ttest.pvalue, sigfigs=3)}\", fontsize=\"x-large\")\n",
    "fig.savefig(\"parsed MRO comparion.jpg\")\n",
    "# display(fig)\n",
    "# pyplot.show()"
   ]
  },
  {
   "cell_type": "markdown",
   "id": "adad8cf4-d78d-4a1a-a505-258df73edf87",
   "metadata": {},
   "source": [
    "### Averaged MRO values"
   ]
  },
  {
   "cell_type": "code",
   "execution_count": 24,
   "id": "b669ba31-e86c-4ed0-a742-c114a4510eaf",
   "metadata": {
    "scrolled": true,
    "tags": []
   },
   "outputs": [
    {
     "name": "stdout",
     "output_type": "stream",
     "text": [
      "0.18655070991572478\n"
     ]
    }
   ],
   "source": [
    "from scipy import stats\n",
    "posInteractions = [0.9444444444444444, 0.7804878048780488, 0.5396825396825397, 0.53125]\n",
    "negInteractions = [0.9047619047619048, 0.8780487804878049, 0.9473684210526315]\n",
    "negInteractions2 = [0.8095238095238095, 0.926829268292683, 0.9473684210526315, 0.926829268292683, 0.8095238095238095, 0.5757575757575758, 0.8780487804878049]\n",
    "posInteractions2 = [0.9444444444444444, 0.7804878048780488, 0.5396825396825397, 0.53125]\n",
    "\n",
    "ttest = stats.ttest_ind(posInteractions2, negInteractions2)\n",
    "print(ttest.pvalue)"
   ]
  },
  {
   "cell_type": "code",
   "execution_count": 25,
   "id": "057d0fa1-c9b1-45b4-a976-5bbf9278dcec",
   "metadata": {
    "scrolled": true,
    "tags": []
   },
   "outputs": [
    {
     "data": {
      "image/png": "[encoded data removed]",
      "text/plain": [
       "<Figure size 700x1000 with 1 Axes>"
      ]
     },
     "metadata": {},
     "output_type": "display_data"
    }
   ],
   "source": [
    "from matplotlib import pyplot\n",
    "import sigfig\n",
    "\n",
    "pyplot.rc('axes', titlesize=20, labelsize=20)\n",
    "pyplot.rc('xtick', labelsize=20)\n",
    "pyplot.rc('ytick', labelsize=20)\n",
    "pyplot.rc('legend', fontsize=18)\n",
    "fig = pyplot.figure(figsize=(7,10))\n",
    "\n",
    "pyplot.boxplot([posInteractions2, negInteractions2], labels=[\"'+'\", \"'--'\"])\n",
    "pyplot.scatter([1]*len(posInteractions2), posInteractions2)\n",
    "pyplot.scatter([2]*len(negInteractions2), negInteractions2)\n",
    "pyplot.xlabel(\"Interaction type\")\n",
    "pyplot.ylabel(\"MRO score (overlap)\")\n",
    "pyplot.text(1.6,.7, f\"p-value: {sigfig.round(ttest.pvalue, sigfigs=3)}\", fontsize=\"x-large\")\n",
    "fig.savefig(\"MRO comparion.jpg\")\n",
    "# display(fig)\n",
    "# pyplot.show()"
   ]
  },
  {
   "cell_type": "markdown",
   "id": "9216f60c-71e5-4123-a026-415ad9a255f8",
   "metadata": {},
   "source": [
    "## MIP scores"
   ]
  },
  {
   "cell_type": "code",
   "execution_count": 26,
   "id": "940c5d87-184a-4c71-a58a-f88277fc481b",
   "metadata": {
    "scrolled": true
   },
   "outputs": [
    {
     "name": "stdout",
     "output_type": "stream",
     "text": [
      "0.09316300783381472\n"
     ]
    }
   ],
   "source": [
    "from scipy import stats\n",
    "# posInteractions =[YR343_CF313.mip, AP49_BC15.mip, CF402_CF313.mip, CF402_BC15.mip]\n",
    "# negInteractions = [GM17_BC15.mip, AP07_AP49.mip, CF313_BT03.mip, GM17_AP49.mip, GM17_CF313.mip, GM17_AP07.mip, GM17_CF402.mip, GM17_BT03.mip, CF402_BC15.mip]\n",
    "negInteractions = [0, 0, 0, 0, 1, 4, 0]\n",
    "posInteractions = [0, 1, 6, 7]\n",
    "\n",
    "ttest = stats.ttest_ind(posInteractions, negInteractions)\n",
    "print(ttest.pvalue)"
   ]
  },
  {
   "cell_type": "code",
   "execution_count": 40,
   "id": "5105dd53-009b-4d35-8d31-b131d5ffac64",
   "metadata": {},
   "outputs": [
    {
     "name": "stdout",
     "output_type": "stream",
     "text": [
      "0.24218111814159946\n"
     ]
    },
    {
     "data": {
      "image/png": "[encoded data removed]",
      "text/plain": [
       "<Figure size 700x1000 with 1 Axes>"
      ]
     },
     "metadata": {},
     "output_type": "display_data"
    }
   ],
   "source": [
    "# current values\n",
    "\n",
    "from scipy import stats\n",
    "# posInteractions =[YR343_CF313.mip, AP49_BC15.mip, CF402_CF313.mip, CF402_BC15.mip]\n",
    "# negInteractions = [GM17_BC15.mip, AP07_AP49.mip, CF313_BT03.mip, GM17_AP49.mip, GM17_CF313.mip, GM17_AP07.mip, GM17_CF402.mip, GM17_BT03.mip, CF402_BC15.mip]\n",
    "currentPos = [20, 11, 5, 11]\n",
    "currentNeg = [23, 12, 9, 20, 14, 18, 11, 20]\n",
    "\n",
    "ttest = stats.ttest_ind(currentPos, currentNeg)\n",
    "print(ttest.pvalue)\n",
    "\n",
    "from matplotlib import pyplot\n",
    "import sigfig\n",
    "\n",
    "pyplot.rc('axes', titlesize=20, labelsize=20)\n",
    "pyplot.rc('xtick', labelsize=20)\n",
    "pyplot.rc('ytick', labelsize=20)\n",
    "pyplot.rc('legend', fontsize=18)\n",
    "fig = pyplot.figure(figsize=(7,10))\n",
    "\n",
    "pyplot.boxplot([currentPos, currentNeg], labels=[\"'+'\", \"'--'\"])\n",
    "pyplot.scatter([1]*len(currentPos), currentPos)\n",
    "pyplot.scatter([2]*len(currentNeg), currentNeg)\n",
    "pyplot.xlabel(\"Interaction type\")\n",
    "pyplot.ylabel(\"MIP score (syntrophy)\")\n",
    "pyplot.text(1.6,7, f\"p-value: {sigfig.round(ttest.pvalue, sigfigs=3)}\", fontsize=\"x-large\")\n",
    "fig.savefig(\"MIP comparion.jpg\", bbox_inches='tight')"
   ]
  },
  {
   "cell_type": "code",
   "execution_count": 27,
   "id": "a68f5f50-ea3d-4d1a-b16b-9b0412c16e6c",
   "metadata": {
    "scrolled": true
   },
   "outputs": [
    {
     "data": {
      "image/png": "[encoded data removed]",
      "text/plain": [
       "<Figure size 700x1000 with 1 Axes>"
      ]
     },
     "metadata": {},
     "output_type": "display_data"
    }
   ],
   "source": [
    "from matplotlib import pyplot\n",
    "import sigfig\n",
    "\n",
    "pyplot.rc('axes', titlesize=20, labelsize=20)\n",
    "pyplot.rc('xtick', labelsize=20)\n",
    "pyplot.rc('ytick', labelsize=20)\n",
    "pyplot.rc('legend', fontsize=18)\n",
    "fig = pyplot.figure(figsize=(7,10))\n",
    "\n",
    "pyplot.boxplot([posInteractions, negInteractions], labels=[\"'+'\", \"'--'\"])\n",
    "pyplot.scatter([1]*len(posInteractions), posInteractions)\n",
    "pyplot.scatter([2]*len(negInteractions), negInteractions)\n",
    "pyplot.xlabel(\"Interaction type\")\n",
    "pyplot.ylabel(\"MIP score (syntrophy)\")\n",
    "pyplot.text(1.6,2, f\"p-value: {sigfig.round(ttest.pvalue, sigfigs=3)}\", fontsize=\"x-large\")\n",
    "fig.savefig(\"MIP comparion.jpg\")\n",
    "# display(fig)\n",
    "# pyplot.show()"
   ]
  },
  {
   "cell_type": "markdown",
   "id": "a3f98436-281c-4672-b31b-ef5c72ba0876",
   "metadata": {},
   "source": [
    "## smetana score"
   ]
  },
  {
   "cell_type": "code",
   "execution_count": 28,
   "id": "68c1c46f-8ae5-4cd6-b408-9d231207c3b3",
   "metadata": {
    "scrolled": true
   },
   "outputs": [
    {
     "name": "stdout",
     "output_type": "stream",
     "text": [
      "0.8147010129367964\n"
     ]
    }
   ],
   "source": [
    "from scipy import stats\n",
    "posInteractions = [63.57, 47.18, 52.63, 46, 32, 38, 0, 0]\n",
    "negInteractions = [53, 48.1, 44.76, 45, 0, 0]\n",
    "\n",
    "ttest = stats.ttest_ind(posInteractions, negInteractions)\n",
    "print(ttest.pvalue)"
   ]
  },
  {
   "cell_type": "code",
   "execution_count": 29,
   "id": "eefd1a1c-2193-4e88-a9e1-fc58d98cdec0",
   "metadata": {
    "scrolled": true
   },
   "outputs": [
    {
     "data": {
      "image/png": "[encoded data removed]",
      "text/plain": [
       "<Figure size 700x1000 with 1 Axes>"
      ]
     },
     "metadata": {},
     "output_type": "display_data"
    }
   ],
   "source": [
    "from matplotlib import pyplot\n",
    "import sigfig\n",
    "\n",
    "pyplot.rc('axes', titlesize=20, labelsize=20)\n",
    "pyplot.rc('xtick', labelsize=20)\n",
    "pyplot.rc('ytick', labelsize=20)\n",
    "pyplot.rc('legend', fontsize=18)\n",
    "fig = pyplot.figure(figsize=(7,10))\n",
    "\n",
    "pyplot.boxplot([posInteractions, negInteractions], labels=[\"'+'\", \"'--'\"])\n",
    "pyplot.scatter([1]*len(posInteractions), posInteractions)\n",
    "pyplot.scatter([2]*len(negInteractions), negInteractions)\n",
    "pyplot.xlabel(\"Interaction type\")\n",
    "pyplot.ylabel(\"smetana score (syntrophy potential)\")\n",
    "pyplot.text(1.6,62, f\"p-value: {sigfig.round(ttest.pvalue, sigfigs=3)}\", fontsize=\"x-large\")\n",
    "fig.savefig(\"smetana comparion.jpg\")\n",
    "# display(fig)\n",
    "# pyplot.show()"
   ]
  },
  {
   "cell_type": "markdown",
   "id": "77e2f18a-de97-49f8-9ec9-e57011fc57cf",
   "metadata": {},
   "source": [
    "# Comparative assessment of the relative biomass yields to the relative experimental growth rates"
   ]
  },
  {
   "cell_type": "code",
   "execution_count": 30,
   "id": "6f8c0fad-439e-410d-a2ba-8089b73fbc1d",
   "metadata": {
    "scrolled": true
   },
   "outputs": [
    {
     "data": {
      "image/png": "[encoded data removed]",
      "text/plain": [
       "<Figure size 640x480 with 1 Axes>"
      ]
     },
     "metadata": {},
     "output_type": "display_data"
    }
   ],
   "source": [
    "from matplotlib import pyplot\n",
    "from numpy import array\n",
    "import re\n",
    "\n",
    "# determine the relative biomass yields\n",
    "models = [CF313, YR343, CF142, BC15, AP49, CF402, CF313, BT03, GM17, AP07]\n",
    "biomass_yields = array([model.slim_optimize() for model in models])\n",
    "biomass_yields /= max(biomass_yields)\n",
    "\n",
    "# map the relative yields to the models\n",
    "mapped_models = {re.search(r\"(\\w{2}\\d{2}\\d?)\", model.id).group(): biomass_yields[index] for index, model in enumerate(models)}\n",
    "pyplot.bar(mapped_models.keys(), mapped_models.values())\n",
    "pyplot.xticks(rotation=\"vertical\")\n",
    "pyplot.savefig(\"relative biomass yields\", bbox_inches=\"tight\", pad_inches=0.2)"
   ]
  },
  {
   "cell_type": "code",
   "execution_count": null,
   "id": "467f7f2c-7396-4a8d-8f24-bb688e60a5a5",
   "metadata": {
    "scrolled": true
   },
   "outputs": [],
   "source": []
  }
 ],
 "metadata": {
  "kernelspec": {
   "display_name": "Python 3 (ipykernel)",
   "language": "python",
   "name": "python3"
  },
  "language_info": {
   "codemirror_mode": {
    "name": "ipython",
    "version": 3
   },
   "file_extension": ".py",
   "mimetype": "text/x-python",
   "name": "python",
   "nbconvert_exporter": "python",
   "pygments_lexer": "ipython3",
   "version": "3.9.12"
  }
 },
 "nbformat": 4,
 "nbformat_minor": 5
}
