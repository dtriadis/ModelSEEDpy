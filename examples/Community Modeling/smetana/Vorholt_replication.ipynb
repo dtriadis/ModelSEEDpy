{
 "cells": [
  {
   "cell_type": "code",
   "execution_count": 5,
   "id": "59171874-3218-45aa-a91d-0c480367c702",
   "metadata": {
    "tags": []
   },
   "outputs": [
    {
     "name": "stdout",
     "output_type": "stream",
     "text": [
      "SynCom7 L257 L179 L15 L233 L145 L34 L202\n",
      "L154 L8 L304 L145 L202 L164\n",
      "{'L154', 'SynCom7', 'L257', 'L179', 'L15', 'L8', 'L233', 'L304', 'L145', 'L34', 'L202', 'L164'}\n"
     ]
    }
   ],
   "source": [
    "from pandas import read_excel\n",
    "from itertools import chain\n",
    "\n",
    "# experiment 1\n",
    "exp1_df = read_excel(r\"D:\\Users\\Andrew Freiburger\\Documents\\Argonne\\Dissemination\\Publication\\CommScores\\Metabolic interaction models recapitulate leaf microbiota ecology; SI Tables; Schafer et al.; 2023\\science.adf5121_table_s5.xlsx\", \n",
    "                     \"in planta exp 1\")\n",
    "exp1_pairs = [members.split(\"/\") for members in exp1_df[\"Treatment_name\"].unique()]\n",
    "exp1_organisms = set(chain.from_iterable(exp1_pairs))\n",
    "print(*exp1_organisms)\n",
    "\n",
    "# experiment 2\n",
    "exp2_df = read_excel(r\"D:\\Users\\Andrew Freiburger\\Documents\\Argonne\\Dissemination\\Publication\\CommScores\\Metabolic interaction models recapitulate leaf microbiota ecology; SI Tables; Schafer et al.; 2023\\science.adf5121_table_s5.xlsx\", \n",
    "                    \"in planta exp 2\")\n",
    "exp2_pairs = [members.split(\"/\") for members in exp2_df[\"Treatment_name\"].unique()]\n",
    "exp2_organisms = set(chain.from_iterable(exp2_pairs))\n",
    "print(*exp2_organisms)\n",
    "\n",
    "\n",
    "all_examined_models = exp1_organisms.union(exp2_organisms)\n",
    "print(all_examined_models)\n",
    "\n",
    "# L202 and L145 are not present in Ranjan's phylosphere Narrative"
   ]
  },
  {
   "cell_type": "markdown",
   "id": "fd7d87ef-bbf0-4cbf-86ee-91a0348043a8",
   "metadata": {},
   "source": [
    "# Use their curated models"
   ]
  },
  {
   "cell_type": "code",
   "execution_count": 2,
   "id": "59e1e4e5-cb42-44a2-9621-a0b182088cd9",
   "metadata": {},
   "outputs": [],
   "source": [
    "from cobra.io import read_sbml_model\n",
    "from glob import glob\n",
    "from os import path\n",
    "\n",
    "models = []\n",
    "for model in glob(r\"D:\\Users\\Andrew Freiburger\\Documents\\Argonne\\Dissemination\\Publication\\CommScores\\Metabolic interaction models recapitulate leaf microbiota ecology; SI methods; Schafer et al.; 2023\\Models\\Final\\sbml\\iAtLSPHERE_sbml\\*.xml\"):\n",
    "    if path.basename(model).replace(\".xml\", \"\").replace(\"eaf\", \"\") in all_examined_models:\n",
    "        models.append(read_sbml_model(model))"
   ]
  },
  {
   "cell_type": "code",
   "execution_count": null,
   "id": "a421f603-64e6-4e92-bbf1-084e233a3040",
   "metadata": {
    "scrolled": true,
    "tags": []
   },
   "outputs": [],
   "source": [
    "%run ../../../modelseedpy/community/mscommscores.py\n",
    "from modelseedpy import MSCompatibility\n",
    "\n",
    "models = MSCompatibility.standardize(models)\n",
    "df, mets = MSCommScores.kbase_output(models, environments=media_variations(base_media, variable_Cs), skip_bad_media=True) #, pool_size=cpu_count()/2)[0])\n",
    "display(df)\n",
    "\n",
    "# TODO identify the biomass reaction and other nuances of these curated models to permit their simulation through our methods\n",
    "\n",
    "%run ../../../modelseedpy/core/report.py\n",
    "report = commscores_report(df, mets)\n",
    "(models)"
   ]
  },
  {
   "cell_type": "markdown",
   "id": "b992c892-7e25-4f1c-8730-b594561bbc28",
   "metadata": {},
   "source": [
    "# Use the KBase reconstructed models"
   ]
  },
  {
   "cell_type": "code",
   "execution_count": null,
   "id": "e5d202a9-f776-465d-9aac-c1c4f7c6e35b",
   "metadata": {
    "collapsed": true,
    "jupyter": {
     "outputs_hidden": true,
     "source_hidden": true
    },
    "tags": []
   },
   "outputs": [
    {
     "name": "stdout",
     "output_type": "stream",
     "text": [
      "{'GCF_001421165.1', 'GCF_001426165.1', 'GCF_001423105.1', 'GCF_001423665.1', 'GCF_001422185.1', 'GCF_001423785.1', 'GCF_001421425.1', 'GCF_001424595.1', 'GCF_001421805.1'}\n"
     ]
    }
   ],
   "source": [
    "leaf_to_genbank = {'Leaf5': 'GCF_001421155.1', 'Leaf8': 'GCF_001421165.1', 'Leaf10': 'GCF_001421245.1', 'Leaf203': 'GCF_001421275.1', 'Leaf11': 'GCF_001421285.1', 'Leaf1': 'GCF_001421315.1', 'Leaf2': 'GCF_001421325.1', \n",
    "                   'Leaf9': 'GCF_001421355.1', 'Leaf16': 'GCF_001421405.1', 'Leaf208': 'GCF_001421415.1', 'Leaf15': 'GCF_001421425.1', 'Leaf201': 'GCF_001421435.1', 'Leaf210': 'GCF_001421485.1', 'Leaf17': 'GCF_001421505.1', \n",
    "                   'Leaf216': 'GCF_001421515.1', 'Leaf20': 'GCF_001421535.1', 'Leaf222': 'GCF_001421565.1', 'Leaf23': 'GCF_001421585.1', 'Leaf24': 'GCF_001421605.1', 'Leaf226': 'GCF_001421625.1', 'Leaf25': 'GCF_001421635.1', \n",
    "                   'Leaf26': 'GCF_001421665.1', 'Leaf28': 'GCF_001421685.1', 'Leaf220': 'GCF_001421705.1', 'Leaf22': 'GCF_001421715.1', 'Leaf230': 'GCF_001421745.1', 'Leaf32': 'GCF_001421765.1', 'Leaf33': 'GCF_001421785.1', \n",
    "                   'Leaf34': 'GCF_001421805.1', 'Leaf38': 'GCF_001421825.1', 'Leaf42': 'GCF_001421845.1', 'Leaf44': 'GCF_001421865.1', 'Leaf48': 'GCF_001421885.1', 'Leaf61': 'GCF_001421905.1', 'Leaf62': 'GCF_001421915.1', \n",
    "                   'Leaf64': 'GCF_001421945.1', 'Leaf67': 'GCF_001421965.1', 'Leaf231': 'GCF_001421995.1', 'Leaf70': 'GCF_001422025.1', 'Leaf242': 'GCF_001422045.1', 'Leaf76': 'GCF_001422065.1', 'Leaf83': 'GCF_001422075.1', \n",
    "                   'Leaf84': 'GCF_001422105.1', 'Leaf85': 'GCF_001422125.1', 'Leaf254': 'GCF_001422145.1', 'Leaf86': 'GCF_001422165.1', 'Leaf257': 'GCF_001422185.1', 'Leaf261': 'GCF_001422205.1', 'Leaf89': 'GCF_001422215.1', \n",
    "                   'Leaf262': 'GCF_001422245.1', 'Leaf263': 'GCF_001422285.1', 'Leaf264': 'GCF_001422325.1', 'Leaf93': 'GCF_001422345.1', 'Leaf265': 'GCF_001422365.1', 'Leaf99': 'GCF_001422375.1', 'Leaf267': 'GCF_001422405.1', \n",
    "                   'Leaf102': 'GCF_001422425.1', 'Leaf274': 'GCF_001422445.1', 'Leaf280': 'GCF_001422455.1', 'Leaf283': 'GCF_001422485.1', 'Leaf29': 'GCF_001422495.1', 'Leaf30': 'GCF_001422525.1', 'Leaf41': 'GCF_001422545.1', \n",
    "                   'Leaf53': 'GCF_001422605.1', 'Leaf58': 'GCF_003627215.1', 'Leaf69': 'GCF_001422645.1', 'Leaf234': 'GCF_001422665.1', 'Leaf72': 'GCF_001422685.1', 'Leaf244': 'GCF_001422695.1', 'Leaf82': 'GCF_001422725.1', \n",
    "                   'Leaf78': 'GCF_001422735.1', 'Leaf245': 'GCF_942548115.1', 'Leaf87': 'GCF_001422775.1', 'Leaf88': 'GCF_001422795.1', 'Leaf91': 'GCF_001422815.1', 'Leaf100': 'GCF_001422845.1', 'Leaf272': 'GCF_001422865.1', \n",
    "                   'Leaf104': 'GCF_001422885.1', 'Leaf106': 'GCF_001422895.1', 'Leaf288': 'GCF_001422925.1', 'Leaf285': 'GCF_001422955.1', 'Leaf117': 'GCF_001422985.1', 'Leaf294': 'GCF_001423005.1', 'Leaf296': 'GCF_001423045.1', \n",
    "                   'Leaf299': 'GCF_001423055.1', 'Leaf125': 'GCF_001423085.1', 'Leaf304': 'GCF_001423105.1', 'Leaf126': 'GCF_001423125.1', 'Leaf307': 'GCF_001423135.1', 'Leaf127': 'GCF_001423155.1', 'Leaf314': 'GCF_001423185.1', \n",
    "                   'Leaf130': 'GCF_001423205.1', 'Leaf321': 'GCF_001423215.1', 'Leaf324': 'GCF_001423245.1', 'Leaf108': 'GCF_001423265.1', 'Leaf111': 'GCF_001423285.1', 'Leaf112': 'GCF_001423295.1', 'Leaf113': 'GCF_001423325.1', \n",
    "                   'Leaf289': 'GCF_001423335.1', 'Leaf291': 'GCF_001423365.1', 'Leaf306': 'GCF_001423425.1', 'Leaf311': 'GCF_001423445.1', 'Leaf129': 'GCF_001423465.1', 'Leaf320': 'GCF_001423485.1', 'Leaf131': 'GCF_001423495.1', \n",
    "                   'Leaf325': 'GCF_001423545.1', 'Leaf148': 'GCF_001423585.1', 'Leaf335': 'GCF_001423605.1', 'Leaf159': 'GCF_001423615.1', 'Leaf161': 'GCF_001423645.1', 'Leaf164': 'GCF_001423665.1', 'Leaf168': 'GCF_001423685.1', \n",
    "                   'Leaf336': 'GCF_001423695.1', 'Leaf171': 'GCF_001423725.1', 'Leaf337': 'GCF_001423745.1', 'Leaf343': 'GCF_001423765.1', 'Leaf179': 'GCF_001423785.1', 'Leaf347': 'GCF_001423805.1', 'Leaf351': 'GCF_001423825.1', \n",
    "                   'Leaf357': 'GCF_001423845.1', 'Leaf182': 'GCF_001423865.2', 'Leaf185': 'GCF_001423885.1', 'Leaf186': 'GCF_001423905.1', 'Leaf187': 'GCF_001423925.1', 'Leaf194': 'GCF_001423945.1', 'Leaf196': 'GCF_001423965.1', \n",
    "                   'Leaf359': 'GCF_001423985.1', 'Leaf198': 'GCF_001424005.1', 'Leaf363': 'GCF_001424025.1', 'Leaf371': 'GCF_001424045.1', 'Leaf384': 'GCF_001424065.1', 'Leaf386': 'GCF_001424085.1', 'Leaf394': 'GCF_001424105.1', \n",
    "                   'Leaf395': 'GCF_001424125.1', 'Leaf404': 'GCF_001424145.1', 'Leaf139': 'GCF_001424165.1', 'Leaf326': 'GCF_001424185.1', 'Leaf334': 'GCF_001424195.1', 'Leaf151': 'GCF_001424225.1', 'Leaf160': 'GCF_001424265.1', \n",
    "                   'Leaf172': 'GCF_001424285.1', 'Leaf176': 'GCF_001424305.1', 'Leaf341': 'GCF_001424325.1', 'Leaf177': 'GCF_001424345.1', 'Leaf354': 'GCF_001424365.1', 'Leaf183': 'GCF_001424385.1', 'Leaf189': 'GCF_001424405.1', \n",
    "                   'Leaf191': 'GCF_001424425.1', 'Leaf361': 'GCF_001424445.1', 'Leaf369': 'GCF_001424455.1', 'Leaf380': 'GCF_001424485.1', 'Leaf391': 'GCF_001424505.1', 'Leaf399': 'GCF_001424525.1', 'Leaf400': 'GCF_001424545.1', \n",
    "                   'Leaf141': 'GCF_001424565.1', 'Leaf180': 'GCF_001424585.1', 'Leaf154': 'GCF_001424595.1', 'Leaf396': 'GCF_001424605.1', 'Leaf415': 'GCF_001424645.1', 'Leaf416': 'GCF_001424665.1', 'Leaf454': 'GCF_001424685.1', \n",
    "                   'Leaf465': 'GCF_001424705.1', 'Leaf436': 'GCF_001424715.1', 'Leaf469': 'GCF_001424745.1', 'Leaf446': 'GCF_001424755.1', 'Leaf383': 'GCF_001425345.1', 'Leaf405': 'GCF_001425355.1', 'Leaf407': 'GCF_001425385.1', \n",
    "                   'Leaf412': 'GCF_001425405.1', 'Leaf414': 'GCF_001425425.1', 'Leaf420': 'GCF_001425445.1', 'Leaf427': 'GCF_001425485.1', 'Leaf459': 'GCF_001425495.1', 'Leaf460': 'GCF_001425525.1', 'Leaf434': 'GCF_001425545.1', \n",
    "                   'Leaf466': 'GCF_001425565.1', 'Leaf443': 'GCF_001425575.1', 'Leaf453': 'GCF_001425605.1', 'Leaf3': 'GCF_001425965.1', 'Leaf7': 'GCF_001425985.1', 'Leaf94': 'GCF_001426045.1', 'Leaf258': 'GCF_001426065.1', \n",
    "                   'Leaf278': 'GCF_001426085.1', 'Leaf49': 'GCF_001426125.1', 'Leaf225': 'GCF_001426145.1', 'Leaf233': 'GCF_001426165.1', 'Leaf247': 'GCF_001426185.1', 'Leaf339': 'GCF_001426195.1', 'Leaf344': 'GCF_001426225.1', \n",
    "                   'Leaf98': 'GCF_003258395.1', 'Leaf73': 'GCF_916855635.1', 'Leaf408': 'GCF_916856905.1', 'Leaf350': 'GCF_916858655.1', 'Leaf21': 'GCF_916858675.1', 'Leaf374': 'GCF_916862475.1', 'Leaf37': 'GCF_920939475.1', \n",
    "                   'Leaf401': 'GCF_920939485.1', 'Leaf248': 'GCF_920939495.1', 'Leaf4': 'GCF_920939515.1', 'Leaf170': 'GCF_920984665.1', 'Leaf118': 'GCF_920984675.1', 'Leaf59': 'GCF_920984685.1', 'Leaf132': 'GCF_920984695.1', \n",
    "                   'Leaf313': 'GCF_920984705.1', 'Leaf205': 'GCF_920984725.1', 'Leaf250': 'GCF_920984735.1'}\n",
    "\n",
    "genBank_models = {leaf_to_genbank[model.replace(\"L\", \"Leaf\")] for model in all_examined_models if model.replace(\"L\", \"Leaf\") in leaf_to_genbank}\n",
    "print(genBank_models)"
   ]
  },
  {
   "cell_type": "code",
   "execution_count": 1,
   "id": "2a94eea5-c830-4028-88a0-1414e2fae4ad",
   "metadata": {
    "tags": []
   },
   "outputs": [
    {
     "name": "stdout",
     "output_type": "stream",
     "text": [
      "modelseedpy 0.2.2\n",
      "cobrakbase 0.3.1\n"
     ]
    }
   ],
   "source": [
    "import os\n",
    "local_cobrakbase_path = os.path.join('C:', 'Users', 'Andrew Freiburger','Documents','Argonne','cobrakbase')\n",
    "os.environ[\"HOME\"] = local_cobrakbase_path\n",
    "\n",
    "# import the KBase\n",
    "import cobrakbase\n",
    "# with open(\"/Users/afreiburger/Documents/kbase_token.txt\") as token_file:\n",
    "with open(\"D:/Users/Andrew Freiburger/Documents/Argonne/kbase_token.txt\") as token_file:\n",
    "    kbase_api = cobrakbase.KBaseAPI(token_file.readline())"
   ]
  },
  {
   "cell_type": "code",
   "execution_count": null,
   "id": "65543502-d39f-4e78-b473-e86d71db1f2f",
   "metadata": {
    "jupyter": {
     "source_hidden": true
    },
    "tags": []
   },
   "outputs": [],
   "source": [
    "# original KBase models\n",
    "GCF_001424595 = kbase_api.get_from_ws(\"136582/820/1\")  ;  GCF_001421165 = kbase_api.get_from_ws(\"136582/723/1\")  ;  GCF_001421425 = kbase_api.get_from_ws(\"136582/517/1\")  ;  GCF_001421805 = kbase_api.get_from_ws(\"136582/435/1\")\n",
    "GCF_001423105 = kbase_api.get_from_ws(\"136582/589/1\")  ;  GCF_001423785 = kbase_api.get_from_ws(\"136582/587/1\")  ;  GCF_001423665 = kbase_api.get_from_ws(\"136582/677/1\")  ;  GCF_001426165 = kbase_api.get_from_ws(\"136582/491/1\")\n",
    "GCF_001422185 = kbase_api.get_from_ws(\"136582/423/1\")"
   ]
  },
  {
   "cell_type": "code",
   "execution_count": 21,
   "id": "5cb2d592-9ef3-410f-ac80-e89f9518d731",
   "metadata": {
    "collapsed": true,
    "jupyter": {
     "outputs_hidden": true,
     "source_hidden": true
    },
    "tags": []
   },
   "outputs": [
    {
     "name": "stdout",
     "output_type": "stream",
     "text": [
      "['2.4 g K2HPO4', '1.08 g NaH2PO4 · 2H2O', '1.62 g NH4Cl and 0.2 g MgSO4 · 7H2O', 'and 15 g noble agar (Becton', 'Dickinson and Company). The medium was supplemented with the following trace elements: 15 mg Na2EDTA · 2H2O', '3 mg FeSO4 · 7H2O', '4.5 mg ZnSO4 · 7H2O', '3 mg CoCl2 · 6H2O', '0.64 mg MnCl2', '1 mg H3BO3', '0.4 mg Na2MoO4 · 2H2O', '0.3 mg CuSO4 · 5H2O', 'and 3 mg CaCl2 · 2H2O', 'and vitamins: 500 mg D-pantothenic acid hemi calcium salt', '100 mg biotin', '400 mg riboflavin', '400 mg thiamine HCl', '200 mg pyridoxal HCl', '150 mg p-amino benzoic acid', '200 mg cobalamin', '50 mg lipoic\\nacid', '150 mg nicotinic acid', 'and 100 mg folic acid']\n"
     ]
    }
   ],
   "source": [
    "experimental_media = [x.strip() for x in \"\"\" 2.4 g K2HPO4, 1.08 g NaH2PO4 · 2H2O, 1.62 g NH4Cl and 0.2 g MgSO4 · 7H2O, and 15 g noble agar (Becton, Dickinson and Company). The medium was supplemented with the following trace elements: 15 mg Na2EDTA · 2H2O, 3 mg FeSO4 · 7H2O, \n",
    "4.5 mg ZnSO4 · 7H2O, 3 mg CoCl2 · 6H2O, 0.64 mg MnCl2, 1 mg H3BO3, 0.4 mg Na2MoO4 · 2H2O, 0.3 mg CuSO4 · 5H2O, and 3 mg CaCl2 · 2H2O, and vitamins: 500 mg D-pantothenic acid hemi calcium salt, 100 mg biotin, 400 mg riboflavin, 400 mg thiamine HCl, 200 mg pyridoxal HCl, 150 mg p-amino benzoic acid, 200 mg cobalamin, 50 mg lipoic\n",
    "acid, 150 mg nicotinic acid, and 100 mg folic acid\"\"\".split(\",\")]\n",
    "print(experimental_media)"
   ]
  },
  {
   "cell_type": "code",
   "execution_count": 19,
   "id": "18d2e1f8-1c49-462a-823b-e484f117aeca",
   "metadata": {
    "collapsed": true,
    "jupyter": {
     "outputs_hidden": true,
     "source_hidden": true
    },
    "scrolled": true,
    "tags": []
   },
   "outputs": [
    {
     "name": "stdout",
     "output_type": "stream",
     "text": [
      "cpd00063 Ca2+\n",
      "cpd00099 Cl-\n",
      "cpd00149 Co2+\n",
      "cpd00058 Cu2+\n",
      "cpd10515 Fe+2\n",
      "cpd10516 Fe+3\n",
      "cpd00001 H2O\n",
      "cpd00205 K+\n",
      "cpd00254 Mg\n",
      "cpd00030 Mn2+\n",
      "cpd11574 Molybdate\n",
      "cpd00971 Na+\n",
      "cpd00013 NH3\n",
      "cpd00244 Ni2+\n",
      "cpd00007 O2\n",
      "cpd00009 Phosphate\n",
      "cpd00048 Sulfate\n",
      "cpd00034 Zn2+\n",
      "cpd00305 Thiamin\n",
      "cpd00104 BIOT\n",
      "cpd00220 Riboflavin\n",
      "cpd00215 Pyridoxal\n",
      "cpd00635 Cbl\n",
      "cpd00541 Lipoate\n",
      "cpd00393 Folate\n",
      "cpd00644 PAN\n",
      "cpd00218 Niacin\n",
      "cpd00443 ABEE\n"
     ]
    }
   ],
   "source": [
    "base_media = {\n",
    "    \"cpd00063\": 1000,\n",
    "    \"cpd00099\": 1000,\n",
    "    \"cpd00149\": 1000,\n",
    "    \"cpd00058\": 1000,\n",
    "    \"cpd10515\": 1000,\n",
    "    \"cpd10516\": 1000,\n",
    "    \"cpd00001\": 1000,\n",
    "    \"cpd00205\": 1000,\n",
    "    \"cpd00254\": 1000,\n",
    "    \"cpd00030\": 1000,\n",
    "    \"cpd11574\": 1000,\n",
    "    \"cpd00971\": 1000,\n",
    "    \"cpd00013\": 1000,\n",
    "    \"cpd00244\": 1000,\n",
    "    \"cpd00007\": 1000,\n",
    "    \"cpd00009\": 1000,\n",
    "    \"cpd00048\": 1000,\n",
    "    \"cpd00034\": 1000,\n",
    "    \"cpd00305\": 1000,\n",
    "    \"cpd00104\": 1000,\n",
    "    \"cpd00220\": 1000,\n",
    "    \"cpd00215\": 1000,\n",
    "    \"cpd00635\": 1000,\n",
    "    \"cpd00541\": 1000,\n",
    "    \"cpd00393\": 1000,\n",
    "    \"cpd00644\": 1000,\n",
    "    \"cpd00218\": 1000,\n",
    "    \"cpd00443\": 1000,\n",
    "}\n",
    "\n",
    "from modelseedpy.biochem import from_local\n",
    "\n",
    "msdb = from_local(\"../../../../ModelSEEDDatabase\")\n",
    "for cpd in base_media:\n",
    "    compound = msdb.compounds.get_by_id(cpd)\n",
    "    print(cpd, compound.name)"
   ]
  },
  {
   "cell_type": "code",
   "execution_count": 20,
   "id": "5a70d42a-7f25-43ca-a594-38ea0b49c532",
   "metadata": {
    "collapsed": true,
    "jupyter": {
     "outputs_hidden": true,
     "source_hidden": true
    },
    "tags": []
   },
   "outputs": [
    {
     "name": "stdout",
     "output_type": "stream",
     "text": [
      "cpd00027 D-Glucose\n",
      "cpd00108 Galactose\n",
      "cpd00082 D-Fructose\n",
      "cpd00138 D-Mannose\n",
      "cpd00314 D-Mannitol\n",
      "cpd00076 Sucrose\n",
      "cpd00154 Xylose\n",
      "cpd00224 L-Arabinose\n",
      "cpd00121 L-Inositol\n",
      "cpd00158 CELB\n",
      "cpd00794 TRHL\n",
      "cpd00179 Maltose\n",
      "cpd00029 Acetate\n",
      "cpd00180 Oxalate\n",
      "cpd00047 Formate\n",
      "cpd00036 Succinate\n",
      "cpd00222 GLCN\n",
      "cpd00020 Pyruvate\n",
      "cpd00280 D-Galacturonate\n",
      "cpd00035 L-Alanine\n",
      "cpd00051 L-Arginine\n",
      "cpd00132 L-Asparagine\n",
      "cpd00041 L-Aspartate\n",
      "cpd00084 L-Cysteine\n",
      "cpd00023 L-Glutamate\n",
      "cpd00053 L-Glutamine\n",
      "cpd00033 Glycine\n",
      "cpd00119 L-Histidine\n",
      "cpd00322 L-Isoleucine\n",
      "cpd00107 L-Leucine\n",
      "cpd00039 L-Lysine\n",
      "cpd00060 L-Methionine\n",
      "cpd00129 L-Proline\n",
      "cpd00054 L-Serine\n",
      "cpd00161 L-Threonine\n",
      "cpd00156 L-Valine\n",
      "cpd00064 Ornithine\n",
      "cpd00065 L-Tryptophan\n",
      "cpd00069 L-Tyrosine\n",
      "cpd00066 L-Phenylalanine\n",
      "cpd00116 Methanol\n",
      "cpd00100 Glycerol\n",
      "cpd00458 Coniferol\n",
      "cpd00153 Benzoate\n",
      "cpd00187 Methanamine\n"
     ]
    }
   ],
   "source": [
    "variable_Cs = [\"cpd00027\", \"cpd00108\", \"cpd00082\", \"cpd00138\", \"cpd00314\", \"cpd00076\", \"cpd00154\", \"cpd00224\", \"cpd00121\", \"cpd00158\", \"cpd00794\", \"cpd00179\", \"cpd00029\", \"cpd00180\", \"cpd00047\", \"cpd00036\", \"cpd00222\",\n",
    "              \"cpd00020\", \"cpd00280\", \"cpd00035\", \"cpd00051\", \"cpd00132\", \"cpd00041\", \"cpd00084\", \"cpd00023\", \"cpd00053\", \"cpd00033\", \"cpd00119\", \"cpd00322\", \"cpd00107\", \"cpd00039\", \"cpd00060\", \"cpd00129\", \"cpd00054\",\n",
    "              \"cpd00161\", \"cpd00156\", \"cpd00064\", \"cpd00065\", \"cpd00069\", \"cpd00066\", \"cpd00116\", \"cpd00100\", \"cpd00458\", \"cpd00153\", \"cpd00187\"]\n",
    "for cpd in variable_Cs:\n",
    "    compound = msdb.compounds.get_by_id(cpd)\n",
    "    print(cpd, compound.name)"
   ]
  },
  {
   "cell_type": "code",
   "execution_count": null,
   "id": "d11948bf-23e9-4ad6-94d7-62e0ee5f1c86",
   "metadata": {
    "jupyter": {
     "source_hidden": true
    },
    "tags": []
   },
   "outputs": [],
   "source": [
    "experimental_base_media = {\n",
    "    \"cpd00063\": 1000,\n",
    "    \"cpd00099\": 1000,\n",
    "    \"cpd00149\": 1000,\n",
    "    \"cpd00058\": 1000,\n",
    "    \"cpd10515\": 1000,\n",
    "    \"cpd00001\": 1000,\n",
    "    \"cpd00205\": 1000,\n",
    "    \"cpd00254\": 1000,\n",
    "    \"cpd00030\": 1000,\n",
    "    \"cpd11574\": 1000,\n",
    "    \"cpd00971\": 1000,\n",
    "    \"cpd00013\": 1000,\n",
    "    \"cpd00007\": 1000,\n",
    "    \"cpd00009\": 1000,\n",
    "    \"cpd00048\": 1000,\n",
    "    \"cpd00034\": 1000,\n",
    "    \"cpd00305\": 1000,\n",
    "    \"cpd00104\": 1000,\n",
    "    \"cpd00220\": 1000,\n",
    "    \"cpd00215\": 1000,\n",
    "    \"cpd00635\": 1000,\n",
    "    \"cpd00541\": 1000,\n",
    "    \"cpd00393\": 1000,\n",
    "    \"cpd00644\": 1000,\n",
    "    \"cpd00218\": 1000,\n",
    "    \"cpd09225\": 1000,\n",
    "    \"cpd00240\": 1000\n",
    "}"
   ]
  },
  {
   "cell_type": "code",
   "execution_count": 2,
   "id": "ea3ed9e3-db56-4543-b29e-a342e40b5a05",
   "metadata": {
    "jupyter": {
     "source_hidden": true
    },
    "tags": []
   },
   "outputs": [],
   "source": [
    "fba_base_media = {\n",
    "    \"cpd00063\": 1000,\n",
    "    \"cpd00099\": 1000,\n",
    "    \"cpd00149\": 1000,\n",
    "    \"cpd00058\": 1000,\n",
    "    \"cpd10515\": 1000,\n",
    "    \"cpd10516\": 1000,\n",
    "    \"cpd00001\": 1000,\n",
    "    \"cpd00205\": 1000,\n",
    "    \"cpd00254\": 1000,\n",
    "    \"cpd00030\": 1000,\n",
    "    \"cpd11574\": 1000,\n",
    "    \"cpd00971\": 1000,\n",
    "    \"cpd00013\": 1000,\n",
    "    \"cpd00244\": 1000,\n",
    "    \"cpd00007\": 1000,\n",
    "    \"cpd00009\": 1000,\n",
    "    \"cpd00048\": 1000,\n",
    "    \"cpd00034\": 1000,\n",
    "    \"cpd00305\": 1000,\n",
    "    \"cpd00104\": 1000,\n",
    "    \"cpd00220\": 1000,\n",
    "    \"cpd00215\": 1000,\n",
    "    \"cpd00635\": 1000,\n",
    "    \"cpd00541\": 1000,\n",
    "    \"cpd00393\": 1000,\n",
    "    \"cpd00644\": 1000,\n",
    "    \"cpd00218\": 1000,\n",
    "    \"cpd00443\": 1000,\n",
    "}\n",
    "\n",
    "%run ../../../modelseedpy/core/fbahelper.py\n",
    "\n",
    "r2a_methanol_media = FBAHelper.convert_kbase_media(kbase_api.get_from_ws(\"152904/21/1\"), 1000)\n",
    "r2a_media = FBAHelper.convert_kbase_media(kbase_api.get_from_ws(\"152904/16/1\"), 1000)\n",
    "maltose_media = FBAHelper.convert_kbase_media(kbase_api.get_from_ws(\"152904/19/1\"), 1000)\n",
    "\n",
    "variable_Cs = [\"cpd00027\", \"cpd00108\", \"cpd00082\", \"cpd00138\", \"cpd00314\", \"cpd00076\", \"cpd00154\", \"cpd00224\", \"cpd00121\", \"cpd00158\", \"cpd00794\", \"cpd00179\", \"cpd00029\", \"cpd00180\", \"cpd00047\", \"cpd00036\", \"cpd00222\",\n",
    "              \"cpd00020\", \"cpd00280\", \"cpd00035\", \"cpd00051\", \"cpd00132\", \"cpd00041\", \"cpd00084\", \"cpd00023\", \"cpd00053\", \"cpd00033\", \"cpd00119\", \"cpd00322\", \"cpd00107\", \"cpd00039\", \"cpd00060\", \"cpd00129\", \"cpd00054\",\n",
    "              \"cpd00161\", \"cpd00156\", \"cpd00064\", \"cpd00065\", \"cpd00069\", \"cpd00066\", \"cpd00116\", \"cpd00100\", \"cpd00458\", \"cpd00153\", \"cpd00187\"]\n",
    "\n",
    "\n",
    "def media_variations(base_media, variable_cpds):\n",
    "    media = []\n",
    "    for variation in variable_cpds:\n",
    "        base = base_media.copy()\n",
    "        base.update({variation: 1000})\n",
    "        media.append(base)\n",
    "    # print(\"All media variations [Notebook print]\\n\", \"\\n\".join([str(medium) for medium in media]))\n",
    "    return media"
   ]
  },
  {
   "cell_type": "code",
   "execution_count": 2,
   "id": "3d8fb964-53a6-4816-88c7-be35a338cf48",
   "metadata": {},
   "outputs": [
    {
     "ename": "AttributeError",
     "evalue": "'NoneType' object has no attribute 'id'",
     "output_type": "error",
     "traceback": [
      "\u001b[1;31m---------------------------------------------------------------------------\u001b[0m",
      "\u001b[1;31mAttributeError\u001b[0m                            Traceback (most recent call last)",
      "Cell \u001b[1;32mIn[2], line 11\u001b[0m\n\u001b[0;32m      8\u001b[0m MSmodels \u001b[38;5;241m=\u001b[39m [GCF_001424595, GCF_001421165, GCF_001421425, GCF_001421805, GCF_001423105, GCF_001423785, GCF_001423665, GCF_001426165, GCF_001422185, GCF_001421235, GCF_001423565]\n\u001b[0;32m     10\u001b[0m \u001b[38;5;28;01mfor\u001b[39;00m model \u001b[38;5;129;01min\u001b[39;00m MSmodels:\n\u001b[1;32m---> 11\u001b[0m     save_json_model(model, path\u001b[38;5;241m.\u001b[39mjoin(\u001b[38;5;124m\"\u001b[39m\u001b[38;5;124mVorholt models\u001b[39m\u001b[38;5;124m\"\u001b[39m, \u001b[38;5;124m\"\u001b[39m\u001b[38;5;124mnew\u001b[39m\u001b[38;5;124m\"\u001b[39m, \u001b[38;5;124mf\u001b[39m\u001b[38;5;124m\"\u001b[39m\u001b[38;5;132;01m{\u001b[39;00m\u001b[43mmodel\u001b[49m\u001b[38;5;241;43m.\u001b[39;49m\u001b[43mid\u001b[49m\u001b[38;5;132;01m}\u001b[39;00m\u001b[38;5;124m.json\u001b[39m\u001b[38;5;124m\"\u001b[39m))\n\u001b[0;32m     13\u001b[0m \u001b[38;5;66;03m# MS2 reconstructed models\u001b[39;00m\n\u001b[0;32m     14\u001b[0m GCF_001424595 \u001b[38;5;241m=\u001b[39m kbase_api\u001b[38;5;241m.\u001b[39mget_from_ws(\u001b[38;5;124m\"\u001b[39m\u001b[38;5;124m154981/88/1\u001b[39m\u001b[38;5;124m\"\u001b[39m)  ;  GCF_001421165 \u001b[38;5;241m=\u001b[39m kbase_api\u001b[38;5;241m.\u001b[39mget_from_ws(\u001b[38;5;124m\"\u001b[39m\u001b[38;5;124m154981/96/1\u001b[39m\u001b[38;5;124m\"\u001b[39m)  ;  GCF_001421425 \u001b[38;5;241m=\u001b[39m kbase_api\u001b[38;5;241m.\u001b[39mget_from_ws(\u001b[38;5;124m\"\u001b[39m\u001b[38;5;124m154981/89/1\u001b[39m\u001b[38;5;124m\"\u001b[39m)  ;  GCF_001421805 \u001b[38;5;241m=\u001b[39m kbase_api\u001b[38;5;241m.\u001b[39mget_from_ws(\u001b[38;5;124m\"\u001b[39m\u001b[38;5;124m154981/90/1\u001b[39m\u001b[38;5;124m\"\u001b[39m)\n",
      "\u001b[1;31mAttributeError\u001b[0m: 'NoneType' object has no attribute 'id'"
     ]
    }
   ],
   "source": [
    "from cobra.io import write_sbml_model, save_json_model\n",
    "from os import path\n",
    "\n",
    "# new KBase models\n",
    "GCF_001424595 = kbase_api.get_from_ws(\"153650/30/1\")  ;  GCF_001421165 = kbase_api.get_from_ws(\"153650/32/1\")  ;  GCF_001421425 = kbase_api.get_from_ws(\"153650/43/1\")  ;  GCF_001421805 = kbase_api.get_from_ws(\"153650/45/1\")\n",
    "GCF_001423105 = kbase_api.get_from_ws(\"153650/36/1\")  ;  GCF_001423785 = kbase_api.get_from_ws(\"153650/38/1\")  ;  GCF_001423665 = kbase_api.get_from_ws(\"153650/40/1\")  ;  GCF_001426165 = kbase_api.get_from_ws(\"153650/64/1\")\n",
    "GCF_001422185 = kbase_api.get_from_ws(\"153650/34/1\")  ;  GCF_001421235 = kbase_api.get_from_ws(\"153650/57/1\")  ;  GCF_001423565 = kbase_api.get_from_ws(\"153650/59/1\")\n",
    "MSmodels = [GCF_001424595, GCF_001421165, GCF_001421425, GCF_001421805, GCF_001423105, GCF_001423785, GCF_001423665, GCF_001426165, GCF_001422185, GCF_001421235, GCF_001423565]\n",
    "\n",
    "for model in MSmodels:\n",
    "    save_json_model(model, path.join(\"Vorholt models\", \"new\", f\"{model.id}.json\"))\n",
    "\n",
    "# MS2 reconstructed models\n",
    "GCF_001424595 = kbase_api.get_from_ws(\"154981/88/1\")  ;  GCF_001421165 = kbase_api.get_from_ws(\"154981/96/1\")  ;  GCF_001421425 = kbase_api.get_from_ws(\"154981/89/1\")  ;  GCF_001421805 = kbase_api.get_from_ws(\"154981/90/1\")\n",
    "GCF_001423105 = kbase_api.get_from_ws(\"154981/91/1\")  ;  GCF_001423785 = kbase_api.get_from_ws(\"154981/92/1\")  ;  GCF_001423665 = kbase_api.get_from_ws(\"154981/93/1\")  ;  GCF_001426165 = kbase_api.get_from_ws(\"154981/87/1\")\n",
    "GCF_001422185 = kbase_api.get_from_ws(\"154981/95/1\")  ;  GCF_001421235 = kbase_api.get_from_ws(\"154981/85/1\")  ;  GCF_001423565 = kbase_api.get_from_ws(\"154981/84/1\")\n",
    "MSmodels = [GCF_001424595, GCF_001421165, GCF_001421425, GCF_001421805, GCF_001423105, GCF_001423785, GCF_001423665, GCF_001426165, GCF_001422185, GCF_001421235, GCF_001423565]\n",
    "\n",
    "for model in MSmodels:\n",
    "    save_json_model(model, path.join(\"Vorholt models\", \"MS2\", f\"{model.id}.json\"))"
   ]
  },
  {
   "cell_type": "code",
   "execution_count": 2,
   "id": "8023f579-550c-49fb-a84d-abfdb4af9f0d",
   "metadata": {},
   "outputs": [],
   "source": [
    "GCF_001424595 = kbase_api.get_from_ws(\"153650/30/1\")"
   ]
  },
  {
   "cell_type": "code",
   "execution_count": 4,
   "id": "6f550a2a-a9ec-44ad-98ce-4351a9007eeb",
   "metadata": {},
   "outputs": [
    {
     "data": {
      "text/plain": [
       "None"
      ]
     },
     "metadata": {},
     "output_type": "display_data"
    }
   ],
   "source": [
    "display(GCF_001424595)"
   ]
  },
  {
   "cell_type": "markdown",
   "id": "bd24360a-8cd3-4728-b82c-70c77ff0c9c8",
   "metadata": {},
   "source": [
    "## Diff the models"
   ]
  },
  {
   "cell_type": "code",
   "execution_count": 16,
   "id": "1dbc40f2-c141-4eeb-b0b8-686bdb4dd82e",
   "metadata": {},
   "outputs": [],
   "source": [
    "from cobra.io import read_sbml_model\n",
    "GCF_001423785 = kbase_api.get_from_ws(\"154981/92/1\")\n",
    "GCF_001423785_loaded = read_sbml_model(\"Vorholt models/MS2/GCF_001423785.1.RAST.mdl.xml\")"
   ]
  },
  {
   "cell_type": "code",
   "execution_count": 17,
   "id": "53c2122a-2b0a-40a8-98f6-5b791f1c8fb8",
   "metadata": {},
   "outputs": [
    {
     "name": "stdout",
     "output_type": "stream",
     "text": [
      "set()\n",
      "set()\n"
     ]
    }
   ],
   "source": [
    "kbase_rxns = set([rxn.id for rxn in GCF_001423785.reactions])\n",
    "loaded_rxns = set([rxn.id for rxn in GCF_001423785_loaded.reactions])\n",
    "print(kbase_rxns-loaded_rxns)\n",
    "print(loaded_rxns-kbase_rxns)"
   ]
  },
  {
   "cell_type": "code",
   "execution_count": 18,
   "id": "4afe8ac8-71f0-4c1b-b69c-52ef42ff02f5",
   "metadata": {},
   "outputs": [
    {
     "name": "stdout",
     "output_type": "stream",
     "text": [
      "rxnID\t KBase bounds\t loaded bounds\n"
     ]
    }
   ],
   "source": [
    "kbase_rxns = dict([(rxn.id, rxn.bounds) for rxn in GCF_001423785.reactions])\n",
    "loaded_rxns = dict([(rxn.id, rxn.bounds) for rxn in GCF_001423785_loaded.reactions])\n",
    "print(\"rxnID\\t\", \"KBase bounds\\t\", \"loaded bounds\")\n",
    "for rxnID, bounds in kbase_rxns.items():\n",
    "    if loaded_rxns[rxnID] != bounds:\n",
    "        print(rxnID, bounds, loaded_rxns[rxnID])"
   ]
  },
  {
   "cell_type": "code",
   "execution_count": 19,
   "id": "d3078302-5cfb-4c26-84eb-5c9415bf1a88",
   "metadata": {},
   "outputs": [
    {
     "name": "stdout",
     "output_type": "stream",
     "text": [
      "Maximize\n",
      "1.0*bio1 - 1.0*bio1_reverse_b18f7\n",
      "Maximize\n",
      "1.0*bio1 - 1.0*bio1_reverse_b18f7\n"
     ]
    }
   ],
   "source": [
    "print(GCF_001423785.objective)\n",
    "print(GCF_001423785_loaded.objective)"
   ]
  },
  {
   "cell_type": "code",
   "execution_count": 20,
   "id": "313ce26f-f67e-4253-b926-b76c1c3e94c8",
   "metadata": {
    "scrolled": true,
    "tags": []
   },
   "outputs": [
    {
     "name": "stdout",
     "output_type": "stream",
     "text": [
      "set()\n",
      "set()\n"
     ]
    }
   ],
   "source": [
    "kbase_constraints = set([cons.name for cons in GCF_001423785.constraints])\n",
    "loaded_constraints = set([cons.name for cons in GCF_001423785_loaded.constraints])\n",
    "print(kbase_constraints-loaded_constraints)\n",
    "print(loaded_constraints-kbase_constraints)"
   ]
  },
  {
   "cell_type": "code",
   "execution_count": null,
   "id": "1530144d-6cf8-41e2-856e-5cf8d1c02b7d",
   "metadata": {},
   "outputs": [],
   "source": []
  },
  {
   "cell_type": "code",
   "execution_count": null,
   "id": "d775718f-e98b-4e04-a3e9-1c3f3276a1d8",
   "metadata": {
    "collapsed": true,
    "jupyter": {
     "outputs_hidden": true
    },
    "tags": []
   },
   "outputs": [],
   "source": [
    "# r2a_methanol_media = FBAHelper.convert_kbase_media(kbase_api.get_from_ws(\"154981/21/1\"), 1000)\n",
    "# r2a_methanol_media"
   ]
  },
  {
   "cell_type": "code",
   "execution_count": null,
   "id": "f32e9eb7-397b-4a99-9c96-e5a871eb7d57",
   "metadata": {},
   "outputs": [],
   "source": [
    "%run ../../../modelseedpy/community/mscommunity.py\n",
    "\n",
    "CommScores.report_generation([GCF_001424595, GCF_001421165], environments)"
   ]
  },
  {
   "cell_type": "code",
   "execution_count": 5,
   "id": "ea2178a3-c787-4c7d-8c07-844dc123ef2d",
   "metadata": {},
   "outputs": [],
   "source": [
    "# members_minimal_media = {'GCF_001421165.1.RAST.fbamodel': {'media': {'EX_cpd00051_e0': 12.59859933717156, 'EX_cpd00063_e0': 0.1433081891404223, 'EX_cpd00058_e0': 0.14330818914042226, 'EX_cpd00184_e0': 0.4695217593295476, 'EX_cpd00118_e0': 0.14330818914042226, 'EX_cpd00161_e0': 721.1045817926323, 'EX_cpd00104_e0': 0.14330818914042226, 'EX_cpd00034_e0': 0.14330818914042226, 'EX_cpd00069_e0': 6.162852744356453, 'EX_cpd00149_e0': 0.14330818914042223, 'EX_cpd00264_e0': 0.14330818914042226, 'EX_cpd10515_e0': 0.4299245674212667, 'EX_cpd00132_e0': 10.256260471235334, 'EX_cpd00254_e0': 0.14330818914042226, 'EX_cpd00053_e0': 163.94401872560388, 'EX_cpd00218_e0': 0.2866163782810432, 'EX_cpd00007_e0': 0.35827047285105573, 'EX_cpd00039_e0': 14.577079738496302, 'EX_cpd00393_e0': 0.42992456742126617, 'EX_cpd00794_e0': 839.4121650267742, 'EX_cpd00080_e0': 1000.0, 'EX_cpd00054_e0': 999.9999999999999, 'EX_cpd00048_e0': 0.1433081891404223, 'EX_cpd00644_e0': 0.2866163782808558, 'EX_cpd00100_e0': 600.0518797872196, 'EX_cpd00030_e0': 0.1433081891404223, 'EX_cpd00065_e0': 2.41056232805087, 'EX_cpd00060_e0': 6.670019398108366, 'EX_cpd00239_e0': 1000.0000000000182, 'EX_cpd00106_e0': 147.9233178675603, 'EX_cpd00156_e0': 17.98825284422867, 'EX_cpd00066_e0': 7.891180451260871, 'EX_cpd00119_e0': 4.047925418802407, 'EX_cpd00793_e0': 0.14330818914042223, 'EX_cpd00017_e0': 1.003157323982956, 'EX_cpd00220_e0': 0.4299245674212668, 'EX_cpd00099_e0': 0.14330818914042223, 'EX_cpd00092_e0': 10.243560714688885, 'EX_cpd00028_e0': 0.14330818914042226, 'EX_cpd00107_e0': 19.170792854215925, 'EX_cpd00205_e0': 0.14330818914042226}}, 'GCF_001423785.1.RAST.fbamodel': {'media': {'EX_cpd00051_e0': 16.868043864445188, 'EX_cpd00063_e0': 0.19187282299093658, 'EX_cpd00731_e0': 1.7101146850768332, 'EX_cpd00058_e0': 0.19187282299093658, 'EX_cpd00118_e0': 0.19187282299093658, 'EX_cpd00161_e0': 1000.0, 'EX_cpd00104_e0': 0.19187282299093658, 'EX_cpd00034_e0': 0.19187282299093658, 'EX_cpd00307_e0': 1000.0, 'EX_cpd00069_e0': 8.251335536578738, 'EX_cpd00149_e0': 0.1918728229909366, 'EX_cpd00264_e0': 0.19187282299093658, 'EX_cpd10515_e0': 0.5756184689728099, 'EX_cpd00322_e0': 15.190009044828317, 'EX_cpd00137_e0': 44.26356109314145, 'EX_cpd00132_e0': 13.731927405893103, 'EX_cpd00254_e0': 0.19187282299093658, 'EX_cpd00053_e0': 46.38664592298412, 'EX_cpd00218_e0': 0.38374564598127925, 'EX_cpd00007_e0': 771.4595261416803, 'EX_cpd00039_e0': 19.516996601280397, 'EX_cpd00393_e0': 0.5756184689728097, 'EX_cpd00794_e0': 403.6495685655376, 'EX_cpd00080_e0': 999.9999999999942, 'EX_cpd00054_e0': 16.585545364709972, 'EX_cpd00048_e0': 0.19187282299093658, 'EX_cpd00215_e0': 0.19187282299093658, 'EX_cpd00644_e0': 0.38374564598186706, 'EX_cpd00100_e0': 11.166329418092472, 'EX_cpd00030_e0': 0.19187282299093658, 'EX_cpd00065_e0': 3.227459656373981, 'EX_cpd00067_e0': 320.6205415196726, 'EX_cpd00041_e0': 739.9582387717834, 'EX_cpd00106_e0': 202.9882316938447, 'EX_cpd00156_e0': 24.084156492375655, 'EX_cpd00066_e0': 10.565363214733694, 'EX_cpd00119_e0': 5.419696404099707, 'EX_cpd00793_e0': 0.19187282299093658, 'EX_cpd00084_e0': 4.43907098388484, 'EX_cpd00017_e0': 20.13347885281309, 'EX_cpd00220_e0': 0.5756184689728097, 'EX_cpd00099_e0': 0.1918728229909366, 'EX_cpd00028_e0': 0.19187282299093658, 'EX_cpd00107_e0': 25.667438587955395, 'EX_cpd00205_e0': 0.19187282299093658}}, 'GCF_001421805.1.RAST.fbamodel': {'media': {'EX_cpd00051_e0': 21.4155355163538, 'EX_cpd00009_e0': 70.2933539297861, 'EX_cpd00063_e0': 0.24360022349992982, 'EX_cpd00654_e0': 608.4958336810964, 'EX_cpd00058_e0': 0.24360022349992977, 'EX_cpd00184_e0': 0.9511111898337501, 'EX_cpd00118_e0': 0.24360022349992982, 'EX_cpd00161_e0': 306.59242096810215, 'EX_cpd00104_e0': 0.2436002234999297, 'EX_cpd00034_e0': 0.24360022349992982, 'EX_cpd00027_e0': 692.9221422444956, 'EX_cpd00069_e0': 10.475830550418497, 'EX_cpd00149_e0': 0.24360022349992977, 'EX_cpd00264_e0': 0.24360022349992982, 'EX_cpd10515_e0': 0.7308006704997895, 'EX_cpd00322_e0': 20.99031730213017, 'EX_cpd00132_e0': 17.43394678316888, 'EX_cpd00254_e0': 0.24360022349992977, 'EX_cpd00053_e0': 540.9917451943005, 'EX_cpd00164_e0': 382.88574051289356, 'EX_cpd00218_e0': 0.48720044699978016, 'EX_cpd00007_e0': 0.6090005587498246, 'EX_cpd00039_e0': 24.778625028849728, 'EX_cpd00393_e0': 0.730800670499784, 'EX_cpd00209_e0': 812.814588878901, 'EX_cpd00794_e0': 8.684592492078082, 'EX_cpd00054_e0': 68.97961966338399, 'EX_cpd00048_e0': 27.42774783436514, 'EX_cpd00129_e0': 149.11422871525073, 'EX_cpd00215_e0': 0.24360022349992977, 'EX_cpd00644_e0': 0.48720044699983545, 'EX_cpd00030_e0': 0.24360022349992982, 'EX_cpd00065_e0': 4.097557337064073, 'EX_cpd00060_e0': 9.6327284301079, 'EX_cpd00276_e0': 1000.0, 'EX_cpd00438_e0': 0.951111189833751, 'EX_cpd00156_e0': 30.57705522280832, 'EX_cpd00066_e0': 13.413701848690883, 'EX_cpd00277_e0': 13.584463457084286, 'EX_cpd00119_e0': 6.880803830164202, 'EX_cpd00793_e0': 0.24360022349992977, 'EX_cpd00017_e0': 1.7052015644995087, 'EX_cpd00220_e0': 0.7308006704998182, 'EX_cpd00099_e0': 0.24360022349992977, 'EX_cpd00028_e0': 0.24360022349992977, 'EX_cpd00107_e0': 32.58717769004737, 'EX_cpd00205_e0': 0.24360022349992974}}, 'GCF_001426165_MMM_FBA': {'media': {'EX_cpd00051_e0': 22.77459814167699, 'EX_cpd00063_e0': 0.2590594661150077, 'EX_cpd00058_e0': 0.25905946611500774, 'EX_cpd00179_e0': 496.536601246553, 'EX_cpd00118_e0': 0.25905946611500774, 'EX_cpd00162_e0': 19.485847507499724, 'EX_cpd00161_e0': 1000.0, 'EX_cpd00104_e0': 0.25905946611500774, 'EX_cpd00034_e0': 0.25905946611500774, 'EX_cpd00307_e0': 19.36634065125815, 'EX_cpd00069_e0': 11.140642773275143, 'EX_cpd00149_e0': 0.25905946611500774, 'EX_cpd00264_e0': 0.25905946611500774, 'EX_cpd10515_e0': 0.7771783983450231, 'EX_cpd00322_e0': 22.322394929471017, 'EX_cpd00132_e0': 18.540331700173866, 'EX_cpd00254_e0': 0.25905946611500774, 'EX_cpd00053_e0': 130.2634641310545, 'EX_cpd00218_e0': 0.5181189322300112, 'EX_cpd00007_e0': 0.7771783983450229, 'EX_cpd00039_e0': 26.351114456344607, 'EX_cpd00393_e0': 0.7771783983450227, 'EX_cpd00209_e0': 726.3281829561734, 'EX_cpd00794_e0': 9.235730009191887, 'EX_cpd00080_e0': 75.0134165718351, 'EX_cpd00054_e0': 22.56477012355457, 'EX_cpd00048_e0': 0.25905946611500774, 'EX_cpd00129_e0': 424.6384808878389, 'EX_cpd00215_e0': 0.2590594661150077, 'EX_cpd00644_e0': 0.518118932230026, 'EX_cpd00030_e0': 0.25905946611500774, 'EX_cpd00065_e0': 4.357594590284755, 'EX_cpd00276_e0': 757.1881510966133, 'EX_cpd00156_e0': 32.51752189542681, 'EX_cpd00066_e0': 14.264955875743496, 'EX_cpd00119_e0': 7.317470161044216, 'EX_cpd00084_e0': 7.806882878892125, 'EX_cpd00017_e0': 157.25210695155204, 'EX_cpd00220_e0': 0.7771783983450232, 'EX_cpd00099_e0': 0.25905946611500774, 'EX_cpd00028_e0': 0.25905946611500774, 'EX_cpd00107_e0': 34.655209807642045, 'EX_cpd00305_e0': 0.2590594661150078, 'EX_cpd00205_e0': 0.25905946611500774}}, 'GCF_001423105.1.RAST.fbamodel': {'media': {'EX_cpd00051_e0': 14.594940068862, 'EX_cpd10516_e0': 0.498049277361455, 'EX_cpd00063_e0': 0.16601642578715178, 'EX_cpd00058_e0': 0.16601642578715178, 'EX_cpd00184_e0': 0.6121707253188658, 'EX_cpd00118_e0': 0.16601642578715178, 'EX_cpd00161_e0': 34.017822761440115, 'EX_cpd00104_e0': 0.16601642578715178, 'EX_cpd00034_e0': 0.16601642578715178, 'EX_cpd00307_e0': 11.798548970826728, 'EX_cpd00069_e0': 7.139402091446895, 'EX_cpd00149_e0': 0.16601642578715178, 'EX_cpd00264_e0': 0.16601642578715178, 'EX_cpd00322_e0': 14.30514884005788, 'EX_cpd00132_e0': 11.881440380968883, 'EX_cpd00254_e0': 0.16601642578715176, 'EX_cpd00053_e0': 187.962134898642, 'EX_cpd00218_e0': 0.33203285157427204, 'EX_cpd00007_e0': 509.72239135684345, 'EX_cpd00039_e0': 16.886925242130896, 'EX_cpd00393_e0': 0.4980492773614553, 'EX_cpd00794_e0': 279.0765276569757, 'EX_cpd00080_e0': 47.905675445870756, 'EX_cpd00054_e0': 22.856662454361683, 'EX_cpd00048_e0': 0.16601642578715178, 'EX_cpd00644_e0': 0.33203285157433426, 'EX_cpd00030_e0': 0.16601642578715178, 'EX_cpd00065_e0': 2.7925336593851404, 'EX_cpd00041_e0': 170.33837865931773, 'EX_cpd00156_e0': 20.838623816732508, 'EX_cpd00066_e0': 9.141596035911734, 'EX_cpd00119_e0': 4.6893489751939175, 'EX_cpd00793_e0': 0.16601642578715176, 'EX_cpd00084_e0': 3.8408706718973615, 'EX_cpd00017_e0': 11.964565396613882, 'EX_cpd00220_e0': 0.4980492773614552, 'EX_cpd00099_e0': 0.16601642578715178, 'EX_cpd00028_e0': 0.16601642578715178, 'EX_cpd00107_e0': 22.20854598926112, 'EX_cpd00205_e0': 0.16601642578715176}}, 'GCF_001424595.1.RAST.fbamodel': {'media': {'EX_cpd00051_e0': 19.01207524169922, 'EX_cpd00063_e0': 0.2162610304345984, 'EX_cpd00731_e0': 1.927480704099112, 'EX_cpd00058_e0': 0.21626103043459838, 'EX_cpd00179_e0': 1000.0000000000001, 'EX_cpd00118_e0': 0.2162610304345984, 'EX_cpd00161_e0': 351.3612865275077, 'EX_cpd00104_e0': 0.2162610304345984, 'EX_cpd00034_e0': 0.2162610304345984, 'EX_cpd00307_e0': 1000.0, 'EX_cpd00069_e0': 9.300130668773392, 'EX_cpd00149_e0': 0.21626103043459838, 'EX_cpd00264_e0': 0.2162610304345984, 'EX_cpd10515_e0': 0.6487830913037952, 'EX_cpd00322_e0': 17.120751949850515, 'EX_cpd00132_e0': 561.1108287965674, 'EX_cpd00254_e0': 0.21626103043459838, 'EX_cpd00053_e0': 29.286335876991668, 'EX_cpd00218_e0': 0.4325220608691883, 'EX_cpd00007_e0': 171.4192251996478, 'EX_cpd00039_e0': 21.99772604680355, 'EX_cpd00393_e0': 0.6487830913037956, 'EX_cpd00794_e0': 7.709922816396453, 'EX_cpd00080_e0': 999.9999999999999, 'EX_cpd00024_e0': 22.996335995630776, 'EX_cpd00054_e0': 1000.0000000000061, 'EX_cpd00048_e0': 0.2162610304345984, 'EX_cpd00644_e0': 0.4325220608691421, 'EX_cpd00030_e0': 0.2162610304345984, 'EX_cpd00065_e0': 3.6376894866789034, 'EX_cpd00067_e0': 526.1933737276896, 'EX_cpd00041_e0': 439.9508589044293, 'EX_cpd00239_e0': 981.3211477853563, 'EX_cpd00276_e0': 7.926183846831049, 'EX_cpd00156_e0': 27.145399848707658, 'EX_cpd00066_e0': 11.908285395071504, 'EX_cpd00119_e0': 6.108572911592876, 'EX_cpd00793_e0': 0.2162610304345984, 'EX_cpd00076_e0': 22.404425004929394, 'EX_cpd00017_e0': 22.692551649892454, 'EX_cpd00220_e0': 0.6487830913037953, 'EX_cpd00099_e0': 0.21626103043459838, 'EX_cpd00028_e0': 0.21626103043459838, 'EX_cpd00107_e0': 28.929926766701143, 'EX_cpd00205_e0': 0.21626103043459838}}, 'GCF_001422185.1.RAST.fbamodel': {'media': {'EX_cpd00051_e0': 29.665707223767864, 'EX_cpd00063_e0': 0.3374453515054443, 'EX_cpd00355_e0': 1000.0, 'EX_cpd00058_e0': 0.33744535150544425, 'EX_cpd00118_e0': 0.3374453515054443, 'EX_cpd00161_e0': 1000.0, 'EX_cpd00034_e0': 0.3374453515054443, 'EX_cpd00027_e0': 727.5846063133026, 'EX_cpd00069_e0': 14.511564363973006, 'EX_cpd00149_e0': 0.33744535150544425, 'EX_cpd00264_e0': 0.3374453515054443, 'EX_cpd10515_e0': 1.012336054516333, 'EX_cpd00322_e0': 29.076676935931317, 'EX_cpd00132_e0': 24.150241801298378, 'EX_cpd00254_e0': 0.33744535150544425, 'EX_cpd00007_e0': 1.0123360545163327, 'EX_cpd00039_e0': 34.324401318475, 'EX_cpd00393_e0': 1.0123360545163262, 'EX_cpd00209_e0': 583.5592066100345, 'EX_cpd00794_e0': 12.030265506598818, 'EX_cpd00054_e0': 81.2067304672855, 'EX_cpd00048_e0': 0.33744535150544425, 'EX_cpd00215_e0': 0.33744535150544425, 'EX_cpd00644_e0': 0.6748907030108614, 'EX_cpd00030_e0': 0.3374453515054443, 'EX_cpd00065_e0': 5.676110046424882, 'EX_cpd00023_e0': 567.5229720512694, 'EX_cpd00156_e0': 42.35663251624605, 'EX_cpd00066_e0': 18.581228170843723, 'EX_cpd00119_e0': 9.531581021354999, 'EX_cpd00793_e0': 0.3374453515054443, 'EX_cpd00084_e0': 24.397971129880414, 'EX_cpd00017_e0': 59.277683499831525, 'EX_cpd00220_e0': 1.0123360545163802, 'EX_cpd00099_e0': 0.33744535150544425, 'EX_cpd00028_e0': 0.33744535150544425, 'EX_cpd00107_e0': 45.141139331473454, 'EX_cpd00205_e0': 0.3374453515054442}}, 'GCF_001421425.1.RAST.fbamodel': {'media': {'EX_cpd00051_e0': 33.150462074463164, 'EX_cpd10516_e0': 0.37708419499005363, 'EX_cpd00063_e0': 0.37708419499005363, 'EX_cpd00355_e0': 1000.0, 'EX_cpd00654_e0': 6.896892843115924, 'EX_cpd00058_e0': 0.3770841949900536, 'EX_cpd01080_e0': 33.48182810059753, 'EX_cpd00311_e0': 20.787324328285198, 'EX_cpd00118_e0': 0.3770841949900535, 'EX_cpd00162_e0': 2.3978748111092396, 'EX_cpd00161_e0': 1000.0, 'EX_cpd00104_e0': 0.3770841949900536, 'EX_cpd00034_e0': 0.3770841949900535, 'EX_cpd00307_e0': 21.292737303254544, 'EX_cpd00130_e0': 182.7070255805203, 'EX_cpd00069_e0': 16.2162007620568, 'EX_cpd00149_e0': 0.3770841949900536, 'EX_cpd00264_e0': 0.3770841949900535, 'EX_cpd10515_e0': 0.754168389980107, 'EX_cpd00322_e0': 32.49223990330956, 'EX_cpd00132_e0': 26.98710901729763, 'EX_cpd00254_e0': 0.3770841949900536, 'EX_cpd00007_e0': 1.1312525849701611, 'EX_cpd00039_e0': 38.35640106449609, 'EX_cpd00393_e0': 1.131252584970161, 'EX_cpd00209_e0': 617.6490486296034, 'EX_cpd00080_e0': 999.9999999999905, 'EX_cpd00024_e0': 488.56117263431287, 'EX_cpd00054_e0': 33.03022915778353, 'EX_cpd00048_e0': 0.3770841949900535, 'EX_cpd00215_e0': 0.3770841949900535, 'EX_cpd00644_e0': 0.7541683899801085, 'EX_cpd00128_e0': 16.69054304592679, 'EX_cpd00100_e0': 241.41138113883338, 'EX_cpd00030_e0': 0.37708419499005363, 'EX_cpd00065_e0': 6.342868194752864, 'EX_cpd00438_e0': 1.7134602693883307, 'EX_cpd03847_e0': 3.360857516508879, 'EX_cpd00122_e0': 19.243801894673226, 'EX_cpd00156_e0': 47.33215794386337, 'EX_cpd00066_e0': 20.763917580936265, 'EX_cpd00119_e0': 10.651231496849151, 'EX_cpd00136_e0': 0.37708419499005363, 'EX_cpd00793_e0': 0.3770841949900535, 'EX_cpd00084_e0': 11.363615427448842, 'EX_cpd00017_e0': 17.55069902417948, 'EX_cpd00220_e0': 1.131252584970161, 'EX_cpd00099_e0': 0.37708419499005363, 'EX_cpd00028_e0': 0.3770841949900536, 'EX_cpd00107_e0': 50.4437536620441, 'EX_cpd00205_e0': 0.3770841949900536}}, 'GCF_001423665.1.RAST.fbamodel': {'media': {'EX_cpd00051_e0': 15.546231065993515, 'EX_cpd10516_e0': 0.5305118836788759, 'EX_cpd00063_e0': 0.1768372945596253, 'EX_cpd00309_e0': 17.317854473758544, 'EX_cpd00058_e0': 0.17683729455962527, 'EX_cpd00179_e0': 40.3927667782, 'EX_cpd00118_e0': 0.1768372945596253, 'EX_cpd00161_e0': 225.7175850942347, 'EX_cpd00104_e0': 0.17683729455962527, 'EX_cpd00034_e0': 0.17683729455962527, 'EX_cpd00069_e0': 7.6047447994300015, 'EX_cpd00149_e0': 0.17683729455962527, 'EX_cpd00264_e0': 0.1768372945596253, 'EX_cpd00322_e0': 13.999690325872457, 'EX_cpd00132_e0': 12.655866806431543, 'EX_cpd00254_e0': 0.17683729455962527, 'EX_cpd00053_e0': 1000.0, 'EX_cpd00218_e0': 0.35367458911917377, 'EX_cpd00007_e0': 549.1734549252873, 'EX_cpd00039_e0': 17.987606702710867, 'EX_cpd00393_e0': 0.5305118836788758, 'EX_cpd00794_e0': 463.0475403893679, 'EX_cpd00080_e0': 51.02790593349494, 'EX_cpd00054_e0': 15.223271445342721, 'EX_cpd00048_e0': 0.1768372945596253, 'EX_cpd00644_e0': 0.35367458911953537, 'EX_cpd00030_e0': 0.1768372945596253, 'EX_cpd00065_e0': 2.974549626345271, 'EX_cpd00060_e0': 8.230570716834249, 'EX_cpd00023_e0': 284.51951103696325, 'EX_cpd00276_e0': 17.354865881922805, 'EX_cpd00156_e0': 22.196875041878776, 'EX_cpd00066_e0': 9.737440757941766, 'EX_cpd00119_e0': 4.994998429145922, 'EX_cpd00793_e0': 0.17683729455962527, 'EX_cpd00084_e0': 4.091216728413201, 'EX_cpd00017_e0': 1.2378610619173769, 'EX_cpd00220_e0': 0.5305118836788947, 'EX_cpd00099_e0': 0.1768372945596253, 'EX_cpd00092_e0': 13.219525378221931, 'EX_cpd00028_e0': 0.17683729455962527, 'EX_cpd00107_e0': 23.656088066123704, 'EX_cpd00205_e0': 0.17683729455962527}}}\n",
    "members_minimal_media_new = {'GCF_001423665.1.RAST.mdl': {'media': {'EX_cpd00138_e0': 1000.0000000000002, 'EX_cpd00254_e0': 0.498421035001218, 'EX_cpd11591_e0': 11.859528514023918, 'EX_cpd00239_e0': 2.705136881975761, 'EX_cpd00080_e0': 457.93893853018636, 'EX_cpd00099_e0': 0.49842103500121815, 'EX_cpd00034_e0': 0.498421035001218, 'EX_cpd10516_e0': 0.498421035001218, 'EX_cpd00071_e0': 999.9999999999999, 'EX_cpd00029_e0': 451.7288820181455, 'EX_cpd15606_e0': 8.189269039361996, 'EX_cpd11640_e0': 182.93388812164787, 'EX_cpd00092_e0': 5.537142336059068, 'EX_cpd00205_e0': 0.498421035001218, 'EX_cpd00793_e0': 0.4984210350012181, 'EX_cpd00027_e0': 1000.0, 'EX_cpd00063_e0': 0.4984210350012181, 'EX_cpd00028_e0': 0.498421035001218, 'EX_cpd00156_e0': 23.691089481666133, 'EX_cpd15605_e0': 12.994043125186936, 'EX_cpd00118_e0': 0.9968420700024362, 'EX_cpd00129_e0': 966.644666593217, 'EX_cpd00132_e0': 10.93917118911086, 'EX_cpd00001_e0': 1000.0, 'EX_cpd00104_e0': 0.498421035001218, 'EX_cpd00309_e0': 12.508951386002742, 'EX_cpd00149_e0': 0.498421035001218, 'EX_cpd00030_e0': 0.4984210350012181, 'EX_cpd10515_e0': 0.9968420700024362, 'EX_cpd15604_e0': 25.625461791066325, 'EX_cpd00048_e0': 0.4984210350012181, 'EX_cpd11584_e0': 6.0437409884590405, 'EX_cpd00007_e0': 999.9999999999998, 'EX_cpd00794_e0': 24.057183336058777, 'EX_cpd00276_e0': 131.85106546739325, 'EX_cpd00058_e0': 0.498421035001218}}, 'GCF_001421425.1.RAST.mdl': {'media': {'EX_cpd00268_e0': 0.5535064062472592, 'EX_cpd01017_e0': 0.959673234896009, 'EX_cpd00367_e0': 8.671531654956295e-12, 'EX_cpd00254_e0': 0.9596732348960085, 'EX_cpd00119_e0': 11.636781070553958, 'EX_cpd00080_e0': 1000.0, 'EX_cpd00099_e0': 0.9596732348960085, 'EX_cpd00209_e0': 207.53494202662617, 'EX_cpd00082_e0': 82.231143580267, 'EX_cpd00034_e0': 0.9596732348960085, 'EX_cpd10516_e0': 0.9596732348960085, 'EX_cpd00307_e0': 10.661362431688817, 'EX_cpd01080_e0': 29.51900787876525, 'EX_cpd00054_e0': 46.046236159515104, 'EX_cpd00205_e0': 0.9596732348960088, 'EX_cpd00793_e0': 0.9596732348960088, 'EX_cpd00179_e0': 48.615999975802296, 'EX_cpd00063_e0': 0.9596732348960086, 'EX_cpd00322_e0': 7.541833153758007e-13, 'EX_cpd00311_e0': 12.55395480116028, 'EX_cpd00028_e0': 0.9596732348960086, 'EX_cpd01914_e0': 24.7540008967814, 'EX_cpd00065_e0': 7.738459411918382, 'EX_cpd00039_e0': 45.96528522868814, 'EX_cpd00051_e0': 27.46280332650734, 'EX_cpd00355_e0': 1.9193464697919935, 'EX_cpd00156_e0': 45.61545938972203, 'EX_cpd00118_e0': 0.9596732348960088, 'EX_cpd00107_e0': 49.33995173914878, 'EX_cpd00136_e0': 0.9596732348960142, 'EX_cpd00128_e0': 21.12784819842611, 'EX_cpd00024_e0': 806.8044258286885, 'EX_cpd00149_e0': 0.9596732348960088, 'EX_cpd00030_e0': 0.9596732348960086, 'EX_cpd10515_e0': 1.9193464697920175, 'EX_cpd00069_e0': 15.767838350600613, 'EX_cpd15603_e0': 4.175200115651611, 'EX_cpd00066_e0': 25.019079301691015, 'EX_cpd00162_e0': 521.1845679304075, 'EX_cpd00264_e0': 0.9596732348960086, 'EX_cpd00033_e0': 106.94745481830026, 'EX_cpd00007_e0': 258.5884620563717, 'EX_cpd00058_e0': 0.9596732348960088}}, 'GCF_001421165.1.RAST.mdl': {'media': {'EX_cpd00254_e0': 0.783610742414813, 'EX_cpd11591_e0': 3.746363783708947, 'EX_cpd00239_e0': 104.25297925152192, 'EX_cpd00080_e0': 136.95338488596707, 'EX_cpd00099_e0': 0.7836107424148129, 'EX_cpd00047_e0': 990.5966710910222, 'EX_cpd00034_e0': 0.783610742414813, 'EX_cpd00137_e0': 377.8837260433707, 'EX_cpd10516_e0': 0.783610742414813, 'EX_cpd00644_e0': 1.5672214848296417, 'EX_cpd15606_e0': 13.658667654395698, 'EX_cpd11640_e0': 94.42071340317025, 'EX_cpd00092_e0': 8.705419539135445, 'EX_cpd00205_e0': 0.783610742414813, 'EX_cpd00793_e0': 0.783610742414813, 'EX_cpd00063_e0': 0.7836107424148129, 'EX_cpd00081_e0': 100.00000000000001, 'EX_cpd00028_e0': 0.783610742414813, 'EX_cpd00158_e0': 477.8008536237634, 'EX_cpd00156_e0': 35.679585759769886, 'EX_cpd15605_e0': 20.429057092810993, 'EX_cpd00118_e0': 0.7836107424148128, 'EX_cpd00129_e0': 498.8108386394637, 'EX_cpd00132_e0': 17.19841550604088, 'EX_cpd00104_e0': 0.783610742414813, 'EX_cpd00149_e0': 0.783610742414813, 'EX_cpd00030_e0': 0.7836107424148129, 'EX_cpd10515_e0': 1.5672214848296258, 'EX_cpd11590_e0': 14.89902493577346, 'EX_cpd15603_e0': 7.706562849019979e-11, 'EX_cpd15604_e0': 40.288000964427255, 'EX_cpd00048_e0': 0.7836107424148129, 'EX_cpd00264_e0': 0.7836107424148133, 'EX_cpd11584_e0': 9.501887019912086, 'EX_cpd00007_e0': 553.5262483408665, 'EX_cpd00794_e0': 37.822375001352455, 'EX_cpd00276_e0': 32.89488285912624, 'EX_cpd00058_e0': 0.783610742414813}}, 'GCF_001423105.1.RAST.mdl': {'media': {'EX_cpd00254_e0': 0.7835210433537692, 'EX_cpd11591_e0': 0.27696356725979354, 'EX_cpd00080_e0': 136.9377079824158, 'EX_cpd00099_e0': 0.7835210433537692, 'EX_cpd00047_e0': 990.5977474797551, 'EX_cpd00082_e0': 594.2904548426725, 'EX_cpd00034_e0': 0.7835210433537693, 'EX_cpd00137_e0': 1.8130052101804912e-11, 'EX_cpd10516_e0': 0.7835210433537693, 'EX_cpd00071_e0': 1000.0, 'EX_cpd00307_e0': 8.704423039322213, 'EX_cpd00644_e0': 1.5670420867073898, 'EX_cpd15606_e0': 12.87358311835685, 'EX_cpd00363_e0': 48.31333410919995, 'EX_cpd00205_e0': 0.7835210433537693, 'EX_cpd00793_e0': 0.7835210433537693, 'EX_cpd00063_e0': 0.7835210433537694, 'EX_cpd00028_e0': 0.7835210433537693, 'EX_cpd01914_e0': 18.36629083505325, 'EX_cpd00156_e0': 35.67550155677489, 'EX_cpd15605_e0': 20.42671860108283, 'EX_cpd00129_e0': 483.2123109212939, 'EX_cpd11580_e0': 5.1750946368034146e-27, 'EX_cpd00132_e0': 17.196446822306935, 'EX_cpd00104_e0': 0.7835210433537693, 'EX_cpd00149_e0': 0.7835210433537692, 'EX_cpd00030_e0': 0.7835210433537694, 'EX_cpd10515_e0': 1.5670420867075385, 'EX_cpd11590_e0': 2.3732666588497296e-13, 'EX_cpd15603_e0': 4.252492417730851, 'EX_cpd15604_e0': 40.2833892412052, 'EX_cpd00048_e0': 0.7835210433537694, 'EX_cpd11584_e0': 9.500799349340848, 'EX_cpd00007_e0': 1000.0, 'EX_cpd00794_e0': 37.81804551562641, 'EX_cpd00276_e0': 509.8298655947992, 'EX_cpd00058_e0': 0.7835210433537693}}, 'GCF_001424595.1.RAST.mdl': {'media': {'EX_cpd00268_e0': 2.3719133207623835, 'EX_cpd00254_e0': 0.8740492949874437, 'EX_cpd11591_e0': 16.415431495585818, 'EX_cpd00080_e0': 152.75953101004956, 'EX_cpd00099_e0': 0.8740492949874437, 'EX_cpd00034_e0': 0.8740492949874439, 'EX_cpd10516_e0': 0.8740492949874439, 'EX_cpd00307_e0': 955.7529952057951, 'EX_cpd00644_e0': 1.7480985899748283, 'EX_cpd15606_e0': 15.23504999051256, 'EX_cpd00205_e0': 0.8740492949874439, 'EX_cpd00793_e0': 0.874049294987444, 'EX_cpd00076_e0': 806.8411854604061, 'EX_cpd00063_e0': 0.8740492949874439, 'EX_cpd01914_e0': 4.381869999807622, 'EX_cpd00156_e0': 39.797459492027244, 'EX_cpd15605_e0': 22.786827671866465, 'EX_cpd00118_e0': 0.8740492949874439, 'EX_cpd00129_e0': 116.36764359880272, 'EX_cpd00024_e0': 1000.0, 'EX_cpd00132_e0': 19.183329342361997, 'EX_cpd00104_e0': 0.8740492949874439, 'EX_cpd00149_e0': 0.8740492949874437, 'EX_cpd00030_e0': 0.8740492949874439, 'EX_cpd10515_e0': 2.6221478849623314, 'EX_cpd15604_e0': 44.93774387382038, 'EX_cpd00048_e0': 0.8740492949874439, 'EX_cpd00264_e0': 0.8740492949874439, 'EX_cpd11584_e0': 10.598524498542542, 'EX_cpd00007_e0': 470.7909722685517, 'EX_cpd00794_e0': 42.1875536095993, 'EX_cpd00058_e0': 0.8740492949874439, 'EX_cpd00393_e0': 2.6221478849623314}}, 'GCF_001421805.1.RAST.mdl': {'media': {'EX_cpd01017_e0': 10.700485800130966, 'EX_cpd00254_e0': 0.8610388716360698, 'EX_cpd00023_e0': 1000.0000000000006, 'EX_cpd11591_e0': 20.722057818712795, 'EX_cpd00184_e0': 1.238074477728952, 'EX_cpd00099_e0': 0.8610388716360698, 'EX_cpd00209_e0': 518.2931311128203, 'EX_cpd00034_e0': 0.8610388716360696, 'EX_cpd00071_e0': 624.8422824857352, 'EX_cpd15606_e0': 14.147233920733749, 'EX_cpd00164_e0': 1.9516530398672764e-12, 'EX_cpd00205_e0': 0.8610388716360696, 'EX_cpd00793_e0': 0.8610388716360696, 'EX_cpd00076_e0': 41.55958224028566, 'EX_cpd00027_e0': 15.116361530625882, 'EX_cpd00063_e0': 0.8610388716360696, 'EX_cpd00028_e0': 0.8610388716360697, 'EX_cpd15605_e0': 22.44764053843362, 'EX_cpd11581_e0': 18.897781104448775, 'EX_cpd00009_e0': 150.48567050722428, 'EX_cpd00149_e0': 0.8610388716360698, 'EX_cpd00030_e0': 0.8610388716360696, 'EX_cpd00100_e0': 151.73851508857973, 'EX_cpd10515_e0': 2.583116614908209, 'EX_cpd00277_e0': 11.263670469805884, 'EX_cpd00048_e0': 10.886634863713224, 'EX_cpd00154_e0': 999.9999999999999, 'EX_cpd11584_e0': 10.440763041131916, 'EX_cpd00007_e0': 160.21062780641898, 'EX_cpd00058_e0': 0.8610388716360697}}}"
   ]
  },
  {
   "cell_type": "code",
   "execution_count": 7,
   "id": "579965d5-f940-49ca-92dc-0a69ee386560",
   "metadata": {},
   "outputs": [
    {
     "name": "stdout",
     "output_type": "stream",
     "text": [
      "GCF_001426165.1.RAST.mdl\n",
      "GCF_001423785.1.RAST.mdl\n",
      "GCF_001422185.1.RAST.mdl\n",
      "GCF_001421235.1_Leaf202.fna_genome.assembly.RAST.mdl\n",
      "GCF_001423565.1_Leaf145.fna_genome.assembly.RAST.mdl\n"
     ]
    }
   ],
   "source": [
    "for mem in MSmodels:\n",
    "    if mem.id not in members_minimal_media_new:\n",
    "        print(mem.id)"
   ]
  },
  {
   "cell_type": "code",
   "execution_count": 13,
   "id": "00013c7a-347d-4aac-8ac1-3a1f5f11dd9c",
   "metadata": {},
   "outputs": [
    {
     "data": {
      "text/plain": [
       "0.0"
      ]
     },
     "execution_count": 13,
     "metadata": {},
     "output_type": "execute_result"
    }
   ],
   "source": [
    "GCF_001423785.slim_optimize()"
   ]
  },
  {
   "cell_type": "code",
   "execution_count": 6,
   "id": "9fa10b90-7e5f-4610-b661-499d98a7394f",
   "metadata": {
    "scrolled": true,
    "tags": []
   },
   "outputs": [
    {
     "name": "stdout",
     "output_type": "stream",
     "text": [
      "The minimal flux media consists of 36 compounds and a 7343.721316392746 total influx, with a growth value of 74.91573984806648\n",
      "The minimal flux media consists of 29 compounds and a 3794.1840181378557 total influx, with a growth value of 129.4194256998054\n",
      "The minimal flux media consists of 35 compounds and a 4981.8759327314465 total influx, with a growth value of 117.76802046332759\n",
      "The minimal flux media consists of 42 compounds and a 3428.0775623865593 total influx, with a growth value of 144.24477571345977\n",
      "The minimal flux media consists of 38 compounds and a 3583.957699501794 total influx, with a growth value of 117.78150278259105\n",
      "The minimal flux media consists of 33 compounds and a 3739.6371153286914 total influx, with a growth value of 131.37497216084498\n",
      "The minimal media of all members:\n",
      "{'GCF_001423665.1.RAST.mdl': {'media': {'EX_cpd00239_e0': 2.7051368819757426, 'EX_cpd15606_e0': 8.189269039362008, 'EX_cpd15604_e0': 25.62546179106636, 'EX_cpd00029_e0': 451.7288820176295, 'EX_cpd00058_e0': 0.49842103500121876, 'EX_cpd11591_e0': 11.859528514023935, 'EX_cpd00034_e0': 0.49842103500121876, 'EX_cpd10516_e0': 0.49842103500121876, 'EX_cpd10515_e0': 0.9968420700024376, 'EX_cpd00118_e0': 0.9968420700024376, 'EX_cpd00080_e0': 457.9389385301861, 'EX_cpd00048_e0': 0.4984210350012188, 'EX_cpd00104_e0': 0.49842103500121876, 'EX_cpd00063_e0': 0.4984210350012188, 'EX_cpd11640_e0': 182.93388812130894, 'EX_cpd00149_e0': 0.4984210350012187, 'EX_cpd00156_e0': 23.69108948166615, 'EX_cpd00309_e0': 12.50895138600171, 'EX_cpd00030_e0': 0.4984210350012188, 'EX_cpd00276_e0': 131.85106546642294, 'EX_cpd00027_e0': 1000.0, 'EX_cpd00205_e0': 0.49842103500121876, 'EX_cpd00071_e0': 999.9999999999999, 'EX_cpd15605_e0': 12.994043125186952, 'EX_cpd00028_e0': 0.49842103500121876, 'EX_cpd00001_e0': 1000.0, 'EX_cpd11584_e0': 6.0437409884590485, 'EX_cpd00138_e0': 1000.0000000000002, 'EX_cpd00099_e0': 0.4984210350012188, 'EX_cpd00007_e0': 999.9999999999998, 'EX_cpd00132_e0': 10.939171189110876, 'EX_cpd00254_e0': 0.4984210350012187, 'EX_cpd00092_e0': 5.537142336059069, 'EX_cpd00794_e0': 24.057183336058813, 'EX_cpd00129_e0': 966.6446665932066, 'EX_cpd00793_e0': 0.49842103500121887}}, 'GCF_001421805.1.RAST.mdl': {'media': {'EX_cpd00100_e0': 151.73851508857996, 'EX_cpd00076_e0': 41.559582240287384, 'EX_cpd00009_e0': 150.48567050722582, 'EX_cpd15606_e0': 14.147233920733761, 'EX_cpd00058_e0': 0.8610388716360706, 'EX_cpd00154_e0': 999.9999999999999, 'EX_cpd11591_e0': 20.72205781871271, 'EX_cpd00034_e0': 0.8610388716360706, 'EX_cpd10515_e0': 2.583116614908212, 'EX_cpd00023_e0': 999.9999999999926, 'EX_cpd00048_e0': 10.886634863713246, 'EX_cpd00063_e0': 0.8610388716360706, 'EX_cpd01017_e0': 10.700485800130913, 'EX_cpd00149_e0': 0.8610388716360706, 'EX_cpd00030_e0': 0.8610388716360706, 'EX_cpd11581_e0': 18.897781104448793, 'EX_cpd00205_e0': 0.8610388716360704, 'EX_cpd00027_e0': 15.116361530624998, 'EX_cpd00071_e0': 624.8422824858121, 'EX_cpd15605_e0': 22.447640538433642, 'EX_cpd00028_e0': 0.8610388716360706, 'EX_cpd00277_e0': 11.263670469805904, 'EX_cpd11584_e0': 10.440763041131925, 'EX_cpd00099_e0': 0.8610388716360705, 'EX_cpd00209_e0': 518.2931311127984, 'EX_cpd00007_e0': 160.21062780642515, 'EX_cpd00254_e0': 0.8610388716360705, 'EX_cpd00184_e0': 1.238074477728986, 'EX_cpd00793_e0': 0.8610388716360705}}, 'GCF_001423105.1.RAST.mdl': {'media': {'EX_cpd15603_e0': 4.252492417730891, 'EX_cpd00047_e0': 990.5977474797548, 'EX_cpd00363_e0': 48.3133341092004, 'EX_cpd15606_e0': 12.873583118356967, 'EX_cpd15604_e0': 40.283389241205576, 'EX_cpd00644_e0': 1.5670420867074042, 'EX_cpd01914_e0': 18.3662908350526, 'EX_cpd00058_e0': 0.7835210433537764, 'EX_cpd11591_e0': 0.27696356726061616, 'EX_cpd11587_e0': 5.525275083199947e-27, 'EX_cpd00307_e0': 8.704423039322844, 'EX_cpd00034_e0': 0.7835210433537764, 'EX_cpd10516_e0': 0.7835210433537764, 'EX_cpd10515_e0': 1.567042086707553, 'EX_cpd00080_e0': 136.93770798241374, 'EX_cpd00048_e0': 0.7835210433537766, 'EX_cpd00104_e0': 0.7835210433537764, 'EX_cpd00063_e0': 0.7835210433537766, 'EX_cpd00149_e0': 0.7835210433537763, 'EX_cpd00156_e0': 35.67550155677522, 'EX_cpd00030_e0': 0.7835210433537766, 'EX_cpd00276_e0': 509.8298655949868, 'EX_cpd00205_e0': 0.7835210433537764, 'EX_cpd00071_e0': 1000.0, 'EX_cpd15605_e0': 20.426718601083017, 'EX_cpd00028_e0': 0.7835210433537764, 'EX_cpd11584_e0': 9.500799349340937, 'EX_cpd00099_e0': 0.7835210433537763, 'EX_cpd00007_e0': 1000.0, 'EX_cpd00132_e0': 17.196446822307095, 'EX_cpd00254_e0': 0.7835210433537763, 'EX_cpd00794_e0': 37.81804551562676, 'EX_cpd00129_e0': 483.2123109213441, 'EX_cpd00082_e0': 594.2904548426691, 'EX_cpd00793_e0': 0.7835210433537764}}, 'GCF_001421425.1.RAST.mdl': {'media': {'EX_cpd00033_e0': 106.94745481829504, 'EX_cpd15603_e0': 4.175200115658184, 'EX_cpd00268_e0': 0.5535064062407739, 'EX_cpd00179_e0': 48.615999975802815, 'EX_cpd00065_e0': 7.738459411918382, 'EX_cpd00119_e0': 11.636781070553958, 'EX_cpd00024_e0': 806.804425828703, 'EX_cpd01914_e0': 24.754000896781328, 'EX_cpd00058_e0': 0.9596732348960086, 'EX_cpd00307_e0': 10.661362431688817, 'EX_cpd00034_e0': 0.9596732348960085, 'EX_cpd10516_e0': 0.9596732348960085, 'EX_cpd10515_e0': 1.9193464697920175, 'EX_cpd00118_e0': 0.9596732348960088, 'EX_cpd00080_e0': 1000.0, 'EX_cpd00054_e0': 46.046236159508496, 'EX_cpd00107_e0': 49.33995173914878, 'EX_cpd00063_e0': 0.9596732348960086, 'EX_cpd01080_e0': 29.51900787876525, 'EX_cpd01017_e0': 0.959673234896009, 'EX_cpd00149_e0': 0.9596732348960088, 'EX_cpd00156_e0': 45.61545938972213, 'EX_cpd00367_e0': 5.410810287522461e-12, 'EX_cpd00069_e0': 15.767838350600613, 'EX_cpd00264_e0': 0.9596732348960086, 'EX_cpd00030_e0': 0.9596732348960086, 'EX_cpd00355_e0': 1.9193464697919935, 'EX_cpd00066_e0': 25.019079301691015, 'EX_cpd00205_e0': 0.9596732348960088, 'EX_cpd00028_e0': 0.9596732348960086, 'EX_cpd00099_e0': 0.9596732348960085, 'EX_cpd00209_e0': 207.53494202663975, 'EX_cpd00051_e0': 27.46280332650734, 'EX_cpd00007_e0': 258.5884620563635, 'EX_cpd00311_e0': 12.55395480116064, 'EX_cpd00254_e0': 0.9596732348960085, 'EX_cpd00128_e0': 21.127848198427326, 'EX_cpd00162_e0': 521.1845679303979, 'EX_cpd00136_e0': 0.9596732348960132, 'EX_cpd00082_e0': 82.23114358026714, 'EX_cpd00793_e0': 0.9596732348960088, 'EX_cpd00039_e0': 45.96528522868814}}, 'GCF_001421165.1.RAST.mdl': {'media': {'EX_cpd15603_e0': 4.255765733506098e-12, 'EX_cpd00137_e0': 377.8837260434886, 'EX_cpd00047_e0': 990.5966710910222, 'EX_cpd00239_e0': 104.25297925159371, 'EX_cpd11590_e0': 14.899024935702542, 'EX_cpd15606_e0': 13.658667654395698, 'EX_cpd15604_e0': 40.288000964427255, 'EX_cpd00644_e0': 1.5672214848296087, 'EX_cpd00058_e0': 0.783610742414813, 'EX_cpd00158_e0': 477.80085362365196, 'EX_cpd11591_e0': 3.7463637837793966, 'EX_cpd00034_e0': 0.783610742414813, 'EX_cpd10516_e0': 0.783610742414813, 'EX_cpd10515_e0': 1.5672214848296258, 'EX_cpd00118_e0': 0.7836107424148098, 'EX_cpd00080_e0': 136.95338488597451, 'EX_cpd00048_e0': 0.7836107424148129, 'EX_cpd00104_e0': 0.783610742414813, 'EX_cpd00063_e0': 0.7836107424148129, 'EX_cpd11640_e0': 94.42071340316961, 'EX_cpd00149_e0': 0.783610742414813, 'EX_cpd00156_e0': 35.679585759769886, 'EX_cpd00264_e0': 0.7836107424148162, 'EX_cpd00030_e0': 0.7836107424148129, 'EX_cpd00081_e0': 100.00000000000001, 'EX_cpd00276_e0': 32.89488285944205, 'EX_cpd00205_e0': 0.783610742414813, 'EX_cpd15605_e0': 20.429057092810993, 'EX_cpd00028_e0': 0.783610742414813, 'EX_cpd11584_e0': 9.501887019912086, 'EX_cpd00099_e0': 0.7836107424148129, 'EX_cpd00007_e0': 553.5262483408665, 'EX_cpd00132_e0': 17.19841550604088, 'EX_cpd00254_e0': 0.783610742414813, 'EX_cpd00092_e0': 8.705419539135448, 'EX_cpd00794_e0': 37.822375001352455, 'EX_cpd00129_e0': 498.81083863937044, 'EX_cpd00793_e0': 0.783610742414813}}, 'GCF_001424595.1.RAST.mdl': {'media': {'EX_cpd00076_e0': 806.8411854605561, 'EX_cpd00268_e0': 2.371913320762337, 'EX_cpd00024_e0': 1000.0, 'EX_cpd15606_e0': 15.235049990512529, 'EX_cpd15604_e0': 44.937743873820224, 'EX_cpd00644_e0': 1.7480985899748254, 'EX_cpd01914_e0': 4.381869999813214, 'EX_cpd00058_e0': 0.8740492949874408, 'EX_cpd11591_e0': 16.41543149558024, 'EX_cpd00307_e0': 955.752995205986, 'EX_cpd00034_e0': 0.8740492949874408, 'EX_cpd10516_e0': 0.8740492949874408, 'EX_cpd10515_e0': 2.6221478849623217, 'EX_cpd00118_e0': 0.8740492949874408, 'EX_cpd00080_e0': 152.75953101006746, 'EX_cpd00048_e0': 0.8740492949874407, 'EX_cpd00104_e0': 0.8740492949874408, 'EX_cpd00063_e0': 0.8740492949874407, 'EX_cpd00149_e0': 0.8740492949874406, 'EX_cpd00156_e0': 39.797459492027095, 'EX_cpd00264_e0': 0.8740492949874408, 'EX_cpd00030_e0': 0.8740492949874407, 'EX_cpd00205_e0': 0.8740492949874408, 'EX_cpd15605_e0': 22.786827671866384, 'EX_cpd11584_e0': 10.598524498542504, 'EX_cpd00099_e0': 0.8740492949874406, 'EX_cpd00007_e0': 470.79097226857573, 'EX_cpd00393_e0': 2.622147884962322, 'EX_cpd00132_e0': 19.183329342361926, 'EX_cpd00254_e0': 0.8740492949874406, 'EX_cpd00794_e0': 42.18755360959915, 'EX_cpd00129_e0': 116.36764359889771, 'EX_cpd00793_e0': 0.8740492949874408}}}\n",
      "\n",
      "Examining the 55 model pairs\n",
      "cpd11416_c0 bio1: 0.5 cpd11416_c1 + 0.5 cpd11416_c2 --> cpd11416_c0;\tcpd11416_c0 SK_cpd11416_c0: cpd11416_c0 <=> ;\tMainProcess~~0\t['GCF_001423665.1.RAST.mdl', 'GCF_001423785.1.RAST.mdl']\n",
      "\tEnvironment\tR2A_M\tThe GCF_001423785.1.RAST.mdl model input does not yield an operational model, and will therefore be gapfilled.\n"
     ]
    },
    {
     "name": "stderr",
     "output_type": "stream",
     "text": [
      "C:\\Users\\Andrew Freiburger\\AppData\\Local\\Programs\\Python\\Python39\\lib\\site-packages\\sigfig\\sigfig.py:586: UserWarning: warning: 5 significant figures requested from number with only 1 significant figures\n",
      "  warn(\"warning: %d significant figures requested from number with only %d significant figures\" % (given['sigfigs'], len(num.map)))\n"
     ]
    },
    {
     "ename": "AttributeError",
     "evalue": "'NoneType' object has no attribute 'keys'",
     "output_type": "error",
     "traceback": [
      "\u001b[1;31m---------------------------------------------------------------------------\u001b[0m",
      "\u001b[1;31mAttributeError\u001b[0m                            Traceback (most recent call last)",
      "Cell \u001b[1;32mIn[6], line 3\u001b[0m\n\u001b[0;32m      1\u001b[0m get_ipython()\u001b[38;5;241m.\u001b[39mrun_line_magic(\u001b[38;5;124m'\u001b[39m\u001b[38;5;124mrun\u001b[39m\u001b[38;5;124m'\u001b[39m, \u001b[38;5;124m'\u001b[39m\u001b[38;5;124m../../../modelseedpy/community/commscores.py\u001b[39m\u001b[38;5;124m'\u001b[39m)\n\u001b[0;32m      2\u001b[0m \u001b[38;5;66;03m# from modelseedpy import MSCompatibility\u001b[39;00m\n\u001b[1;32m----> 3\u001b[0m df, mets \u001b[38;5;241m=\u001b[39m \u001b[43mCommScores\u001b[49m\u001b[38;5;241;43m.\u001b[39;49m\u001b[43mkbase_output\u001b[49m\u001b[43m(\u001b[49m\u001b[43mMSmodels\u001b[49m\u001b[43m,\u001b[49m\u001b[43m \u001b[49m\u001b[43menvironments\u001b[49m\u001b[38;5;241;43m=\u001b[39;49m\u001b[43mkbase_api\u001b[49m\u001b[38;5;241;43m.\u001b[39;49m\u001b[43mget_from_ws\u001b[49m\u001b[43m(\u001b[49m\u001b[38;5;124;43m\"\u001b[39;49m\u001b[38;5;124;43m154981/21/1\u001b[39;49m\u001b[38;5;124;43m\"\u001b[39;49m\u001b[43m)\u001b[49m\u001b[43m,\u001b[49m\u001b[43m \u001b[49m\u001b[43mkbase_obj\u001b[49m\u001b[38;5;241;43m=\u001b[39;49m\u001b[43mkbase_api\u001b[49m\u001b[43m,\u001b[49m\u001b[43m \u001b[49m\u001b[43mannotated_genomes\u001b[49m\u001b[38;5;241;43m=\u001b[39;49m\u001b[38;5;28;43;01mTrue\u001b[39;49;00m\u001b[43m,\u001b[49m\u001b[43m \u001b[49m\u001b[43mskip_bad_media\u001b[49m\u001b[38;5;241;43m=\u001b[39;49m\u001b[38;5;28;43;01mTrue\u001b[39;49;00m\u001b[43m,\u001b[49m\u001b[43m \u001b[49m\u001b[43mprint_progress\u001b[49m\u001b[38;5;241;43m=\u001b[39;49m\u001b[38;5;28;43;01mTrue\u001b[39;49;00m\u001b[43m)\u001b[49m \u001b[38;5;66;03m#, pool_size=cpu_count()/2)[0])\u001b[39;00m\n\u001b[0;32m      5\u001b[0m \u001b[38;5;28;01mfrom\u001b[39;00m \u001b[38;5;21;01mpprint\u001b[39;00m \u001b[38;5;28;01mimport\u001b[39;00m pprint\n\u001b[0;32m      6\u001b[0m display(df)\n",
      "File \u001b[1;32m~\\Documents\\Argonne\\ModelSEED\\ModelSEEDpy\\modelseedpy\\community\\commscores.py:449\u001b[0m, in \u001b[0;36mCommScores.kbase_output\u001b[1;34m(all_models, pairs, mem_media, pair_limit, exclude_pairs, kbase_obj, annotated_genomes, see_media, environments, pool_size, cip_score, costless, skip_bad_media, anme_comm, print_progress)\u001b[0m\n\u001b[0;32m    447\u001b[0m     series \u001b[38;5;241m=\u001b[39m chain\u001b[38;5;241m.\u001b[39mfrom_iterable([ele[\u001b[38;5;241m0\u001b[39m] \u001b[38;5;28;01mfor\u001b[39;00m ele \u001b[38;5;129;01min\u001b[39;00m output])\n\u001b[0;32m    448\u001b[0m     mets \u001b[38;5;241m=\u001b[39m chain\u001b[38;5;241m.\u001b[39mfrom_iterable([ele[\u001b[38;5;241m1\u001b[39m] \u001b[38;5;28;01mfor\u001b[39;00m ele \u001b[38;5;129;01min\u001b[39;00m output])\n\u001b[1;32m--> 449\u001b[0m \u001b[38;5;28;01melse\u001b[39;00m:  series, mets \u001b[38;5;241m=\u001b[39m \u001b[43mCommScores\u001b[49m\u001b[38;5;241;43m.\u001b[39;49m\u001b[43mcalculate_scores\u001b[49m\u001b[43m(\u001b[49m\u001b[43mpairs\u001b[49m\u001b[43m,\u001b[49m\u001b[43m \u001b[49m\u001b[43mmodels_media\u001b[49m\u001b[43m,\u001b[49m\u001b[43m \u001b[49m\u001b[43menvironments\u001b[49m\u001b[43m,\u001b[49m\u001b[43m \u001b[49m\u001b[43mannotated_genomes\u001b[49m\u001b[43m,\u001b[49m\u001b[43m \u001b[49m\u001b[43mlazy_load\u001b[49m\u001b[43m,\u001b[49m\n\u001b[0;32m    450\u001b[0m \u001b[43m                                                  \u001b[49m\u001b[43mkbase_obj\u001b[49m\u001b[43m,\u001b[49m\u001b[43m \u001b[49m\u001b[43mcip_score\u001b[49m\u001b[43m,\u001b[49m\u001b[43m \u001b[49m\u001b[43mcostless\u001b[49m\u001b[43m,\u001b[49m\u001b[43m \u001b[49m\u001b[43mskip_bad_media\u001b[49m\u001b[43m,\u001b[49m\u001b[43m \u001b[49m\u001b[43manme_comm\u001b[49m\u001b[43m,\u001b[49m\u001b[43m \u001b[49m\u001b[43mprint_progress\u001b[49m\u001b[43m)\u001b[49m\n\u001b[0;32m    451\u001b[0m \u001b[38;5;28;01mreturn\u001b[39;00m concat(series, axis\u001b[38;5;241m=\u001b[39m\u001b[38;5;241m1\u001b[39m)\u001b[38;5;241m.\u001b[39mT, mets\n",
      "File \u001b[1;32m~\\Documents\\Argonne\\ModelSEED\\ModelSEEDpy\\modelseedpy\\community\\commscores.py:331\u001b[0m, in \u001b[0;36mCommScores.calculate_scores\u001b[1;34m(pairs, models_media, environments, annotated_genomes, lazy_load, kbase_obj, cip_score, costless, skip_bad_media, anme_comm, print_progress)\u001b[0m\n\u001b[0;32m    329\u001b[0m kbase_dic\u001b[38;5;241m.\u001b[39mupdate({\u001b[38;5;124m\"\u001b[39m\u001b[38;5;124mmedia\u001b[39m\u001b[38;5;124m\"\u001b[39m: environName, \u001b[38;5;124m\"\u001b[39m\u001b[38;5;124mmodel1 growth\u001b[39m\u001b[38;5;124m\"\u001b[39m: g1, \u001b[38;5;124m\"\u001b[39m\u001b[38;5;124mmodel2 growth\u001b[39m\u001b[38;5;124m\"\u001b[39m: g2, \u001b[38;5;124m\"\u001b[39m\u001b[38;5;124mcommunity growth\u001b[39m\u001b[38;5;124m\"\u001b[39m: comm})\n\u001b[0;32m    330\u001b[0m \u001b[38;5;66;03m# define the MRO content\u001b[39;00m\n\u001b[1;32m--> 331\u001b[0m mro_values \u001b[38;5;241m=\u001b[39m \u001b[43mCommScores\u001b[49m\u001b[38;5;241;43m.\u001b[39;49m\u001b[43mmro\u001b[49m\u001b[43m(\u001b[49m\u001b[43mgrouping\u001b[49m\u001b[43m,\u001b[49m\u001b[43m \u001b[49m\u001b[43mmodels_media\u001b[49m\u001b[43m,\u001b[49m\u001b[43m \u001b[49m\u001b[43mraw_content\u001b[49m\u001b[38;5;241;43m=\u001b[39;49m\u001b[38;5;28;43;01mTrue\u001b[39;49;00m\u001b[43m,\u001b[49m\u001b[43m \u001b[49m\u001b[43menvironment\u001b[49m\u001b[38;5;241;43m=\u001b[39;49m\u001b[43menviron\u001b[49m\u001b[43m)\u001b[49m\n\u001b[0;32m    332\u001b[0m kbase_dic\u001b[38;5;241m.\u001b[39mupdate({\u001b[38;5;124mf\u001b[39m\u001b[38;5;124m\"\u001b[39m\u001b[38;5;124mMRO_model\u001b[39m\u001b[38;5;132;01m{\u001b[39;00mmodelIDs\u001b[38;5;241m.\u001b[39mindex(models_string\u001b[38;5;241m.\u001b[39msplit(\u001b[38;5;124m'\u001b[39m\u001b[38;5;124m--\u001b[39m\u001b[38;5;124m'\u001b[39m)[\u001b[38;5;241m0\u001b[39m])\u001b[38;5;241m+\u001b[39m\u001b[38;5;241m1\u001b[39m\u001b[38;5;132;01m}\u001b[39;00m\u001b[38;5;124m\"\u001b[39m:\n\u001b[0;32m    333\u001b[0m                   \u001b[38;5;124mf\u001b[39m\u001b[38;5;124m\"\u001b[39m\u001b[38;5;132;01m{\u001b[39;00m\u001b[38;5;241m100\u001b[39m\u001b[38;5;241m*\u001b[39m\u001b[38;5;28mlen\u001b[39m(intersection)\u001b[38;5;241m/\u001b[39m\u001b[38;5;28mlen\u001b[39m(memMedia)\u001b[38;5;132;01m:\u001b[39;00m\u001b[38;5;124m.3f\u001b[39m\u001b[38;5;132;01m}\u001b[39;00m\u001b[38;5;124m% (\u001b[39m\u001b[38;5;132;01m{\u001b[39;00m\u001b[38;5;28mlen\u001b[39m(intersection)\u001b[38;5;132;01m}\u001b[39;00m\u001b[38;5;124m/\u001b[39m\u001b[38;5;132;01m{\u001b[39;00m\u001b[38;5;28mlen\u001b[39m(memMedia)\u001b[38;5;132;01m}\u001b[39;00m\u001b[38;5;124m)\u001b[39m\u001b[38;5;124m\"\u001b[39m\n\u001b[0;32m    334\u001b[0m                   \u001b[38;5;28;01mfor\u001b[39;00m models_string, (intersection, memMedia) \u001b[38;5;129;01min\u001b[39;00m mro_values\u001b[38;5;241m.\u001b[39mitems()})\n\u001b[0;32m    335\u001b[0m mets\u001b[38;5;241m.\u001b[39mappend({\u001b[38;5;124m\"\u001b[39m\u001b[38;5;124mMRO metabolites\u001b[39m\u001b[38;5;124m\"\u001b[39m: \u001b[38;5;28mlist\u001b[39m(mro_values\u001b[38;5;241m.\u001b[39mvalues())[\u001b[38;5;241m0\u001b[39m][\u001b[38;5;241m0\u001b[39m]})\n",
      "File \u001b[1;32m~\\Documents\\Argonne\\ModelSEED\\ModelSEEDpy\\modelseedpy\\community\\commscores.py:468\u001b[0m, in \u001b[0;36mCommScores.mro\u001b[1;34m(member_models, mem_media, min_growth, media_dict, raw_content, environment, skip_bad_media, printing, compatibilized)\u001b[0m\n\u001b[0;32m    466\u001b[0m mro_values \u001b[38;5;241m=\u001b[39m {}\n\u001b[0;32m    467\u001b[0m \u001b[38;5;28;01mfor\u001b[39;00m model1, model2 \u001b[38;5;129;01min\u001b[39;00m combinations(member_models, \u001b[38;5;241m2\u001b[39m):\n\u001b[1;32m--> 468\u001b[0m     intersection \u001b[38;5;241m=\u001b[39m \u001b[38;5;28mset\u001b[39m(mem_media[model1\u001b[38;5;241m.\u001b[39mid][\u001b[38;5;124m\"\u001b[39m\u001b[38;5;124mmedia\u001b[39m\u001b[38;5;124m\"\u001b[39m]\u001b[38;5;241m.\u001b[39mkeys()) \u001b[38;5;241m&\u001b[39m \u001b[38;5;28mset\u001b[39m(\u001b[43mmem_media\u001b[49m\u001b[43m[\u001b[49m\u001b[43mmodel2\u001b[49m\u001b[38;5;241;43m.\u001b[39;49m\u001b[43mid\u001b[49m\u001b[43m]\u001b[49m\u001b[43m[\u001b[49m\u001b[38;5;124;43m\"\u001b[39;49m\u001b[38;5;124;43mmedia\u001b[39;49m\u001b[38;5;124;43m\"\u001b[39;49m\u001b[43m]\u001b[49m\u001b[38;5;241;43m.\u001b[39;49m\u001b[43mkeys\u001b[49m())\n\u001b[0;32m    469\u001b[0m     inter \u001b[38;5;241m=\u001b[39m [ex\u001b[38;5;241m.\u001b[39mreplace(\u001b[38;5;124m\"\u001b[39m\u001b[38;5;124mEX_\u001b[39m\u001b[38;5;124m\"\u001b[39m, \u001b[38;5;124m\"\u001b[39m\u001b[38;5;124m\"\u001b[39m)\u001b[38;5;241m.\u001b[39mreplace(\u001b[38;5;124m\"\u001b[39m\u001b[38;5;124m_e0\u001b[39m\u001b[38;5;124m\"\u001b[39m, \u001b[38;5;124m\"\u001b[39m\u001b[38;5;124m\"\u001b[39m) \u001b[38;5;28;01mfor\u001b[39;00m ex \u001b[38;5;129;01min\u001b[39;00m intersection]\n\u001b[0;32m    470\u001b[0m     m1_media \u001b[38;5;241m=\u001b[39m mem_media[model1\u001b[38;5;241m.\u001b[39mid][\u001b[38;5;124m\"\u001b[39m\u001b[38;5;124mmedia\u001b[39m\u001b[38;5;124m\"\u001b[39m] ; m2_media \u001b[38;5;241m=\u001b[39m mem_media[model2\u001b[38;5;241m.\u001b[39mid][\u001b[38;5;124m\"\u001b[39m\u001b[38;5;124mmedia\u001b[39m\u001b[38;5;124m\"\u001b[39m]\n",
      "\u001b[1;31mAttributeError\u001b[0m: 'NoneType' object has no attribute 'keys'"
     ]
    }
   ],
   "source": [
    "%run ../../../modelseedpy/community/commscores.py\n",
    "# from modelseedpy import MSCompatibility\n",
    "df, mets = CommScores.report_generation(MSmodels, environments=kbase_api.get_from_ws(\"154981/21/1\"), kbase_obj=kbase_api, annotated_genomes=True, skip_bad_media=True, print_progress=True) #, pool_size=cpu_count()/2)[0])\n",
    "\n",
    "from pprint import pprint\n",
    "display(df)\n",
    "df.to_csv(\"commscores_report.csv\")\n",
    "\n",
    "%run ../../../modelseedpy/core/report.py\n",
    "report = commscores_report(df, mets, msdb_path=r\"C:\\Users\\Andrew Freiburger\\Documents\\Argonne\\ModelSEED\\ModelSEEDDatabase\")"
   ]
  },
  {
   "cell_type": "code",
   "execution_count": 12,
   "id": "976a50b1-68cb-4967-bc54-c0fc201d8002",
   "metadata": {
    "scrolled": true,
    "tags": []
   },
   "outputs": [],
   "source": [
    "%run ../../../modelseedpy/core/report.py\n",
    "report = commscores_report(df, mets, msdb_path=r\"C:\\Users\\Andrew Freiburger\\Documents\\Argonne\\ModelSEED\\ModelSEEDDatabase\")"
   ]
  },
  {
   "cell_type": "code",
   "execution_count": 13,
   "id": "c4aeab1e-a220-4cd7-bdcf-4991e89b4b3b",
   "metadata": {},
   "outputs": [],
   "source": [
    "GCF_001421235_genome = kbase_api.get_from_ws(GCF_001421235.genome_ref)\n",
    "GCF_001423105_genome = kbase_api.get_from_ws(GCF_001423105.genome_ref)"
   ]
  },
  {
   "cell_type": "code",
   "execution_count": null,
   "id": "8ae05ee6-b982-40ce-a9d4-a20e3c6a77d7",
   "metadata": {
    "scrolled": true,
    "tags": []
   },
   "outputs": [],
   "source": [
    "for feature in GCF_001423105_genome.features:\n",
    "    # print(dir(feature))\n",
    "    for key, val in feature.ontology_terms.items():\n",
    "        print(key, val)\n",
    "        if key == 'SSO':  print(val)\n",
    "    \n",
    "for feature in GCF_001421235_genome.features:\n",
    "    # print(dir(feature))\n",
    "    for key, val in feature.ontology_terms.items():\n",
    "        print(key, val)\n",
    "        if key == 'SSO':  print(val)\n",
    "    "
   ]
  },
  {
   "cell_type": "code",
   "execution_count": null,
   "id": "60517806-8f0a-4bd4-a65b-22c47fd222c6",
   "metadata": {
    "scrolled": true,
    "tags": []
   },
   "outputs": [],
   "source": [
    "from pandas import DataFrame\n",
    "\n",
    "mets_df = DataFrame(mets)\n",
    "mets_df\n",
    "\n",
    "# print(len([metIDs for met in mets for kind, metIDs in met.items() if kind == \"mip_mets\"]))\n",
    "# print(len([metIDs for met in mets for kind, metIDs in met.items() if kind == \"mro_mets\"]))\n",
    "# mets_for_df = {\"MRO metabolites\": [metIDs for met in mets for kind, metIDs in met.items() if kind == \"mro_mets\"], \"MIP metabolites\": [metIDs for met in mets for kind, metIDs in met.items() if kind == \"mip_mets\"]}\n",
    "# mets_df = DataFrame(data=mets_for_df)"
   ]
  },
  {
   "cell_type": "code",
   "execution_count": null,
   "id": "ba0f271c-e1d9-4639-b25a-8fa24e538d96",
   "metadata": {},
   "outputs": [],
   "source": [
    "from pandas import set_option\n",
    "\n",
    "set_option('max_colwidth', 0)\n",
    "\n",
    "refined_mets_df = DataFrame(data={\"MRO metabolites\": processed_mets})\n",
    "display(refined_mets_df)"
   ]
  },
  {
   "cell_type": "code",
   "execution_count": null,
   "id": "95aa355f-69bb-48cc-bd80-bc44e3a10d5e",
   "metadata": {
    "scrolled": true,
    "tags": []
   },
   "outputs": [],
   "source": [
    "processed_mets = []\n",
    "for met in mets:\n",
    "    string = \"\"\n",
    "    for index, metID in enumerate(met[\"MRO metabolites\"]):\n",
    "        index += 1\n",
    "        if index%4 == 0:  string += f\"{metID}\\n\"\n",
    "        else:  string += f\"{metID}, \"\n",
    "    print(string)\n",
    "    print()\n",
    "    processed_mets.append(string)\n",
    "    # delimited_mets = \", \".join(met[\"MRO metabolites\"])\n",
    "    # broken_mets = \n",
    "    # print(\"\\n\".join(met[\"MRO metabolites\"]))\n",
    "# display({\"MRO metabolites\": [\"\\n\".join(met[\"MRO metabolites\"]) for met in mets]})"
   ]
  },
  {
   "cell_type": "code",
   "execution_count": null,
   "id": "15099e87-3d93-4229-b598-0bdf75300a22",
   "metadata": {},
   "outputs": [],
   "source": [
    "processed_mro_mets = [\", \".join(met[\"MRO metabolites\"]) for met in mets]\n",
    "refined_mets_df = DataFrame(data={\"MRO metabolites\": processed_mro_mets})\n",
    "# refined_mets_df[\"MRO metabolites\"] = refined_mets_df[\"MRO metabolites\"].str.wrap(100)\n",
    "display(refined_mets_df[\"MRO metabolites\"])\n"
   ]
  },
  {
   "cell_type": "code",
   "execution_count": null,
   "id": "3bc4bc0d-6392-4e86-af25-82a91776e447",
   "metadata": {},
   "outputs": [],
   "source": [
    "report = commscores_report(df, mets)"
   ]
  },
  {
   "cell_type": "code",
   "execution_count": null,
   "id": "adf5b0ee-6d9c-4339-8b3b-9bf76f1d424e",
   "metadata": {},
   "outputs": [],
   "source": [
    "Environment0 = {'cpd00063': 1000, 'cpd00099': 1000, 'cpd00149': 1000, 'cpd00058': 1000, 'cpd10515': 1000, 'cpd10516': 1000, 'cpd00001': 1000, 'cpd00205': 1000, 'cpd00254': 1000, 'cpd00030': 1000, 'cpd11574': 1000, 'cpd00971': 1000, 'cpd00013': 1000, 'cpd00244': 1000, 'cpd00007': 1000, 'cpd00009': 1000, 'cpd00048': 1000, 'cpd00034': 1000, 'cpd00305': 1000, 'cpd00104': 1000, 'cpd00220': 1000, 'cpd00215': 1000, 'cpd00635': 1000, 'cpd00541': 1000, 'cpd00393': 1000, 'cpd00644': 1000, 'cpd00218': 1000, 'cpd00443': 1000, 'cpd00027': 1000}\n"
   ]
  },
  {
   "cell_type": "markdown",
   "id": "46a3b5b8-75a8-4bf3-b0bb-0e51b851c529",
   "metadata": {},
   "source": [
    "# Test mets object"
   ]
  },
  {
   "cell_type": "code",
   "execution_count": null,
   "id": "eafee99d-53f5-4509-9551-e2fb78c832b9",
   "metadata": {},
   "outputs": [],
   "source": [
    "mets = [{\"mro_mets\": list(mro_values.values()), \"mip_mets\": mip_values[0]}]"
   ]
  },
  {
   "cell_type": "markdown",
   "id": "126ce669",
   "metadata": {},
   "source": [
    "# confirm that the curated models simulate"
   ]
  },
  {
   "cell_type": "code",
   "execution_count": 7,
   "id": "e2a3c6ad",
   "metadata": {},
   "outputs": [],
   "source": [
    "import os\n",
    "local_cobrakbase_path = os.path.join('C:', 'Users', 'Andrew Freiburger','Documents','Argonne','cobrakbase')\n",
    "os.environ[\"HOME\"] = local_cobrakbase_path\n",
    "\n",
    "# import the KBase\n",
    "import cobrakbase\n",
    "# with open(\"/Users/afreiburger/Documents/kbase_token.txt\") as token_file:\n",
    "with open(\"D:/Users/Andrew Freiburger/Documents/Argonne/kbase_token.txt\") as token_file:\n",
    "    kbase_api = cobrakbase.KBaseAPI(token_file.readline())\n",
    "\n",
    "r2a_media = FBAHelper.convert_kbase_media(kbase_api.get_from_ws(\"152904/16/1\"), 1000)"
   ]
  },
  {
   "cell_type": "code",
   "execution_count": 8,
   "id": "55e6e35d",
   "metadata": {},
   "outputs": [
    {
     "ename": "FileNotFoundError",
     "evalue": "[Errno 2] No such file or directory: '/Users/afreiburger/Documents/CommScores/commscores/data/BiGG_to_MSID.json'",
     "output_type": "error",
     "traceback": [
      "\u001b[0;31m---------------------------------------------------------------------------\u001b[0m",
      "\u001b[0;31mFileNotFoundError\u001b[0m                         Traceback (most recent call last)",
      "Cell \u001b[0;32mIn [3], line 4\u001b[0m\n\u001b[1;32m      1\u001b[0m \u001b[38;5;28;01mfrom\u001b[39;00m \u001b[38;5;21;01mjson\u001b[39;00m \u001b[38;5;28;01mimport\u001b[39;00m load\n\u001b[1;32m      3\u001b[0m \u001b[38;5;66;03m# with open(r\"C:\\Users\\Andrew Freiburger\\Documents\\Argonne\\ModelSEED\\CommScores\\commscores\\data\\BiGG_to_MSID.json\", \"r\") as jsonOpen:\u001b[39;00m\n\u001b[0;32m----> 4\u001b[0m \u001b[38;5;28;01mwith\u001b[39;00m \u001b[38;5;28mopen\u001b[39m(\u001b[38;5;124mr\u001b[39m\u001b[38;5;124m\"\u001b[39m\u001b[38;5;124m/Users/afreiburger/Documents/CommScores/commscores/data/BiGG_to_MSID.json\u001b[39m\u001b[38;5;124m\"\u001b[39m, \u001b[38;5;124m\"\u001b[39m\u001b[38;5;124mr\u001b[39m\u001b[38;5;124m\"\u001b[39m) \u001b[38;5;28;01mas\u001b[39;00m jsonOpen:\n\u001b[1;32m      5\u001b[0m     mappings \u001b[38;5;241m=\u001b[39m load(jsonOpen)\n\u001b[1;32m      7\u001b[0m bigg_mappings \u001b[38;5;241m=\u001b[39m {v:k \u001b[38;5;28;01mfor\u001b[39;00m k,v \u001b[38;5;129;01min\u001b[39;00m mappings\u001b[38;5;241m.\u001b[39mitems()}\n",
      "\u001b[0;31mFileNotFoundError\u001b[0m: [Errno 2] No such file or directory: '/Users/afreiburger/Documents/CommScores/commscores/data/BiGG_to_MSID.json'"
     ]
    }
   ],
   "source": [
    "from json import load\n",
    "\n",
    "# with open(r\"C:\\Users\\Andrew Freiburger\\Documents\\Argonne\\ModelSEED\\CommScores\\commscores\\data\\BiGG_to_MSID.json\", \"r\") as jsonOpen:\n",
    "with open(r\"/Users/afreiburger/Documents/CommScores/commscores/data/BiGG_to_MSID.json\", \"r\") as jsonOpen:\n",
    "    mappings = load(jsonOpen)\n",
    "\n",
    "bigg_mappings = {v:k for k,v in mappings.items()}"
   ]
  },
  {
   "cell_type": "code",
   "execution_count": 12,
   "id": "9d521ca2",
   "metadata": {},
   "outputs": [
    {
     "name": "stdout",
     "output_type": "stream",
     "text": [
      "{'EX_pydx_e': 1000, 'EX_pheme_e': 1000, 'EX_fe2_e': 1000, 'EX_mn2_e': 1000, 'EX_cobalt2_e': 1000, 'EX_cu2_e': 1000, 'EX_cl_e': 1000, 'EX_o2_e': 1000, 'EX_zn2_e': 1000, 'EX_val__L_e': 1000, 'EX_uri_e': 1000, 'EX_ura_e': 1000, 'EX_tyr__L_e': 1000, 'EX_trp__L_e': 1000, 'EX_thymd_e': 1000, 'EX_thr__L_e': 1000, 'EX_so4_e': 1000, 'EX_ser__L_e': 1000, 'EX_ribflv_e': 1000, 'EX_pro__L_e': 1000, 'EX_pnto__R_e': 1000, 'EX_pi_e': 1000, 'EX_phe__L_e': 1000, 'EX_nac_e': 1000, 'EX_na1_e': 1000, 'EX_mg2_e': 1000, 'EX_met__L_e': 1000, 'EX_lys__L_e': 1000, 'EX_leu__L_e': 1000, 'EX_k_e': 1000, 'EX_ins_e': 1000, 'EX_ile__L_e': 1000, 'EX_hxan_e': 1000, 'EX_his__L_e': 1000, 'EX_hg2_e': 1000, 'EX_oh1_e': 1000, 'EX_h_e': 1000, 'EX_gly_e': 1000, 'EX_glu__L_e': 1000, 'EX_glc__D_e': 1000, 'EX_fol_e': 1000, 'EX_fe3_e': 1000, 'EX_dcyt_e': 1000, 'EX_dad_2_e': 1000, 'EX_cysi__L_e': 1000, 'EX_cro4_e': 1000, 'EX_cd2_e': 1000, 'EX_ca2_e': 1000, 'EX_asp__L_e': 1000, 'EX_aso4_e': 1000, 'EX_arg__L_e': 1000, 'EX_ala__L_e': 1000, 'EX_adn_e': 1000, 'EX_gsn_e': 1000, 'EX_gmp_e': 1000, 'EX_amp_e': 1000, 'EX_ump_e': 1000, 'EX_cmp_e': 1000, 'EX_thmmp_e': 1000, 'EX_lipoate_e': 1000, 'EX_h2s_e': 1000, 'EX_nh4_e': 1000, 'EX_ni2_e': 1000, 'EX_mobd_e': 1000, 'EX_pyr_e': 1000, 'EX_starch_e': 1000}\n"
     ]
    }
   ],
   "source": [
    "r2a_media_bigg = {\"EX_\"+bigg_mappings[rxnID.replace(\"EX_\", \"\").replace(\"_e0\", \"\")]+\"_e\":flux   for rxnID, flux in r2a_media.items()   if rxnID.replace(\"EX_\", \"\").replace(\"_e0\", \"\") in bigg_mappings}\n",
    "print(r2a_media_bigg)"
   ]
  },
  {
   "cell_type": "code",
   "execution_count": 13,
   "id": "f3a0d20f",
   "metadata": {},
   "outputs": [],
   "source": [
    "from cobra.io import read_sbml_model\n",
    "from glob import glob\n",
    "\n",
    "for model in glob(r\"C:\\Users\\Andrew Freiburger\\Documents\\Argonne\\ModelSEED\\CommScores\\commscores\\data\\models\\vorholt models\\*.xml\"):\n",
    "    test_model = read_sbml_model(model)\n",
    "    rxns = [rxn.id for rxn in test_model.reactions]\n",
    "    test_model.medium = {ID:flux for ID, flux in r2a_media_bigg.items() if ID in rxns}\n",
    "    print(test_model.slim_optimize())"
   ]
  },
  {
   "cell_type": "code",
   "execution_count": 14,
   "id": "d401d4c9",
   "metadata": {},
   "outputs": [
    {
     "name": "stdout",
     "output_type": "stream",
     "text": [
      "['12DGR120tipp', '12DGR140tipp', '12DGR141tipp', '12DGR160tipp', '12DGR161tipp', '12DGR180tipp', '12DGR181tipp', '12PPDRDH', '23CTI1', '23CTI2', '23CTI3', '24DECOAR', '25DKGLCNt2rpp', '25DKGLCNtex', '2ACLMM', '2AGPA141tipp', '2AGPE120tipp', '2AGPE141tipp', '2AGPE160tipp', '2AGPE161tipp', '2AGPE180tipp', '2AGPE181tipp', '2AGPEAT120', '2AGPEAT141', '2AGPEAT160', '2AGPEAT161', '2AGPEAT180', '2AGPEAT181', '2AGPG120tipp', '2AGPG140tipp', '2AGPG160tipp', '2AGPG161tipp', '2AGPG181tipp', '2AGPGAT120', '2AGPGAT140', '2AGPGAT160', '2AGPGAT161', '2AGPGAT181', '2DHGLCK', '2DHPFALDL', '2HH24DDH', '2HH24DDH1', '2HXMPt6', '3HPTNCOAR', '3M2OPLOXRD', '3OXCOAT', '3PEPTabcpp', '3SALATAi', '4ABUTD', '4ABUTabcpp', '4H2KPILY', '4HALDD', '4HBAt', '4HGLSD', '4HPRO_LT_Et', '4PCPpp', '4PEPTabcpp', '5DGLCNR', '5DH4DGLCD', 'AAAN', 'AABTN', 'AACPS2', 'AACPS4', 'AACPS7', 'AACPS9', 'AALDH', 'AB6PGH', 'ABG4t2', 'ABTA', 'ABTt', 'ABTt_1', 'ABUTD', 'ABUTtex', 'ACACT10', 'ACACT11', 'ACACT12', 'ACACT13', 'ACACT1r', 'ACACT2r', 'ACACT3r', 'ACACT4r', 'ACACT5r', 'ACACT6r', 'ACACT7r', 'ACACT8', 'ACACT8r', 'ACACT9', 'ACALDtpp', 'ACCOAC', 'ACGAMK', 'ACGAMPM', 'ACGApts', 'ACGK', 'ACGS', 'ACHBS', 'ACHBS2', 'ACKr', 'ACLS', 'ACLS_b', 'ACLSa_1', 'ACLSb_1', 'ACM6PH', 'ACMANApts', 'ACNAMt2', 'ACNPLYS', 'ACOAD1', 'ACOAD1fr', 'ACOAD20', 'ACOAD22f', 'ACOAD23f', 'ACOAD26f', 'ACOAD27f', 'ACOAD28f', 'ACOAD29f', 'ACOAD2f', 'ACOAD30f', 'ACOAD31f', 'ACOAD32f', 'ACOAD33f', 'ACOAD34f', 'ACOAD3f', 'ACOAD4f', 'ACOAD5f', 'ACOAD6f', 'ACOADH2', 'ACODA', 'ACONT', 'ACOTA', 'ACOXT', 'ACP1_FMN', 'ACS', 'ACS2', 'ACSPHAC100', 'ACSPHAC101', 'ACSPHAC120', 'ACSPHAC121', 'ACSPHAC121d6', 'ACSPHAC140', 'ACSPHAC141', 'ACSPHAC141d5', 'ACSPHAC142', 'ACSPHAC160', 'ACSPHAC40', 'ACSPHAC50', 'ACSPHAC60', 'ACSPHAC70', 'ACSPHAC80', 'ACSPHAC90', 'ACSPHACP100', 'ACSPHACP40', 'ACSPHACP50', 'ACSPHACP60', 'ACSPHACP70', 'ACSPHACP80', 'ACSPHACP90', 'ACSPHACT40', 'ACSPHACT60', 'ACTD', 'ACTD2', 'ACTD_1', 'ACTDa', 'ACTNabc', 'ACTNabc1', 'ACYSBMNt', 'ACt5pp', 'ACtex', 'ADA', 'ADADir', 'ADCL', 'ADCS', 'ADK1', 'ADK2', 'ADNCYC', 'ADNUC', 'ADNt2', 'ADPT', 'ADSL1r', 'ADSL2r', 'ADSS', 'AEPPYRTA', 'AEPabcpp', 'AEPtex', 'AGDC', 'AGM3PApp', 'AGM4PApp', 'AGM4PCPpp', 'AGMH', 'AGMPTRCtpp', 'AGMT', 'AGMt2pp', 'AGMtex', 'AGPAT120', 'AGPAT141', 'AGPAT161', 'AGPR', 'AH6PI', 'AHCi', 'AHSERL2', 'AHSERL4', 'AI2abcpp', 'AI2tpp', 'AICART', 'AIRCr', 'AKGDH', 'AKGDa', 'AKGDb', 'ALAALAabcpp', 'ALAALAr', 'ALAD_L', 'ALAGLUabcpp', 'ALAHISabcpp', 'ALAHIStex', 'ALALEUabcpp', 'ALALEUtex', 'ALAR', 'ALATA_L', 'ALATHRabcpp', 'ALATHRtex', 'ALATRPabcpp', 'ALATRPtex', 'ALAabc', 'ALAabcpp', 'ALAtex', 'ALCD1', 'ALCD19', 'ALCD19y', 'ALCD2ir', 'ALCD2x', 'ALCD2y', 'ALCDpp', 'ALDD1', 'ALDD19xr', 'ALDD20x', 'ALDD20y', 'ALDD2x', 'ALDD2y', 'ALDD3', 'ALDD31_1', 'ALDD4', 'ALDD5', 'ALDD6', 'ALKP', 'ALLTAMH', 'ALR2', 'ALR4x', 'AMANAPEr', 'AMANK', 'AMID2_1', 'AMMQT8', 'AMMQT8_2', 'AMPD2', 'AMPEP1', 'AMPEP10', 'AMPEP11', 'AMPEP13', 'AMPEP14', 'AMPEP15', 'AMPEP18', 'AMPEP5', 'AMPEP8', 'AMPTASEAH', 'AMPTASEAL', 'AMPTASEAT', 'AMPTASEATRP', 'AMPTASECG', 'AMPTASEGGLN', 'AMPTASEGGLU', 'AMPTASEGM', 'AMPTASEGS', 'AMPTASEHG', 'AMPTASEHH', 'AMPTASEPG', 'ANHMK', 'ANPRT', 'ANS', 'ANS2', 'APATr', 'APENTAMAH2', 'APPAT', 'APRAUR', 'APRTO2', 'APSR', 'APTNAT', 'ARABR', 'ARABRr', 'ARAI', 'ARBTpts', 'ARBabc', 'ARBabcpp', 'ARBt2r', 'ARBt2rpp', 'ARBt3ipp', 'ARGDI_1', 'ARGN', 'ARGN_1', 'ARGSL', 'ARGSS', 'ARGabc', 'ARGt2r', 'ARGt5r', 'ARUH', 'ASAD', 'ASNN_1', 'ASNabc', 'ASNt2r', 'ASNt2rpp', 'ASNtex', 'ASPA2', 'ASPCT', 'ASPK', 'ASPO2', 'ASPO5', 'ASPO5_2', 'ASPO6', 'ASPT', 'ASPTA', 'ASPabc', 'ASPabcpp', 'ASPt2_2pp', 'ASPt2r', 'ASPtpp', 'ATAH_1', 'ATHRDHr', 'ATPPRT', 'ATPS4rpp', 'BDH', 'BGLA', 'BGLA1', 'BGLApp', 'BG_CELLB', 'BKDA2', 'BKDC', 'BKDC1', 'BMNMSHS', 'BMNt', 'BSCT', 'BTNTe', 'BTNt', 'BUPN', 'BUTCT', 'BUTSabc', 'BZ12DOX', 'BZDIOLDH', 'BZt1pp', 'BZt2_pp', 'BZtex', 'C4HP', 'CARNabcpp', 'CARNtex', 'CAT', 'CATpp', 'CBPS', 'CD2t3pp', 'CD2t4pp', 'CD2tpp', 'CDGUNPD', 'CDPMEK', 'CELASEpp', 'CELBpts', 'CELBt2', 'CELLBabc', 'CELLS', 'CGLYabcpp', 'CHLabc', 'CHLabc_rev', 'CHLt2', 'CHLt3pp', 'CHOLt4ipp', 'CHORM', 'CHORS', 'CIGAMS', 'CITL', 'CITt14', 'CITt3pp', 'CITt_kt', 'CLPNH120pp', 'CLPNH141pp', 'CLPNH160pp', 'CLPNH161pp', 'CLPNH180pp', 'CLPNS120pp', 'CLPNS141pp', 'CLPNS160pp', 'CLPNS161pp', 'CLPNS180pp', 'CMCBTFL', 'CMCBTFU', 'CMCMSAD', 'CMHMI', 'CO23OC', 'COAt', 'COBALT2abcpp', 'COBALT2t3pp', 'COBALTt4pp', 'COBALTt5', 'COabc', 'CPPPGO', 'CREAT', 'CREATtex', 'CREATtpp', 'CRNDH', 'CRNDabcpp', 'CRNDt2rpp', 'CRNabc', 'CRNabcpp', 'CRNt2rpp', 'CRNt8pp', 'CRNtex', 'CRO4abcpp', 'CRO4t3pp', 'CS', 'CSND', 'CSNt2', 'CTBTabcpp', 'CTBTt2rpp', 'CTECOAI6', 'CTECOAI7', 'CTECOAI8', 'CTI1', 'CTPS1', 'CTPS2', 'CU2t4pp', 'CUabcpp', 'CYO1b', 'CYSDDS', 'CYSDS', 'CYSS', 'CYSS_2', 'CYSTA', 'CYSTL', 'CYSTS', 'CYSabc', 'CYSabc2pp', 'CYSabcpp', 'CYStpp', 'CYTBD', 'CYTBD2', 'CYTBD2pp', 'CYTD', 'CYTDH', 'CYTK1', 'CYTK2', 'CYTOM', 'Clt', 'Cobalt2abcppI', 'Cuabc', 'Cut1', 'D4DGCD', 'DACL', 'DADNt2', 'DAGK120', 'DAGK140', 'DAGK141', 'DAGK160', 'DAGK161', 'DAGK180', 'DAGK181', 'DALAtex', 'DAPDC', 'DAPE', 'DARBabcpp', 'DARBt2rpp', 'DARBt3ipp', 'DASYN120', 'DASYN141', 'DASYN160', 'DASYN161', 'DASYN180', 'DB4PS', 'DCAtex', 'DCPDPS', 'DCTPD', 'DCTPD2', 'DDGLK', 'DDPA', 'DDPGA', 'DGK1', 'DGNSK', 'DGUNC', 'DHACOAH', 'DHAD1', 'DHAD2', 'DHAK', 'DHAPT', 'DHDPRy', 'DHDPS', 'DHEDAA', 'DHFR', 'DHFS', 'DHNAOT', 'DHNPA2r', 'DHNPA_1', 'DHORD2', 'DHORDi', 'DHORTS', 'DHPD', 'DHPDO', 'DHPPDA', 'DHPPDA2', 'DHPS2', 'DHQS', 'DHQTi', 'DIPEPabc1', 'DIPEPabc10', 'DIPEPabc12', 'DIPEPabc13', 'DIPEPabc14', 'DIPEPabc15', 'DIPEPabc3', 'DIPEPabc8', 'DKGLCNR3', 'DLCYSR', 'DMALRED', 'DMATT', 'DMPPS', 'DNMPPA', 'DNTPPA', 'DOPDH', 'DPCOAK', 'DPPS', 'DPR', 'DRBK', 'DRIBabc', 'DRPA', 'DSERDHr', 'DTMPK', 'DURAD', 'DURADx', 'DURIK1', 'DURIPP', 'DUTPDP', 'DXPRIi', 'DXPS', 'DXYLUDtex', 'DXYLUDtpp', 'ECOAH1', 'ECOAH14', 'ECOAH15', 'ECOAH16', 'ECOAH17', 'ECOAH18', 'ECOAH19', 'ECOAH2', 'ECOAH20', 'ECOAH21', 'ECOAH22', 'ECOAH23', 'ECOAH25', 'ECOAH26', 'ECOAH27', 'ECOAH28', 'ECOAH29', 'ECOAH2c', 'ECOAH3', 'ECOAH30', 'ECOAH31', 'ECOAH32', 'ECOAH33', 'ECOAH34', 'ECOAH35', 'ECOAH36', 'ECOAH37', 'ECOAH38', 'ECOAH4', 'ECOAH5', 'ECOAH6', 'ECOAH7', 'ECOAH8', 'ECOAH9ir', 'EDA', 'EHGLAT', 'ENO', 'ETHAt2pp', 'ETHAtex', 'ETHSabc', 'ETOHtex', 'F1PP', 'F6PP', 'FA80ACPHi', 'FACOAE100', 'FACOAE120', 'FACOAE140', 'FACOAE141', 'FACOAE160', 'FACOAE161', 'FACOAE180', 'FACOAE181', 'FACOAE1829Z12Z', 'FACOAE60', 'FACOAE70', 'FACOAE80', 'FACOAE90', 'FACOAL100t2pp', 'FACOAL120t2pp', 'FACOAL140', 'FACOAL140t2pp', 'FACOAL141', 'FACOAL141t2pp', 'FACOAL160', 'FACOAL160t2pp', 'FACOAL161', 'FACOAL161t2pp', 'FACOAL180', 'FACOAL180t2pp', 'FACOAL181', 'FACOAL1812', 'FACOAL181d11tpp', 'FACOAL181d6t2pp', 'FACOAL181t2pp', 'FACOAL1821', 'FACOAL182t2pp', 'FACOAL50i', 'FACOAL50t2pp', 'FACOAL60i', 'FACOAL60t2pp', 'FACOAL80', 'FACOAL80t2pp', 'FACOAL90i', 'FACOAL_70_c', 'FADH2D', 'FADRx2', 'FALDM', 'FALDtex', 'FALDtpp2', 'FAO1', 'FAO10', 'FAO11', 'FAO2', 'FAO3', 'FAS120', 'FAS140', 'FASC141ACP', 'FBA', 'FBA2', 'FBA3', 'FBP', 'FCLPA', 'FCLT', 'FCLT2', 'FDH', 'FDMO', 'FDMO1', 'FDMO2_1', 'FDMO3_1', 'FDMO4_1', 'FDMO5', 'FDMO5_1', 'FDMO6_1', 'FDMO_1', 'FE2Gabcpp', 'FE2abc', 'FE2abcpp', 'FE2t4pp', 'FE2tex', 'FE3DCIT2abcpp', 'FE3DCITR5', 'FE3DCITabc', 'FE3DCITabcpp', 'FE3DCITtonex', 'FE3Gabcpp', 'FE3PYOVD2tonex', 'FE3PYOVDDR2', 'FE3abc', 'FE3abcpp', 'FE3t', 'FEDCabc', 'FEENTER2tpp', 'FEENTERR3', 'FEENTERR4', 'FEENTERabcpp', 'FEENTERtex', 'FEENTERtonex', 'FEENTERtpp', 'FEROpp', 'FETRANS', 'FFSD', 'FLVR', 'FMNAT', 'FMNRx', 'FMNRx2', 'FMNRy', 'FNOR', 'FOLD3', 'FOMETRi', 'FORCT', 'FORGLUIH2', 'FORGLUt', 'FPRA', 'FRD', 'FRD2', 'FRD3', 'FRTT', 'FRUK', 'FRUpts', 'FRUpts2', 'FRUptspp', 'FRUt3', 'FTHFCL', 'FTHFD', 'FUCpts', 'FUM', 'FUMt1pp', 'FUMt2_2', 'FUMt2_2pp', 'FUMt2r', 'G1PACT', 'G1PP', 'G1SAT', 'G3PAT120', 'G3PAT141', 'G3PAT161', 'G3PCabcpp', 'G3PCtex', 'G3PD', 'G3PD1ir', 'G3PD2', 'G3PD5', 'G3PEabcpp', 'G3PEtex', 'G3PT', 'G5SD', 'G5SD2', 'G6PBDH', 'G6PDA', 'G6PDH2r', 'G6PI3', 'G6PP', 'GALCTD', 'GALCTt2rpp', 'GALCTtex', 'GALKr', 'GALM1', 'GALM2', 'GALMAN4', 'GALMAN4abc', 'GALMAN6', 'GALMAN6abc', 'GALS3', 'GALT', 'GALTpts', 'GALURDH', 'GALUi', 'GALabc', 'GALabcpp', 'GALpts', 'GALt2_3', 'GAMpts', 'GAPD', 'GAPP', 'GARFT', 'GCALDD', 'GCCa', 'GCCa_1', 'GCCb', 'GCCb_1', 'GCCc', 'GCCc_1', 'GDPMNP', 'GDPTPDP', 'GF6PTA', 'GGGABADr', 'GGGABAH', 'GGPTRCO', 'GGPTRCS', 'GHMT2r', 'GK1', 'GLBRAN2', 'GLBRAN3', 'GLCAt2', 'GLCBPP', 'GLCDpp', 'GLCE', 'GLCMAN4', 'GLCMAN4abc', 'GLCMAN6', 'GLCMAN6abc', 'GLCNt2r', 'GLCNt2rpp', 'GLCOAS', 'GLCRD_1', 'GLCRt2rpp', 'GLCRtex', 'GLCS3_1', 'GLCURDH', 'GLCURS1', 'GLCURt2rpp', 'GLCURtex', 'GLCabc', 'GLCabcpp', 'GLCpts', 'GLCt2pp', 'GLDBRAN2', 'GLDBRAN3', 'GLGC', 'GLMS_syn', 'GLNS', 'GLNS_1', 'GLNabc', 'GLS', 'GLS2', 'GLTPD', 'GLU5K', 'GLUCAN2abc', 'GLUCANabc', 'GLUDy', 'GLUN', 'GLUPRT', 'GLUR', 'GLUSx', 'GLUSy', 'GLUTCOADHc', 'GLUTRR', 'GLUTRS', 'GLUTRS_3', 'GLUabc', 'GLUabcpp', 'GLXCL', 'GLXO1', 'GLYALDDr', 'GLYAT', 'GLYBACT1r', 'GLYBCOAT', 'GLYBabc', 'GLYBabcpp', 'GLYBt2pp', 'GLYBt2r', 'GLYBt3pp', 'GLYBtex', 'GLYBti4pp', 'GLYC3Pabc', 'GLYC3Pabcpp', 'GLYCK', 'GLYCK2', 'GLYCL', 'GLYCLTDy', 'GLYCLTt2r', 'GLYCL_2', 'GLYCTO1', 'GLYCTO2', 'GLYCTO3', 'GLYCTO4', 'GLYCt', 'GLYCtex', 'GLYDHDA', 'GLYGLNabcpp', 'GLYGLNtex', 'GLYGLUabcpp', 'GLYGLUtex', 'GLYGLYCNc', 'GLYGLYabcpp', 'GLYGLYtex', 'GLYK', 'GLYMETabcpp', 'GLYMETtex', 'GLYO1', 'GLYOX', 'GLYPHEHYc', 'GLYPHEabcpp', 'GLYPHEtex', 'GLYSERabcpp', 'GLYSERtex', 'GLYabc', 'GLYabcpp', 'GLYtpp', 'GMPS2', 'GND', 'GNK', 'GNNUC', 'GNP', 'GOX', 'GPDDA1', 'GPDDA2', 'GRTT', 'GRXR', 'GSNt2', 'GSNt2pp', 'GSNt3pp', 'GTHOr', 'GTHPi', 'GTHRDHpp', 'GTHRDabc2pp', 'GTHRDabcpp', 'GTHRDt2_1', 'GTPCI', 'GTPCII', 'GTPCII2', 'GTPDPDP', 'GTPDPK', 'GTPDPK_1', 'GTPH1', 'GUACYC', 'GUAD', 'GUAPRT', 'GUAt', 'GUAt2pp', 'GUAt2r', 'GUAtpp', 'GUI1', 'GUI2', 'GalMr', 'H2CO3D', 'H2O2tex', 'H2Ot', 'H2Otpp', 'HACD1', 'HACD10i', 'HACD11i', 'HACD12i', 'HACD13i', 'HACD14i', 'HACD15i', 'HACD16i', 'HACD17i', 'HACD18i', 'HACD19i', 'HACD1i', 'HACD2', 'HACD20i', 'HACD21i', 'HACD22i', 'HACD23i', 'HACD24i', 'HACD25i', 'HACD26i', 'HACD27i', 'HACD28i', 'HACD29i', 'HACD2i', 'HACD3', 'HACD30i', 'HACD31i', 'HACD32i', 'HACD33i', 'HACD3i', 'HACD4', 'HACD4i', 'HACD5', 'HACD5i', 'HACD6', 'HACD6i', 'HACD7', 'HACD7i', 'HACD8', 'HACD8i', 'HACD9', 'HADPCOADH3', 'HBCE', 'HBCHLR', 'HCO3E', 'HCYSMT', 'HEMEOS', 'HETZK', 'HEX1', 'HEX1_1', 'HEX4', 'HEX7', 'HEXSabc', 'HHDDI', 'HIBDkt', 'HIBHr', 'HISDr', 'HISGLYabcpp', 'HISGLYtex', 'HISHISabcpp', 'HISHIStex', 'HISTD', 'HISTDa', 'HISTDb', 'HISTP', 'HISabc', 'HMBS', 'HMEDR', 'HMEDS', 'HMGCOAR', 'HMGCOAS', 'HMGL', 'HMGL_2', 'HMPK1', 'HMPPtr', 'HMR_0188', 'HMR_0260', 'HMR_6515', 'HMSH', 'HOPNTAL', 'HPA3MO', 'HPPK', 'HPPK2', 'HPROx', 'HPYRI', 'HPYRRx', 'HPYRRy', 'HQNt6', 'HSDy', 'HSERTA', 'HSK', 'HSTPT', 'HVCD', 'HXANt2pp', 'HXANt2r', 'HXAtex', 'HXCT', 'HXPRT', 'HYXNtex', 'IBTMr', 'ICDHyr', 'ICHORS', 'ICITt_kt', 'ICITtex', 'ICL', 'IDOND', 'IDOND2', 'IDONt2rpp', 'IDONtex', 'IG3PS', 'IGPDH', 'IGPS', 'ILETA', 'ILEabc', 'ILEabcpp', 'ILEt2r', 'ILEtex', 'IMPC', 'IMPD', 'IND3ACtex', 'IND3ACtpp', 'INOSR', 'INOSTO', 'INS2D', 'INSH', 'INSTabc', 'INSTt2', 'INSt2', 'INSt3pp', 'INStex', 'IPDPS', 'IPDPUDCT', 'IPMD', 'IPPMIa', 'IPPMIb', 'IPPS', 'ISETACabcpp', 'ISETACtex', 'ISOAML', 'ISTNTabc', 'IT6PT', 'IZPN', 'IZPN_1', 'KARA1', 'KARA2', 'KARA4', 'KARI_1', 'KARI_23dhmp_1', 'KAS13', 'KAS17', 'KAS2', 'KAS7', 'KAS8', 'KAT1', 'KAT18', 'KAT20', 'KAT21', 'KAT23', 'KAT24', 'KAT25', 'KAT26', 'KAT27', 'KAT28', 'KAT29', 'KAT30', 'KAT31', 'KAT32', 'KAT33', 'KGD2', 'Kabc', 'Kabcpp', 'Kt1', 'Kt2pp', 'Kt2r', 'Kt3pp', 'Kt3r', 'LAAF', 'LACZ', 'LACZpp', 'LALALGLUtex', 'LALGP', 'LCADi', 'LCARS', 'LCTSabc', 'LCTSt3ipp', 'LDGUNPD', 'LDH_D2', 'LDH_L', 'LEULEULAPc', 'LEULEUabcpp', 'LEULEUtex', 'LEUTA', 'LEUabc', 'LEUabcpp', 'LEUt2r', 'LEUtex', 'LGTHL', 'LLEUDr', 'LMN2', 'LMN2abc', 'LNLCtexi', 'LPLIPAL1A120pp', 'LPLIPAL1A161pp', 'LPLIPAL2A141', 'LSERDHr', 'LTDCL', 'LTHRK', 'LYSMO', 'LYSabc', 'LYSabcpp', 'LYSt3pp', 'LYSt3r', 'LYSt5r', 'L_LACD', 'L_LACD2', 'L_LACD3', 'L_LACt2r', 'L_LACt3', 'M1PD', 'MACCOAT', 'MAL6PG', 'MALDt2_2pp', 'MALDtex', 'MALS', 'MALT', 'MALTHPabc', 'MALTHXabc', 'MALTHXabcpp', 'MALTHXtexi', 'MALTTRabc', 'MALTTTRabc', 'MALTabc', 'MALTpts', 'MALTt2', 'MAL_D_Et', 'MALt2_2', 'MALt2_2pp', 'MALt2r', 'MALt3pp', 'MALt3r', 'MAN1PT2', 'MAN6PI', 'MANA1', 'MANA2', 'MANA3', 'MANAO', 'MANBabc', 'MANTRabc', 'MANTTRabc', 'MANpts', 'MANt2', 'MBCOAi', 'MCCC', 'MCD', 'MCITD', 'MCITL2', 'MCITS', 'MCOATA', 'MCSNAH', 'MCTC_1', 'MCTP1App', 'MCTP1Bpp', 'MCTP2App', 'MDDCP1pp', 'MDDCP2pp', 'MDDCP3pp', 'MDDCP4pp', 'MDDCP5pp', 'MDDEP1pp', 'MDDEP3pp', 'MDDEP4pp', 'MDH', 'MDH2', 'MDH3', 'MDH3_1', 'MECDPDH', 'MECDPS', 'MELIBabc', 'MELIBtex', 'MEPCT', 'METAT', 'METDabc', 'METRR', 'METS', 'METSOX1abc', 'METSOX2abc', 'METSOXR1', 'METSOXR2', 'METabc', 'METabcpp', 'METtex', 'MG2tex', 'MG2uabcpp', 'MGCH', 'MGSA', 'MGt5', 'MI1PP', 'MI1PS', 'MICITDr', 'MLDCP2Bpp', 'MLDEP2pp', 'MLTG1', 'MLTG2', 'MLTGY1pp', 'MLTGY2pp', 'MLTGY3pp', 'MLTGY4pp', 'MLTP1', 'MLTP2', 'MLTP3', 'MMCD', 'MMSAD3', 'MMTSAO', 'MN2t3pp', 'MN2tipp', 'MN6PP', 'MNLpts', 'MNLptspp', 'MNLtex', 'MNNH', 'MNabc', 'MNabc_1', 'MNabc_rev', 'MNt2pp', 'MOBDabc', 'MOBDabc_rev', 'MPTG', 'MPTG2', 'MSHAMID', 'MSHS', 'MSO3abc', 'MTHFC', 'MTHFD', 'MTHFD2i', 'MTHFR', 'Mn2t', 'NABTNO', 'NACODA', 'NADDP', 'NADDPp_1', 'NADH10', 'NADH4', 'NADH5', 'NADH9', 'NADHHR', 'NADHPO', 'NADHXD', 'NADHXE', 'NADK', 'NADPHHR', 'NADPHQR2', 'NADPHXD', 'NADPHXE', 'NADS1', 'NAKt2pp', 'NAPRT', 'NARK', 'NAabc', 'NAabcO', 'NAt', 'NAt3_1', 'NAt3_2', 'NAt3_2pp', 'NAt3pp', 'NBAHH_ir', 'NDPK1', 'NDPK2', 'NDPK3', 'NDPK4', 'NDPK5', 'NDPK6', 'NDPK7', 'NDPK8', 'NDPK9', 'NFORGLUAH', 'NH4OHDs', 'NH4t', 'NI2t3pp', 'NI2t4pp', 'NI2tex', 'NI2uabcpp', 'NITR', 'NIabc', 'NMNAT', 'NMNDA', 'NMNHYD', 'NMO', 'NNAM', 'NNATr', 'NNDPR', 'NO2tex', 'NO3abcpp', 'NO3t', 'NO3t7pp', 'NO3tex', 'NODOx', 'NODOy', 'NOX', 'NOt', 'NP1_1', 'NPHS', 'NT5C', 'NTD1', 'NTD10', 'NTD11', 'NTD2', 'NTD3', 'NTD4', 'NTD5', 'NTD6', 'NTD7', 'NTD8', 'NTD9', 'NTP1', 'NTP10', 'NTP3', 'NTP5', 'NTPP1', 'NTPP2', 'NTPP3', 'NTPP4', 'NTPP5', 'NTPP6', 'NTPP7', 'NTPP8', 'NTPTP1', 'NTPTP2', 'NTR3B', 'NTRIR2x', 'NTRIR2y', 'NTRIRx', 'NTRIRy', 'O2t', 'O2tex', 'OAAt2_2pp', 'OAAtex', 'OCBT', 'OCOAT1', 'OCOAT4', 'OCTAtex', 'OCTDPS', 'OHEDH', 'OIVD1r', 'OIVD2', 'OIVD3', 'OMCDC', 'OMPDC', 'OP4ENH', 'OPETDC', 'OPTCCL', 'ORNCD', 'ORNTAC', 'ORNTAC_1', 'ORNabcpp', 'ORNt', 'ORNtex', 'OROTt2_2pp', 'OROTtex', 'ORPT', 'OXADC', 'OXCOAHDH', 'OXDHCOAT', 'OXGDC', 'OXPTNDH', 'P5CD', 'P5CR', 'P5CRx', 'PA120abcpp', 'PA140abcpp', 'PA141abcpp', 'PA160abcpp', 'PA161abcpp', 'PA181abcpp', 'PACCOAE', 'PALDH', 'PANTS', 'PAPA120pp', 'PAPA140pp', 'PAPA141pp', 'PAPA160pp', 'PAPA161pp', 'PAPA180pp', 'PAPA181pp', 'PAPPT3', 'PC', 'PCNO', 'PDBL_3', 'PDBL_4', 'PDE1', 'PDE4', 'PDH', 'PDHa', 'PDHbr', 'PDHcr', 'PDX5POi', 'PDXPP', 'PDYXPT_c', 'PE120abcpp', 'PE141abcpp', 'PE160abcpp', 'PE161abcpp', 'PE180abcpp', 'PE181abcpp', 'PEALtabc', 'PEAMNO', 'PENTSOtex', 'PEPA', 'PEPCK_re', 'PFK', 'PFK_2', 'PG120abcpp', 'PG140abcpp', 'PG141abcpp', 'PG160abcpp', 'PG161abcpp', 'PG180abcpp', 'PG181abcpp', 'PGAMT', 'PGCD', 'PGI', 'PGK', 'PGL', 'PGLCNDH', 'PGM', 'PGMT', 'PGP120abcpp', 'PGP160abcpp', 'PGP161abcpp', 'PGPP120pp', 'PGPP141', 'PGPP160pp', 'PGPP161pp', 'PGPP180', 'PGSA120', 'PGSA141', 'PGSA160', 'PGSA161', 'PGSA180', 'PHCD', 'PHCHGS', 'PHEMEt', 'PHEOR', 'PHETA1', 'PHEabc', 'PHYCBOXL', 'PIabc', 'PIuabcpp', 'PKETF', 'PKETX', 'PLIPA1A141pp', 'PLIPA1E120pp', 'PLIPA1E141pp', 'PLIPA1E160pp', 'PLIPA1E161pp', 'PLIPA1E180pp', 'PLIPA1E181pp', 'PLIPA1G120pp', 'PLIPA1G140pp', 'PLIPA1G160pp', 'PLIPA1G161pp', 'PLIPA1G181d11pp', 'PLIPA2A120pp', 'PLIPA2A161pp', 'PLPS', 'PMANM', 'PMDPHT', 'PMPK', 'PNCDC', 'PNCDC_1', 'PNP_1', 'PNTK', 'PNTOte', 'POX', 'PPA', 'PPA2', 'PPAKr', 'PPBNGS', 'PPCDC', 'PPCK', 'PPCOAC', 'PPGPPDP', 'PPK', 'PPK2', 'PPM', 'PPM2', 'PPNCL3', 'PPND', 'PPNDH', 'PPNDH2', 'PPPGO', 'PRAGSr', 'PRAIS', 'PRAIi', 'PRAMPC', 'PRASCSi', 'PRATPP', 'PRFGS', 'PRFGS_1', 'PRMICI', 'PRO1x', 'PROD2', 'PROGLYabcpp', 'PROGLYtex', 'PROHISGLUtr', 'PROR', 'PROabc', 'PROabcpp', 'PROt2r', 'PROt2rpp', 'PROtex', 'PRPPS', 'PSCVT', 'PSCVT_1', 'PSERT', 'PSP_L', 'PSUDS', 'PTA2', 'PTAr', 'PTAtex', 'PTHRP', 'PTPATi', 'PTRCAT1', 'PTRCTA', 'PTRCTA2', 'PTRCabc', 'PTRCabcpp', 'PTRCt2pp', 'PTRCtex', 'PTSLAtexi', 'PUNP1', 'PUNP2', 'PUNP3', 'PUNP5', 'PUNP6', 'PUNP7', 'PUTA3', 'PYAM5PO', 'PYDAMK', 'PYDXK', 'PYDXNK', 'PYDXNO', 'PYDXO', 'PYDXOR', 'PYDXPP', 'PYDXS', 'PYK', 'PYOVD2tex', 'QMO2', 'QUIN2tpp', 'QUINtpp', 'QULNS', 'R5PP', 'RAFFabc', 'RAFFtex', 'RAFGH', 'RAFH', 'RAFHpp', 'RBFK', 'RBFSa', 'RBFSb', 'RBK', 'RBK_Dr', 'RBK_L1', 'RBP4E', 'RECOAH10', 'RECOAH11', 'RECOAH12', 'RECOAH13', 'RECOAH14', 'RECOAH15', 'RECOAH16', 'RECOAH17', 'RECOAH19', 'RECOAH2', 'RECOAH20', 'RECOAH21', 'RECOAH22', 'RECOAH23', 'RECOAH24', 'RECOAH25', 'RECOAH26', 'RECOAH3', 'RECOAH4', 'RECOAH5', 'RECOAH6', 'RECOAH7', 'RECOAH8', 'RECOAH9', 'REPHACCOAI', 'RHA121tex', 'RHA121tpp', 'RHACOAE100', 'RHACOAE120', 'RHACOAE121d6', 'RHACOAE140', 'RHACOAE141', 'RHACOAE141d5', 'RHACOAE142', 'RHACOAE160', 'RHACOAE50', 'RHACOAE60', 'RHACOAE70', 'RHACOAE80', 'RHACOAE90', 'RHACOAEP100', 'RHACOAEP101', 'RHACOAEP50', 'RHACOAEP60', 'RHACOAEP70', 'RHACOAEP80', 'RHACOAEP90', 'RHACOAET40', 'RHACOAET60', 'RHACOAR101', 'RHACOAR141d7', 'RHACOAR70', 'RHACOAR90', 'RHACOARP100', 'RHACOARP50', 'RHACOARP60', 'RHACOARP70', 'RHACOARP80', 'RHACOARP90', 'RHACOART60', 'RHAP40tex', 'RHAP40tpp', 'RIBFLVt2', 'RIBabc', 'RIBabc1', 'RIBabcpp', 'RIBtex', 'RMI', 'RMK', 'RMNabc', 'RMNt', 'RMPA', 'RNDR1', 'RNDR1b', 'RNDR2', 'RNDR2b', 'RNDR3', 'RNDR3b', 'RNDR4', 'RNDR4b', 'RNTR1', 'RNTR2', 'RNTR3', 'RNTR4', 'RPE', 'RPI', 'RU5PP', 'RU5PS', 'S6PG', 'SADT', 'SALCHS4FER3', 'SALCHS4FEabcpp', 'SALCHS4FEtonex', 'SALCHS4abcpp', 'SALCHS4tex', 'SALCpts', 'SAOR', 'SARCOX', 'SBTD_D2', 'SBTt2', 'SCYSSL', 'SDPDS', 'SDPTA', 'SEPHCHCS', 'SERAT', 'SERD_L', 'SERGLUGLNtr', 'SERabc', 'SERabcpp', 'SERtpp', 'SHCHCS3', 'SHCHD2', 'SHCHF', 'SHK3Dr', 'SHKK', 'SHSL1', 'SHSL2r', 'SHSL4r', 'SKMt2', 'SKMt2pp', 'SKMtex', 'SLCYSS', 'SMIA1', 'SMIB1', 'SO3abcpp', 'SO3tex', 'SO4t2', 'SPMDabc', 'SPMDabcpp', 'SPMDt3i', 'SPMDt3pp', 'SPODM', 'SSALx', 'SSALy', 'SSCOARy', 'SUCBZL', 'SUCBZS', 'SUCBZT1', 'SUCCt1pp', 'SUCCt2_2pp', 'SUCCt2r', 'SUCD1', 'SUCDi', 'SUCOAS', 'SUCR', 'SUCRt2', 'SUCpts', 'SULAabc', 'SULR', 'SULR_1', 'SULabc', 'T2ECR', 'TALA', 'TAURabc', 'TDP', 'TGBPA', 'THDPS', 'THFAT', 'THIORDXi', 'THMabc', 'THRA', 'THRA2', 'THRD', 'THRD_L', 'THRS', 'THRabc', 'THRt2r', 'THYMt', 'THZSN_1', 'TKT1', 'TKT2', 'TMDK1', 'TMDK2', 'TMDPP', 'TMDS', 'TMN', 'TMPK', 'TMPPP', 'TOLt7', 'TOLtpp', 'TPI', 'TRDR', 'TRE6PP', 'TRE6PS', 'TREP', 'TREabc', 'TREpts', 'TRPS1', 'TRPS2', 'TRPS3', 'TRPTA', 'TRPabc', 'TRSARr', 'TRSARyr', 'TRYPTAOX', 'TSULabc', 'TSULabcpp', 'TSULtex', 'TYRTA', 'TYRTAi', 'TYRabc', 'UAAGDS', 'UAGCVT', 'UAGCVT_1', 'UAGDP', 'UAGPT2', 'UAGPT2_1', 'UAGPT3', 'UAMAGS', 'UAMAS', 'UAPGR', 'UDCPDP', 'UDPDPS', 'UDPDPS2', 'UDPG4E', 'UGMDDS', 'UM3PL', 'UM4PCP', 'UM4PL', 'UMPK', 'UPP3MT', 'UPP3S', 'UPPDC1', 'UPPN', 'UPPRT', 'URAt', 'URAt2', 'URAt2pp', 'URAtex', 'URCN', 'UREAt', 'URIH', 'VALDHr', 'VALTA', 'VALabc', 'VALabcpp', 'VALt2r', 'VALtex', 'VCACT', 'VCOAD', 'VECOAH', 'VPAMTr', 'XANt3', 'XPPT', 'XTSNH', 'XTSNt2', 'XYL3abc', 'XYLANabc', 'XYLBabc', 'XYLI1', 'XYLI2', 'XYLK', 'XYLOS1', 'XYLOS2', 'XYLOS3', 'XYLabc', 'XYLabcpp', 'XYLe', 'XYLt2', 'XYLtex', 'YUMPS', 'ZN2t3pp', 'ZN2t4pp', 'ZN2t5', 'ZN2t6', 'ZNabc', 'ZNabcpp', 'ilvg', 'pentso3abcpp', 'sink_hemeO_c', 'sink_sheme_c', 'EX_25dkglcn_e', 'EX_2ameph_e', 'EX_2hxmp_e', 'EX_4abut_e', 'EX_4ahmmp_e', 'EX_4hba_e', 'EX_4hpro_LT_e', 'EX_LalaLglu_e', 'EX_Larab_e', 'EX_R_3hdd5ea_e', 'EX_R_3hpba_e', 'EX_abg4_e', 'EX_abt__L_e', 'EX_abt_e', 'EX_ac_e', 'EX_acgam_e', 'EX_acmana_e', 'EX_acnam_e', 'EX_actn__R_e', 'EX_acysbmn_e', 'EX_adn_e', 'EX_agm_e', 'EX_ala_L_asp__L_e', 'EX_ala_L_glu__L_e', 'EX_ala__D_e', 'EX_ala__L_e', 'EX_alahis_e', 'EX_alaleu_e', 'EX_alathr_e', 'EX_alatrp_e', 'EX_arab__L_e', 'EX_arbt_e', 'EX_arg__L_e', 'EX_asn__L_e', 'EX_asp__L_e', 'EX_bmn_e', 'EX_btn_e', 'EX_buts_e', 'EX_bz_e', 'EX_ca2_e', 'EX_carn_e', 'EX_cellb_e', 'EX_cgly_e', 'EX_chol_e', 'EX_cit_e', 'EX_cl_e', 'EX_coa_e', 'EX_cobalt2_e', 'EX_creat_e', 'EX_crn_e', 'EX_csn_e', 'EX_cu2_e', 'EX_cys__L_e', 'EX_dad_2_e', 'EX_dca_e', 'EX_drib_e', 'EX_dxyl_e', 'EX_enter_e', 'EX_etha_e', 'EX_eths_e', 'EX_etoh_e', 'EX_fald_e', 'EX_fe2_e', 'EX_fe3_e', 'EX_fe3dcit_e', 'EX_fe3pyovd_kt_e', 'EX_feenter_e', 'EX_forglu_e', 'EX_fru_e', 'EX_fuc_e', 'EX_fum_e', 'EX_g3pc_e', 'EX_g3pe_e', 'EX_gal_bD_e', 'EX_gal_e', 'EX_galct__D_e', 'EX_galman4_e', 'EX_galman6_e', 'EX_galt_e', 'EX_gam_e', 'EX_glc__D_e', 'EX_glc__aD_e', 'EX_glcman4_e', 'EX_glcman6_e', 'EX_glcn_e', 'EX_glcr_e', 'EX_glcur_e', 'EX_gln__L_e', 'EX_glu__L_e', 'EX_glucan4_e', 'EX_glucan6_e', 'EX_gly_asn__L_e', 'EX_gly_asp__L_e', 'EX_gly_e', 'EX_gly_glu__L_e', 'EX_gly_pro__L_e', 'EX_glyb_e', 'EX_glyc3p_e', 'EX_glyc_e', 'EX_glyclt_e', 'EX_glygln_e', 'EX_glyglu_e', 'EX_glygly_e', 'EX_glymet_e', 'EX_glyphe_e', 'EX_glyser_e', 'EX_gsn_e', 'EX_gthrd_e', 'EX_gua_e', 'EX_h2o2_e', 'EX_h2o_e', 'EX_h_e', 'EX_hexs_e', 'EX_his__L_e', 'EX_hisgly_e', 'EX_hishis_e', 'EX_hqn_e', 'EX_hxa_e', 'EX_hxan_e', 'EX_icit_e', 'EX_idon__L_e', 'EX_ile__L_e', 'EX_ind3ac_e', 'EX_inost_e', 'EX_ins_e', 'EX_isetac_e', 'EX_istfrnA_e', 'EX_istfrnB_e', 'EX_istnt_e', 'EX_k_e', 'EX_lac__L_e', 'EX_lcts_e', 'EX_leu__L_e', 'EX_leuleu_e', 'EX_lmn2_e', 'EX_lnlc_e', 'EX_lys__L_e', 'EX_mal__D_e', 'EX_mal__L_e', 'EX_malt_e', 'EX_malthp_e', 'EX_malthx_e', 'EX_malttr_e', 'EX_maltttr_e', 'EX_man_e', 'EX_manb_e', 'EX_mantr_e', 'EX_manttr_e', 'EX_melib_e', 'EX_met_L_ala__L_e', 'EX_met__D_e', 'EX_met__L_e', 'EX_metsox_R__L_e', 'EX_metsox_S__L_e', 'EX_mg2_e', 'EX_mn2_e', 'EX_mnl_e', 'EX_mobd_e', 'EX_mso3_e', 'EX_nh4_e', 'EX_no2_e', 'EX_no3_e', 'EX_no_e', 'EX_o2_e', 'EX_oaa_e', 'EX_octa_e', 'EX_orn_e', 'EX_orot_e', 'EX_pea_e', 'EX_pentso3_e', 'EX_phe__L_e', 'EX_pheme_e', 'EX_pi_e', 'EX_pnto__R_e', 'EX_pro__L_e', 'EX_progly_e', 'EX_prohisglu_e', 'EX_pta_e', 'EX_ptrc_e', 'EX_ptsla_e', 'EX_pyovd_kt_e', 'EX_raffin_e', 'EX_rib__D_e', 'EX_ribflv_e', 'EX_rmn_e', 'EX_salchs4_e', 'EX_salchs4fe_e', 'EX_salcn_e', 'EX_sbt__D_e', 'EX_ser__L_e', 'EX_serglugly_e', 'EX_skm_e', 'EX_so3_e', 'EX_so4_e', 'EX_spmd_e', 'EX_stfrnA_e', 'EX_stfrnB_e', 'EX_succ_e', 'EX_sucr_e', 'EX_sula_e', 'EX_taur_e', 'EX_thm_e', 'EX_thr__L_e', 'EX_thym_e', 'EX_tre_e', 'EX_trp__L_e', 'EX_tsul_e', 'EX_tyr__L_e', 'EX_ura_e', 'EX_urea_e', 'EX_val__L_e', 'EX_xan_e', 'EX_xtsn_e', 'EX_xyl3_e', 'EX_xyl__D_e', 'EX_xylan4_e', 'EX_xylan8_e', 'EX_xylb_e', 'EX_zn2_e', 'Growth', 'ATPM', 'ASNS1', 'CITtex', 'UGLT', 'CYTBO3_4pp', 'Htex', 'GCDH', '4HBADH', '1P2CBXLCYCL', 'EX_co2_e', 'CO2t']\n"
     ]
    }
   ],
   "source": [
    "print(rxns)"
   ]
  },
  {
   "cell_type": "code",
   "execution_count": 15,
   "id": "d0997af5",
   "metadata": {},
   "outputs": [
    {
     "data": {
      "text/plain": [
       "{'EX_adn_e': 1000,\n",
       " 'EX_ala__L_e': 1000,\n",
       " 'EX_arg__L_e': 1000,\n",
       " 'EX_asp__L_e': 1000,\n",
       " 'EX_ca2_e': 1000,\n",
       " 'EX_cl_e': 1000,\n",
       " 'EX_cobalt2_e': 1000,\n",
       " 'EX_cu2_e': 1000,\n",
       " 'EX_dad_2_e': 1000,\n",
       " 'EX_fe2_e': 1000,\n",
       " 'EX_fe3_e': 1000,\n",
       " 'EX_glc__D_e': 1000,\n",
       " 'EX_glu__L_e': 1000,\n",
       " 'EX_gly_e': 1000,\n",
       " 'EX_gsn_e': 1000,\n",
       " 'EX_h_e': 1000,\n",
       " 'EX_his__L_e': 1000,\n",
       " 'EX_hxan_e': 1000,\n",
       " 'EX_ile__L_e': 1000,\n",
       " 'EX_ins_e': 1000,\n",
       " 'EX_k_e': 1000,\n",
       " 'EX_leu__L_e': 1000,\n",
       " 'EX_lys__L_e': 1000,\n",
       " 'EX_met__L_e': 1000,\n",
       " 'EX_mg2_e': 1000,\n",
       " 'EX_mn2_e': 1000,\n",
       " 'EX_mobd_e': 1000,\n",
       " 'EX_nh4_e': 1000,\n",
       " 'EX_o2_e': 1000,\n",
       " 'EX_phe__L_e': 1000,\n",
       " 'EX_pheme_e': 1000,\n",
       " 'EX_pi_e': 1000,\n",
       " 'EX_pnto__R_e': 1000,\n",
       " 'EX_pro__L_e': 1000,\n",
       " 'EX_ribflv_e': 1000,\n",
       " 'EX_ser__L_e': 1000,\n",
       " 'EX_so4_e': 1000,\n",
       " 'EX_thr__L_e': 1000,\n",
       " 'EX_trp__L_e': 1000,\n",
       " 'EX_tyr__L_e': 1000,\n",
       " 'EX_ura_e': 1000,\n",
       " 'EX_val__L_e': 1000,\n",
       " 'EX_zn2_e': 1000}"
      ]
     },
     "execution_count": 15,
     "metadata": {},
     "output_type": "execute_result"
    }
   ],
   "source": [
    "test_model.medium"
   ]
  }
 ],
 "metadata": {
  "kernelspec": {
   "display_name": "Python 3 (ipykernel)",
   "language": "python",
   "name": "python3"
  },
  "language_info": {
   "codemirror_mode": {
    "name": "ipython",
    "version": 3
   },
   "file_extension": ".py",
   "mimetype": "text/x-python",
   "name": "python",
   "nbconvert_exporter": "python",
   "pygments_lexer": "ipython3",
   "version": "3.9.12"
  }
 },
 "nbformat": 4,
 "nbformat_minor": 5
}
