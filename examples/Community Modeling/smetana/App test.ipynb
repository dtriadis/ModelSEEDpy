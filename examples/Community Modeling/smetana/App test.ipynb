{
 "cells": [
  {
   "cell_type": "code",
   "execution_count": 1,
   "id": "08a97509-7690-4042-b2ff-2cd404ccb2ce",
   "metadata": {},
   "outputs": [
    {
     "name": "stdout",
     "output_type": "stream",
     "text": [
      "modelseedpy_freiburgermsu 0.2.2\n",
      "modelseedpy 0.2.2\n",
      "cobrakbase 0.3.1\n",
      "152321/7/1\n",
      "Bacillus_sp._BC15_2615840537.fna.RAST.fbamodel\n",
      "152321/3/1\n",
      "Pseudomonas_sp._GM17_2511231006.fna.RAST.fbamodel\n",
      "152321/6/1\n",
      "Variovorax_sp._CF313_2513020051.fna.RAST.fbamodel\n",
      "Models\n",
      " [[<FBAModel Bacillus_sp._BC15_2615840537.fna.RAST.fbamodel at 0x1440ff3feb0>], [<FBAModel Pseudomonas_sp._GM17_2511231006.fna.RAST.fbamodel at 0x1441044ed00>, <FBAModel Pseudomonas_sp._NP10-3_2757320523.fna.RAST.fbamodel at 0x14481835cd0>, <FBAModel Pseudomonas_sp._GV012_2738543016.fna.RAST.fbamodel at 0x14482dde730>], [<FBAModel Variovorax_sp._CF313_2513020051.fna.RAST.fbamodel at 0x144860a8bb0>]] \n",
      "Media\n",
      " [<cobrakbase.core.kbasebiochem.media.Media object at 0x00000144161C14C0>, <cobrakbase.core.kbasebiochem.media.Media object at 0x0000014487232880>]\n",
      "The minimal flux media consists of 48 compounds and a 6085.848082381538 total influx, with a growth value of 169.7289236514398\n",
      "The minimal flux media consists of 50 compounds and a 5319.609864237868 total influx, with a growth value of 144.47498303235375\n"
     ]
    },
    {
     "ename": "ObjectiveError",
     "evalue": "The model Pseudomonas_sp._NP10-3_2757320523.fna.RAST.fbamodel possesses an objective value of 0 in complete media, which is incompatible with minimal media computations.",
     "output_type": "error",
     "traceback": [
      "\u001b[1;31m---------------------------------------------------------------------------\u001b[0m",
      "\u001b[1;31mObjectiveError\u001b[0m                            Traceback (most recent call last)",
      "Cell \u001b[1;32mIn[1], line 38\u001b[0m\n\u001b[0;32m     35\u001b[0m \u001b[38;5;28mprint\u001b[39m(\u001b[38;5;124m\"\u001b[39m\u001b[38;5;124mModels\u001b[39m\u001b[38;5;130;01m\\n\u001b[39;00m\u001b[38;5;124m\"\u001b[39m, models_lists, \u001b[38;5;124m\"\u001b[39m\u001b[38;5;130;01m\\n\u001b[39;00m\u001b[38;5;124mMedia\u001b[39m\u001b[38;5;130;01m\\n\u001b[39;00m\u001b[38;5;124m\"\u001b[39m, media)\n\u001b[0;32m     37\u001b[0m \u001b[38;5;66;03m# run the CommScores API\u001b[39;00m\n\u001b[1;32m---> 38\u001b[0m df, mets \u001b[38;5;241m=\u001b[39m \u001b[43mCommScores\u001b[49m\u001b[38;5;241;43m.\u001b[39;49m\u001b[43mreport_generation\u001b[49m\u001b[43m(\u001b[49m\u001b[43mmodels_lists\u001b[49m\u001b[43m,\u001b[49m\u001b[43m \u001b[49m\u001b[43mkbase_obj\u001b[49m\u001b[38;5;241;43m=\u001b[39;49m\u001b[43mkbase_api\u001b[49m\u001b[43m,\u001b[49m\u001b[43m \u001b[49m\u001b[43menvironments\u001b[49m\u001b[38;5;241;43m=\u001b[39;49m\u001b[43mmedia\u001b[49m\u001b[43m)\u001b[49m\n\u001b[0;32m     39\u001b[0m reportHTML \u001b[38;5;241m=\u001b[39m CommScores\u001b[38;5;241m.\u001b[39mhtml_report(df, mets, index_html_path)\n\u001b[0;32m     40\u001b[0m \u001b[38;5;28mprint\u001b[39m (reportHTML)\n",
      "File \u001b[1;32m~\\AppData\\Local\\Programs\\Python\\Python39\\lib\\site-packages\\commscores\\commscores.py:467\u001b[0m, in \u001b[0;36mCommScores.report_generation\u001b[1;34m(all_models, pairs, mem_media, pair_limit, exclude_pairs, kbase_obj, annotated_genomes, see_media, environments, pool_size, cip_score, costless, skip_bad_media, anme_comm, print_progress)\u001b[0m\n\u001b[0;32m    465\u001b[0m     new_models\u001b[38;5;241m.\u001b[39mappend(model)\n\u001b[0;32m    466\u001b[0m all_models \u001b[38;5;241m=\u001b[39m new_models[:]\n\u001b[1;32m--> 467\u001b[0m \u001b[38;5;28;01mif\u001b[39;00m \u001b[38;5;129;01mnot\u001b[39;00m mem_media:  models_media \u001b[38;5;241m=\u001b[39m \u001b[43m_get_media\u001b[49m\u001b[43m(\u001b[49m\u001b[43mmodel_s_\u001b[49m\u001b[38;5;241;43m=\u001b[39;49m\u001b[43mall_models\u001b[49m\u001b[43m,\u001b[49m\u001b[43m \u001b[49m\u001b[43mskip_bad_media\u001b[49m\u001b[38;5;241;43m=\u001b[39;49m\u001b[43mskip_bad_media\u001b[49m\u001b[43m)\u001b[49m\n\u001b[0;32m    468\u001b[0m \u001b[38;5;28;01melse\u001b[39;00m:\n\u001b[0;32m    469\u001b[0m     models_media \u001b[38;5;241m=\u001b[39m mem_media\u001b[38;5;241m.\u001b[39mcopy()\n",
      "File \u001b[1;32m~\\AppData\\Local\\Programs\\Python\\Python39\\lib\\site-packages\\commscores\\commscores.py:110\u001b[0m, in \u001b[0;36m_get_media\u001b[1;34m(media, com_model, model_s_, min_growth, environment, interacting, printing, minimization_method, skip_bad_media)\u001b[0m\n\u001b[0;32m    108\u001b[0m     \u001b[38;5;28;01mexcept\u001b[39;00m \u001b[38;5;167;01mException\u001b[39;00m \u001b[38;5;28;01mas\u001b[39;00m e:\n\u001b[0;32m    109\u001b[0m         \u001b[38;5;28;01mif\u001b[39;00m skip_bad_media: \u001b[38;5;28;01mcontinue\u001b[39;00m\n\u001b[1;32m--> 110\u001b[0m         \u001b[38;5;28;01mraise\u001b[39;00m e\n\u001b[0;32m    111\u001b[0m \u001b[38;5;66;03m# print(members_media)\u001b[39;00m\n\u001b[0;32m    112\u001b[0m \u001b[38;5;28;01mif\u001b[39;00m com_model \u001b[38;5;129;01mis\u001b[39;00m \u001b[38;5;28;01mNone\u001b[39;00m:  \u001b[38;5;28;01mreturn\u001b[39;00m members_media\n",
      "File \u001b[1;32m~\\AppData\\Local\\Programs\\Python\\Python39\\lib\\site-packages\\commscores\\commscores.py:105\u001b[0m, in \u001b[0;36m_get_media\u001b[1;34m(media, com_model, model_s_, min_growth, environment, interacting, printing, minimization_method, skip_bad_media)\u001b[0m\n\u001b[0;32m    103\u001b[0m \u001b[38;5;28;01mfor\u001b[39;00m model \u001b[38;5;129;01min\u001b[39;00m model_s_:\n\u001b[0;32m    104\u001b[0m     \u001b[38;5;28;01mtry\u001b[39;00m:\n\u001b[1;32m--> 105\u001b[0m         members_media[model\u001b[38;5;241m.\u001b[39mid] \u001b[38;5;241m=\u001b[39m {\u001b[38;5;124m\"\u001b[39m\u001b[38;5;124mmedia\u001b[39m\u001b[38;5;124m\"\u001b[39m: \u001b[43mMSMinimalMedia\u001b[49m\u001b[38;5;241;43m.\u001b[39;49m\u001b[43mdetermine_min_media\u001b[49m\u001b[43m(\u001b[49m\n\u001b[0;32m    106\u001b[0m \u001b[43m            \u001b[49m\u001b[43mmodel\u001b[49m\u001b[43m,\u001b[49m\u001b[43m \u001b[49m\u001b[43mminimization_method\u001b[49m\u001b[43m,\u001b[49m\u001b[43m \u001b[49m\u001b[43mmin_growth\u001b[49m\u001b[43m,\u001b[49m\u001b[43m \u001b[49m\u001b[43menvironment\u001b[49m\u001b[43m,\u001b[49m\u001b[43m \u001b[49m\u001b[43minteracting\u001b[49m\u001b[43m,\u001b[49m\u001b[43m \u001b[49m\u001b[43mprinting\u001b[49m\u001b[43m)\u001b[49m[\u001b[38;5;241m0\u001b[39m]}\n\u001b[0;32m    107\u001b[0m         \u001b[38;5;28;01mcontinue\u001b[39;00m\n\u001b[0;32m    108\u001b[0m     \u001b[38;5;28;01mexcept\u001b[39;00m \u001b[38;5;167;01mException\u001b[39;00m \u001b[38;5;28;01mas\u001b[39;00m e:\n",
      "File \u001b[1;32m~\\AppData\\Local\\Programs\\Python\\Python39\\lib\\site-packages\\modelseedpy_freiburgermsu\\core\\msminimalmedia.py:261\u001b[0m, in \u001b[0;36mMSMinimalMedia.determine_min_media\u001b[1;34m(model, minimization_method, min_growth, environment, interacting, solution_limit, printing)\u001b[0m\n\u001b[0;32m    257\u001b[0m \u001b[38;5;129m@staticmethod\u001b[39m\n\u001b[0;32m    258\u001b[0m \u001b[38;5;28;01mdef\u001b[39;00m \u001b[38;5;21mdetermine_min_media\u001b[39m(model, minimization_method\u001b[38;5;241m=\u001b[39m\u001b[38;5;124m\"\u001b[39m\u001b[38;5;124mminFlux\u001b[39m\u001b[38;5;124m\"\u001b[39m, min_growth\u001b[38;5;241m=\u001b[39m\u001b[38;5;28;01mNone\u001b[39;00m, environment\u001b[38;5;241m=\u001b[39m\u001b[38;5;28;01mNone\u001b[39;00m,\n\u001b[0;32m    259\u001b[0m                         interacting\u001b[38;5;241m=\u001b[39m\u001b[38;5;28;01mTrue\u001b[39;00m, solution_limit\u001b[38;5;241m=\u001b[39m\u001b[38;5;241m5\u001b[39m, printing\u001b[38;5;241m=\u001b[39m\u001b[38;5;28;01mTrue\u001b[39;00m):\n\u001b[0;32m    260\u001b[0m     \u001b[38;5;28;01mif\u001b[39;00m minimization_method \u001b[38;5;241m==\u001b[39m \u001b[38;5;124m\"\u001b[39m\u001b[38;5;124mminFlux\u001b[39m\u001b[38;5;124m\"\u001b[39m:\n\u001b[1;32m--> 261\u001b[0m         \u001b[38;5;28;01mreturn\u001b[39;00m \u001b[43mMSMinimalMedia\u001b[49m\u001b[38;5;241;43m.\u001b[39;49m\u001b[43mminimize_flux\u001b[49m\u001b[43m(\u001b[49m\u001b[43mmodel\u001b[49m\u001b[43m,\u001b[49m\u001b[43m \u001b[49m\u001b[43mmin_growth\u001b[49m\u001b[43m,\u001b[49m\u001b[43m \u001b[49m\u001b[43menvironment\u001b[49m\u001b[43m,\u001b[49m\u001b[43m \u001b[49m\u001b[43minteracting\u001b[49m\u001b[43m,\u001b[49m\u001b[43m \u001b[49m\u001b[43mprinting\u001b[49m\u001b[43m)\u001b[49m\n\u001b[0;32m    262\u001b[0m     \u001b[38;5;28;01mif\u001b[39;00m minimization_method \u001b[38;5;241m==\u001b[39m \u001b[38;5;124m\"\u001b[39m\u001b[38;5;124mminComponents\u001b[39m\u001b[38;5;124m\"\u001b[39m:\n\u001b[0;32m    263\u001b[0m         \u001b[38;5;28;01mreturn\u001b[39;00m minimal_medium(model, min_growth, minimize_components\u001b[38;5;241m=\u001b[39m\u001b[38;5;28;01mTrue\u001b[39;00m)\n",
      "File \u001b[1;32m~\\AppData\\Local\\Programs\\Python\\Python39\\lib\\site-packages\\modelseedpy_freiburgermsu\\core\\msminimalmedia.py:86\u001b[0m, in \u001b[0;36mMSMinimalMedia.minimize_flux\u001b[1;34m(org_model, min_growth, environment, interacting, printing)\u001b[0m\n\u001b[0;32m     84\u001b[0m \u001b[38;5;124;03m\"\"\"minimize the total in-flux of exchange reactions in the model\"\"\"\u001b[39;00m\n\u001b[0;32m     85\u001b[0m \u001b[38;5;28;01mif\u001b[39;00m org_model\u001b[38;5;241m.\u001b[39mslim_optimize() \u001b[38;5;241m==\u001b[39m \u001b[38;5;241m0\u001b[39m:\n\u001b[1;32m---> 86\u001b[0m     \u001b[38;5;28;01mraise\u001b[39;00m ObjectiveError(\u001b[38;5;124mf\u001b[39m\u001b[38;5;124m\"\u001b[39m\u001b[38;5;124mThe model \u001b[39m\u001b[38;5;132;01m{\u001b[39;00morg_model\u001b[38;5;241m.\u001b[39mid\u001b[38;5;132;01m}\u001b[39;00m\u001b[38;5;124m possesses an objective value of 0 in complete media, \u001b[39m\u001b[38;5;124m\"\u001b[39m\n\u001b[0;32m     87\u001b[0m                          \u001b[38;5;124m\"\u001b[39m\u001b[38;5;124mwhich is incompatible with minimal media computations.\u001b[39m\u001b[38;5;124m\"\u001b[39m)\n\u001b[0;32m     88\u001b[0m model_util \u001b[38;5;241m=\u001b[39m MSModelUtil(org_model, \u001b[38;5;28;01mTrue\u001b[39;00m)\n\u001b[0;32m     89\u001b[0m model_util\u001b[38;5;241m.\u001b[39madd_medium(environment \u001b[38;5;129;01mor\u001b[39;00m model_util\u001b[38;5;241m.\u001b[39mmodel\u001b[38;5;241m.\u001b[39mmedium)\n",
      "\u001b[1;31mObjectiveError\u001b[0m: The model Pseudomonas_sp._NP10-3_2757320523.fna.RAST.fbamodel possesses an objective value of 0 in complete media, which is incompatible with minimal media computations."
     ]
    }
   ],
   "source": [
    "from commscores import CommScores\n",
    "import os\n",
    "local_cobrakbase_path = os.path.join('C:', 'Users', 'Andrew Freiburger','Documents','Argonne','cobrakbase')\n",
    "os.environ[\"HOME\"] = local_cobrakbase_path\n",
    "import cobrakbase\n",
    "\n",
    "# Need to change this\n",
    "token=\"NLMIQKLKUM2UH2WRMDJKYBW3Y44TYJ3W\"\n",
    "\n",
    "params = {\n",
    "    'workspace_name':'pranjan77:narrative_1689263889756',\n",
    "    \"media\": [\"152321/9/1\", \"152321/10/1\"],\n",
    "    \"model_list\": [{\n",
    "    \"member_models\": [\"152321/7/1\"]\n",
    "    }, {\n",
    "    \"member_models\": [\"152321/3/1\", \"152321/4/1\", \"152321/5/1\"]\n",
    "    }, {\n",
    "    \"member_models\": [\"152321/6/1\"]\n",
    "    }]\n",
    "}\n",
    "kbase_api = cobrakbase.KBaseAPI(token)\n",
    "result_dir = \"./\"\n",
    "index_html_path = os.path.join(result_dir, \"index.html\")\n",
    "\n",
    "# process the App parameters for CommScores API arguments\n",
    "## models\n",
    "models_lists = []\n",
    "for model_dic in params[\"model_list\"]:\n",
    "    print(model_dic[\"member_models\"][0])\n",
    "    print(kbase_api.get_from_ws(model_dic[\"member_models\"][0]))\n",
    "    models_lists.append([kbase_api.get_from_ws(model) for model in model_dic[\"member_models\"]])\n",
    "if len(models_lists) == 1:  models_lists = models_lists[0]\n",
    "## media\n",
    "media = [kbase_api.get_from_ws(medium) for medium in params['media']]\n",
    "print(\"Models\\n\", models_lists, \"\\nMedia\\n\", media)\n",
    "\n",
    "# run the CommScores API\n",
    "df, mets = CommScores.report_generation(models_lists, kbase_obj=kbase_api, environments=media)\n",
    "reportHTML = CommScores.html_report(df, mets, index_html_path)\n",
    "print (reportHTML)"
   ]
  },
  {
   "cell_type": "code",
   "execution_count": null,
   "id": "48f17423-9915-4030-a8c3-0713b8cfcf2b",
   "metadata": {},
   "outputs": [],
   "source": []
  }
 ],
 "metadata": {
  "kernelspec": {
   "display_name": "Python 3 (ipykernel)",
   "language": "python",
   "name": "python3"
  },
  "language_info": {
   "codemirror_mode": {
    "name": "ipython",
    "version": 3
   },
   "file_extension": ".py",
   "mimetype": "text/x-python",
   "name": "python",
   "nbconvert_exporter": "python",
   "pygments_lexer": "ipython3",
   "version": "3.9.12"
  }
 },
 "nbformat": 4,
 "nbformat_minor": 5
}
