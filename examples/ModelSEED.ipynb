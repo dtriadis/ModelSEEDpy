{
 "cells": [
  {
   "cell_type": "code",
   "execution_count": 5,
   "metadata": {},
   "outputs": [],
   "source": [
    "import modelseedpy\n",
    "modelseed = modelseedpy.biochem.from_local('/Users/fliu/workspace/jupyter/ModelSEEDDatabase/')\n",
    "rxn = modelseed.get_seed_reaction('rxn00002')\n",
    "print(rxn)"
   ]
  },
  {
   "cell_type": "code",
   "execution_count": 9,
   "metadata": {},
   "outputs": [
    {
     "data": {
      "text/plain": [
       "{('cpd00001', '0'): -1.0,\n",
       " ('cpd00067', '0'): -3.0,\n",
       " ('cpd00742', '0'): -1.0,\n",
       " ('cpd00011', '0'): 2.0,\n",
       " ('cpd00013', '0'): 2.0}"
      ]
     },
     "execution_count": 9,
     "metadata": {},
     "output_type": "execute_result"
    }
   ],
   "source": [
    "rxn.cstoichiometry"
   ]
  },
  {
   "cell_type": "code",
   "execution_count": 10,
   "metadata": {},
   "outputs": [
    {
     "data": {
      "text/plain": [
       "<modelseedpy.biochem.modelseed_compound.ModelSEEDCompound at 0x7fb8d2fb8450>"
      ]
     },
     "execution_count": 10,
     "metadata": {},
     "output_type": "execute_result"
    }
   ],
   "source": [
    "cpd = modelseed.get_seed_compound('cpd00742')\n",
    "cpd"
   ]
  },
  {
   "cell_type": "code",
   "execution_count": 7,
   "metadata": {},
   "outputs": [
    {
     "name": "stdout",
     "output_type": "stream",
     "text": [
      "rxn00002: cpd00001 [0] + 3.0 cpd00067 [0] + cpd00742 [0] --> 2.0 cpd00011 [0] + 2.0 cpd00013 [0]\n"
     ]
    }
   ],
   "source": []
  },
  {
   "cell_type": "code",
   "execution_count": null,
   "metadata": {},
   "outputs": [],
   "source": []
  }
 ],
 "metadata": {
  "kernelspec": {
   "display_name": "Python 3",
   "language": "python",
   "name": "python3"
  },
  "language_info": {
   "codemirror_mode": {
    "name": "ipython",
    "version": 3
   },
   "file_extension": ".py",
   "mimetype": "text/x-python",
   "name": "python",
   "nbconvert_exporter": "python",
   "pygments_lexer": "ipython3",
   "version": "3.7.4"
  }
 },
 "nbformat": 4,
 "nbformat_minor": 4
}
