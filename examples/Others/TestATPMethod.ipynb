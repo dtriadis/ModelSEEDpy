{
 "cells": [
  {
   "cell_type": "code",
   "execution_count": 1,
   "metadata": {},
   "outputs": [
    {
     "name": "stdout",
     "output_type": "stream",
     "text": [
      "cobrakbase 0.2.8\n"
     ]
    }
   ],
   "source": [
    "import sys\n",
    "import time\n",
    "sys.path.append(\"/Users/chenry/code/ModelSEEDpy\")\n",
    "import cobra\n",
    "import cobrakbase\n",
    "from modelseedpy import MSATPCorrection,MSEditorAPI,MSEquation,MSBuilder,MSPackageManager"
   ]
  },
  {
   "cell_type": "code",
   "execution_count": 2,
   "metadata": {},
   "outputs": [],
   "source": [
    "kbase_api = cobrakbase.KBaseAPI()\n",
    "template = kbase_api.get_from_ws(\"CoreModelTemplateV3\",\"NewKBaseModelTemplates\")\n",
    "model = MSBuilder.build_full_template_model(template)"
   ]
  },
  {
   "cell_type": "code",
   "execution_count": 3,
   "metadata": {
    "scrolled": true
   },
   "outputs": [
    {
     "name": "stdout",
     "output_type": "stream",
     "text": [
      "Glucose.aerobic:0.8098710368403291\n",
      "Acetate.aerobic:0.0\n",
      "Ethanol.aerobic:0.0\n",
      "Pyruvate.aerobic:0.0\n",
      "Glycerol.aerobic:0.8979004973664519\n",
      "Fumarate.aerobic:0.4108041491219061\n",
      "Succinate.aerobic:0.44895024868322597\n",
      "Oxoglutarate.aerobic:0.0\n",
      "L-Lactate.aerobic:0.762921991226397\n",
      "D-Lactate.aerobic:0.0\n",
      "Formate.aerobic:0.0\n",
      "Glucose.anaerobic:0.08216082982438123\n",
      "Acetate.anaerobic:0.0\n",
      "Ethanol.anaerobic:0.0\n",
      "Pyruatve.anaerobic:0.0\n",
      "Glycerol.anaerobic:0.0352117842104491\n",
      "Fumarate.anaerobic:0.04694904561393213\n",
      "Succinate.anaerobic:0.0\n",
      "Oxoglutarate.anaerobic:0.0\n",
      "Formate-Nitrite:0.0\n",
      "Formate-Nitrate:0.0\n",
      "Glucose-DMSO:0.08216082982438123\n",
      "Glucose-TMAO:0.08216082982438123\n",
      "Pyruvate-DMSO:0.0\n",
      "Pyruvate-DMSO:0.0\n",
      "Pyruvate-Nitric.oxide:0.0\n",
      "Pyruvate-Nitrite:0.0\n",
      "Pyruvate-Nitrate:0.0\n",
      "Pyruvate-Sulfate:0.0\n",
      "Pyruvate-Sulfite:0.0\n"
     ]
    }
   ],
   "source": [
    "media_names = [\n",
    "    \"Glucose.aerobic\",\n",
    "    \"Acetate.aerobic\",\n",
    "    \"Ethanol.aerobic\",\n",
    "    \"Pyruvate.aerobic\",\n",
    "    \"Glycerol.aerobic\",\n",
    "    \"Fumarate.aerobic\",\n",
    "    \"Succinate.aerobic\",\n",
    "    \"Oxoglutarate.aerobic\",\n",
    "    \"L-Lactate.aerobic\",\n",
    "    \"D-Lactate.aerobic\",\n",
    "    \"Formate.aerobic\",\n",
    "    \"Glucose.anaerobic\",\n",
    "    \"Acetate.anaerobic\",\n",
    "    \"Ethanol.anaerobic\",\n",
    "    \"Pyruatve.anaerobic\",\n",
    "    \"Glycerol.anaerobic\",\n",
    "    \"Fumarate.anaerobic\",\n",
    "    \"Succinate.anaerobic\",\n",
    "    \"Oxoglutarate.anaerobic\",\n",
    "    \"Formate-Nitrite\",\n",
    "    \"Formate-Nitrate\",\n",
    "    \"Glucose-DMSO\",\n",
    "    \"Glucose-TMAO\",\n",
    "    \"Pyruvate-DMSO\",\n",
    "    \"Pyruvate-DMSO\",\n",
    "    \"Pyruvate-Nitric.oxide\",\n",
    "    \"Pyruvate-Nitrite\",\n",
    "    \"Pyruvate-Nitrate\",\n",
    "    \"Pyruvate-Sulfate\",\n",
    "    \"Pyruvate-Sulfite\"#,\n",
    "    #\"Hydrogenotrophic\",\n",
    "    #\"control.media\",\n",
    "    #\"Auxotrphic\"\n",
    "]\n",
    "media_list = []\n",
    "for name in media_names:\n",
    "    media_list.append(kbase_api.get_from_ws(name,94026))\n",
    "pkgmgr = MSPackageManager.get_pkg_mgr(model)\n",
    "model.objective = \"bio2\"\n",
    "for media in media_list:\n",
    "    pkgmgr.getpkg(\"KBaseMediaPkg\").build_package(media)    \n",
    "    solution = model.optimize()\n",
    "    print(media.id+\":\"+str(solution.objective_value))\n"
   ]
  },
  {
   "cell_type": "code",
   "execution_count": 4,
   "metadata": {},
   "outputs": [
    {
     "name": "stderr",
     "output_type": "stream",
     "text": [
      "/Users/chenry/opt/anaconda3/lib/python3.7/site-packages/cobra/util/solver.py:416 \u001b[1;31mUserWarning\u001b[0m: solver status is 'infeasible'\n"
     ]
    },
    {
     "name": "stdout",
     "output_type": "stream",
     "text": [
      "Acetate.aerobic:5.0\n",
      "Ethanol.aerobic:6.0\n",
      "Pyruvate.aerobic:6.0\n",
      "Glycerol.aerobic:3.0\n",
      "Succinate.aerobic:5.0\n",
      "Oxoglutarate.aerobic:6.0\n",
      "L-Lactate.aerobic:2.0\n",
      "D-Lactate.aerobic:4.0\n",
      "Formate.aerobic:5.0\n",
      "Acetate.anaerobic:5.0\n",
      "Ethanol.anaerobic:4.0\n",
      "Pyruatve.anaerobic:5.0\n",
      "Glycerol.anaerobic:3.0\n",
      "Succinate.anaerobic:4.0\n",
      "Oxoglutarate.anaerobic:5.0\n",
      "Formate-Nitrite:4.0\n",
      "Formate-Nitrate:3.0\n",
      "Pyruvate-DMSO:5.0\n",
      "Pyruvate-DMSO:5.0\n",
      "Pyruvate-Nitric.oxide:5.0\n",
      "Pyruvate-Nitrite:5.0\n",
      "Pyruvate-Nitrate:3.0\n",
      "Pyruvate-Sulfate:6.0\n",
      "Pyruvate-Sulfite:5.0\n",
      "Keeping:Glucose.aerobic\n",
      "Keeping:Fumarate.aerobic\n",
      "Keeping:Glucose.anaerobic\n",
      "Keeping:Fumarate.anaerobic\n",
      "Keeping:Glucose-DMSO\n",
      "Keeping:Glucose-TMAO\n",
      "Objective in Glucose.aerobic:2.0\n",
      "Objective in Fumarate.aerobic:0.25\n",
      "Objective in Glucose.anaerobic:2.0\n",
      "Objective in Fumarate.anaerobic:0.25\n",
      "Objective in Glucose-DMSO:2.0\n",
      "Objective in Glucose-TMAO:2.0\n"
     ]
    },
    {
     "ename": "KeyboardInterrupt",
     "evalue": "",
     "output_type": "error",
     "traceback": [
      "\u001b[0;31m---------------------------------------------------------------------------\u001b[0m",
      "\u001b[0;31mKeyboardInterrupt\u001b[0m                         Traceback (most recent call last)",
      "\u001b[0;32m<ipython-input-4-5c53ca3e93f1>\u001b[0m in \u001b[0;36m<module>\u001b[0;34m\u001b[0m\n\u001b[1;32m      3\u001b[0m \u001b[0mtemplate\u001b[0m \u001b[0;34m=\u001b[0m \u001b[0mkbase_api\u001b[0m\u001b[0;34m.\u001b[0m\u001b[0mget_from_ws\u001b[0m\u001b[0;34m(\u001b[0m\u001b[0;34m\"CoreModelTemplateV3\"\u001b[0m\u001b[0;34m,\u001b[0m\u001b[0;34m\"NewKBaseModelTemplates\"\u001b[0m\u001b[0;34m)\u001b[0m\u001b[0;34m\u001b[0m\u001b[0;34m\u001b[0m\u001b[0m\n\u001b[1;32m      4\u001b[0m \u001b[0mstart\u001b[0m \u001b[0;34m=\u001b[0m \u001b[0mtime\u001b[0m\u001b[0;34m.\u001b[0m\u001b[0mtime\u001b[0m\u001b[0;34m(\u001b[0m\u001b[0;34m)\u001b[0m\u001b[0;34m\u001b[0m\u001b[0;34m\u001b[0m\u001b[0m\n\u001b[0;32m----> 5\u001b[0;31m \u001b[0matpobj\u001b[0m \u001b[0;34m=\u001b[0m \u001b[0mMSATPCorrection\u001b[0m\u001b[0;34m.\u001b[0m\u001b[0matp_correction\u001b[0m\u001b[0;34m(\u001b[0m\u001b[0mmodel\u001b[0m\u001b[0;34m,\u001b[0m\u001b[0mtemplate\u001b[0m\u001b[0;34m,\u001b[0m\u001b[0mmedia_list\u001b[0m\u001b[0;34m,\u001b[0m\u001b[0matp_objective\u001b[0m \u001b[0;34m=\u001b[0m \u001b[0;34m\"bio2\"\u001b[0m\u001b[0;34m)\u001b[0m\u001b[0;34m\u001b[0m\u001b[0;34m\u001b[0m\u001b[0m\n\u001b[0m\u001b[1;32m      6\u001b[0m \u001b[0mend\u001b[0m \u001b[0;34m=\u001b[0m \u001b[0mtime\u001b[0m\u001b[0;34m.\u001b[0m\u001b[0mtime\u001b[0m\u001b[0;34m(\u001b[0m\u001b[0;34m)\u001b[0m\u001b[0;34m\u001b[0m\u001b[0;34m\u001b[0m\u001b[0m\n\u001b[1;32m      7\u001b[0m \u001b[0mprint\u001b[0m\u001b[0;34m(\u001b[0m\u001b[0;34m\"Elapsed:\"\u001b[0m\u001b[0;34m+\u001b[0m\u001b[0mstr\u001b[0m\u001b[0;34m(\u001b[0m\u001b[0mend\u001b[0m \u001b[0;34m-\u001b[0m \u001b[0mstart\u001b[0m\u001b[0;34m)\u001b[0m\u001b[0;34m)\u001b[0m\u001b[0;34m\u001b[0m\u001b[0;34m\u001b[0m\u001b[0m\n",
      "\u001b[0;32m~/code/ModelSEEDpy/modelseedpy/core/msatpcorrection.py\u001b[0m in \u001b[0;36matp_correction\u001b[0;34m(model, coretemplate, atp_medias, atp_objective, max_gapfilling, gapfilling_delta)\u001b[0m\n\u001b[1;32m    143\u001b[0m \u001b[0;34m\u001b[0m\u001b[0m\n\u001b[1;32m    144\u001b[0m \u001b[0;34m\u001b[0m\u001b[0m\n\u001b[0;32m--> 145\u001b[0;31m \u001b[0;34m\u001b[0m\u001b[0m\n\u001b[0m",
      "\u001b[0;32m~/code/ModelSEEDpy/modelseedpy/core/msatpcorrection.py\u001b[0m in \u001b[0;36mrun_atp_correction\u001b[0;34m(self)\u001b[0m\n\u001b[1;32m    137\u001b[0m \u001b[0;34m\u001b[0m\u001b[0m\n\u001b[1;32m    138\u001b[0m     \u001b[0;34m@\u001b[0m\u001b[0mstaticmethod\u001b[0m\u001b[0;34m\u001b[0m\u001b[0;34m\u001b[0m\u001b[0m\n\u001b[0;32m--> 139\u001b[0;31m     \u001b[0;32mdef\u001b[0m \u001b[0matp_correction\u001b[0m\u001b[0;34m(\u001b[0m\u001b[0mmodel\u001b[0m\u001b[0;34m,\u001b[0m\u001b[0mcoretemplate\u001b[0m\u001b[0;34m,\u001b[0m\u001b[0matp_medias\u001b[0m \u001b[0;34m=\u001b[0m \u001b[0;32mNone\u001b[0m\u001b[0;34m,\u001b[0m\u001b[0matp_objective\u001b[0m \u001b[0;34m=\u001b[0m \u001b[0;34m\"bio2\"\u001b[0m\u001b[0;34m,\u001b[0m\u001b[0mmax_gapfilling\u001b[0m \u001b[0;34m=\u001b[0m \u001b[0;32mNone\u001b[0m\u001b[0;34m,\u001b[0m\u001b[0mgapfilling_delta\u001b[0m \u001b[0;34m=\u001b[0m \u001b[0;36m0\u001b[0m\u001b[0;34m)\u001b[0m\u001b[0;34m:\u001b[0m\u001b[0;34m\u001b[0m\u001b[0;34m\u001b[0m\u001b[0m\n\u001b[0m\u001b[1;32m    140\u001b[0m         \u001b[0mmsatpobj\u001b[0m \u001b[0;34m=\u001b[0m \u001b[0mMSATPCorrection\u001b[0m\u001b[0;34m(\u001b[0m\u001b[0mmodel\u001b[0m\u001b[0;34m,\u001b[0m\u001b[0mcoretemplate\u001b[0m\u001b[0;34m,\u001b[0m\u001b[0matp_medias\u001b[0m\u001b[0;34m,\u001b[0m\u001b[0matp_objective\u001b[0m\u001b[0;34m,\u001b[0m\u001b[0mmax_gapfilling\u001b[0m\u001b[0;34m,\u001b[0m\u001b[0mgapfilling_delta\u001b[0m\u001b[0;34m)\u001b[0m\u001b[0;34m\u001b[0m\u001b[0;34m\u001b[0m\u001b[0m\n\u001b[1;32m    141\u001b[0m         \u001b[0mmsatpobj\u001b[0m\u001b[0;34m.\u001b[0m\u001b[0mrun_atp_correction\u001b[0m\u001b[0;34m(\u001b[0m\u001b[0;34m)\u001b[0m\u001b[0;34m\u001b[0m\u001b[0;34m\u001b[0m\u001b[0m\n",
      "\u001b[0;32m~/code/ModelSEEDpy/modelseedpy/core/msatpcorrection.py\u001b[0m in \u001b[0;36mexpand_model_to_genome_scale\u001b[0;34m(self)\u001b[0m\n\u001b[1;32m    110\u001b[0m         \u001b[0;32mfor\u001b[0m \u001b[0mitem\u001b[0m \u001b[0;32min\u001b[0m \u001b[0mself\u001b[0m\u001b[0;34m.\u001b[0m\u001b[0mfiltered_noncore\u001b[0m\u001b[0;34m:\u001b[0m\u001b[0;34m\u001b[0m\u001b[0;34m\u001b[0m\u001b[0m\n\u001b[1;32m    111\u001b[0m             \u001b[0;32mif\u001b[0m \u001b[0mitem\u001b[0m\u001b[0;34m[\u001b[0m\u001b[0;36m1\u001b[0m\u001b[0;34m]\u001b[0m \u001b[0;34m==\u001b[0m \u001b[0;34m\">\"\u001b[0m\u001b[0;34m:\u001b[0m\u001b[0;34m\u001b[0m\u001b[0;34m\u001b[0m\u001b[0m\n\u001b[0;32m--> 112\u001b[0;31m                 \u001b[0mitem\u001b[0m\u001b[0;34m[\u001b[0m\u001b[0;36m0\u001b[0m\u001b[0;34m]\u001b[0m\u001b[0;34m.\u001b[0m\u001b[0mupper_bound\u001b[0m \u001b[0;34m=\u001b[0m \u001b[0;36m0\u001b[0m\u001b[0;34m\u001b[0m\u001b[0;34m\u001b[0m\u001b[0m\n\u001b[0m\u001b[1;32m    113\u001b[0m             \u001b[0;32melse\u001b[0m\u001b[0;34m:\u001b[0m\u001b[0;34m\u001b[0m\u001b[0;34m\u001b[0m\u001b[0m\n\u001b[1;32m    114\u001b[0m                 \u001b[0mitem\u001b[0m\u001b[0;34m[\u001b[0m\u001b[0;36m0\u001b[0m\u001b[0;34m]\u001b[0m\u001b[0;34m.\u001b[0m\u001b[0mlower_bound\u001b[0m \u001b[0;34m=\u001b[0m \u001b[0;36m0\u001b[0m\u001b[0;34m\u001b[0m\u001b[0;34m\u001b[0m\u001b[0m\n",
      "\u001b[0;32m~/code/ModelSEEDpy/modelseedpy/core/fbahelper.py\u001b[0m in \u001b[0;36mreaction_expansion_test\u001b[0;34m(model, reaction_list, condition_list)\u001b[0m\n\u001b[1;32m     87\u001b[0m             \u001b[0;32mif\u001b[0m \u001b[0mitem\u001b[0m\u001b[0;34m[\u001b[0m\u001b[0;36m1\u001b[0m\u001b[0;34m]\u001b[0m \u001b[0;34m==\u001b[0m \u001b[0;34m\">\"\u001b[0m \u001b[0;34m:\u001b[0m\u001b[0;34m\u001b[0m\u001b[0;34m\u001b[0m\u001b[0m\n\u001b[1;32m     88\u001b[0m                 \u001b[0mitem\u001b[0m\u001b[0;34m[\u001b[0m\u001b[0;36m0\u001b[0m\u001b[0;34m]\u001b[0m\u001b[0;34m.\u001b[0m\u001b[0mupper_bound\u001b[0m \u001b[0;34m=\u001b[0m \u001b[0moriginal_bound\u001b[0m\u001b[0;34m[\u001b[0m\u001b[0mcount\u001b[0m\u001b[0;34m]\u001b[0m\u001b[0;34m\u001b[0m\u001b[0;34m\u001b[0m\u001b[0m\n\u001b[0;32m---> 89\u001b[0;31m                 \u001b[0;32mif\u001b[0m \u001b[0;32mnot\u001b[0m \u001b[0mFBAHelper\u001b[0m\u001b[0;34m.\u001b[0m\u001b[0mtest_condition_list\u001b[0m\u001b[0;34m(\u001b[0m\u001b[0mmodel\u001b[0m\u001b[0;34m,\u001b[0m\u001b[0mcondition_list\u001b[0m\u001b[0;34m)\u001b[0m\u001b[0;34m:\u001b[0m\u001b[0;34m\u001b[0m\u001b[0;34m\u001b[0m\u001b[0m\n\u001b[0m\u001b[1;32m     90\u001b[0m                     \u001b[0mitem\u001b[0m\u001b[0;34m[\u001b[0m\u001b[0;36m0\u001b[0m\u001b[0;34m]\u001b[0m\u001b[0;34m.\u001b[0m\u001b[0mupper_bound\u001b[0m \u001b[0;34m=\u001b[0m \u001b[0;36m0\u001b[0m\u001b[0;34m\u001b[0m\u001b[0;34m\u001b[0m\u001b[0m\n\u001b[1;32m     91\u001b[0m                     \u001b[0mfiltered_list\u001b[0m\u001b[0;34m.\u001b[0m\u001b[0mappend\u001b[0m\u001b[0;34m(\u001b[0m\u001b[0mitem\u001b[0m\u001b[0;34m)\u001b[0m\u001b[0;34m\u001b[0m\u001b[0;34m\u001b[0m\u001b[0m\n",
      "\u001b[0;32m~/code/ModelSEEDpy/modelseedpy/core/fbahelper.py\u001b[0m in \u001b[0;36mtest_condition_list\u001b[0;34m(model, condition_list)\u001b[0m\n\u001b[1;32m     61\u001b[0m             \u001b[0mpkgmgr\u001b[0m\u001b[0;34m.\u001b[0m\u001b[0mgetpkg\u001b[0m\u001b[0;34m(\u001b[0m\u001b[0;34m\"KBaseMediaPkg\"\u001b[0m\u001b[0;34m)\u001b[0m\u001b[0;34m.\u001b[0m\u001b[0mbuild_package\u001b[0m\u001b[0;34m(\u001b[0m\u001b[0mcondition\u001b[0m\u001b[0;34m[\u001b[0m\u001b[0;34m\"media\"\u001b[0m\u001b[0;34m]\u001b[0m\u001b[0;34m)\u001b[0m\u001b[0;34m\u001b[0m\u001b[0;34m\u001b[0m\u001b[0m\n\u001b[1;32m     62\u001b[0m             \u001b[0mmodel\u001b[0m\u001b[0;34m.\u001b[0m\u001b[0mobjective\u001b[0m \u001b[0;34m=\u001b[0m \u001b[0mcondition\u001b[0m\u001b[0;34m[\u001b[0m\u001b[0;34m\"objective\"\u001b[0m\u001b[0;34m]\u001b[0m\u001b[0;34m\u001b[0m\u001b[0;34m\u001b[0m\u001b[0m\n\u001b[0;32m---> 63\u001b[0;31m             \u001b[0msol\u001b[0m \u001b[0;34m=\u001b[0m \u001b[0mmodel\u001b[0m\u001b[0;34m.\u001b[0m\u001b[0moptimize\u001b[0m\u001b[0;34m(\u001b[0m\u001b[0;34m)\u001b[0m\u001b[0;34m\u001b[0m\u001b[0;34m\u001b[0m\u001b[0m\n\u001b[0m\u001b[1;32m     64\u001b[0m             \u001b[0;32mif\u001b[0m \u001b[0msol\u001b[0m\u001b[0;34m.\u001b[0m\u001b[0mobjective_value\u001b[0m \u001b[0;34m>=\u001b[0m \u001b[0mcondition\u001b[0m\u001b[0;34m[\u001b[0m\u001b[0;34m\"threshold\"\u001b[0m\u001b[0;34m]\u001b[0m \u001b[0;32mand\u001b[0m \u001b[0mcondition\u001b[0m\u001b[0;34m[\u001b[0m\u001b[0;34m\"is_max_threshold\"\u001b[0m\u001b[0;34m]\u001b[0m\u001b[0;34m:\u001b[0m\u001b[0;34m\u001b[0m\u001b[0;34m\u001b[0m\u001b[0m\n\u001b[1;32m     65\u001b[0m                 \u001b[0mprint\u001b[0m\u001b[0;34m(\u001b[0m\u001b[0;34m\"FAILED\"\u001b[0m\u001b[0;34m)\u001b[0m\u001b[0;34m\u001b[0m\u001b[0;34m\u001b[0m\u001b[0m\n",
      "\u001b[0;32m~/opt/anaconda3/lib/python3.7/site-packages/cobra/core/model.py\u001b[0m in \u001b[0;36moptimize\u001b[0;34m(self, objective_sense, raise_error)\u001b[0m\n\u001b[1;32m   1080\u001b[0m                 objective_sense, original_direction)\n\u001b[1;32m   1081\u001b[0m         \u001b[0mself\u001b[0m\u001b[0;34m.\u001b[0m\u001b[0mslim_optimize\u001b[0m\u001b[0;34m(\u001b[0m\u001b[0;34m)\u001b[0m\u001b[0;34m\u001b[0m\u001b[0;34m\u001b[0m\u001b[0m\n\u001b[0;32m-> 1082\u001b[0;31m         \u001b[0msolution\u001b[0m \u001b[0;34m=\u001b[0m \u001b[0mget_solution\u001b[0m\u001b[0;34m(\u001b[0m\u001b[0mself\u001b[0m\u001b[0;34m,\u001b[0m \u001b[0mraise_error\u001b[0m\u001b[0;34m=\u001b[0m\u001b[0mraise_error\u001b[0m\u001b[0;34m)\u001b[0m\u001b[0;34m\u001b[0m\u001b[0;34m\u001b[0m\u001b[0m\n\u001b[0m\u001b[1;32m   1083\u001b[0m         \u001b[0mself\u001b[0m\u001b[0;34m.\u001b[0m\u001b[0mobjective\u001b[0m\u001b[0;34m.\u001b[0m\u001b[0mdirection\u001b[0m \u001b[0;34m=\u001b[0m \u001b[0moriginal_direction\u001b[0m\u001b[0;34m\u001b[0m\u001b[0;34m\u001b[0m\u001b[0m\n\u001b[1;32m   1084\u001b[0m         \u001b[0;32mreturn\u001b[0m \u001b[0msolution\u001b[0m\u001b[0;34m\u001b[0m\u001b[0;34m\u001b[0m\u001b[0m\n",
      "\u001b[0;32m~/opt/anaconda3/lib/python3.7/site-packages/cobra/core/solution.py\u001b[0m in \u001b[0;36mget_solution\u001b[0;34m(model, reactions, metabolites, raise_error)\u001b[0m\n\u001b[1;32m    239\u001b[0m         \u001b[0mmet_index\u001b[0m \u001b[0;34m=\u001b[0m \u001b[0;34m[\u001b[0m\u001b[0mmet\u001b[0m\u001b[0;34m.\u001b[0m\u001b[0mid\u001b[0m \u001b[0;32mfor\u001b[0m \u001b[0mmet\u001b[0m \u001b[0;32min\u001b[0m \u001b[0mmetabolites\u001b[0m\u001b[0;34m]\u001b[0m\u001b[0;34m\u001b[0m\u001b[0;34m\u001b[0m\u001b[0m\n\u001b[1;32m    240\u001b[0m     \u001b[0;32melse\u001b[0m\u001b[0;34m:\u001b[0m\u001b[0;34m\u001b[0m\u001b[0;34m\u001b[0m\u001b[0m\n\u001b[0;32m--> 241\u001b[0;31m         \u001b[0mvar_duals\u001b[0m \u001b[0;34m=\u001b[0m \u001b[0mmodel\u001b[0m\u001b[0;34m.\u001b[0m\u001b[0msolver\u001b[0m\u001b[0;34m.\u001b[0m\u001b[0mreduced_costs\u001b[0m\u001b[0;34m\u001b[0m\u001b[0;34m\u001b[0m\u001b[0m\n\u001b[0m\u001b[1;32m    242\u001b[0m         \u001b[0;32mfor\u001b[0m \u001b[0;34m(\u001b[0m\u001b[0mi\u001b[0m\u001b[0;34m,\u001b[0m \u001b[0mrxn\u001b[0m\u001b[0;34m)\u001b[0m \u001b[0;32min\u001b[0m \u001b[0menumerate\u001b[0m\u001b[0;34m(\u001b[0m\u001b[0mreactions\u001b[0m\u001b[0;34m)\u001b[0m\u001b[0;34m:\u001b[0m\u001b[0;34m\u001b[0m\u001b[0;34m\u001b[0m\u001b[0m\n\u001b[1;32m    243\u001b[0m             \u001b[0mforward\u001b[0m \u001b[0;34m=\u001b[0m \u001b[0mrxn\u001b[0m\u001b[0;34m.\u001b[0m\u001b[0mid\u001b[0m\u001b[0;34m\u001b[0m\u001b[0;34m\u001b[0m\u001b[0m\n",
      "\u001b[0;32m~/opt/anaconda3/lib/python3.7/site-packages/optlang/interface.py\u001b[0m in \u001b[0;36mreduced_costs\u001b[0;34m(self)\u001b[0m\n\u001b[1;32m   1254\u001b[0m         \"\"\"\n\u001b[1;32m   1255\u001b[0m         return collections.OrderedDict(\n\u001b[0;32m-> 1256\u001b[0;31m             \u001b[0mzip\u001b[0m\u001b[0;34m(\u001b[0m\u001b[0mself\u001b[0m\u001b[0;34m.\u001b[0m\u001b[0m_get_variables_names\u001b[0m\u001b[0;34m(\u001b[0m\u001b[0;34m)\u001b[0m\u001b[0;34m,\u001b[0m \u001b[0mself\u001b[0m\u001b[0;34m.\u001b[0m\u001b[0m_get_reduced_costs\u001b[0m\u001b[0;34m(\u001b[0m\u001b[0;34m)\u001b[0m\u001b[0;34m)\u001b[0m\u001b[0;34m\u001b[0m\u001b[0;34m\u001b[0m\u001b[0m\n\u001b[0m\u001b[1;32m   1257\u001b[0m         )\n\u001b[1;32m   1258\u001b[0m \u001b[0;34m\u001b[0m\u001b[0m\n",
      "\u001b[0;32m~/opt/anaconda3/lib/python3.7/site-packages/optlang/interface.py\u001b[0m in \u001b[0;36m_get_variables_names\u001b[0;34m(self)\u001b[0m\n\u001b[1;32m   1220\u001b[0m         \u001b[0mlist\u001b[0m\u001b[0;34m\u001b[0m\u001b[0;34m\u001b[0m\u001b[0m\n\u001b[1;32m   1221\u001b[0m         \"\"\"\n\u001b[0;32m-> 1222\u001b[0;31m         \u001b[0;32mreturn\u001b[0m \u001b[0;34m[\u001b[0m\u001b[0mvariable\u001b[0m\u001b[0;34m.\u001b[0m\u001b[0mname\u001b[0m \u001b[0;32mfor\u001b[0m \u001b[0mvariable\u001b[0m \u001b[0;32min\u001b[0m \u001b[0mself\u001b[0m\u001b[0;34m.\u001b[0m\u001b[0mvariables\u001b[0m\u001b[0;34m]\u001b[0m\u001b[0;34m\u001b[0m\u001b[0;34m\u001b[0m\u001b[0m\n\u001b[0m\u001b[1;32m   1223\u001b[0m \u001b[0;34m\u001b[0m\u001b[0m\n\u001b[1;32m   1224\u001b[0m     \u001b[0;34m@\u001b[0m\u001b[0mproperty\u001b[0m\u001b[0;34m\u001b[0m\u001b[0;34m\u001b[0m\u001b[0m\n",
      "\u001b[0;32m~/opt/anaconda3/lib/python3.7/site-packages/optlang/interface.py\u001b[0m in \u001b[0;36m<listcomp>\u001b[0;34m(.0)\u001b[0m\n\u001b[1;32m   1220\u001b[0m         \u001b[0mlist\u001b[0m\u001b[0;34m\u001b[0m\u001b[0;34m\u001b[0m\u001b[0m\n\u001b[1;32m   1221\u001b[0m         \"\"\"\n\u001b[0;32m-> 1222\u001b[0;31m         \u001b[0;32mreturn\u001b[0m \u001b[0;34m[\u001b[0m\u001b[0mvariable\u001b[0m\u001b[0;34m.\u001b[0m\u001b[0mname\u001b[0m \u001b[0;32mfor\u001b[0m \u001b[0mvariable\u001b[0m \u001b[0;32min\u001b[0m \u001b[0mself\u001b[0m\u001b[0;34m.\u001b[0m\u001b[0mvariables\u001b[0m\u001b[0;34m]\u001b[0m\u001b[0;34m\u001b[0m\u001b[0;34m\u001b[0m\u001b[0m\n\u001b[0m\u001b[1;32m   1223\u001b[0m \u001b[0;34m\u001b[0m\u001b[0m\n\u001b[1;32m   1224\u001b[0m     \u001b[0;34m@\u001b[0m\u001b[0mproperty\u001b[0m\u001b[0;34m\u001b[0m\u001b[0;34m\u001b[0m\u001b[0m\n",
      "\u001b[0;32m~/opt/anaconda3/lib/python3.7/site-packages/optlang/interface.py\u001b[0m in \u001b[0;36mname\u001b[0;34m(self)\u001b[0m\n\u001b[1;32m    182\u001b[0m     \u001b[0;32mdef\u001b[0m \u001b[0mname\u001b[0m\u001b[0;34m(\u001b[0m\u001b[0mself\u001b[0m\u001b[0;34m)\u001b[0m\u001b[0;34m:\u001b[0m\u001b[0;34m\u001b[0m\u001b[0;34m\u001b[0m\u001b[0m\n\u001b[1;32m    183\u001b[0m         \u001b[0;34m\"\"\"Name of variable.\"\"\"\u001b[0m\u001b[0;34m\u001b[0m\u001b[0;34m\u001b[0m\u001b[0m\n\u001b[0;32m--> 184\u001b[0;31m         \u001b[0;32mreturn\u001b[0m \u001b[0mself\u001b[0m\u001b[0;34m.\u001b[0m\u001b[0m_name\u001b[0m\u001b[0;34m\u001b[0m\u001b[0;34m\u001b[0m\u001b[0m\n\u001b[0m\u001b[1;32m    185\u001b[0m \u001b[0;34m\u001b[0m\u001b[0m\n\u001b[1;32m    186\u001b[0m     \u001b[0;34m@\u001b[0m\u001b[0mname\u001b[0m\u001b[0;34m.\u001b[0m\u001b[0msetter\u001b[0m\u001b[0;34m\u001b[0m\u001b[0;34m\u001b[0m\u001b[0m\n",
      "\u001b[0;31mKeyboardInterrupt\u001b[0m: "
     ]
    }
   ],
   "source": [
    "model = kbase_api.get_from_ws(\"562.61279.fbamodel\",93541)    \n",
    "MSEditorAPI.add_custom_reaction(model,\"bio2\",MSEquation.build_from_palsson_string(\"cpd00002 + cpd00001 => cpd00008 + cpd00009 + cpd00067\",\"c0\"))\n",
    "template = kbase_api.get_from_ws(\"CoreModelTemplateV3\",\"NewKBaseModelTemplates\")\n",
    "start = time.time()\n",
    "atpobj = MSATPCorrection.atp_correction(model,template,media_list,atp_objective = \"bio2\")\n",
    "end = time.time()\n",
    "print(\"Elapsed:\"+str(end - start))"
   ]
  },
  {
   "cell_type": "code",
   "execution_count": null,
   "metadata": {},
   "outputs": [],
   "source": []
  }
 ],
 "metadata": {
  "kernelspec": {
   "display_name": "Python 3",
   "language": "python",
   "name": "python3"
  },
  "language_info": {
   "codemirror_mode": {
    "name": "ipython",
    "version": 3
   },
   "file_extension": ".py",
   "mimetype": "text/x-python",
   "name": "python",
   "nbconvert_exporter": "python",
   "pygments_lexer": "ipython3",
   "version": "3.7.6"
  }
 },
 "nbformat": 4,
 "nbformat_minor": 4
}
