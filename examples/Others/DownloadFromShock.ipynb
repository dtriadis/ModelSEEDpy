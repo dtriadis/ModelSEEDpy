{
 "cells": [
  {
   "cell_type": "code",
   "execution_count": 14,
   "metadata": {},
   "outputs": [],
   "source": [
    "import os\n",
    "import errno\n",
    "import json\n",
    "import sys\n",
    "import requests\n",
    "from cobrakbase.AbstractHandleClient import AbstractHandle as HandleService"
   ]
  },
  {
   "cell_type": "code",
   "execution_count": 15,
   "metadata": {},
   "outputs": [],
   "source": [
    "class ShockException(Exception):\n",
    "    pass\n",
    "\n",
    "def download_file_from_kbase(\n",
    "    token,\n",
    "    file_id,\n",
    "    file_path,\n",
    "    is_handle_ref = 1,\n",
    "    handle_url = \"https://kbase.us/services/handle_service\",\n",
    "    shock_url = \"https://kbase.us/services/shock-api\",\n",
    "):\n",
    "    headers = {'Authorization': 'OAuth ' + token}  \n",
    "    \n",
    "    if is_handle_ref == 1:\n",
    "        hs = HandleService(handle_url, token=token)\n",
    "        handles = hs.hids_to_handles([file_id])\n",
    "        file_id = handles[0]['id']\n",
    "    \n",
    "    try:\n",
    "        os.makedirs(file_path)\n",
    "    except OSError as exc:\n",
    "        if exc.errno == errno.EEXIST and os.path.isdir(file_path):\n",
    "            pass\n",
    "        else:\n",
    "            raise\n",
    "    \n",
    "    node_url = shock_url + '/node/' + file_id\n",
    "    r = requests.get(node_url, headers=headers, allow_redirects=True)\n",
    "    \n",
    "    if not r.ok:\n",
    "        errtxt = ('Error downloading file from shock ' +\n",
    "          'node {}: ').format(file_id)\n",
    "        try:\n",
    "            err = json.loads(response.content)['error'][0]\n",
    "        except Exception:\n",
    "            # this means shock is down or not responding.\n",
    "            log(\"Couldn't parse response error content from Shock: \" +\n",
    "                response.content)\n",
    "            response.raise_for_status()\n",
    "        raise ShockException(errtxt + str(err))\n",
    "    \n",
    "    resp_obj = r.json()\n",
    "    size = resp_obj['data']['file']['size']\n",
    "    if not size:\n",
    "        raise ShockException('Node {} has no file'.format(shock_id))\n",
    "    \n",
    "    node_file_name = resp_obj['data']['file']['name']\n",
    "    attributes = resp_obj['data']['attributes']\n",
    "    if os.path.isdir(file_path):\n",
    "        file_path = os.path.join(file_path, node_file_name)\n",
    "    with open(file_path, 'wb') as fhandle:\n",
    "        with requests.get(node_url + '?download_raw', stream=True,headers=headers, allow_redirects=True) as r:\n",
    "            if not r.ok:\n",
    "                errtxt = ('Error downloading file from shock ' +\n",
    "                  'node {}: ').format(file_id)\n",
    "                try:\n",
    "                    err = json.loads(response.content)['error'][0]\n",
    "                except Exception:\n",
    "                    # this means shock is down or not responding.\n",
    "                    log(\"Couldn't parse response error content from Shock: \" +\n",
    "                        response.content)\n",
    "                    response.raise_for_status()\n",
    "                raise ShockException(errtxt + str(err))\n",
    "            for chunk in r.iter_content(1024):\n",
    "                if not chunk:\n",
    "                    break\n",
    "                fhandle.write(chunk)\n",
    "    return file_path"
   ]
  },
  {
   "cell_type": "code",
   "execution_count": null,
   "metadata": {},
   "outputs": [],
   "source": [
    "print(download_file_from_kbase(\"<TOKEN>\",file_id = \"KBH_5023369\",file_path = \"/Users/chenry/\"))"
   ]
  },
  {
   "cell_type": "code",
   "execution_count": null,
   "metadata": {},
   "outputs": [],
   "source": []
  }
 ],
 "metadata": {
  "kernelspec": {
   "display_name": "Python 3",
   "language": "python",
   "name": "python3"
  },
  "language_info": {
   "codemirror_mode": {
    "name": "ipython",
    "version": 3
   },
   "file_extension": ".py",
   "mimetype": "text/x-python",
   "name": "python",
   "nbconvert_exporter": "python",
   "pygments_lexer": "ipython3",
   "version": "3.7.6"
  }
 },
 "nbformat": 4,
 "nbformat_minor": 4
}
