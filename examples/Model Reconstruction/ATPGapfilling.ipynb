{
 "cells": [
  {
   "cell_type": "code",
   "execution_count": 1,
   "id": "9976ae4a-1b83-447f-9c4c-751687abe145",
   "metadata": {},
   "outputs": [],
   "source": [
    "import modelseedpy\n",
    "from modelseedpy import MSGenome, MSATPCorrection, MSGapfill, MSBuilder, RastClient, MSMedia\n",
    "from modelseedpy.fbapkg.mspackagemanager import MSPackageManager\n",
    "modelseedpy.core.msatpcorrection.logger.setLevel('DEBUG')\n",
    "modelseedpy.core.msgapfill.logger.setLevel('DEBUG')"
   ]
  },
  {
   "cell_type": "code",
   "execution_count": 2,
   "id": "e3bbdea1-7515-4ea6-a9bb-e0fa4d859963",
   "metadata": {},
   "outputs": [],
   "source": [
    "rast = RastClient()"
   ]
  },
  {
   "cell_type": "code",
   "execution_count": 3,
   "id": "a89721d9-e678-4667-ac39-f9fc4b0697ef",
   "metadata": {},
   "outputs": [],
   "source": [
    "genome = MSGenome.from_fasta('./GCF_000005845.2_ASM584v2_protein.faa', split=' ')"
   ]
  },
  {
   "cell_type": "code",
   "execution_count": 4,
   "id": "4fd3d863-7589-42e2-ae70-898c62787684",
   "metadata": {},
   "outputs": [],
   "source": [
    "res = rast.annotate_genome(genome)"
   ]
  },
  {
   "cell_type": "code",
   "execution_count": null,
   "id": "cbb8120d-5cab-4bdc-94f9-be7c789ad253",
   "metadata": {},
   "outputs": [],
   "source": []
  },
  {
   "cell_type": "code",
   "execution_count": 5,
   "id": "6bde3cc4-acf3-4b85-b1ce-4c328644a482",
   "metadata": {},
   "outputs": [],
   "source": [
    "from modelseedpy.helpers import get_template\n",
    "from modelseedpy.core.mstemplate import MSTemplateBuilder"
   ]
  },
  {
   "cell_type": "code",
   "execution_count": 6,
   "id": "d0b53442-6cdd-41d1-b7a7-af7e7f91295c",
   "metadata": {},
   "outputs": [],
   "source": [
    "template = get_template('template_core')\n",
    "template = MSTemplateBuilder.from_dict(template).build()"
   ]
  },
  {
   "cell_type": "code",
   "execution_count": 56,
   "id": "44a2ec9e-2eeb-4f15-817f-757f585cd384",
   "metadata": {},
   "outputs": [],
   "source": [
    "b = MSBuilder(genome, template)"
   ]
  },
  {
   "cell_type": "code",
   "execution_count": 57,
   "id": "35d61a9f-2075-4919-ae4e-62724931b1cc",
   "metadata": {},
   "outputs": [],
   "source": [
    "model = b.build('model', '0', False, False)\n",
    "model.objective = 'bio2'"
   ]
  },
  {
   "cell_type": "code",
   "execution_count": 9,
   "id": "97d73846-a078-4ae7-812c-02c3041f0829",
   "metadata": {},
   "outputs": [],
   "source": [
    "import pandas as pd\n",
    "def load_medias(filep):\n",
    "    medias = pd.read_csv(filep, sep='\\t', index_col=0).to_dict()\n",
    "    return medias\n",
    "medias = load_medias('core_medias.tsv')\n",
    "model_medias = {}\n",
    "model_exs = set(map(lambda x: x.id, model.exchanges))\n",
    "for media_id in medias:\n",
    "    media = medias[media_id]\n",
    "    media_values = dict(map(lambda x: (x[0][3:][:-3], x[1]), filter(lambda x: x[1] > 0, media.items())))\n",
    "    media = MSMedia.from_dict(media_values)\n",
    "    media.id = media_id\n",
    "    model_medias[media_id] = media"
   ]
  },
  {
   "cell_type": "code",
   "execution_count": 10,
   "id": "0c8d8fd8-4941-456a-bf24-1d40ed5c4637",
   "metadata": {},
   "outputs": [
    {
     "data": {
      "text/plain": [
       "{'cpd00001_e0': (-1000, 1000),\n",
       " 'cpd00067_e0': (-1000, 1000),\n",
       " 'cpd00009_e0': (-1000, 1000),\n",
       " 'cpd00013_e0': (-1000, 1000),\n",
       " 'cpd00029_e0': (-3, 1000),\n",
       " 'cpd00011_e0': (-1000, 1000)}"
      ]
     },
     "execution_count": 10,
     "metadata": {},
     "output_type": "execute_result"
    }
   ],
   "source": [
    "media = model_medias['Ac']\n",
    "media.get_media_constraints()"
   ]
  },
  {
   "cell_type": "code",
   "execution_count": 37,
   "id": "4a90bb90-6f12-466f-abfe-052c50fe2f89",
   "metadata": {},
   "outputs": [],
   "source": [
    "from modelseedpy.fbapkg.mspackagemanager import MSPackageManager\n",
    "pkm = MSPackageManager.get_pkg_mgr(model)"
   ]
  },
  {
   "cell_type": "code",
   "execution_count": 39,
   "id": "c1927107-6efe-490b-a1b3-1d54fb71e44a",
   "metadata": {},
   "outputs": [],
   "source": [
    "pkg_gapfill = pkm.getpkg(\"GapfillingPkg\")"
   ]
  },
  {
   "cell_type": "code",
   "execution_count": 40,
   "id": "adee626a-ac0c-4317-aee9-7ab54c9cc0db",
   "metadata": {
    "collapsed": true,
    "jupyter": {
     "outputs_hidden": true
    },
    "tags": []
   },
   "outputs": [
    {
     "ename": "SolverError",
     "evalue": "CPLEX Error  1217: No solution exists.",
     "output_type": "error",
     "traceback": [
      "\u001b[0;31m---------------------------------------------------------------------------\u001b[0m",
      "\u001b[0;31mCplexSolverError\u001b[0m                          Traceback (most recent call last)",
      "\u001b[0;32m/usr/local/lib/python3.8/site-packages/optlang/cplex_interface.py\u001b[0m in \u001b[0;36m_get_primal\u001b[0;34m(self)\u001b[0m\n\u001b[1;32m    190\u001b[0m         \u001b[0;32mtry\u001b[0m\u001b[0;34m:\u001b[0m\u001b[0;34m\u001b[0m\u001b[0;34m\u001b[0m\u001b[0m\n\u001b[0;32m--> 191\u001b[0;31m             \u001b[0;32mreturn\u001b[0m \u001b[0mself\u001b[0m\u001b[0;34m.\u001b[0m\u001b[0mproblem\u001b[0m\u001b[0;34m.\u001b[0m\u001b[0mproblem\u001b[0m\u001b[0;34m.\u001b[0m\u001b[0msolution\u001b[0m\u001b[0;34m.\u001b[0m\u001b[0mget_values\u001b[0m\u001b[0;34m(\u001b[0m\u001b[0mself\u001b[0m\u001b[0;34m.\u001b[0m\u001b[0mname\u001b[0m\u001b[0;34m)\u001b[0m\u001b[0;34m\u001b[0m\u001b[0;34m\u001b[0m\u001b[0m\n\u001b[0m\u001b[1;32m    192\u001b[0m         \u001b[0;32mexcept\u001b[0m \u001b[0mCplexSolverError\u001b[0m \u001b[0;32mas\u001b[0m \u001b[0merr\u001b[0m\u001b[0;34m:\u001b[0m\u001b[0;34m\u001b[0m\u001b[0;34m\u001b[0m\u001b[0m\n",
      "\u001b[0;32m/usr/local/lib/python3.8/site-packages/cplex/_internal/_subinterfaces.py\u001b[0m in \u001b[0;36mget_values\u001b[0;34m(self, *args)\u001b[0m\n\u001b[1;32m   7244\u001b[0m             \u001b[0;32mreturn\u001b[0m \u001b[0mCPX_PROC\u001b[0m\u001b[0;34m.\u001b[0m\u001b[0mgetx\u001b[0m\u001b[0;34m(\u001b[0m\u001b[0mself\u001b[0m\u001b[0;34m.\u001b[0m\u001b[0m_env\u001b[0m\u001b[0;34m.\u001b[0m\u001b[0m_e\u001b[0m\u001b[0;34m,\u001b[0m \u001b[0mself\u001b[0m\u001b[0;34m.\u001b[0m\u001b[0m_cplex\u001b[0m\u001b[0;34m.\u001b[0m\u001b[0m_lp\u001b[0m\u001b[0;34m,\u001b[0m \u001b[0ma\u001b[0m\u001b[0;34m,\u001b[0m \u001b[0mb\u001b[0m\u001b[0;34m)\u001b[0m\u001b[0;34m\u001b[0m\u001b[0;34m\u001b[0m\u001b[0m\n\u001b[0;32m-> 7245\u001b[0;31m         return apply_freeform_two_args(\n\u001b[0m\u001b[1;32m   7246\u001b[0m             getx, self._cplex.variables._conv, args)\n",
      "\u001b[0;32m/usr/local/lib/python3.8/site-packages/cplex/_internal/_aux_functions.py\u001b[0m in \u001b[0;36mapply_freeform_two_args\u001b[0;34m(fn, conv, args, unpack_single)\u001b[0m\n\u001b[1;32m    148\u001b[0m         \u001b[0;32mif\u001b[0m \u001b[0misinstance\u001b[0m\u001b[0;34m(\u001b[0m\u001b[0mconarg0\u001b[0m\u001b[0;34m,\u001b[0m \u001b[0mint\u001b[0m\u001b[0;34m)\u001b[0m\u001b[0;34m:\u001b[0m\u001b[0;34m\u001b[0m\u001b[0;34m\u001b[0m\u001b[0m\n\u001b[0;32m--> 149\u001b[0;31m             \u001b[0mresult\u001b[0m \u001b[0;34m=\u001b[0m \u001b[0mfn\u001b[0m\u001b[0;34m(\u001b[0m\u001b[0mconarg0\u001b[0m\u001b[0;34m,\u001b[0m \u001b[0mconarg0\u001b[0m\u001b[0;34m)\u001b[0m\u001b[0;34m\u001b[0m\u001b[0;34m\u001b[0m\u001b[0m\n\u001b[0m\u001b[1;32m    150\u001b[0m             \u001b[0;32mif\u001b[0m \u001b[0munpack_single\u001b[0m\u001b[0;34m:\u001b[0m\u001b[0;34m\u001b[0m\u001b[0;34m\u001b[0m\u001b[0m\n",
      "\u001b[0;32m/usr/local/lib/python3.8/site-packages/cplex/_internal/_subinterfaces.py\u001b[0m in \u001b[0;36mgetx\u001b[0;34m(a, b)\u001b[0m\n\u001b[1;32m   7243\u001b[0m         \u001b[0;32mdef\u001b[0m \u001b[0mgetx\u001b[0m\u001b[0;34m(\u001b[0m\u001b[0ma\u001b[0m\u001b[0;34m,\u001b[0m \u001b[0mb\u001b[0m\u001b[0;34m=\u001b[0m\u001b[0mself\u001b[0m\u001b[0;34m.\u001b[0m\u001b[0m_cplex\u001b[0m\u001b[0;34m.\u001b[0m\u001b[0mvariables\u001b[0m\u001b[0;34m.\u001b[0m\u001b[0mget_num\u001b[0m\u001b[0;34m(\u001b[0m\u001b[0;34m)\u001b[0m \u001b[0;34m-\u001b[0m \u001b[0;36m1\u001b[0m\u001b[0;34m)\u001b[0m\u001b[0;34m:\u001b[0m\u001b[0;34m\u001b[0m\u001b[0;34m\u001b[0m\u001b[0m\n\u001b[0;32m-> 7244\u001b[0;31m             \u001b[0;32mreturn\u001b[0m \u001b[0mCPX_PROC\u001b[0m\u001b[0;34m.\u001b[0m\u001b[0mgetx\u001b[0m\u001b[0;34m(\u001b[0m\u001b[0mself\u001b[0m\u001b[0;34m.\u001b[0m\u001b[0m_env\u001b[0m\u001b[0;34m.\u001b[0m\u001b[0m_e\u001b[0m\u001b[0;34m,\u001b[0m \u001b[0mself\u001b[0m\u001b[0;34m.\u001b[0m\u001b[0m_cplex\u001b[0m\u001b[0;34m.\u001b[0m\u001b[0m_lp\u001b[0m\u001b[0;34m,\u001b[0m \u001b[0ma\u001b[0m\u001b[0;34m,\u001b[0m \u001b[0mb\u001b[0m\u001b[0;34m)\u001b[0m\u001b[0;34m\u001b[0m\u001b[0;34m\u001b[0m\u001b[0m\n\u001b[0m\u001b[1;32m   7245\u001b[0m         return apply_freeform_two_args(\n",
      "\u001b[0;32m/usr/local/lib/python3.8/site-packages/cplex/_internal/_procedural.py\u001b[0m in \u001b[0;36mgetx\u001b[0;34m(env, lp, begin, end)\u001b[0m\n\u001b[1;32m   1998\u001b[0m     \u001b[0mstatus\u001b[0m \u001b[0;34m=\u001b[0m \u001b[0mCR\u001b[0m\u001b[0;34m.\u001b[0m\u001b[0mCPXXgetx\u001b[0m\u001b[0;34m(\u001b[0m\u001b[0menv\u001b[0m\u001b[0;34m,\u001b[0m \u001b[0mlp\u001b[0m\u001b[0;34m,\u001b[0m \u001b[0mx\u001b[0m\u001b[0;34m,\u001b[0m \u001b[0mbegin\u001b[0m\u001b[0;34m,\u001b[0m \u001b[0mend\u001b[0m\u001b[0;34m)\u001b[0m\u001b[0;34m\u001b[0m\u001b[0;34m\u001b[0m\u001b[0m\n\u001b[0;32m-> 1999\u001b[0;31m     \u001b[0mcheck_status\u001b[0m\u001b[0;34m(\u001b[0m\u001b[0menv\u001b[0m\u001b[0;34m,\u001b[0m \u001b[0mstatus\u001b[0m\u001b[0;34m)\u001b[0m\u001b[0;34m\u001b[0m\u001b[0;34m\u001b[0m\u001b[0m\n\u001b[0m\u001b[1;32m   2000\u001b[0m     \u001b[0;32mreturn\u001b[0m \u001b[0mLAU\u001b[0m\u001b[0;34m.\u001b[0m\u001b[0marray_to_list\u001b[0m\u001b[0;34m(\u001b[0m\u001b[0mx\u001b[0m\u001b[0;34m,\u001b[0m \u001b[0mxlen\u001b[0m\u001b[0;34m)\u001b[0m\u001b[0;34m\u001b[0m\u001b[0;34m\u001b[0m\u001b[0m\n",
      "\u001b[0;32m/usr/local/lib/python3.8/site-packages/cplex/_internal/_procedural.py\u001b[0m in \u001b[0;36m__call__\u001b[0;34m(self, env, status, from_cb)\u001b[0m\n\u001b[1;32m    248\u001b[0m                     \u001b[0merror_string\u001b[0m \u001b[0;34m=\u001b[0m \u001b[0mgeterrorstring\u001b[0m\u001b[0;34m(\u001b[0m\u001b[0menv\u001b[0m\u001b[0;34m,\u001b[0m \u001b[0mstatus\u001b[0m\u001b[0;34m)\u001b[0m\u001b[0;34m\u001b[0m\u001b[0;34m\u001b[0m\u001b[0m\n\u001b[0;32m--> 249\u001b[0;31m             \u001b[0;32mraise\u001b[0m \u001b[0mCplexSolverError\u001b[0m\u001b[0;34m(\u001b[0m\u001b[0merror_string\u001b[0m\u001b[0;34m,\u001b[0m \u001b[0menv\u001b[0m\u001b[0;34m,\u001b[0m \u001b[0mstatus\u001b[0m\u001b[0;34m)\u001b[0m\u001b[0;34m\u001b[0m\u001b[0;34m\u001b[0m\u001b[0m\n\u001b[0m\u001b[1;32m    250\u001b[0m \u001b[0;34m\u001b[0m\u001b[0m\n",
      "\u001b[0;31mCplexSolverError\u001b[0m: CPLEX Error  1217: No solution exists.",
      "\nDuring handling of the above exception, another exception occurred:\n",
      "\u001b[0;31mSolverError\u001b[0m                               Traceback (most recent call last)",
      "\u001b[0;32m<ipython-input-40-a7f0b5569943>\u001b[0m in \u001b[0;36m<module>\u001b[0;34m\u001b[0m\n\u001b[0;32m----> 1\u001b[0;31m \u001b[0mpkg_gapfill\u001b[0m\u001b[0;34m.\u001b[0m\u001b[0mcompute_gapfilled_solution\u001b[0m\u001b[0;34m(\u001b[0m\u001b[0;34m)\u001b[0m\u001b[0;34m\u001b[0m\u001b[0;34m\u001b[0m\u001b[0m\n\u001b[0m",
      "\u001b[0;32m/usr/local/lib/python3.8/site-packages/modelseedpy/fbapkg/gapfillingpkg.py\u001b[0m in \u001b[0;36mcompute_gapfilled_solution\u001b[0;34m(self, flux_values)\u001b[0m\n\u001b[1;32m    467\u001b[0m     \u001b[0;32mdef\u001b[0m \u001b[0mcompute_gapfilled_solution\u001b[0m\u001b[0;34m(\u001b[0m\u001b[0mself\u001b[0m\u001b[0;34m,\u001b[0m \u001b[0mflux_values\u001b[0m\u001b[0;34m=\u001b[0m\u001b[0;32mNone\u001b[0m\u001b[0;34m)\u001b[0m\u001b[0;34m:\u001b[0m\u001b[0;34m\u001b[0m\u001b[0;34m\u001b[0m\u001b[0m\n\u001b[1;32m    468\u001b[0m         \u001b[0;32mif\u001b[0m \u001b[0mflux_values\u001b[0m \u001b[0;34m==\u001b[0m \u001b[0;32mNone\u001b[0m\u001b[0;34m:\u001b[0m\u001b[0;34m\u001b[0m\u001b[0;34m\u001b[0m\u001b[0m\n\u001b[0;32m--> 469\u001b[0;31m             \u001b[0mflux_values\u001b[0m \u001b[0;34m=\u001b[0m \u001b[0mFBAHelper\u001b[0m\u001b[0;34m.\u001b[0m\u001b[0mcompute_flux_values_from_variables\u001b[0m\u001b[0;34m(\u001b[0m\u001b[0mself\u001b[0m\u001b[0;34m.\u001b[0m\u001b[0mmodel\u001b[0m\u001b[0;34m)\u001b[0m\u001b[0;34m\u001b[0m\u001b[0;34m\u001b[0m\u001b[0m\n\u001b[0m\u001b[1;32m    470\u001b[0m         \u001b[0moutput\u001b[0m \u001b[0;34m=\u001b[0m \u001b[0;34m{\u001b[0m\u001b[0;34m\"reversed\"\u001b[0m\u001b[0;34m:\u001b[0m \u001b[0;34m{\u001b[0m\u001b[0;34m}\u001b[0m\u001b[0;34m,\u001b[0m \u001b[0;34m\"new\"\u001b[0m\u001b[0;34m:\u001b[0m \u001b[0;34m{\u001b[0m\u001b[0;34m}\u001b[0m\u001b[0;34m}\u001b[0m\u001b[0;34m\u001b[0m\u001b[0;34m\u001b[0m\u001b[0m\n\u001b[1;32m    471\u001b[0m         \u001b[0;32mfor\u001b[0m \u001b[0mreaction\u001b[0m \u001b[0;32min\u001b[0m \u001b[0mself\u001b[0m\u001b[0;34m.\u001b[0m\u001b[0mmodel\u001b[0m\u001b[0;34m.\u001b[0m\u001b[0mreactions\u001b[0m\u001b[0;34m:\u001b[0m\u001b[0;34m\u001b[0m\u001b[0;34m\u001b[0m\u001b[0m\n",
      "\u001b[0;32m/usr/local/lib/python3.8/site-packages/modelseedpy/core/fbahelper.py\u001b[0m in \u001b[0;36mcompute_flux_values_from_variables\u001b[0;34m(model)\u001b[0m\n\u001b[1;32m    127\u001b[0m         \u001b[0;32mfor\u001b[0m \u001b[0mrxnobj\u001b[0m \u001b[0;32min\u001b[0m \u001b[0mmodel\u001b[0m\u001b[0;34m.\u001b[0m\u001b[0mreactions\u001b[0m\u001b[0;34m:\u001b[0m\u001b[0;34m\u001b[0m\u001b[0;34m\u001b[0m\u001b[0m\n\u001b[1;32m    128\u001b[0m             \u001b[0mflux_values\u001b[0m\u001b[0;34m[\u001b[0m\u001b[0mrxnobj\u001b[0m\u001b[0;34m.\u001b[0m\u001b[0mid\u001b[0m\u001b[0;34m]\u001b[0m \u001b[0;34m=\u001b[0m \u001b[0;34m{\u001b[0m\u001b[0;34m}\u001b[0m\u001b[0;34m\u001b[0m\u001b[0;34m\u001b[0m\u001b[0m\n\u001b[0;32m--> 129\u001b[0;31m             \u001b[0mflux_values\u001b[0m\u001b[0;34m[\u001b[0m\u001b[0mrxnobj\u001b[0m\u001b[0;34m.\u001b[0m\u001b[0mid\u001b[0m\u001b[0;34m]\u001b[0m\u001b[0;34m[\u001b[0m\u001b[0;34m\"reverse\"\u001b[0m\u001b[0;34m]\u001b[0m \u001b[0;34m=\u001b[0m \u001b[0mrxnobj\u001b[0m\u001b[0;34m.\u001b[0m\u001b[0mreverse_variable\u001b[0m\u001b[0;34m.\u001b[0m\u001b[0mprimal\u001b[0m\u001b[0;34m\u001b[0m\u001b[0;34m\u001b[0m\u001b[0m\n\u001b[0m\u001b[1;32m    130\u001b[0m             \u001b[0mflux_values\u001b[0m\u001b[0;34m[\u001b[0m\u001b[0mrxnobj\u001b[0m\u001b[0;34m.\u001b[0m\u001b[0mid\u001b[0m\u001b[0;34m]\u001b[0m\u001b[0;34m[\u001b[0m\u001b[0;34m\"forward\"\u001b[0m\u001b[0;34m]\u001b[0m \u001b[0;34m=\u001b[0m \u001b[0mrxnobj\u001b[0m\u001b[0;34m.\u001b[0m\u001b[0mforward_variable\u001b[0m\u001b[0;34m.\u001b[0m\u001b[0mprimal\u001b[0m\u001b[0;34m\u001b[0m\u001b[0;34m\u001b[0m\u001b[0m\n\u001b[1;32m    131\u001b[0m         \u001b[0;32mreturn\u001b[0m \u001b[0mflux_values\u001b[0m\u001b[0;34m\u001b[0m\u001b[0;34m\u001b[0m\u001b[0m\n",
      "\u001b[0;32m/usr/local/lib/python3.8/site-packages/optlang/interface.py\u001b[0m in \u001b[0;36mprimal\u001b[0;34m(self)\u001b[0m\n\u001b[1;32m    271\u001b[0m         \u001b[0;34m\"\"\"The primal of variable (None if no solution exists).\"\"\"\u001b[0m\u001b[0;34m\u001b[0m\u001b[0;34m\u001b[0m\u001b[0m\n\u001b[1;32m    272\u001b[0m         \u001b[0;32mif\u001b[0m \u001b[0mself\u001b[0m\u001b[0;34m.\u001b[0m\u001b[0mproblem\u001b[0m\u001b[0;34m:\u001b[0m\u001b[0;34m\u001b[0m\u001b[0;34m\u001b[0m\u001b[0m\n\u001b[0;32m--> 273\u001b[0;31m             \u001b[0;32mreturn\u001b[0m \u001b[0mself\u001b[0m\u001b[0;34m.\u001b[0m\u001b[0m_get_primal\u001b[0m\u001b[0;34m(\u001b[0m\u001b[0;34m)\u001b[0m\u001b[0;34m\u001b[0m\u001b[0;34m\u001b[0m\u001b[0m\n\u001b[0m\u001b[1;32m    274\u001b[0m         \u001b[0;32melse\u001b[0m\u001b[0;34m:\u001b[0m\u001b[0;34m\u001b[0m\u001b[0;34m\u001b[0m\u001b[0m\n\u001b[1;32m    275\u001b[0m             \u001b[0;32mreturn\u001b[0m \u001b[0;32mNone\u001b[0m\u001b[0;34m\u001b[0m\u001b[0;34m\u001b[0m\u001b[0m\n",
      "\u001b[0;32m/usr/local/lib/python3.8/site-packages/optlang/cplex_interface.py\u001b[0m in \u001b[0;36m_get_primal\u001b[0;34m(self)\u001b[0m\n\u001b[1;32m    191\u001b[0m             \u001b[0;32mreturn\u001b[0m \u001b[0mself\u001b[0m\u001b[0;34m.\u001b[0m\u001b[0mproblem\u001b[0m\u001b[0;34m.\u001b[0m\u001b[0mproblem\u001b[0m\u001b[0;34m.\u001b[0m\u001b[0msolution\u001b[0m\u001b[0;34m.\u001b[0m\u001b[0mget_values\u001b[0m\u001b[0;34m(\u001b[0m\u001b[0mself\u001b[0m\u001b[0;34m.\u001b[0m\u001b[0mname\u001b[0m\u001b[0;34m)\u001b[0m\u001b[0;34m\u001b[0m\u001b[0;34m\u001b[0m\u001b[0m\n\u001b[1;32m    192\u001b[0m         \u001b[0;32mexcept\u001b[0m \u001b[0mCplexSolverError\u001b[0m \u001b[0;32mas\u001b[0m \u001b[0merr\u001b[0m\u001b[0;34m:\u001b[0m\u001b[0;34m\u001b[0m\u001b[0;34m\u001b[0m\u001b[0m\n\u001b[0;32m--> 193\u001b[0;31m             \u001b[0;32mraise\u001b[0m \u001b[0mSolverError\u001b[0m\u001b[0;34m(\u001b[0m\u001b[0mstr\u001b[0m\u001b[0;34m(\u001b[0m\u001b[0merr\u001b[0m\u001b[0;34m)\u001b[0m\u001b[0;34m)\u001b[0m\u001b[0;34m\u001b[0m\u001b[0;34m\u001b[0m\u001b[0m\n\u001b[0m\u001b[1;32m    194\u001b[0m \u001b[0;34m\u001b[0m\u001b[0m\n\u001b[1;32m    195\u001b[0m     \u001b[0;34m@\u001b[0m\u001b[0mproperty\u001b[0m\u001b[0;34m\u001b[0m\u001b[0;34m\u001b[0m\u001b[0m\n",
      "\u001b[0;31mSolverError\u001b[0m: CPLEX Error  1217: No solution exists."
     ]
    }
   ],
   "source": [
    "pkg_gapfill.compute_gapfilled_solution()"
   ]
  },
  {
   "cell_type": "code",
   "execution_count": 35,
   "id": "e839d58e-582c-4bd9-80b6-a4f76f511bda",
   "metadata": {},
   "outputs": [
    {
     "ename": "AttributeError",
     "evalue": "'MSGapfill' object has no attribute 'compute_gapfilled_solution'",
     "output_type": "error",
     "traceback": [
      "\u001b[0;31m---------------------------------------------------------------------------\u001b[0m",
      "\u001b[0;31mAttributeError\u001b[0m                            Traceback (most recent call last)",
      "\u001b[0;32m<ipython-input-35-1c04e5dd3870>\u001b[0m in \u001b[0;36m<module>\u001b[0;34m\u001b[0m\n\u001b[0;32m----> 1\u001b[0;31m \u001b[0matp_correction\u001b[0m\u001b[0;34m.\u001b[0m\u001b[0mmsgapfill\u001b[0m\u001b[0;34m.\u001b[0m\u001b[0mcompute_gapfilled_solution\u001b[0m\u001b[0;34m\u001b[0m\u001b[0;34m\u001b[0m\u001b[0m\n\u001b[0m",
      "\u001b[0;31mAttributeError\u001b[0m: 'MSGapfill' object has no attribute 'compute_gapfilled_solution'"
     ]
    }
   ],
   "source": [
    "atp_correction.msgapfill.compute_gapfilled_solution"
   ]
  },
  {
   "cell_type": "code",
   "execution_count": 31,
   "id": "767f7713-9953-4759-9ddb-8cf05c32ca6b",
   "metadata": {},
   "outputs": [
    {
     "name": "stderr",
     "output_type": "stream",
     "text": [
      "/usr/local/lib/python3.8/site-packages/cobra/util/solver.py:508 \u001b[1;31mUserWarning\u001b[0m: Solver status is 'infeasible'.\n"
     ]
    },
    {
     "data": {
      "text/plain": [
       "{'reversed': {}, 'new': {}}"
      ]
     },
     "execution_count": 31,
     "metadata": {},
     "output_type": "execute_result"
    }
   ],
   "source": [
    "atp_correction.msgapfill.run_gapfilling(media, 'bio2')"
   ]
  },
  {
   "cell_type": "code",
   "execution_count": 33,
   "id": "2ce0604d-6ab6-4b98-9bfb-d103b0dcd357",
   "metadata": {},
   "outputs": [
    {
     "data": {
      "text/plain": [
       "{'bio2': {'reversed': {}, 'new': {}}}"
      ]
     },
     "execution_count": 33,
     "metadata": {},
     "output_type": "execute_result"
    }
   ],
   "source": [
    "atp_correction.msgapfill.solutions[media]"
   ]
  },
  {
   "cell_type": "code",
   "execution_count": 11,
   "id": "604284f6-0ff8-4dfb-8a4b-788c52ff430c",
   "metadata": {
    "collapsed": true,
    "jupyter": {
     "outputs_hidden": true
    },
    "tags": []
   },
   "outputs": [
    {
     "name": "stdout",
     "output_type": "stream",
     "text": [
      "Glc/O2 0.5516512859637026\n",
      "Ac/O2 0.0\n",
      "Etho/O2 0.0\n",
      "Pyr/O2 0.0\n",
      "Glyc/O2 0.6162062236828592\n",
      "Fum/O2 0.31690605789404186\n",
      "Succ/O2 0.0\n",
      "Akg/O2 0.0\n",
      "LLac/O2 0.0\n",
      "Dlac/O2 0.0\n",
      "For/O2 0.0\n",
      "Glc 0.0\n",
      "Ac 0.0\n",
      "Etho 0.0\n",
      "Pyr 0.0\n",
      "Glyc 0.0\n",
      "Fum 0.0\n",
      "Succ 0.0\n",
      "Akg 0.0\n",
      "For/NO2 0.0\n",
      "For/NO3 0.0\n",
      "Glc/DMSO 0.0\n",
      "Glc/TMAO 0.0\n",
      "Pyr/DMSO 0.0\n",
      "Pyr/TMAO 0.0\n",
      "Pyr/NO 0.0\n",
      "Pyr/NO2 0.0\n",
      "Pyr/NO3 0.0\n",
      "Pyr/SO4 0.0\n",
      "Pyr/SO3 0.0\n",
      "H2/CO2 0.0\n",
      "H2/O2 0.0\n",
      "empty 0.0\n",
      "Light 0.0\n"
     ]
    }
   ],
   "source": [
    "import cobra\n",
    "model_exs = set(map(lambda x: x.id, model.exchanges))\n",
    "\n",
    "for media_id in medias:\n",
    "    media = medias[media_id]\n",
    "    media_values = dict(filter(lambda x: x[0] in model_exs and x[1] > 0, media.items()))\n",
    "    model.medium = media_values\n",
    "    sol = cobra.flux_analysis.pfba(model)\n",
    "    print(media_id, sol.fluxes['bio2'])"
   ]
  },
  {
   "cell_type": "code",
   "execution_count": 13,
   "id": "c493ff9a-971f-48c8-8829-792104b748c3",
   "metadata": {},
   "outputs": [],
   "source": []
  },
  {
   "cell_type": "code",
   "execution_count": 15,
   "id": "8e0885e4-a7e7-435b-9394-ea22d6287c4d",
   "metadata": {},
   "outputs": [
    {
     "name": "stdout",
     "output_type": "stream",
     "text": [
      "0.0 optimal\n"
     ]
    }
   ],
   "source": [
    "sol = model.optimize()\n",
    "print(sol.objective_value, sol.status)"
   ]
  },
  {
   "cell_type": "code",
   "execution_count": 22,
   "id": "d1549d30-df26-4a62-a5ca-4c4ab7b99f99",
   "metadata": {
    "collapsed": true,
    "jupyter": {
     "outputs_hidden": true
    },
    "tags": []
   },
   "outputs": [
    {
     "name": "stdout",
     "output_type": "stream",
     "text": [
      "Ac/O2 {'reversed': {}, 'new': {}}\n",
      "Etho/O2 {'reversed': {}, 'new': {}}\n",
      "Pyr/O2 {'reversed': {}, 'new': {}}\n",
      "Succ/O2 {'reversed': {}, 'new': {}}\n",
      "Akg/O2 {'reversed': {}, 'new': {}}\n",
      "Dlac/O2 {'reversed': {}, 'new': {}}\n",
      "For/O2 {'reversed': {}, 'new': {}}\n",
      "Ac {'reversed': {}, 'new': {}}\n",
      "Etho {'reversed': {}, 'new': {}}\n",
      "Pyr {'reversed': {}, 'new': {}}\n",
      "Succ {'reversed': {}, 'new': {}}\n",
      "Akg {'reversed': {}, 'new': {}}\n",
      "For/NO2 {'reversed': {}, 'new': {}}\n",
      "For/NO3 {'reversed': {}, 'new': {}}\n",
      "Pyr/DMSO {'reversed': {}, 'new': {}}\n",
      "Pyr/TMAO {'reversed': {}, 'new': {}}\n",
      "Pyr/NO {'reversed': {}, 'new': {}}\n",
      "Pyr/NO2 {'reversed': {}, 'new': {}}\n",
      "Pyr/NO3 {'reversed': {}, 'new': {}}\n",
      "Pyr/SO4 {'reversed': {}, 'new': {}}\n",
      "Pyr/SO3 {'reversed': {}, 'new': {}}\n",
      "H2/CO2 {'reversed': {}, 'new': {}}\n",
      "H2/O2 {'reversed': {}, 'new': {}}\n",
      "empty {'reversed': {}, 'new': {}}\n",
      "Light {'reversed': {}, 'new': {}}\n"
     ]
    }
   ],
   "source": [
    "for media in atp_correction.selected_media:\n",
    "    if media in atp_correction.media_gapfill_stats and atp_correction.media_gapfill_stats[media]:\n",
    "        stats = atp_correction.media_gapfill_stats[media]\n",
    "        print(media.id, stats)"
   ]
  },
  {
   "cell_type": "code",
   "execution_count": 24,
   "id": "bf0110ae-d104-4671-934c-337340f92818",
   "metadata": {},
   "outputs": [],
   "source": [
    "media = model_medias['Ac']"
   ]
  },
  {
   "cell_type": "code",
   "execution_count": 27,
   "id": "bc5e6461-7ef3-4d8a-b7f4-374238e7a980",
   "metadata": {},
   "outputs": [
    {
     "data": {
      "text/plain": [
       "{'cpd00001_e0': (-1000, 1000),\n",
       " 'cpd00067_e0': (-1000, 1000),\n",
       " 'cpd00009_e0': (-1000, 1000),\n",
       " 'cpd00011_e0': (-1000, 1000)}"
      ]
     },
     "execution_count": 27,
     "metadata": {},
     "output_type": "execute_result"
    }
   ],
   "source": [
    "media.get_media_constraints()"
   ]
  },
  {
   "cell_type": "code",
   "execution_count": 28,
   "id": "206c0958-c69f-4c8f-98ee-d798fef64330",
   "metadata": {},
   "outputs": [
    {
     "name": "stderr",
     "output_type": "stream",
     "text": [
      "/usr/local/lib/python3.8/site-packages/cobra/util/solver.py:508 \u001b[1;31mUserWarning\u001b[0m: Solver status is 'infeasible'.\n"
     ]
    },
    {
     "data": {
      "text/plain": [
       "{'reversed': {}, 'new': {}}"
      ]
     },
     "execution_count": 28,
     "metadata": {},
     "output_type": "execute_result"
    }
   ],
   "source": [
    "atp_correction.msgapfill.run_gapfilling(media, 'bio2')"
   ]
  },
  {
   "cell_type": "code",
   "execution_count": 54,
   "id": "f985122c-9ad7-47ff-8e05-26ea30eb39f9",
   "metadata": {},
   "outputs": [
    {
     "name": "stdout",
     "output_type": "stream",
     "text": [
      "cobrakbase 0.2.8\n"
     ]
    }
   ],
   "source": [
    "import cobrakbase\n",
    "kbase = cobrakbase.KBaseAPI()\n",
    "template4 = kbase.get_from_ws('CoreArchaeaTemplateMPA_FIX', 82183)"
   ]
  },
  {
   "cell_type": "code",
   "execution_count": 58,
   "id": "8145908e-9af5-4c77-922f-7e15faed7801",
   "metadata": {},
   "outputs": [],
   "source": [
    "atp_correction = MSATPCorrection(model, template4, list(model_medias.values()))"
   ]
  },
  {
   "cell_type": "code",
   "execution_count": 59,
   "id": "79aec9a4-59ac-43fb-b4d1-965a3b997696",
   "metadata": {},
   "outputs": [],
   "source": [
    "atp_correction.disable_noncore_reactions()"
   ]
  },
  {
   "cell_type": "code",
   "execution_count": 60,
   "id": "6ade9096-f3f4-40f8-a1ea-53b5b63ec2c0",
   "metadata": {},
   "outputs": [
    {
     "name": "stderr",
     "output_type": "stream",
     "text": [
      "DEBUG:modelseedpy.core.msatpcorrection:evaluate media <modelseedpy.core.msmedia.MSMedia object at 0x7f76c03ecfd0>\n",
      "DEBUG:modelseedpy.core.msatpcorrection:evaluate media <modelseedpy.core.msmedia.MSMedia object at 0x7f76c03ecfd0> - 0.551651 (optimal)\n",
      "DEBUG:modelseedpy.core.msatpcorrection:evaluate media <modelseedpy.core.msmedia.MSMedia object at 0x7f7675de7f40>\n",
      "DEBUG:modelseedpy.core.msatpcorrection:evaluate media <modelseedpy.core.msmedia.MSMedia object at 0x7f7675de7f40> - 0.000000 (optimal)\n",
      "DEBUG:modelseedpy.core.msgapfill:gapfill solution objective value 0.668225 (optimal) for media <modelseedpy.core.msmedia.MSMedia object at 0x7f7675de7f40>\n",
      "DEBUG:modelseedpy.core.msatpcorrection:evaluate media <modelseedpy.core.msmedia.MSMedia object at 0x7f7675de7520>\n",
      "DEBUG:modelseedpy.core.msatpcorrection:evaluate media <modelseedpy.core.msmedia.MSMedia object at 0x7f7675de7520> - 0.000000 (optimal)\n",
      "DEBUG:modelseedpy.core.msgapfill:gapfill solution objective value 0.668225 (optimal) for media <modelseedpy.core.msmedia.MSMedia object at 0x7f7675de7520>\n",
      "DEBUG:modelseedpy.core.msatpcorrection:evaluate media <modelseedpy.core.msmedia.MSMedia object at 0x7f7675da68b0>\n",
      "DEBUG:modelseedpy.core.msatpcorrection:evaluate media <modelseedpy.core.msmedia.MSMedia object at 0x7f7675da68b0> - 0.000000 (optimal)\n",
      "DEBUG:modelseedpy.core.msgapfill:gapfill solution objective value 0.328477 (optimal) for media <modelseedpy.core.msmedia.MSMedia object at 0x7f7675da68b0>\n",
      "DEBUG:modelseedpy.core.msatpcorrection:evaluate media <modelseedpy.core.msmedia.MSMedia object at 0x7f7675da6be0>\n",
      "DEBUG:modelseedpy.core.msatpcorrection:evaluate media <modelseedpy.core.msmedia.MSMedia object at 0x7f7675da6be0> - 0.616206 (optimal)\n",
      "DEBUG:modelseedpy.core.msatpcorrection:evaluate media <modelseedpy.core.msmedia.MSMedia object at 0x7f7675da6f10>\n",
      "DEBUG:modelseedpy.core.msatpcorrection:evaluate media <modelseedpy.core.msmedia.MSMedia object at 0x7f7675da6f10> - 0.316906 (optimal)\n",
      "DEBUG:modelseedpy.core.msatpcorrection:evaluate media <modelseedpy.core.msmedia.MSMedia object at 0x7f7675ae7280>\n",
      "DEBUG:modelseedpy.core.msatpcorrection:evaluate media <modelseedpy.core.msmedia.MSMedia object at 0x7f7675ae7280> - 0.000000 (optimal)\n",
      "DEBUG:modelseedpy.core.msgapfill:gapfill solution objective value 0.140824 (optimal) for media <modelseedpy.core.msmedia.MSMedia object at 0x7f7675ae7280>\n",
      "DEBUG:modelseedpy.core.msatpcorrection:evaluate media <modelseedpy.core.msmedia.MSMedia object at 0x7f7675ae75b0>\n",
      "DEBUG:modelseedpy.core.msatpcorrection:evaluate media <modelseedpy.core.msmedia.MSMedia object at 0x7f7675ae75b0> - 0.000000 (optimal)\n",
      "DEBUG:modelseedpy.core.msgapfill:gapfill solution objective value 0.140053 (optimal) for media <modelseedpy.core.msmedia.MSMedia object at 0x7f7675ae75b0>\n",
      "DEBUG:modelseedpy.core.msatpcorrection:evaluate media <modelseedpy.core.msmedia.MSMedia object at 0x7f7675ae78e0>\n",
      "DEBUG:modelseedpy.core.msatpcorrection:evaluate media <modelseedpy.core.msmedia.MSMedia object at 0x7f7675ae78e0> - 0.000000 (optimal)\n",
      "DEBUG:modelseedpy.core.msgapfill:gapfill solution objective value 0.034775 (optimal) for media <modelseedpy.core.msmedia.MSMedia object at 0x7f7675ae78e0>\n",
      "DEBUG:modelseedpy.core.msatpcorrection:evaluate media <modelseedpy.core.msmedia.MSMedia object at 0x7f7675ae7c10>\n",
      "DEBUG:modelseedpy.core.msatpcorrection:evaluate media <modelseedpy.core.msmedia.MSMedia object at 0x7f7675ae7c10> - 0.000000 (optimal)\n",
      "DEBUG:modelseedpy.core.msgapfill:gapfill solution objective value 0.668225 (optimal) for media <modelseedpy.core.msmedia.MSMedia object at 0x7f7675ae7c10>\n",
      "DEBUG:modelseedpy.core.msatpcorrection:evaluate media <modelseedpy.core.msmedia.MSMedia object at 0x7f7675ae7f40>\n",
      "DEBUG:modelseedpy.core.msatpcorrection:evaluate media <modelseedpy.core.msmedia.MSMedia object at 0x7f7675ae7f40> - 0.000000 (optimal)\n",
      "DEBUG:modelseedpy.core.msgapfill:gapfill solution objective value 0.668225 (optimal) for media <modelseedpy.core.msmedia.MSMedia object at 0x7f7675ae7f40>\n",
      "DEBUG:modelseedpy.core.msatpcorrection:evaluate media <modelseedpy.core.msmedia.MSMedia object at 0x7f7675ae92b0>\n",
      "DEBUG:modelseedpy.core.msatpcorrection:evaluate media <modelseedpy.core.msmedia.MSMedia object at 0x7f7675ae92b0> - 0.000000 (optimal)\n",
      "DEBUG:modelseedpy.core.msgapfill:gapfill solution objective value 1.277981 (optimal) for media <modelseedpy.core.msmedia.MSMedia object at 0x7f7675ae92b0>\n",
      "DEBUG:modelseedpy.core.msatpcorrection:evaluate media <modelseedpy.core.msmedia.MSMedia object at 0x7f7675ae9580>\n",
      "DEBUG:modelseedpy.core.msatpcorrection:evaluate media <modelseedpy.core.msmedia.MSMedia object at 0x7f7675ae9580> - 0.000000 (optimal)\n",
      "DEBUG:modelseedpy.core.msgapfill:gapfill solution objective value 6.815900 (optimal) for media <modelseedpy.core.msmedia.MSMedia object at 0x7f7675ae9580>\n",
      "DEBUG:modelseedpy.core.msatpcorrection:evaluate media <modelseedpy.core.msmedia.MSMedia object at 0x7f7675ae9850>\n",
      "DEBUG:modelseedpy.core.msatpcorrection:evaluate media <modelseedpy.core.msmedia.MSMedia object at 0x7f7675ae9850> - 0.000000 (optimal)\n",
      "DEBUG:modelseedpy.core.msgapfill:gapfill solution objective value 6.815900 (optimal) for media <modelseedpy.core.msmedia.MSMedia object at 0x7f7675ae9850>\n",
      "DEBUG:modelseedpy.core.msatpcorrection:evaluate media <modelseedpy.core.msmedia.MSMedia object at 0x7f7675ae9b20>\n",
      "DEBUG:modelseedpy.core.msatpcorrection:evaluate media <modelseedpy.core.msmedia.MSMedia object at 0x7f7675ae9b20> - 0.000000 (optimal)\n",
      "DEBUG:modelseedpy.core.msgapfill:gapfill solution objective value 6.815900 (optimal) for media <modelseedpy.core.msmedia.MSMedia object at 0x7f7675ae9b20>\n",
      "DEBUG:modelseedpy.core.msatpcorrection:evaluate media <modelseedpy.core.msmedia.MSMedia object at 0x7f7675ae9df0>\n",
      "DEBUG:modelseedpy.core.msatpcorrection:evaluate media <modelseedpy.core.msmedia.MSMedia object at 0x7f7675ae9df0> - 0.000000 (optimal)\n",
      "DEBUG:modelseedpy.core.msgapfill:gapfill solution objective value 5.963913 (optimal) for media <modelseedpy.core.msmedia.MSMedia object at 0x7f7675ae9df0>\n",
      "DEBUG:modelseedpy.core.msatpcorrection:evaluate media <modelseedpy.core.msmedia.MSMedia object at 0x7f7675aeb100>\n",
      "DEBUG:modelseedpy.core.msatpcorrection:evaluate media <modelseedpy.core.msmedia.MSMedia object at 0x7f7675aeb100> - 0.000000 (optimal)\n",
      "DEBUG:modelseedpy.core.msgapfill:gapfill solution objective value 0.340795 (optimal) for media <modelseedpy.core.msmedia.MSMedia object at 0x7f7675aeb100>\n",
      "DEBUG:modelseedpy.core.msatpcorrection:evaluate media <modelseedpy.core.msmedia.MSMedia object at 0x7f7675aeb3d0>\n",
      "DEBUG:modelseedpy.core.msatpcorrection:evaluate media <modelseedpy.core.msmedia.MSMedia object at 0x7f7675aeb3d0> - 0.000000 (optimal)\n",
      "DEBUG:modelseedpy.core.msgapfill:gapfill solution objective value 6.815900 (optimal) for media <modelseedpy.core.msmedia.MSMedia object at 0x7f7675aeb3d0>\n",
      "DEBUG:modelseedpy.core.msatpcorrection:evaluate media <modelseedpy.core.msmedia.MSMedia object at 0x7f7675aeb640>\n",
      "DEBUG:modelseedpy.core.msatpcorrection:evaluate media <modelseedpy.core.msmedia.MSMedia object at 0x7f7675aeb640> - 0.000000 (optimal)\n",
      "DEBUG:modelseedpy.core.msgapfill:gapfill solution objective value 6.815900 (optimal) for media <modelseedpy.core.msmedia.MSMedia object at 0x7f7675aeb640>\n",
      "DEBUG:modelseedpy.core.msatpcorrection:evaluate media <modelseedpy.core.msmedia.MSMedia object at 0x7f7675aeb910>\n",
      "DEBUG:modelseedpy.core.msatpcorrection:evaluate media <modelseedpy.core.msmedia.MSMedia object at 0x7f7675aeb910> - 0.000000 (optimal)\n",
      "DEBUG:modelseedpy.core.msgapfill:gapfill solution objective value 4.259937 (optimal) for media <modelseedpy.core.msmedia.MSMedia object at 0x7f7675aeb910>\n",
      "DEBUG:modelseedpy.core.msatpcorrection:evaluate media <modelseedpy.core.msmedia.MSMedia object at 0x7f7675aebc40>\n",
      "DEBUG:modelseedpy.core.msatpcorrection:evaluate media <modelseedpy.core.msmedia.MSMedia object at 0x7f7675aebc40> - 0.000000 (optimal)\n",
      "DEBUG:modelseedpy.core.msgapfill:gapfill solution objective value 0.873833 (optimal) for media <modelseedpy.core.msmedia.MSMedia object at 0x7f7675aebc40>\n",
      "DEBUG:modelseedpy.core.msatpcorrection:evaluate media <modelseedpy.core.msmedia.MSMedia object at 0x7f7675aebf70>\n",
      "DEBUG:modelseedpy.core.msatpcorrection:evaluate media <modelseedpy.core.msmedia.MSMedia object at 0x7f7675aebf70> - 0.000000 (optimal)\n",
      "DEBUG:modelseedpy.core.msgapfill:gapfill solution objective value 1.277981 (optimal) for media <modelseedpy.core.msmedia.MSMedia object at 0x7f7675aebf70>\n",
      "DEBUG:modelseedpy.core.msatpcorrection:evaluate media <modelseedpy.core.msmedia.MSMedia object at 0x7f7675aee2e0>\n",
      "DEBUG:modelseedpy.core.msatpcorrection:evaluate media <modelseedpy.core.msmedia.MSMedia object at 0x7f7675aee2e0> - 0.000000 (optimal)\n",
      "DEBUG:modelseedpy.core.msgapfill:gapfill solution objective value 1.277981 (optimal) for media <modelseedpy.core.msmedia.MSMedia object at 0x7f7675aee2e0>\n",
      "DEBUG:modelseedpy.core.msatpcorrection:evaluate media <modelseedpy.core.msmedia.MSMedia object at 0x7f7675aee610>\n",
      "DEBUG:modelseedpy.core.msatpcorrection:evaluate media <modelseedpy.core.msmedia.MSMedia object at 0x7f7675aee610> - 0.000000 (optimal)\n",
      "DEBUG:modelseedpy.core.msgapfill:gapfill solution objective value 6.815900 (optimal) for media <modelseedpy.core.msmedia.MSMedia object at 0x7f7675aee610>\n",
      "DEBUG:modelseedpy.core.msatpcorrection:evaluate media <modelseedpy.core.msmedia.MSMedia object at 0x7f7675aee8e0>\n",
      "DEBUG:modelseedpy.core.msatpcorrection:evaluate media <modelseedpy.core.msmedia.MSMedia object at 0x7f7675aee8e0> - 0.000000 (optimal)\n",
      "DEBUG:modelseedpy.core.msgapfill:gapfill solution objective value 6.815900 (optimal) for media <modelseedpy.core.msmedia.MSMedia object at 0x7f7675aee8e0>\n",
      "DEBUG:modelseedpy.core.msatpcorrection:evaluate media <modelseedpy.core.msmedia.MSMedia object at 0x7f7675aeebb0>\n",
      "DEBUG:modelseedpy.core.msatpcorrection:evaluate media <modelseedpy.core.msmedia.MSMedia object at 0x7f7675aeebb0> - 0.000000 (optimal)\n",
      "DEBUG:modelseedpy.core.msgapfill:gapfill solution objective value 6.815900 (optimal) for media <modelseedpy.core.msmedia.MSMedia object at 0x7f7675aeebb0>\n",
      "DEBUG:modelseedpy.core.msatpcorrection:evaluate media <modelseedpy.core.msmedia.MSMedia object at 0x7f7675aeee80>\n",
      "DEBUG:modelseedpy.core.msatpcorrection:evaluate media <modelseedpy.core.msmedia.MSMedia object at 0x7f7675aeee80> - 0.000000 (optimal)\n",
      "DEBUG:modelseedpy.core.msgapfill:gapfill solution objective value 4.259937 (optimal) for media <modelseedpy.core.msmedia.MSMedia object at 0x7f7675aeee80>\n",
      "DEBUG:modelseedpy.core.msatpcorrection:evaluate media <modelseedpy.core.msmedia.MSMedia object at 0x7f7675aef190>\n",
      "DEBUG:modelseedpy.core.msatpcorrection:evaluate media <modelseedpy.core.msmedia.MSMedia object at 0x7f7675aef190> - 0.000000 (optimal)\n",
      "DEBUG:modelseedpy.core.msgapfill:gapfill solution objective value 0.432756 (optimal) for media <modelseedpy.core.msmedia.MSMedia object at 0x7f7675aef190>\n",
      "DEBUG:modelseedpy.core.msatpcorrection:evaluate media <modelseedpy.core.msmedia.MSMedia object at 0x7f7675aef460>\n",
      "DEBUG:modelseedpy.core.msatpcorrection:evaluate media <modelseedpy.core.msmedia.MSMedia object at 0x7f7675aef460> - 0.000000 (optimal)\n",
      "DEBUG:modelseedpy.core.msgapfill:gapfill solution objective value 6.815900 (optimal) for media <modelseedpy.core.msmedia.MSMedia object at 0x7f7675aef460>\n",
      "DEBUG:modelseedpy.core.msatpcorrection:evaluate media <modelseedpy.core.msmedia.MSMedia object at 0x7f7675aef730>\n",
      "DEBUG:modelseedpy.core.msatpcorrection:evaluate media <modelseedpy.core.msmedia.MSMedia object at 0x7f7675aef730> - 0.000000 (optimal)\n",
      "DEBUG:modelseedpy.core.msgapfill:gapfill solution objective value 6.815900 (optimal) for media <modelseedpy.core.msmedia.MSMedia object at 0x7f7675aef730>\n",
      "DEBUG:modelseedpy.core.msatpcorrection:evaluate media <modelseedpy.core.msmedia.MSMedia object at 0x7f7675aefa00>\n",
      "DEBUG:modelseedpy.core.msatpcorrection:evaluate media <modelseedpy.core.msmedia.MSMedia object at 0x7f7675aefa00> - 0.000000 (optimal)\n",
      "DEBUG:modelseedpy.core.msgapfill:gapfill solution objective value 6.815900 (optimal) for media <modelseedpy.core.msmedia.MSMedia object at 0x7f7675aefa00>\n",
      "DEBUG:modelseedpy.core.msatpcorrection:evaluate media <modelseedpy.core.msmedia.MSMedia object at 0x7f7675aefcd0>\n",
      "DEBUG:modelseedpy.core.msatpcorrection:evaluate media <modelseedpy.core.msmedia.MSMedia object at 0x7f7675aefcd0> - 0.000000 (optimal)\n",
      "DEBUG:modelseedpy.core.msgapfill:gapfill solution objective value 0.668225 (optimal) for media <modelseedpy.core.msmedia.MSMedia object at 0x7f7675aefcd0>\n",
      "DEBUG:modelseedpy.core.msatpcorrection:evaluate media <modelseedpy.core.msmedia.MSMedia object at 0x7f7675aeffa0>\n",
      "DEBUG:modelseedpy.core.msatpcorrection:evaluate media <modelseedpy.core.msmedia.MSMedia object at 0x7f7675aeffa0> - 0.000000 (optimal)\n",
      "DEBUG:modelseedpy.core.msgapfill:gapfill solution objective value 6.815900 (optimal) for media <modelseedpy.core.msmedia.MSMedia object at 0x7f7675aeffa0>\n",
      "DEBUG:modelseedpy.core.msatpcorrection:evaluate media <modelseedpy.core.msmedia.MSMedia object at 0x7f7675af11f0>\n",
      "DEBUG:modelseedpy.core.msatpcorrection:evaluate media <modelseedpy.core.msmedia.MSMedia object at 0x7f7675af11f0> - 0.000000 (optimal)\n",
      "DEBUG:modelseedpy.core.msgapfill:gapfill solution objective value 6.815900 (optimal) for media <modelseedpy.core.msmedia.MSMedia object at 0x7f7675af11f0>\n"
     ]
    }
   ],
   "source": [
    "atp_correction.evaluate_growth_media()"
   ]
  },
  {
   "cell_type": "code",
   "execution_count": 61,
   "id": "51de2aab-6d66-4adf-aaa1-572be997eac5",
   "metadata": {},
   "outputs": [
    {
     "name": "stdout",
     "output_type": "stream",
     "text": [
      "Glc/O2 None\n",
      "Ac/O2 {'reversed': {}, 'new': {'rxn05893_c0': '>', 'rxn05466_c0': '>', 'EX_cpd00013_e0': '<'}}\n",
      "Etho/O2 {'reversed': {}, 'new': {'rxn05893_c0': '>', 'rxn05466_c0': '>', 'EX_cpd00013_e0': '<'}}\n",
      "Pyr/O2 {'reversed': {}, 'new': {'rxn05469_c0': '>', 'EX_cpd00020_e0': '<'}}\n",
      "Glyc/O2 None\n",
      "Fum/O2 None\n",
      "Succ/O2 {'reversed': {}, 'new': {'rxn09269_c0': '>', 'EX_cpd00036_e0': '<'}}\n",
      "Akg/O2 {'reversed': {}, 'new': {'rxn05493_c0': '>', 'EX_cpd00024_e0': '<'}}\n",
      "LLac/O2 {'reversed': {}, 'new': {'rxn01057_c0': '>'}}\n",
      "Dlac/O2 {'reversed': {}, 'new': {'rxn05893_c0': '>', 'rxn05466_c0': '>', 'EX_cpd00013_e0': '<'}}\n",
      "For/O2 {'reversed': {}, 'new': {'rxn05893_c0': '>', 'rxn05466_c0': '>', 'EX_cpd00013_e0': '<'}}\n",
      "Glc {'reversed': {}, 'new': {'rxn01106_c0': '<', 'rxn01057_c0': '<'}}\n",
      "Ac {'reversed': {}, 'new': {'rxn07191_c0': '<', 'rxn05893_c0': '>'}}\n",
      "Etho {'reversed': {}, 'new': {'rxn07191_c0': '<', 'rxn05893_c0': '>'}}\n",
      "Pyr {'reversed': {}, 'new': {'rxn07191_c0': '<', 'rxn05893_c0': '>'}}\n",
      "Glyc {'reversed': {}, 'new': {'rxn01106_c0': '<', 'rxn02527_c0': '>', 'rxn00868_c0': '<', 'rxn01452_c0': '<', 'rxn39175_c0': '>', 'rxn05559_c0': '<', 'rxn00612_c0': '>', 'EX_cpd00047_e0': '>', 'EX_cpd03662_e0': '>'}}\n",
      "Fum {'reversed': {}, 'new': {'rxn01057_c0': '<'}}\n",
      "Succ {'reversed': {}, 'new': {'rxn07191_c0': '<', 'rxn05893_c0': '>'}}\n",
      "Akg {'reversed': {}, 'new': {'rxn07191_c0': '<', 'rxn05893_c0': '>'}}\n",
      "For/NO2 {'reversed': {}, 'new': {'rxn05893_c0': '>', 'rxn05466_c0': '<', 'EX_cpd00013_e0': '>'}}\n",
      "For/NO3 {'reversed': {}, 'new': {'rxn05893_c0': '>', 'rxn05466_c0': '>', 'EX_cpd00013_e0': '<'}}\n",
      "Glc/DMSO {'reversed': {}, 'new': {'rxn01106_c0': '<', 'rxn01057_c0': '<'}}\n",
      "Glc/TMAO {'reversed': {}, 'new': {'rxn01106_c0': '<', 'rxn01057_c0': '<'}}\n",
      "Pyr/DMSO {'reversed': {}, 'new': {'rxn07191_c0': '<', 'rxn05893_c0': '>'}}\n",
      "Pyr/TMAO {'reversed': {}, 'new': {'rxn07191_c0': '<', 'rxn05893_c0': '>'}}\n",
      "Pyr/NO {'reversed': {}, 'new': {'rxn07191_c0': '<', 'rxn05893_c0': '>'}}\n",
      "Pyr/NO2 {'reversed': {}, 'new': {'rxn05893_c0': '>', 'rxn05466_c0': '<', 'EX_cpd00013_e0': '>'}}\n",
      "Pyr/NO3 {'reversed': {}, 'new': {'rxn05469_c0': '>', 'EX_cpd00020_e0': '<'}}\n",
      "Pyr/SO4 {'reversed': {}, 'new': {'rxn07191_c0': '<', 'rxn05893_c0': '>'}}\n",
      "Pyr/SO3 {'reversed': {}, 'new': {'rxn07191_c0': '<', 'rxn05893_c0': '>'}}\n",
      "H2/CO2 {'reversed': {}, 'new': {'rxn07191_c0': '<', 'rxn05893_c0': '>'}}\n",
      "H2/O2 {'reversed': {}, 'new': {'rxn05893_c0': '>', 'rxn05466_c0': '>', 'EX_cpd00013_e0': '<'}}\n",
      "empty {'reversed': {}, 'new': {'rxn07191_c0': '<', 'rxn05893_c0': '>'}}\n",
      "Light {'reversed': {}, 'new': {'rxn07191_c0': '<', 'rxn05893_c0': '>'}}\n"
     ]
    }
   ],
   "source": [
    "for media in atp_correction.media_gapfill_stats:\n",
    "    print(media.id, atp_correction.media_gapfill_stats[media])"
   ]
  },
  {
   "cell_type": "code",
   "execution_count": 63,
   "id": "93818f82-0b5d-437d-82d9-f500ebfccf20",
   "metadata": {},
   "outputs": [
    {
     "data": {
      "text/plain": [
       "[]"
      ]
     },
     "execution_count": 63,
     "metadata": {},
     "output_type": "execute_result"
    }
   ],
   "source": [
    "atp_correction.noncore_reactions"
   ]
  },
  {
   "cell_type": "code",
   "execution_count": 65,
   "id": "48db194b-ffcb-45dc-9f5b-3aa324c97a42",
   "metadata": {},
   "outputs": [],
   "source": [
    "atp_correction.gapfilling_delta = 1"
   ]
  },
  {
   "cell_type": "code",
   "execution_count": 74,
   "id": "43c534bb-8444-45a5-ac2d-2ec2a01ec1fd",
   "metadata": {},
   "outputs": [
    {
     "name": "stdout",
     "output_type": "stream",
     "text": [
      "3.0 1.0 10 11.0\n",
      "3.0 1.0 10 11.0\n",
      "2.0 1.0 10 11.0\n",
      "2.0 1.0 10 11.0\n",
      "2.0 1.0 10 11.0\n",
      "1.0 1.0 10 11.0\n",
      "3.0 1.0 10 11.0\n",
      "3.0 1.0 10 11.0\n",
      "2.0 1.0 10 11.0\n",
      "2.0 1.0 10 11.0\n",
      "2.0 1.0 10 11.0\n",
      "2.0 1.0 10 11.0\n",
      "9.0 1.0 10 11.0\n",
      "1.0 1.0 10 11.0\n",
      "2.0 1.0 10 11.0\n",
      "2.0 1.0 10 11.0\n",
      "3.0 1.0 10 11.0\n",
      "3.0 1.0 10 11.0\n",
      "2.0 1.0 10 11.0\n",
      "2.0 1.0 10 11.0\n",
      "2.0 1.0 10 11.0\n",
      "2.0 1.0 10 11.0\n",
      "2.0 1.0 10 11.0\n",
      "3.0 1.0 10 11.0\n",
      "2.0 1.0 10 11.0\n",
      "2.0 1.0 10 11.0\n",
      "2.0 1.0 10 11.0\n",
      "2.0 1.0 10 11.0\n",
      "3.0 1.0 10 11.0\n",
      "2.0 1.0 10 11.0\n",
      "2.0 1.0 10 11.0\n"
     ]
    },
    {
     "data": {
      "text/plain": [
       "31"
      ]
     },
     "execution_count": 74,
     "metadata": {},
     "output_type": "execute_result"
    }
   ],
   "source": [
    "def determine_growth_media(ATP, max_gapfilling=None):\n",
    "    \"\"\"\n",
    "    Decides which of the test media to use as growth conditions for this model\n",
    "    :return:\n",
    "    \"\"\"\n",
    "    score_function = lambda media: len(ATP.media_gapfill_stats[media][\"new\"].keys()) + 0.5*len(ATP.media_gapfill_stats[media][\"reversed\"].keys())\n",
    "    ATP.selected_media = []\n",
    "    media_scores = dict((media, score_function(media)) for media in ATP.media_gapfill_stats if ATP.media_gapfill_stats[media])\n",
    "    best_score = min(media_scores.values())\n",
    "    if max_gapfilling is None:\n",
    "        max_gapfilling = best_score\n",
    "    for media in media_scores:\n",
    "        score = media_scores[media]\n",
    "        print(score, best_score, max_gapfilling, best_score + ATP.gapfilling_delta)\n",
    "        if score <= max_gapfilling and score <= (best_score + ATP.gapfilling_delta):\n",
    "            ATP.selected_media.append(media)\n",
    "atp_correction.gapfilling_delta = 10\n",
    "determine_growth_media(atp_correction, 10)\n",
    "len(atp_correction.selected_media)"
   ]
  },
  {
   "cell_type": "code",
   "execution_count": 15,
   "id": "98870eac-6440-454d-9316-5238e10fb917",
   "metadata": {},
   "outputs": [],
   "source": [
    "atp_correction.determine_growth_media()"
   ]
  },
  {
   "cell_type": "code",
   "execution_count": 16,
   "id": "2469a300-703c-400a-961b-ce0d2fb98cb4",
   "metadata": {},
   "outputs": [
    {
     "data": {
      "text/plain": [
       "[<modelseedpy.core.msmedia.MSMedia at 0x7f76c03ecfd0>,\n",
       " <modelseedpy.core.msmedia.MSMedia at 0x7f7675de7f40>,\n",
       " <modelseedpy.core.msmedia.MSMedia at 0x7f7675de7520>,\n",
       " <modelseedpy.core.msmedia.MSMedia at 0x7f7675da68b0>,\n",
       " <modelseedpy.core.msmedia.MSMedia at 0x7f7675da6be0>,\n",
       " <modelseedpy.core.msmedia.MSMedia at 0x7f7675da6f10>,\n",
       " <modelseedpy.core.msmedia.MSMedia at 0x7f7675ae75b0>,\n",
       " <modelseedpy.core.msmedia.MSMedia at 0x7f7675ae7c10>,\n",
       " <modelseedpy.core.msmedia.MSMedia at 0x7f7675ae7f40>,\n",
       " <modelseedpy.core.msmedia.MSMedia at 0x7f7675ae9580>,\n",
       " <modelseedpy.core.msmedia.MSMedia at 0x7f7675ae9850>,\n",
       " <modelseedpy.core.msmedia.MSMedia at 0x7f7675ae9b20>,\n",
       " <modelseedpy.core.msmedia.MSMedia at 0x7f7675aeb3d0>,\n",
       " <modelseedpy.core.msmedia.MSMedia at 0x7f7675aeb640>,\n",
       " <modelseedpy.core.msmedia.MSMedia at 0x7f7675aeb910>,\n",
       " <modelseedpy.core.msmedia.MSMedia at 0x7f7675aebc40>,\n",
       " <modelseedpy.core.msmedia.MSMedia at 0x7f7675aee610>,\n",
       " <modelseedpy.core.msmedia.MSMedia at 0x7f7675aee8e0>,\n",
       " <modelseedpy.core.msmedia.MSMedia at 0x7f7675aeebb0>,\n",
       " <modelseedpy.core.msmedia.MSMedia at 0x7f7675aeee80>,\n",
       " <modelseedpy.core.msmedia.MSMedia at 0x7f7675aef190>,\n",
       " <modelseedpy.core.msmedia.MSMedia at 0x7f7675aef460>,\n",
       " <modelseedpy.core.msmedia.MSMedia at 0x7f7675aef730>,\n",
       " <modelseedpy.core.msmedia.MSMedia at 0x7f7675aefa00>,\n",
       " <modelseedpy.core.msmedia.MSMedia at 0x7f7675aefcd0>,\n",
       " <modelseedpy.core.msmedia.MSMedia at 0x7f7675aeffa0>,\n",
       " <modelseedpy.core.msmedia.MSMedia at 0x7f7675af11f0>]"
      ]
     },
     "execution_count": 16,
     "metadata": {},
     "output_type": "execute_result"
    }
   ],
   "source": [
    "atp_correction.selected_media"
   ]
  },
  {
   "cell_type": "code",
   "execution_count": 25,
   "id": "9a1bcb2e-09f9-4380-bc53-2b817198e588",
   "metadata": {},
   "outputs": [
    {
     "name": "stdout",
     "output_type": "stream",
     "text": [
      "<Solution 0.552 at 0x7fe99fb67220>\n",
      "<Solution 0.000 at 0x7fe99f8ae760>\n"
     ]
    },
    {
     "name": "stderr",
     "output_type": "stream",
     "text": [
      "/usr/local/lib/python3.8/site-packages/cobra/util/solver.py:508 \u001b[1;31mUserWarning\u001b[0m: Solver status is 'infeasible'.\n"
     ]
    },
    {
     "name": "stdout",
     "output_type": "stream",
     "text": [
      "<Solution 0.000 at 0x7fe99f857dc0>\n",
      "<Solution 0.000 at 0x7fe99f5da310>\n",
      "<Solution 0.616 at 0x7fe99ef9ee80>\n",
      "<Solution 0.317 at 0x7fe99f78aa00>\n",
      "<Solution 0.000 at 0x7fe99ef9eeb0>\n",
      "<Solution 0.000 at 0x7fe99f3a45e0>\n",
      "<Solution 0.000 at 0x7fe99edf5df0>\n",
      "<Solution 0.000 at 0x7fe99ece7a90>\n",
      "<Solution 0.000 at 0x7fe99ebd8400>\n",
      "<Solution 0.000 at 0x7fe99ead3160>\n",
      "<Solution 0.000 at 0x7fe99e9cda30>\n",
      "<Solution 0.000 at 0x7fe99e89c310>\n",
      "<Solution 0.000 at 0x7fe99e8a8580>\n",
      "<Solution 0.000 at 0x7fe99e629be0>\n",
      "<Solution 0.000 at 0x7fe99e5360d0>\n",
      "<Solution 0.000 at 0x7fe99e3e3820>\n",
      "<Solution 0.000 at 0x7fe99e2b61f0>\n",
      "<Solution 0.000 at 0x7fe99e188b50>\n",
      "<Solution 0.000 at 0x7fe99dfd9be0>\n",
      "<Solution 0.000 at 0x7fe99dead550>\n",
      "<Solution 0.000 at 0x7fe99dd80370>\n",
      "<Solution 0.000 at 0x7fe99dbd1af0>\n",
      "<Solution 0.000 at 0x7fe99daa5430>\n",
      "<Solution 0.000 at 0x7fe99d971b20>\n",
      "<Solution 0.000 at 0x7fe99d83aaf0>\n",
      "<Solution 0.000 at 0x7fe99d68b6a0>\n",
      "<Solution 0.000 at 0x7fe99d55b310>\n",
      "<Solution 0.000 at 0x7fe99d421eb0>\n",
      "<Solution 0.000 at 0x7fe99d2ee310>\n",
      "<Solution 0.000 at 0x7fe99d1b9b50>\n",
      "<Solution 0.000 at 0x7fe99d07fa60>\n",
      "<Solution 0.000 at 0x7fe99ced2490>\n"
     ]
    }
   ],
   "source": [
    "def evaluate_growth_media(ATP):\n",
    "    ATP.media_gapfill_stats = {}\n",
    "    ATP.msgapfill.default_gapfill_templates = [ATP.coretemplate]\n",
    "    if ATP.lp_filename:\n",
    "        ATP.msgapfill.lp_filename = ATP.lp_filename\n",
    "    with ATP.model:\n",
    "        ATP.model.objective = ATP.atp_objective\n",
    "        pkgmgr = MSPackageManager.get_pkg_mgr(ATP.model)\n",
    "        for media in ATP.atp_medias:\n",
    "            pkgmgr.getpkg(\"KBaseMediaPkg\").build_package(media)\n",
    "            solution = ATP.model.optimize()\n",
    "            print(solution)\n",
    "            ATP.media_gapfill_stats[media] = None\n",
    "            if solution.objective_value == 0:\n",
    "                ATP.media_gapfill_stats[media] = ATP.msgapfill.run_gapfilling(media, ATP.atp_objective)\n",
    "evaluate_growth_media(atp_correction)"
   ]
  },
  {
   "cell_type": "code",
   "execution_count": 13,
   "id": "5bb60aea-0b25-4e58-be7e-1317b670fc04",
   "metadata": {
    "tags": []
   },
   "outputs": [
    {
     "name": "stderr",
     "output_type": "stream",
     "text": [
      "/usr/local/lib/python3.8/site-packages/cobra/util/solver.py:508 \u001b[1;31mUserWarning\u001b[0m: Solver status is 'infeasible'.\n"
     ]
    },
    {
     "ename": "TypeError",
     "evalue": "'Model' object is not subscriptable",
     "output_type": "error",
     "traceback": [
      "\u001b[0;31m---------------------------------------------------------------------------\u001b[0m",
      "\u001b[0;31mTypeError\u001b[0m                                 Traceback (most recent call last)",
      "\u001b[0;32m<ipython-input-13-d6bbe399b2fe>\u001b[0m in \u001b[0;36m<module>\u001b[0;34m\u001b[0m\n\u001b[0;32m----> 1\u001b[0;31m \u001b[0matp_correction\u001b[0m\u001b[0;34m.\u001b[0m\u001b[0mrun_atp_correction\u001b[0m\u001b[0;34m(\u001b[0m\u001b[0;34m)\u001b[0m\u001b[0;34m\u001b[0m\u001b[0;34m\u001b[0m\u001b[0m\n\u001b[0m",
      "\u001b[0;32m/usr/local/lib/python3.8/site-packages/modelseedpy/core/msatpcorrection.py\u001b[0m in \u001b[0;36mrun_atp_correction\u001b[0;34m(self)\u001b[0m\n\u001b[1;32m    143\u001b[0m         \u001b[0mself\u001b[0m\u001b[0;34m.\u001b[0m\u001b[0mevaluate_growth_media\u001b[0m\u001b[0;34m(\u001b[0m\u001b[0;34m)\u001b[0m\u001b[0;34m\u001b[0m\u001b[0;34m\u001b[0m\u001b[0m\n\u001b[1;32m    144\u001b[0m         \u001b[0mself\u001b[0m\u001b[0;34m.\u001b[0m\u001b[0mdetermine_growth_media\u001b[0m\u001b[0;34m(\u001b[0m\u001b[0;34m)\u001b[0m\u001b[0;34m\u001b[0m\u001b[0;34m\u001b[0m\u001b[0m\n\u001b[0;32m--> 145\u001b[0;31m         \u001b[0mself\u001b[0m\u001b[0;34m.\u001b[0m\u001b[0mapply_growth_media_gapfilling\u001b[0m\u001b[0;34m(\u001b[0m\u001b[0;34m)\u001b[0m\u001b[0;34m\u001b[0m\u001b[0;34m\u001b[0m\u001b[0m\n\u001b[0m\u001b[1;32m    146\u001b[0m         \u001b[0mself\u001b[0m\u001b[0;34m.\u001b[0m\u001b[0mexpand_model_to_genome_scale\u001b[0m\u001b[0;34m(\u001b[0m\u001b[0;34m)\u001b[0m\u001b[0;34m\u001b[0m\u001b[0;34m\u001b[0m\u001b[0m\n\u001b[1;32m    147\u001b[0m         \u001b[0mself\u001b[0m\u001b[0;34m.\u001b[0m\u001b[0mrestore_noncore_reactions\u001b[0m\u001b[0;34m(\u001b[0m\u001b[0;34m)\u001b[0m\u001b[0;34m\u001b[0m\u001b[0;34m\u001b[0m\u001b[0m\n",
      "\u001b[0;32m/usr/local/lib/python3.8/site-packages/modelseedpy/core/msatpcorrection.py\u001b[0m in \u001b[0;36mapply_growth_media_gapfilling\u001b[0;34m(self)\u001b[0m\n\u001b[1;32m    104\u001b[0m         \u001b[0;32mfor\u001b[0m \u001b[0mmedia\u001b[0m \u001b[0;32min\u001b[0m \u001b[0mself\u001b[0m\u001b[0;34m.\u001b[0m\u001b[0mselected_media\u001b[0m\u001b[0;34m:\u001b[0m\u001b[0;34m\u001b[0m\u001b[0;34m\u001b[0m\u001b[0m\n\u001b[1;32m    105\u001b[0m             \u001b[0;32mif\u001b[0m \u001b[0mmedia\u001b[0m \u001b[0;32min\u001b[0m \u001b[0mself\u001b[0m\u001b[0;34m.\u001b[0m\u001b[0mmedia_gapfill_stats\u001b[0m \u001b[0;32mand\u001b[0m \u001b[0mself\u001b[0m\u001b[0;34m.\u001b[0m\u001b[0mmedia_gapfill_stats\u001b[0m\u001b[0;34m[\u001b[0m\u001b[0mmedia\u001b[0m\u001b[0;34m]\u001b[0m\u001b[0;34m:\u001b[0m\u001b[0;34m\u001b[0m\u001b[0;34m\u001b[0m\u001b[0m\n\u001b[0;32m--> 106\u001b[0;31m                 \u001b[0mself\u001b[0m\u001b[0;34m.\u001b[0m\u001b[0mmodel\u001b[0m \u001b[0;34m=\u001b[0m \u001b[0mself\u001b[0m\u001b[0;34m.\u001b[0m\u001b[0mmsgapfill\u001b[0m\u001b[0;34m.\u001b[0m\u001b[0mintegrate_gapfill_solution\u001b[0m\u001b[0;34m(\u001b[0m\u001b[0mself\u001b[0m\u001b[0;34m.\u001b[0m\u001b[0mmodel\u001b[0m\u001b[0;34m,\u001b[0m \u001b[0mself\u001b[0m\u001b[0;34m.\u001b[0m\u001b[0mmedia_gapfill_stats\u001b[0m\u001b[0;34m[\u001b[0m\u001b[0mmedia\u001b[0m\u001b[0;34m]\u001b[0m\u001b[0;34m)\u001b[0m\u001b[0;34m\u001b[0m\u001b[0;34m\u001b[0m\u001b[0m\n\u001b[0m\u001b[1;32m    107\u001b[0m \u001b[0;34m\u001b[0m\u001b[0m\n\u001b[1;32m    108\u001b[0m     \u001b[0;31m#This function expands the model to genome-scale while preventing ATP overproduction\u001b[0m\u001b[0;34m\u001b[0m\u001b[0;34m\u001b[0m\u001b[0;34m\u001b[0m\u001b[0m\n",
      "\u001b[0;32m/usr/local/lib/python3.8/site-packages/modelseedpy/core/msgapfill.py\u001b[0m in \u001b[0;36mintegrate_gapfill_solution\u001b[0;34m(self, solution, gf_results)\u001b[0m\n\u001b[1;32m     78\u001b[0m \u001b[0;34m\u001b[0m\u001b[0m\n\u001b[1;32m     79\u001b[0m     \u001b[0;32mdef\u001b[0m \u001b[0mintegrate_gapfill_solution\u001b[0m\u001b[0;34m(\u001b[0m\u001b[0mself\u001b[0m\u001b[0;34m,\u001b[0m \u001b[0msolution\u001b[0m\u001b[0;34m,\u001b[0m \u001b[0mgf_results\u001b[0m\u001b[0;34m)\u001b[0m\u001b[0;34m:\u001b[0m\u001b[0;34m\u001b[0m\u001b[0;34m\u001b[0m\u001b[0m\n\u001b[0;32m---> 80\u001b[0;31m         \u001b[0;32mfor\u001b[0m \u001b[0mrxn_id\u001b[0m \u001b[0;32min\u001b[0m \u001b[0msolution\u001b[0m\u001b[0;34m[\u001b[0m\u001b[0;34m\"reversed\"\u001b[0m\u001b[0;34m]\u001b[0m\u001b[0;34m:\u001b[0m\u001b[0;34m\u001b[0m\u001b[0;34m\u001b[0m\u001b[0m\n\u001b[0m\u001b[1;32m     81\u001b[0m             \u001b[0mrxn\u001b[0m \u001b[0;34m=\u001b[0m \u001b[0mself\u001b[0m\u001b[0;34m.\u001b[0m\u001b[0mmodel\u001b[0m\u001b[0;34m.\u001b[0m\u001b[0mreactions\u001b[0m\u001b[0;34m.\u001b[0m\u001b[0mget_by_id\u001b[0m\u001b[0;34m(\u001b[0m\u001b[0mrxn_id\u001b[0m\u001b[0;34m)\u001b[0m\u001b[0;34m\u001b[0m\u001b[0;34m\u001b[0m\u001b[0m\n\u001b[1;32m     82\u001b[0m             \u001b[0;32mif\u001b[0m \u001b[0mgf_results\u001b[0m\u001b[0;34m[\u001b[0m\u001b[0;34m\"reversed\"\u001b[0m\u001b[0;34m]\u001b[0m\u001b[0;34m[\u001b[0m\u001b[0mrxn_id\u001b[0m\u001b[0;34m]\u001b[0m \u001b[0;34m==\u001b[0m \u001b[0;34m\">\"\u001b[0m\u001b[0;34m:\u001b[0m\u001b[0;34m\u001b[0m\u001b[0;34m\u001b[0m\u001b[0m\n",
      "\u001b[0;31mTypeError\u001b[0m: 'Model' object is not subscriptable"
     ]
    }
   ],
   "source": [
    "atp_correction.run_atp_correction()"
   ]
  },
  {
   "cell_type": "code",
   "execution_count": 61,
   "id": "e3ad4eb7-543a-4502-bd74-7c2e31359f3c",
   "metadata": {},
   "outputs": [],
   "source": [
    "atp_correction.disable_noncore_reactions()"
   ]
  },
  {
   "cell_type": "code",
   "execution_count": null,
   "id": "62db314e-6305-44b1-ab36-3e195ddb4287",
   "metadata": {},
   "outputs": [],
   "source": []
  },
  {
   "cell_type": "code",
   "execution_count": 63,
   "id": "99affe8f-ba2d-414a-a344-9e67caa10e68",
   "metadata": {
    "collapsed": true,
    "jupyter": {
     "outputs_hidden": true
    },
    "tags": []
   },
   "outputs": [
    {
     "name": "stdout",
     "output_type": "stream",
     "text": [
      "Glc/O2\n",
      "Glc/O2 <Solution 0.552 at 0x7f497f5ab1f0>\n",
      "Ac/O2\n",
      "Ac/O2 <Solution 0.000 at 0x7f497e45d730>\n"
     ]
    },
    {
     "name": "stderr",
     "output_type": "stream",
     "text": [
      "/usr/local/lib/python3.8/site-packages/cobra/util/solver.py:508 \u001b[1;31mUserWarning\u001b[0m: Solver status is 'infeasible'.\n"
     ]
    },
    {
     "name": "stdout",
     "output_type": "stream",
     "text": [
      "Etho/O2\n",
      "Etho/O2 <Solution 0.000 at 0x7f497e309460>\n",
      "Pyr/O2\n",
      "Pyr/O2 <Solution 0.000 at 0x7f497e1dbbe0>\n",
      "Glyc/O2\n",
      "Glyc/O2 <Solution 0.616 at 0x7f497e02e790>\n",
      "Fum/O2\n",
      "Fum/O2 <Solution 0.317 at 0x7f497e31c7c0>\n",
      "Succ/O2\n",
      "Succ/O2 <Solution 0.000 at 0x7f497e02e5e0>\n",
      "Akg/O2\n",
      "Akg/O2 <Solution 0.000 at 0x7f497df01460>\n",
      "LLac/O2\n",
      "LLac/O2 <Solution 0.000 at 0x7f497ddda070>\n",
      "Dlac/O2\n",
      "Dlac/O2 <Solution 0.000 at 0x7f497dc2bd30>\n",
      "For/O2\n",
      "For/O2 <Solution 0.000 at 0x7f497dafc460>\n",
      "Glc\n",
      "Glc <Solution 0.000 at 0x7f497d9ccac0>\n",
      "Ac\n",
      "Ac <Solution 0.000 at 0x7f497d896b50>\n",
      "Etho\n",
      "Etho <Solution 0.000 at 0x7f497d75f700>\n",
      "Pyr\n",
      "Pyr <Solution 0.000 at 0x7f497d5b0520>\n",
      "Glyc\n",
      "Glyc <Solution 0.000 at 0x7f497d47ba30>\n",
      "Fum\n",
      "Fum <Solution 0.000 at 0x7f497d34e5b0>\n",
      "Succ\n",
      "Succ <Solution 0.000 at 0x7f497d214af0>\n",
      "Akg\n",
      "Akg <Solution 0.000 at 0x7f497d0e0b80>\n",
      "For/NO2\n",
      "For/NO2 <Solution 0.000 at 0x7f497cf301c0>\n",
      "For/NO3\n",
      "For/NO3 <Solution 0.000 at 0x7f497cdf9fa0>\n",
      "Glc/DMSO\n",
      "Glc/DMSO <Solution 0.000 at 0x7f497cccbb80>\n",
      "Glc/TMAO\n",
      "Glc/TMAO <Solution 0.000 at 0x7f497cb98550>\n",
      "Pyr/DMSO\n",
      "Pyr/DMSO <Solution 0.000 at 0x7f497cb2db50>\n",
      "Pyr/TMAO\n",
      "Pyr/TMAO <Solution 0.000 at 0x7f497c8b0ac0>\n",
      "Pyr/NO\n",
      "Pyr/NO <Solution 0.000 at 0x7f497c778190>\n",
      "Pyr/NO2\n",
      "Pyr/NO2 <Solution 0.000 at 0x7f497c646d60>\n",
      "Pyr/NO3\n",
      "Pyr/NO3 <Solution 0.000 at 0x7f497c514b50>\n",
      "Pyr/SO4\n",
      "Pyr/SO4 <Solution 0.000 at 0x7f497c3e5580>\n",
      "Pyr/SO3\n",
      "Pyr/SO3 <Solution 0.000 at 0x7f497c22ef10>\n",
      "H2/CO2\n",
      "H2/CO2 <Solution 0.000 at 0x7f497c0f9df0>\n",
      "H2/O2\n",
      "H2/O2 <Solution 0.000 at 0x7f497bfc5790>\n",
      "empty\n",
      "empty <Solution 0.000 at 0x7f497be92130>\n",
      "Light\n",
      "Light <Solution 0.000 at 0x7f497bd5ea30>\n"
     ]
    }
   ],
   "source": [
    "from modelseedpy.fbapkg.mspackagemanager import MSPackageManager\n",
    "def evaluate_growth_media2(ATPM):\n",
    "    ATPM.media_gapfill_stats = {}\n",
    "    ATPM.msgapfill.default_gapfill_templates = [ATPM.coretemplate]\n",
    "    if ATPM.lp_filename:\n",
    "        ATPM.msgapfill.lp_filename = ATPM.lp_filename\n",
    "    with ATPM.model:\n",
    "        ATPM.model.objective = ATPM.atp_objective\n",
    "        pkgmgr = MSPackageManager.get_pkg_mgr(ATPM.model)\n",
    "        for media in ATPM.atp_medias:\n",
    "            print(media.id)\n",
    "            pkgmgr.getpkg(\"KBaseMediaPkg\").build_package(media)\n",
    "            solution = ATPM.model.optimize()\n",
    "            print(media.id, solution)\n",
    "            ATPM.media_gapfill_stats[media] = None\n",
    "            if solution.objective_value == 0:\n",
    "                ATPM.media_gapfill_stats[media] = ATPM.msgapfill.run_gapfilling(media, ATPM.atp_objective)\n",
    "evaluate_growth_media2(atp_correction)"
   ]
  },
  {
   "cell_type": "code",
   "execution_count": 66,
   "id": "79510f21-de2f-4706-a844-c54c8b7f340a",
   "metadata": {},
   "outputs": [],
   "source": [
    "atp_correction.evaluate_growth_media()"
   ]
  },
  {
   "cell_type": "code",
   "execution_count": 57,
   "id": "02487cb1-7e81-44db-b24c-c88b2681f827",
   "metadata": {},
   "outputs": [],
   "source": [
    "atp_correction.determine_growth_media()"
   ]
  },
  {
   "cell_type": "code",
   "execution_count": 59,
   "id": "63de07fb-7ae3-4432-86d0-afb38e28db3b",
   "metadata": {},
   "outputs": [
    {
     "name": "stdout",
     "output_type": "stream",
     "text": [
      "Glc/O2\n",
      "Ac/O2\n",
      "Etho/O2\n",
      "Pyr/O2\n",
      "Glyc/O2\n",
      "Fum/O2\n",
      "Succ/O2\n",
      "Akg/O2\n",
      "Dlac/O2\n",
      "For/O2\n",
      "Ac\n",
      "Etho\n",
      "Pyr\n",
      "Succ\n",
      "Akg\n",
      "For/NO2\n",
      "For/NO3\n",
      "Pyr/DMSO\n",
      "Pyr/TMAO\n",
      "Pyr/NO\n",
      "Pyr/NO2\n",
      "Pyr/NO3\n",
      "Pyr/SO4\n",
      "Pyr/SO3\n",
      "H2/CO2\n",
      "H2/O2\n",
      "empty\n",
      "Light\n"
     ]
    }
   ],
   "source": [
    "for media in atp_correction.selected_media:\n",
    "    print(media.id)"
   ]
  },
  {
   "cell_type": "code",
   "execution_count": 67,
   "id": "7aba6de8-9252-4980-95b0-bd1a72db2e05",
   "metadata": {},
   "outputs": [],
   "source": [
    "atp_correction.apply_growth_media_gapfilling()"
   ]
  },
  {
   "cell_type": "code",
   "execution_count": 18,
   "id": "e8107ba2-f470-4e05-8b80-731fc00febe7",
   "metadata": {},
   "outputs": [
    {
     "data": {
      "text/plain": [
       "0"
      ]
     },
     "execution_count": 18,
     "metadata": {},
     "output_type": "execute_result"
    }
   ],
   "source": [
    "atp_correction.max_gapfilling"
   ]
  },
  {
   "cell_type": "code",
   "execution_count": 19,
   "id": "1af1e574-76b2-40f7-82f8-4ffd1bb2c442",
   "metadata": {},
   "outputs": [
    {
     "data": {
      "text/plain": [
       "0"
      ]
     },
     "execution_count": 19,
     "metadata": {},
     "output_type": "execute_result"
    }
   ],
   "source": [
    "atp_correction.gapfilling_delta"
   ]
  },
  {
   "cell_type": "code",
   "execution_count": 43,
   "id": "0a344084-edad-456f-9e88-064a404039d4",
   "metadata": {},
   "outputs": [
    {
     "data": {
      "text/plain": [
       "[]"
      ]
     },
     "execution_count": 43,
     "metadata": {},
     "output_type": "execute_result"
    }
   ],
   "source": [
    "atp_correction.gapfilling_tests"
   ]
  },
  {
   "cell_type": "code",
   "execution_count": 44,
   "id": "9e78779d-b7e7-4e73-a77c-9813bee3c6a9",
   "metadata": {},
   "outputs": [
    {
     "data": {
      "text/plain": [
       "[]"
      ]
     },
     "execution_count": 44,
     "metadata": {},
     "output_type": "execute_result"
    }
   ],
   "source": [
    "atp_correction.gapfilling_tests"
   ]
  },
  {
   "cell_type": "code",
   "execution_count": 68,
   "id": "669e1ddb-493b-461e-bef9-d19cb1f5e542",
   "metadata": {},
   "outputs": [
    {
     "data": {
      "text/plain": [
       "[]"
      ]
     },
     "execution_count": 68,
     "metadata": {},
     "output_type": "execute_result"
    }
   ],
   "source": [
    "atp_correction.gapfilling_tests"
   ]
  },
  {
   "cell_type": "code",
   "execution_count": null,
   "id": "e24d8e82-357a-4658-9362-6073f502b6bc",
   "metadata": {},
   "outputs": [],
   "source": []
  }
 ],
 "metadata": {
  "kernelspec": {
   "display_name": "Python 3",
   "language": "python",
   "name": "python3"
  },
  "language_info": {
   "codemirror_mode": {
    "name": "ipython",
    "version": 3
   },
   "file_extension": ".py",
   "mimetype": "text/x-python",
   "name": "python",
   "nbconvert_exporter": "python",
   "pygments_lexer": "ipython3",
   "version": "3.8.10"
  }
 },
 "nbformat": 4,
 "nbformat_minor": 5
}
