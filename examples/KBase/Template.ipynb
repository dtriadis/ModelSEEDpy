{
 "cells": [
  {
   "cell_type": "code",
   "execution_count": 1,
   "id": "822ede11-dba2-44e1-8eeb-027747c3a01a",
   "metadata": {},
   "outputs": [
    {
     "name": "stdout",
     "output_type": "stream",
     "text": [
      "cobrakbase 0.2.8\n"
     ]
    }
   ],
   "source": [
    "import cobrakbase"
   ]
  },
  {
   "cell_type": "code",
   "execution_count": 2,
   "id": "06b57457-9015-48b9-a9e9-6ffba0a9d1ca",
   "metadata": {},
   "outputs": [],
   "source": [
    "kbase = cobrakbase.KBaseAPI()"
   ]
  },
  {
   "cell_type": "code",
   "execution_count": 82,
   "id": "2df68433-fd8a-4e96-88b6-7913dbae1100",
   "metadata": {},
   "outputs": [],
   "source": [
    "model1 = kbase.get_object('97644/6751/1', None)"
   ]
  },
  {
   "cell_type": "code",
   "execution_count": 83,
   "id": "1233e226-461b-4610-be4e-791f11c78ca6",
   "metadata": {},
   "outputs": [],
   "source": [
    "model2 = kbase.get_object('82183/215/1', None)"
   ]
  },
  {
   "cell_type": "code",
   "execution_count": 86,
   "id": "3e424369-77f8-458d-912c-177a143618d3",
   "metadata": {},
   "outputs": [
    {
     "data": {
      "text/plain": [
       "'MetBV1'"
      ]
     },
     "execution_count": 86,
     "metadata": {},
     "output_type": "execute_result"
    }
   ],
   "source": [
    "info = kbase.get_object_info('97644/6751/1')\n",
    "info.id"
   ]
  },
  {
   "cell_type": "code",
   "execution_count": 84,
   "id": "2c9e63de-90b1-42dd-ac36-d99a35cc6f45",
   "metadata": {},
   "outputs": [],
   "source": [
    "model1['biomasses'] = [model2['biomasses'][1]]"
   ]
  },
  {
   "cell_type": "code",
   "execution_count": 87,
   "id": "3e7c458f-8c3b-489d-8a2a-4058d12f325a",
   "metadata": {},
   "outputs": [
    {
     "data": {
      "text/plain": [
       "[[6756,\n",
       "  'MetBV1_bio2',\n",
       "  'KBaseFBA.FBAModel-14.0',\n",
       "  '2021-08-27T22:05:03+0000',\n",
       "  1,\n",
       "  'filipeliu',\n",
       "  97644,\n",
       "  'janakakbase:narrative_1630098222612',\n",
       "  'f15a48e811f3351bd974145df6024326',\n",
       "  181989,\n",
       "  {'Number gapgens': '0',\n",
       "   'Type': 'Test',\n",
       "   'Number gapfills': '1',\n",
       "   'Source ID': 'GCF_000007345.1.RAST.fbamodel',\n",
       "   'Number biomasses': '1',\n",
       "   'Number compartments': '2',\n",
       "   'Genome': '78503/3147/1',\n",
       "   'Source': 'KBase',\n",
       "   'Number compounds': '143',\n",
       "   'Number reactions': '112',\n",
       "   'Name': 'GCF_000007345.1.RAST.fbamodel'}]]"
      ]
     },
     "execution_count": 87,
     "metadata": {},
     "output_type": "execute_result"
    }
   ],
   "source": [
    "kbase.save_object('MetBV1_bio2', 97644, 'KBaseFBA.FBAModel', model1)"
   ]
  },
  {
   "cell_type": "code",
   "execution_count": null,
   "id": "15975370-224d-4272-b507-77175644f864",
   "metadata": {},
   "outputs": [],
   "source": []
  },
  {
   "cell_type": "code",
   "execution_count": 3,
   "id": "567bfb2b-3acd-4ab5-b3e5-a1a1517fac6e",
   "metadata": {},
   "outputs": [],
   "source": [
    "template = kbase.get_from_ws('CoreArchaeaTemplateMPA', 82183)"
   ]
  },
  {
   "cell_type": "code",
   "execution_count": 35,
   "id": "54875ae4-03e4-4ade-87d1-73895e88adbe",
   "metadata": {},
   "outputs": [],
   "source": [
    "from cobra.core import Model\n",
    "template_model = Model('model')\n",
    "template_model.add_reactions([rxn.to_reaction() for rxn in template.reactions if rxn.id in t.split()])"
   ]
  },
  {
   "cell_type": "code",
   "execution_count": 34,
   "id": "56757e33-4d1b-4af8-879e-5ed6064cc41b",
   "metadata": {},
   "outputs": [],
   "source": [
    "t = \"\"\"\n",
    "rxn05467_c\n",
    "rxn46184_c\n",
    "rxn05759_c\n",
    "rxn17445_c\n",
    "rxn02480_c\n",
    "rxn03079_c\n",
    "rxn06299_c\n",
    "rxn15961_c\n",
    "rxn03085_c\n",
    "rxn03020_c\n",
    "rxn03127_c\n",
    "rxn03126_c\n",
    "rxn10471_c\n",
    "rxn08173_c\n",
    "\"\"\""
   ]
  },
  {
   "cell_type": "code",
   "execution_count": 58,
   "id": "f0d1d8cc-4eac-4839-be92-c9b80bc684bb",
   "metadata": {},
   "outputs": [],
   "source": [
    "import cobra\n",
    "cobra.io.save_json_model(template_model, '/home/fliu/workspace/lol.json')"
   ]
  },
  {
   "cell_type": "code",
   "execution_count": 49,
   "id": "f3959b13-6005-4bd0-9d11-f4daf6e37b5f",
   "metadata": {},
   "outputs": [],
   "source": [
    "from modelseedpy import MSBuilder\n",
    "template_model.add_reactions(MSBuilder.build_exchanges(template_model))\n",
    "template_model.add_reactions(MSBuilder.build_exchanges(template_model, extra_cell='c0'))\n",
    "template_model.objective = 'EX_cpd01024_e0'"
   ]
  },
  {
   "cell_type": "code",
   "execution_count": 51,
   "id": "4ddef62d-6b85-44a4-b0fc-5842bd5e43e8",
   "metadata": {},
   "outputs": [],
   "source": [
    "for r in template_model.reactions:\n",
    "    r.lower_bound = -1000\n",
    "    r.upper_bound = 1000"
   ]
  },
  {
   "cell_type": "code",
   "execution_count": 55,
   "id": "ac3878dc-63df-4b19-b5f8-245eb17d6f10",
   "metadata": {},
   "outputs": [],
   "source": [
    "template_model.medium = {\n",
    "    'EX_cpd00011_e0': 1000,\n",
    "    'EX_cpd00067_e0': 1000,\n",
    "    'EX_cpd00067_c0': 1000,\n",
    "    'EX_cpd00001_c0': 1000,\n",
    " 'EX_cpd01024_e0': 0,\n",
    " 'EX_cpd00011_c0': 0,\n",
    " 'EX_cpd00008_c0': 0,\n",
    " 'EX_cpd00009_c0': 0,\n",
    " \n",
    " 'EX_cpd00002_c0': 0,\n",
    "\n",
    " 'EX_cpd02438_c0': 0,\n",
    " 'EX_cpd02817_c0': 0,\n",
    " 'EX_cpd01024_c0': 0,\n",
    " 'EX_cpd02935_c0': 0,\n",
    " 'EX_cpd02655_c0': 0,\n",
    " 'EX_cpd00936_c0': 0,\n",
    " 'EX_cpd00649_c0': 0,\n",
    " 'EX_cpd11640_c0': 0,\n",
    " 'EX_cpd00792_c0': 0,\n",
    " 'EX_cpd02246_c0': 0,\n",
    " 'EX_cpd02737_c0': 0,\n",
    " 'EX_cpd00895_c0': 0,\n",
    " 'EX_cpd02679_c0': 0,\n",
    " 'EX_cpd08702_c0': 0,\n",
    " 'EX_cpd08701_c0': 0,\n",
    " 'EX_cpd27090_c0': 0,\n",
    " 'EX_cpd27757_c0': 0,\n",
    " 'EX_cpd27506_c0': 0,\n",
    " 'EX_cpd28082_c0': 0,\n",
    " 'EX_cpd11620_c0': 0,\n",
    " 'EX_cpd11621_c0': 0\n",
    "}"
   ]
  },
  {
   "cell_type": "code",
   "execution_count": 56,
   "id": "02ff5e59-c38f-4bef-9e20-45adc1eacfa9",
   "metadata": {},
   "outputs": [
    {
     "data": {
      "text/html": [
       "<h3>Objective</h3><p>1.0 EX_cpd01024_e0 = 0.0</p><h4>Uptake</h4><table border=\"1\" class=\"dataframe\">\n",
       "  <thead>\n",
       "    <tr style=\"text-align: right;\">\n",
       "      <th>Metabolite</th>\n",
       "      <th>Reaction</th>\n",
       "      <th>Flux</th>\n",
       "      <th>C-Number</th>\n",
       "      <th>C-Flux</th>\n",
       "    </tr>\n",
       "  </thead>\n",
       "  <tbody>\n",
       "  </tbody>\n",
       "</table><h4>Secretion</h4><table border=\"1\" class=\"dataframe\">\n",
       "  <thead>\n",
       "    <tr style=\"text-align: right;\">\n",
       "      <th>Metabolite</th>\n",
       "      <th>Reaction</th>\n",
       "      <th>Flux</th>\n",
       "      <th>C-Number</th>\n",
       "      <th>C-Flux</th>\n",
       "    </tr>\n",
       "  </thead>\n",
       "  <tbody>\n",
       "  </tbody>\n",
       "</table>"
      ],
      "text/plain": [
       "<cobra.summary.model_summary.ModelSummary at 0x7fa385ac4340>"
      ]
     },
     "execution_count": 56,
     "metadata": {},
     "output_type": "execute_result"
    }
   ],
   "source": [
    "template_model.summary()"
   ]
  },
  {
   "cell_type": "code",
   "execution_count": 27,
   "id": "09219f89-ccf1-403f-9b82-105817095f9c",
   "metadata": {},
   "outputs": [],
   "source": [
    "all_cpd = {}\n",
    "for i in t.split():\n",
    "    rxn = template_model.reactions.get_by_id(i + '_c0')\n",
    "    for m in rxn.metabolites:\n",
    "        all_cpd[m.id] = m.name"
   ]
  },
  {
   "cell_type": "code",
   "execution_count": 28,
   "id": "004af69e-b633-417a-b749-8888cf4bfbac",
   "metadata": {},
   "outputs": [],
   "source": [
    "import pandas as pd"
   ]
  },
  {
   "cell_type": "code",
   "execution_count": 61,
   "id": "c9feffcc-5f61-4f29-8c58-e109e3afa5ce",
   "metadata": {},
   "outputs": [],
   "source": [
    "data = {}\n",
    "for i in t.split():\n",
    "    rxn_id = i + '0'\n",
    "    data[rxn_id] = {}\n",
    "    rxn = template_model.reactions.get_by_id(rxn_id)\n",
    "    metabolites = dict(map(lambda x: (x[0].id, x[1]), rxn.metabolites.items()))\n",
    "    for o in all_cpd:\n",
    "        data[rxn_id][f'{o} {all_cpd[o]}'] = metabolites[o] if o in metabolites else 0\n",
    "pd.DataFrame(data).transpose().to_csv('/home/fliu/workspace/lol.tsv', sep='\\t')"
   ]
  },
  {
   "cell_type": "code",
   "execution_count": 59,
   "id": "f91828bc-39f9-4a3a-96f3-8eb823e630c5",
   "metadata": {},
   "outputs": [
    {
     "data": {
      "text/html": [
       "\n",
       "        <table>\n",
       "            <tr>\n",
       "                <td><strong>Reaction identifier</strong></td><td>rxn08173_c</td>\n",
       "            </tr><tr>\n",
       "                <td><strong>Name</strong></td><td>F(1)-ATPase</td>\n",
       "            </tr><tr>\n",
       "                <td><strong>Memory address</strong></td>\n",
       "                <td>0x07fa38adb2730</td>\n",
       "            </tr><tr>\n",
       "                <td><strong>Stoichiometry</strong></td>\n",
       "                <td>\n",
       "                    <p style='text-align:right'>cpd00008_c + cpd00009_c + 4 cpd00067_e <=> cpd00001_c + cpd00002_c + 3 cpd00067_c</p>\n",
       "                    <p style='text-align:right'>ADP + Phosphate + 4 H+ <=> H2O + ATP + 3 H+</p>\n",
       "                </td>\n",
       "            </tr><tr>\n",
       "                <td><strong>GPR</strong></td><td>tcpx00334 or tcpx00325 or tcpx00261 or tcpx00326 or tcpx00262 or tcpx00327 or tcpx00263 or...</td>\n",
       "            </tr><tr>\n",
       "                <td><strong>Lower bound</strong></td><td>-1000</td>\n",
       "            </tr><tr>\n",
       "                <td><strong>Upper bound</strong></td><td>1000</td>\n",
       "            </tr>\n",
       "        </table>\n",
       "        "
      ],
      "text/plain": [
       "<NewModelTemplateReaction rxn08173_c at 0x7fa38adb2730>"
      ]
     },
     "execution_count": 59,
     "metadata": {},
     "output_type": "execute_result"
    }
   ],
   "source": [
    "template.reactions.rxn08173_c"
   ]
  },
  {
   "cell_type": "code",
   "execution_count": null,
   "id": "0db0d78e-565e-445a-bfa3-761448bd41b1",
   "metadata": {},
   "outputs": [],
   "source": []
  }
 ],
 "metadata": {
  "kernelspec": {
   "display_name": "Python 3",
   "language": "python",
   "name": "python3"
  },
  "language_info": {
   "codemirror_mode": {
    "name": "ipython",
    "version": 3
   },
   "file_extension": ".py",
   "mimetype": "text/x-python",
   "name": "python",
   "nbconvert_exporter": "python",
   "pygments_lexer": "ipython3",
   "version": "3.8.10"
  }
 },
 "nbformat": 4,
 "nbformat_minor": 5
}
